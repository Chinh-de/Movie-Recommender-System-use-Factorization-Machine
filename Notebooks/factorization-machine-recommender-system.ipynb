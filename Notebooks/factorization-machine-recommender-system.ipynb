{
 "cells": [
  {
   "cell_type": "code",
   "execution_count": 1,
   "id": "bbaf078e",
   "metadata": {
    "_cell_guid": "b1076dfc-b9ad-4769-8c92-a6c4dae69d19",
    "_uuid": "8f2839f25d086af736a60e9eeb907d3b93b6e0e5",
    "execution": {
     "iopub.execute_input": "2025-05-25T09:46:49.968182Z",
     "iopub.status.busy": "2025-05-25T09:46:49.967347Z",
     "iopub.status.idle": "2025-05-25T09:46:51.664445Z",
     "shell.execute_reply": "2025-05-25T09:46:51.663536Z"
    },
    "papermill": {
     "duration": 1.714652,
     "end_time": "2025-05-25T09:46:51.665701",
     "exception": false,
     "start_time": "2025-05-25T09:46:49.951049",
     "status": "completed"
    },
    "tags": []
   },
   "outputs": [
    {
     "name": "stdout",
     "output_type": "stream",
     "text": [
      "/kaggle/input/imdb-dataset/movies.csv\n",
      "/kaggle/input/imdb-dataset/ratings.csv\n",
      "/kaggle/input/imdb-dataset/users.csv\n",
      "/kaggle/input/imdb-dataset/reviews.csv\n"
     ]
    }
   ],
   "source": [
    "import numpy as np # linear algebra\n",
    "import pandas as pd # data processing, CSV file I/O (e.g. pd.read_csv)\n",
    "import os\n",
    "for dirname, _, filenames in os.walk('/kaggle/input'):\n",
    "    for filename in filenames:\n",
    "        print(os.path.join(dirname, filename))"
   ]
  },
  {
   "cell_type": "markdown",
   "id": "172dcaab",
   "metadata": {
    "papermill": {
     "duration": 0.013829,
     "end_time": "2025-05-25T09:46:51.694426",
     "exception": false,
     "start_time": "2025-05-25T09:46:51.680597",
     "status": "completed"
    },
    "tags": []
   },
   "source": [
    "<h1> Factorization Machine Recommender System <h1>"
   ]
  },
  {
   "cell_type": "markdown",
   "id": "036b5e3f",
   "metadata": {
    "papermill": {
     "duration": 0.013417,
     "end_time": "2025-05-25T09:46:51.721614",
     "exception": false,
     "start_time": "2025-05-25T09:46:51.708197",
     "status": "completed"
    },
    "tags": []
   },
   "source": [
    "Import lib"
   ]
  },
  {
   "cell_type": "code",
   "execution_count": 2,
   "id": "368435ae",
   "metadata": {
    "execution": {
     "iopub.execute_input": "2025-05-25T09:46:51.749698Z",
     "iopub.status.busy": "2025-05-25T09:46:51.748970Z",
     "iopub.status.idle": "2025-05-25T09:46:53.530404Z",
     "shell.execute_reply": "2025-05-25T09:46:53.529768Z"
    },
    "papermill": {
     "duration": 1.796995,
     "end_time": "2025-05-25T09:46:53.531847",
     "exception": false,
     "start_time": "2025-05-25T09:46:51.734852",
     "status": "completed"
    },
    "tags": []
   },
   "outputs": [],
   "source": [
    "import pandas as pd\n",
    "import seaborn as sns\n",
    "import matplotlib.pyplot as plt\n",
    "from sklearn.preprocessing import MultiLabelBinarizer\n",
    "from collections import Counter\n"
   ]
  },
  {
   "cell_type": "markdown",
   "id": "92435052",
   "metadata": {
    "papermill": {
     "duration": 0.013059,
     "end_time": "2025-05-25T09:46:53.558701",
     "exception": false,
     "start_time": "2025-05-25T09:46:53.545642",
     "status": "completed"
    },
    "tags": []
   },
   "source": [
    "# 1. Read Dataset"
   ]
  },
  {
   "cell_type": "code",
   "execution_count": 3,
   "id": "f90b9bca",
   "metadata": {
    "execution": {
     "iopub.execute_input": "2025-05-25T09:46:53.586487Z",
     "iopub.status.busy": "2025-05-25T09:46:53.585738Z",
     "iopub.status.idle": "2025-05-25T09:46:53.686476Z",
     "shell.execute_reply": "2025-05-25T09:46:53.685810Z"
    },
    "papermill": {
     "duration": 0.115968,
     "end_time": "2025-05-25T09:46:53.687799",
     "exception": false,
     "start_time": "2025-05-25T09:46:53.571831",
     "status": "completed"
    },
    "tags": []
   },
   "outputs": [
    {
     "data": {
      "text/html": [
       "<div>\n",
       "<style scoped>\n",
       "    .dataframe tbody tr th:only-of-type {\n",
       "        vertical-align: middle;\n",
       "    }\n",
       "\n",
       "    .dataframe tbody tr th {\n",
       "        vertical-align: top;\n",
       "    }\n",
       "\n",
       "    .dataframe thead th {\n",
       "        text-align: right;\n",
       "    }\n",
       "</style>\n",
       "<table border=\"1\" class=\"dataframe\">\n",
       "  <thead>\n",
       "    <tr style=\"text-align: right;\">\n",
       "      <th></th>\n",
       "      <th>ID</th>\n",
       "      <th>Title</th>\n",
       "      <th>Genres</th>\n",
       "      <th>Rating</th>\n",
       "      <th>Year</th>\n",
       "      <th>Numrate</th>\n",
       "      <th>Runtime</th>\n",
       "      <th>Image</th>\n",
       "      <th>Directors</th>\n",
       "      <th>Writers</th>\n",
       "      <th>Stars</th>\n",
       "    </tr>\n",
       "  </thead>\n",
       "  <tbody>\n",
       "    <tr>\n",
       "      <th>0</th>\n",
       "      <td>tt0283530</td>\n",
       "      <td>The Emperor's Club</td>\n",
       "      <td>Drama</td>\n",
       "      <td>6.9</td>\n",
       "      <td>2002</td>\n",
       "      <td>18K</td>\n",
       "      <td>109</td>\n",
       "      <td>https://m.media-amazon.com/images/M/MV5BZmNlNz...</td>\n",
       "      <td>Michael Hoffman</td>\n",
       "      <td>Ethan Canin, Neil Tolkin</td>\n",
       "      <td>Kevin Kline, Emile Hirsch, Joel Gretsch</td>\n",
       "    </tr>\n",
       "    <tr>\n",
       "      <th>1</th>\n",
       "      <td>tt6859762</td>\n",
       "      <td>The Little Stranger</td>\n",
       "      <td>Drama, Horror, Mystery</td>\n",
       "      <td>5.5</td>\n",
       "      <td>2018</td>\n",
       "      <td>11K</td>\n",
       "      <td>111</td>\n",
       "      <td>https://m.media-amazon.com/images/M/MV5BMTYyNz...</td>\n",
       "      <td>Lenny Abrahamson</td>\n",
       "      <td>Lucinda Coxon, Sarah Waters</td>\n",
       "      <td>Domhnall Gleeson, Will Poulter, Ruth Wilson</td>\n",
       "    </tr>\n",
       "    <tr>\n",
       "      <th>2</th>\n",
       "      <td>tt1196204</td>\n",
       "      <td>Cemetery Junction</td>\n",
       "      <td>Comedy, Drama</td>\n",
       "      <td>6.8</td>\n",
       "      <td>2010</td>\n",
       "      <td>24K</td>\n",
       "      <td>95</td>\n",
       "      <td>https://m.media-amazon.com/images/M/MV5BMTQ1Mj...</td>\n",
       "      <td>Ricky Gervais, Stephen Merchant</td>\n",
       "      <td>Ricky Gervais, Stephen Merchant</td>\n",
       "      <td>Christian Cooke, Felicity Jones, Tom Hughes</td>\n",
       "    </tr>\n",
       "    <tr>\n",
       "      <th>3</th>\n",
       "      <td>tt3463106</td>\n",
       "      <td>The Cured</td>\n",
       "      <td>Zombie Horror, Drama, Horror, Sci-Fi, Thriller</td>\n",
       "      <td>5.6</td>\n",
       "      <td>2017</td>\n",
       "      <td>9.8K</td>\n",
       "      <td>95</td>\n",
       "      <td>https://m.media-amazon.com/images/M/MV5BMmIwOD...</td>\n",
       "      <td>David Freyne</td>\n",
       "      <td>David Freyne</td>\n",
       "      <td>Elliot Page, Sam Keeley, Tom Vaughan-Lawlor</td>\n",
       "    </tr>\n",
       "    <tr>\n",
       "      <th>4</th>\n",
       "      <td>tt1023490</td>\n",
       "      <td>Il Divo</td>\n",
       "      <td>Biography, Drama</td>\n",
       "      <td>7.2</td>\n",
       "      <td>2008</td>\n",
       "      <td>20K</td>\n",
       "      <td>110</td>\n",
       "      <td>https://m.media-amazon.com/images/M/MV5BZTJhZT...</td>\n",
       "      <td>Paolo Sorrentino</td>\n",
       "      <td>Paolo Sorrentino</td>\n",
       "      <td>Toni Servillo, Anna Bonaiuto, Giulio Bosetti</td>\n",
       "    </tr>\n",
       "  </tbody>\n",
       "</table>\n",
       "</div>"
      ],
      "text/plain": [
       "          ID                Title  \\\n",
       "0  tt0283530   The Emperor's Club   \n",
       "1  tt6859762  The Little Stranger   \n",
       "2  tt1196204    Cemetery Junction   \n",
       "3  tt3463106            The Cured   \n",
       "4  tt1023490              Il Divo   \n",
       "\n",
       "                                           Genres  Rating  Year Numrate  \\\n",
       "0                                           Drama     6.9  2002     18K   \n",
       "1                          Drama, Horror, Mystery     5.5  2018     11K   \n",
       "2                                   Comedy, Drama     6.8  2010     24K   \n",
       "3  Zombie Horror, Drama, Horror, Sci-Fi, Thriller     5.6  2017    9.8K   \n",
       "4                                Biography, Drama     7.2  2008     20K   \n",
       "\n",
       "   Runtime                                              Image  \\\n",
       "0      109  https://m.media-amazon.com/images/M/MV5BZmNlNz...   \n",
       "1      111  https://m.media-amazon.com/images/M/MV5BMTYyNz...   \n",
       "2       95  https://m.media-amazon.com/images/M/MV5BMTQ1Mj...   \n",
       "3       95  https://m.media-amazon.com/images/M/MV5BMmIwOD...   \n",
       "4      110  https://m.media-amazon.com/images/M/MV5BZTJhZT...   \n",
       "\n",
       "                         Directors                          Writers  \\\n",
       "0                  Michael Hoffman         Ethan Canin, Neil Tolkin   \n",
       "1                 Lenny Abrahamson      Lucinda Coxon, Sarah Waters   \n",
       "2  Ricky Gervais, Stephen Merchant  Ricky Gervais, Stephen Merchant   \n",
       "3                     David Freyne                     David Freyne   \n",
       "4                 Paolo Sorrentino                 Paolo Sorrentino   \n",
       "\n",
       "                                          Stars  \n",
       "0       Kevin Kline, Emile Hirsch, Joel Gretsch  \n",
       "1   Domhnall Gleeson, Will Poulter, Ruth Wilson  \n",
       "2   Christian Cooke, Felicity Jones, Tom Hughes  \n",
       "3   Elliot Page, Sam Keeley, Tom Vaughan-Lawlor  \n",
       "4  Toni Servillo, Anna Bonaiuto, Giulio Bosetti  "
      ]
     },
     "execution_count": 3,
     "metadata": {},
     "output_type": "execute_result"
    }
   ],
   "source": [
    "df_movies = pd.read_csv('/kaggle/input/imdb-dataset/movies.csv')\n",
    "df_movies.head()"
   ]
  },
  {
   "cell_type": "code",
   "execution_count": 4,
   "id": "704dfe36",
   "metadata": {
    "execution": {
     "iopub.execute_input": "2025-05-25T09:46:53.718127Z",
     "iopub.status.busy": "2025-05-25T09:46:53.717876Z",
     "iopub.status.idle": "2025-05-25T09:46:53.933692Z",
     "shell.execute_reply": "2025-05-25T09:46:53.932871Z"
    },
    "papermill": {
     "duration": 0.231697,
     "end_time": "2025-05-25T09:46:53.934908",
     "exception": false,
     "start_time": "2025-05-25T09:46:53.703211",
     "status": "completed"
    },
    "tags": []
   },
   "outputs": [
    {
     "data": {
      "text/html": [
       "<div>\n",
       "<style scoped>\n",
       "    .dataframe tbody tr th:only-of-type {\n",
       "        vertical-align: middle;\n",
       "    }\n",
       "\n",
       "    .dataframe tbody tr th {\n",
       "        vertical-align: top;\n",
       "    }\n",
       "\n",
       "    .dataframe thead th {\n",
       "        text-align: right;\n",
       "    }\n",
       "</style>\n",
       "<table border=\"1\" class=\"dataframe\">\n",
       "  <thead>\n",
       "    <tr style=\"text-align: right;\">\n",
       "      <th></th>\n",
       "      <th>MovieID</th>\n",
       "      <th>Rating</th>\n",
       "      <th>Username</th>\n",
       "      <th>CommentDate</th>\n",
       "    </tr>\n",
       "  </thead>\n",
       "  <tbody>\n",
       "    <tr>\n",
       "      <th>0</th>\n",
       "      <td>tt0283530</td>\n",
       "      <td>7</td>\n",
       "      <td>CuriosityKilledShawn</td>\n",
       "      <td>Aug 14, 2005</td>\n",
       "    </tr>\n",
       "    <tr>\n",
       "      <th>1</th>\n",
       "      <td>tt0283530</td>\n",
       "      <td>7</td>\n",
       "      <td>ma-cortes</td>\n",
       "      <td>Jul 12, 2005</td>\n",
       "    </tr>\n",
       "    <tr>\n",
       "      <th>2</th>\n",
       "      <td>tt0283530</td>\n",
       "      <td>8</td>\n",
       "      <td>redkiwi</td>\n",
       "      <td>Dec 9, 2002</td>\n",
       "    </tr>\n",
       "    <tr>\n",
       "      <th>3</th>\n",
       "      <td>tt0283530</td>\n",
       "      <td>9</td>\n",
       "      <td>KUAlum26</td>\n",
       "      <td>Mar 20, 2006</td>\n",
       "    </tr>\n",
       "    <tr>\n",
       "      <th>4</th>\n",
       "      <td>tt0283530</td>\n",
       "      <td>10</td>\n",
       "      <td>au_law2001</td>\n",
       "      <td>Jan 23, 2005</td>\n",
       "    </tr>\n",
       "  </tbody>\n",
       "</table>\n",
       "</div>"
      ],
      "text/plain": [
       "     MovieID  Rating              Username   CommentDate\n",
       "0  tt0283530       7  CuriosityKilledShawn  Aug 14, 2005\n",
       "1  tt0283530       7             ma-cortes  Jul 12, 2005\n",
       "2  tt0283530       8               redkiwi   Dec 9, 2002\n",
       "3  tt0283530       9              KUAlum26  Mar 20, 2006\n",
       "4  tt0283530      10            au_law2001  Jan 23, 2005"
      ]
     },
     "execution_count": 4,
     "metadata": {},
     "output_type": "execute_result"
    }
   ],
   "source": [
    "df_reviews = pd.read_csv('/kaggle/input/imdb-dataset/reviews.csv')\n",
    "df_reviews.head()"
   ]
  },
  {
   "cell_type": "code",
   "execution_count": 5,
   "id": "3efc2a9e",
   "metadata": {
    "execution": {
     "iopub.execute_input": "2025-05-25T09:46:54.010752Z",
     "iopub.status.busy": "2025-05-25T09:46:54.010034Z",
     "iopub.status.idle": "2025-05-25T09:46:55.634117Z",
     "shell.execute_reply": "2025-05-25T09:46:55.633165Z"
    },
    "papermill": {
     "duration": 1.639884,
     "end_time": "2025-05-25T09:46:55.635343",
     "exception": false,
     "start_time": "2025-05-25T09:46:53.995459",
     "status": "completed"
    },
    "tags": []
   },
   "outputs": [
    {
     "data": {
      "text/html": [
       "<div>\n",
       "<style scoped>\n",
       "    .dataframe tbody tr th:only-of-type {\n",
       "        vertical-align: middle;\n",
       "    }\n",
       "\n",
       "    .dataframe tbody tr th {\n",
       "        vertical-align: top;\n",
       "    }\n",
       "\n",
       "    .dataframe thead th {\n",
       "        text-align: right;\n",
       "    }\n",
       "</style>\n",
       "<table border=\"1\" class=\"dataframe\">\n",
       "  <thead>\n",
       "    <tr style=\"text-align: right;\">\n",
       "      <th></th>\n",
       "      <th>MovieID</th>\n",
       "      <th>Rating</th>\n",
       "      <th>Username</th>\n",
       "      <th>CommentDate</th>\n",
       "    </tr>\n",
       "  </thead>\n",
       "  <tbody>\n",
       "    <tr>\n",
       "      <th>0</th>\n",
       "      <td>tt2096673</td>\n",
       "      <td>10.0</td>\n",
       "      <td>bretttaylor-04022</td>\n",
       "      <td>Rated on Jun 10, 2017</td>\n",
       "    </tr>\n",
       "    <tr>\n",
       "      <th>1</th>\n",
       "      <td>tt0434409</td>\n",
       "      <td>8.0</td>\n",
       "      <td>bretttaylor-04022</td>\n",
       "      <td>Rated on Jun 10, 2017</td>\n",
       "    </tr>\n",
       "    <tr>\n",
       "      <th>2</th>\n",
       "      <td>tt1205489</td>\n",
       "      <td>9.0</td>\n",
       "      <td>bretttaylor-04022</td>\n",
       "      <td>Rated on Jun 10, 2017</td>\n",
       "    </tr>\n",
       "    <tr>\n",
       "      <th>3</th>\n",
       "      <td>tt0266543</td>\n",
       "      <td>8.0</td>\n",
       "      <td>bretttaylor-04022</td>\n",
       "      <td>Rated on Jun 10, 2017</td>\n",
       "    </tr>\n",
       "    <tr>\n",
       "      <th>4</th>\n",
       "      <td>tt0758758</td>\n",
       "      <td>8.0</td>\n",
       "      <td>bretttaylor-04022</td>\n",
       "      <td>Rated on Jun 10, 2017</td>\n",
       "    </tr>\n",
       "  </tbody>\n",
       "</table>\n",
       "</div>"
      ],
      "text/plain": [
       "     MovieID  Rating           Username            CommentDate\n",
       "0  tt2096673    10.0  bretttaylor-04022  Rated on Jun 10, 2017\n",
       "1  tt0434409     8.0  bretttaylor-04022  Rated on Jun 10, 2017\n",
       "2  tt1205489     9.0  bretttaylor-04022  Rated on Jun 10, 2017\n",
       "3  tt0266543     8.0  bretttaylor-04022  Rated on Jun 10, 2017\n",
       "4  tt0758758     8.0  bretttaylor-04022  Rated on Jun 10, 2017"
      ]
     },
     "execution_count": 5,
     "metadata": {},
     "output_type": "execute_result"
    }
   ],
   "source": [
    "df_ratings = pd.read_csv('/kaggle/input/imdb-dataset/ratings.csv')\n",
    "df_ratings.head()"
   ]
  },
  {
   "cell_type": "markdown",
   "id": "3d6073e9",
   "metadata": {
    "papermill": {
     "duration": 0.015116,
     "end_time": "2025-05-25T09:46:55.668169",
     "exception": false,
     "start_time": "2025-05-25T09:46:55.653053",
     "status": "completed"
    },
    "tags": []
   },
   "source": [
    "# 2. Exploring Data"
   ]
  },
  {
   "cell_type": "markdown",
   "id": "80bd8852",
   "metadata": {
    "papermill": {
     "duration": 0.013608,
     "end_time": "2025-05-25T09:46:55.695291",
     "exception": false,
     "start_time": "2025-05-25T09:46:55.681683",
     "status": "completed"
    },
    "tags": []
   },
   "source": [
    "## 2.1 Drop duplicates"
   ]
  },
  {
   "cell_type": "code",
   "execution_count": 6,
   "id": "fabbad3c",
   "metadata": {
    "execution": {
     "iopub.execute_input": "2025-05-25T09:46:55.725145Z",
     "iopub.status.busy": "2025-05-25T09:46:55.724571Z",
     "iopub.status.idle": "2025-05-25T09:46:56.253963Z",
     "shell.execute_reply": "2025-05-25T09:46:56.253111Z"
    },
    "papermill": {
     "duration": 0.545586,
     "end_time": "2025-05-25T09:46:56.255515",
     "exception": false,
     "start_time": "2025-05-25T09:46:55.709929",
     "status": "completed"
    },
    "tags": []
   },
   "outputs": [],
   "source": [
    "df_movies.drop_duplicates(inplace=True)\n",
    "df_reviews.drop_duplicates(inplace=True)\n",
    "df_ratings.drop_duplicates(inplace=True)"
   ]
  },
  {
   "cell_type": "markdown",
   "id": "a6be0e78",
   "metadata": {
    "papermill": {
     "duration": 0.013746,
     "end_time": "2025-05-25T09:46:56.283532",
     "exception": false,
     "start_time": "2025-05-25T09:46:56.269786",
     "status": "completed"
    },
    "tags": []
   },
   "source": [
    "## 2.2 Describe Data and Handling Missing Values"
   ]
  },
  {
   "cell_type": "markdown",
   "id": "eb942f12",
   "metadata": {
    "papermill": {
     "duration": 0.01345,
     "end_time": "2025-05-25T09:46:56.310519",
     "exception": false,
     "start_time": "2025-05-25T09:46:56.297069",
     "status": "completed"
    },
    "tags": []
   },
   "source": [
    "**MOVIES**"
   ]
  },
  {
   "cell_type": "code",
   "execution_count": 7,
   "id": "8f1065d2",
   "metadata": {
    "execution": {
     "iopub.execute_input": "2025-05-25T09:46:56.339121Z",
     "iopub.status.busy": "2025-05-25T09:46:56.338674Z",
     "iopub.status.idle": "2025-05-25T09:46:56.357148Z",
     "shell.execute_reply": "2025-05-25T09:46:56.356538Z"
    },
    "papermill": {
     "duration": 0.034226,
     "end_time": "2025-05-25T09:46:56.358216",
     "exception": false,
     "start_time": "2025-05-25T09:46:56.323990",
     "status": "completed"
    },
    "tags": []
   },
   "outputs": [
    {
     "data": {
      "text/html": [
       "<div>\n",
       "<style scoped>\n",
       "    .dataframe tbody tr th:only-of-type {\n",
       "        vertical-align: middle;\n",
       "    }\n",
       "\n",
       "    .dataframe tbody tr th {\n",
       "        vertical-align: top;\n",
       "    }\n",
       "\n",
       "    .dataframe thead th {\n",
       "        text-align: right;\n",
       "    }\n",
       "</style>\n",
       "<table border=\"1\" class=\"dataframe\">\n",
       "  <thead>\n",
       "    <tr style=\"text-align: right;\">\n",
       "      <th></th>\n",
       "      <th>Rating</th>\n",
       "      <th>Year</th>\n",
       "      <th>Runtime</th>\n",
       "    </tr>\n",
       "  </thead>\n",
       "  <tbody>\n",
       "    <tr>\n",
       "      <th>count</th>\n",
       "      <td>6675.000000</td>\n",
       "      <td>6675.000000</td>\n",
       "      <td>6675.000000</td>\n",
       "    </tr>\n",
       "    <tr>\n",
       "      <th>mean</th>\n",
       "      <td>6.348899</td>\n",
       "      <td>2013.149363</td>\n",
       "      <td>107.705768</td>\n",
       "    </tr>\n",
       "    <tr>\n",
       "      <th>std</th>\n",
       "      <td>0.973587</td>\n",
       "      <td>6.789507</td>\n",
       "      <td>19.327470</td>\n",
       "    </tr>\n",
       "    <tr>\n",
       "      <th>min</th>\n",
       "      <td>1.200000</td>\n",
       "      <td>2000.000000</td>\n",
       "      <td>47.000000</td>\n",
       "    </tr>\n",
       "    <tr>\n",
       "      <th>25%</th>\n",
       "      <td>5.700000</td>\n",
       "      <td>2008.000000</td>\n",
       "      <td>94.000000</td>\n",
       "    </tr>\n",
       "    <tr>\n",
       "      <th>50%</th>\n",
       "      <td>6.400000</td>\n",
       "      <td>2014.000000</td>\n",
       "      <td>104.000000</td>\n",
       "    </tr>\n",
       "    <tr>\n",
       "      <th>75%</th>\n",
       "      <td>7.000000</td>\n",
       "      <td>2019.000000</td>\n",
       "      <td>117.000000</td>\n",
       "    </tr>\n",
       "    <tr>\n",
       "      <th>max</th>\n",
       "      <td>9.000000</td>\n",
       "      <td>2024.000000</td>\n",
       "      <td>467.000000</td>\n",
       "    </tr>\n",
       "  </tbody>\n",
       "</table>\n",
       "</div>"
      ],
      "text/plain": [
       "            Rating         Year      Runtime\n",
       "count  6675.000000  6675.000000  6675.000000\n",
       "mean      6.348899  2013.149363   107.705768\n",
       "std       0.973587     6.789507    19.327470\n",
       "min       1.200000  2000.000000    47.000000\n",
       "25%       5.700000  2008.000000    94.000000\n",
       "50%       6.400000  2014.000000   104.000000\n",
       "75%       7.000000  2019.000000   117.000000\n",
       "max       9.000000  2024.000000   467.000000"
      ]
     },
     "execution_count": 7,
     "metadata": {},
     "output_type": "execute_result"
    }
   ],
   "source": [
    "df_movies.describe()"
   ]
  },
  {
   "cell_type": "code",
   "execution_count": 8,
   "id": "dc02cd4d",
   "metadata": {
    "execution": {
     "iopub.execute_input": "2025-05-25T09:46:56.387450Z",
     "iopub.status.busy": "2025-05-25T09:46:56.386856Z",
     "iopub.status.idle": "2025-05-25T09:46:56.406107Z",
     "shell.execute_reply": "2025-05-25T09:46:56.405344Z"
    },
    "papermill": {
     "duration": 0.035128,
     "end_time": "2025-05-25T09:46:56.407249",
     "exception": false,
     "start_time": "2025-05-25T09:46:56.372121",
     "status": "completed"
    },
    "tags": []
   },
   "outputs": [
    {
     "name": "stdout",
     "output_type": "stream",
     "text": [
      "<class 'pandas.core.frame.DataFrame'>\n",
      "RangeIndex: 6675 entries, 0 to 6674\n",
      "Data columns (total 11 columns):\n",
      " #   Column     Non-Null Count  Dtype  \n",
      "---  ------     --------------  -----  \n",
      " 0   ID         6675 non-null   object \n",
      " 1   Title      6675 non-null   object \n",
      " 2   Genres     6675 non-null   object \n",
      " 3   Rating     6675 non-null   float64\n",
      " 4   Year       6675 non-null   int64  \n",
      " 5   Numrate    6675 non-null   object \n",
      " 6   Runtime    6675 non-null   int64  \n",
      " 7   Image      6675 non-null   object \n",
      " 8   Directors  6675 non-null   object \n",
      " 9   Writers    6674 non-null   object \n",
      " 10  Stars      6619 non-null   object \n",
      "dtypes: float64(1), int64(2), object(8)\n",
      "memory usage: 573.8+ KB\n"
     ]
    }
   ],
   "source": [
    "df_movies.info()"
   ]
  },
  {
   "cell_type": "markdown",
   "id": "8232c9d9",
   "metadata": {
    "papermill": {
     "duration": 0.013733,
     "end_time": "2025-05-25T09:46:56.435116",
     "exception": false,
     "start_time": "2025-05-25T09:46:56.421383",
     "status": "completed"
    },
    "tags": []
   },
   "source": [
    "Fill nan value on columns (Directors, Writers, Stars) by ''"
   ]
  },
  {
   "cell_type": "code",
   "execution_count": 9,
   "id": "73a4ca74",
   "metadata": {
    "execution": {
     "iopub.execute_input": "2025-05-25T09:46:56.464102Z",
     "iopub.status.busy": "2025-05-25T09:46:56.463478Z",
     "iopub.status.idle": "2025-05-25T09:46:56.472874Z",
     "shell.execute_reply": "2025-05-25T09:46:56.472352Z"
    },
    "papermill": {
     "duration": 0.024942,
     "end_time": "2025-05-25T09:46:56.473909",
     "exception": false,
     "start_time": "2025-05-25T09:46:56.448967",
     "status": "completed"
    },
    "tags": []
   },
   "outputs": [],
   "source": [
    "df_movies.fillna(value = '',inplace = True)"
   ]
  },
  {
   "cell_type": "markdown",
   "id": "2ab792b0",
   "metadata": {
    "papermill": {
     "duration": 0.01373,
     "end_time": "2025-05-25T09:46:56.501530",
     "exception": false,
     "start_time": "2025-05-25T09:46:56.487800",
     "status": "completed"
    },
    "tags": []
   },
   "source": [
    "**REVIEWS**"
   ]
  },
  {
   "cell_type": "code",
   "execution_count": 10,
   "id": "e30a6b10",
   "metadata": {
    "execution": {
     "iopub.execute_input": "2025-05-25T09:46:56.530830Z",
     "iopub.status.busy": "2025-05-25T09:46:56.530109Z",
     "iopub.status.idle": "2025-05-25T09:46:56.544047Z",
     "shell.execute_reply": "2025-05-25T09:46:56.543327Z"
    },
    "papermill": {
     "duration": 0.02981,
     "end_time": "2025-05-25T09:46:56.545152",
     "exception": false,
     "start_time": "2025-05-25T09:46:56.515342",
     "status": "completed"
    },
    "tags": []
   },
   "outputs": [
    {
     "data": {
      "text/html": [
       "<div>\n",
       "<style scoped>\n",
       "    .dataframe tbody tr th:only-of-type {\n",
       "        vertical-align: middle;\n",
       "    }\n",
       "\n",
       "    .dataframe tbody tr th {\n",
       "        vertical-align: top;\n",
       "    }\n",
       "\n",
       "    .dataframe thead th {\n",
       "        text-align: right;\n",
       "    }\n",
       "</style>\n",
       "<table border=\"1\" class=\"dataframe\">\n",
       "  <thead>\n",
       "    <tr style=\"text-align: right;\">\n",
       "      <th></th>\n",
       "      <th>Rating</th>\n",
       "    </tr>\n",
       "  </thead>\n",
       "  <tbody>\n",
       "    <tr>\n",
       "      <th>count</th>\n",
       "      <td>190643.000000</td>\n",
       "    </tr>\n",
       "    <tr>\n",
       "      <th>mean</th>\n",
       "      <td>6.137986</td>\n",
       "    </tr>\n",
       "    <tr>\n",
       "      <th>std</th>\n",
       "      <td>2.570391</td>\n",
       "    </tr>\n",
       "    <tr>\n",
       "      <th>min</th>\n",
       "      <td>1.000000</td>\n",
       "    </tr>\n",
       "    <tr>\n",
       "      <th>25%</th>\n",
       "      <td>4.000000</td>\n",
       "    </tr>\n",
       "    <tr>\n",
       "      <th>50%</th>\n",
       "      <td>7.000000</td>\n",
       "    </tr>\n",
       "    <tr>\n",
       "      <th>75%</th>\n",
       "      <td>8.000000</td>\n",
       "    </tr>\n",
       "    <tr>\n",
       "      <th>max</th>\n",
       "      <td>10.000000</td>\n",
       "    </tr>\n",
       "  </tbody>\n",
       "</table>\n",
       "</div>"
      ],
      "text/plain": [
       "              Rating\n",
       "count  190643.000000\n",
       "mean        6.137986\n",
       "std         2.570391\n",
       "min         1.000000\n",
       "25%         4.000000\n",
       "50%         7.000000\n",
       "75%         8.000000\n",
       "max        10.000000"
      ]
     },
     "execution_count": 10,
     "metadata": {},
     "output_type": "execute_result"
    }
   ],
   "source": [
    "df_reviews.describe()"
   ]
  },
  {
   "cell_type": "code",
   "execution_count": 11,
   "id": "5ec913b4",
   "metadata": {
    "execution": {
     "iopub.execute_input": "2025-05-25T09:46:56.574206Z",
     "iopub.status.busy": "2025-05-25T09:46:56.573531Z",
     "iopub.status.idle": "2025-05-25T09:46:56.609006Z",
     "shell.execute_reply": "2025-05-25T09:46:56.608301Z"
    },
    "papermill": {
     "duration": 0.051023,
     "end_time": "2025-05-25T09:46:56.610131",
     "exception": false,
     "start_time": "2025-05-25T09:46:56.559108",
     "status": "completed"
    },
    "tags": []
   },
   "outputs": [
    {
     "name": "stdout",
     "output_type": "stream",
     "text": [
      "<class 'pandas.core.frame.DataFrame'>\n",
      "RangeIndex: 190643 entries, 0 to 190642\n",
      "Data columns (total 4 columns):\n",
      " #   Column       Non-Null Count   Dtype \n",
      "---  ------       --------------   ----- \n",
      " 0   MovieID      190643 non-null  object\n",
      " 1   Rating       190643 non-null  int64 \n",
      " 2   Username     190643 non-null  object\n",
      " 3   CommentDate  190643 non-null  object\n",
      "dtypes: int64(1), object(3)\n",
      "memory usage: 5.8+ MB\n"
     ]
    }
   ],
   "source": [
    "df_reviews.info()"
   ]
  },
  {
   "cell_type": "markdown",
   "id": "06f4d17d",
   "metadata": {
    "papermill": {
     "duration": 0.013901,
     "end_time": "2025-05-25T09:46:56.638691",
     "exception": false,
     "start_time": "2025-05-25T09:46:56.624790",
     "status": "completed"
    },
    "tags": []
   },
   "source": [
    "Convert columns CommentDate"
   ]
  },
  {
   "cell_type": "code",
   "execution_count": 12,
   "id": "f318535e",
   "metadata": {
    "execution": {
     "iopub.execute_input": "2025-05-25T09:46:56.668230Z",
     "iopub.status.busy": "2025-05-25T09:46:56.667697Z",
     "iopub.status.idle": "2025-05-25T09:46:57.163586Z",
     "shell.execute_reply": "2025-05-25T09:46:57.162987Z"
    },
    "papermill": {
     "duration": 0.512068,
     "end_time": "2025-05-25T09:46:57.164687",
     "exception": false,
     "start_time": "2025-05-25T09:46:56.652619",
     "status": "completed"
    },
    "tags": []
   },
   "outputs": [
    {
     "data": {
      "text/html": [
       "<div>\n",
       "<style scoped>\n",
       "    .dataframe tbody tr th:only-of-type {\n",
       "        vertical-align: middle;\n",
       "    }\n",
       "\n",
       "    .dataframe tbody tr th {\n",
       "        vertical-align: top;\n",
       "    }\n",
       "\n",
       "    .dataframe thead th {\n",
       "        text-align: right;\n",
       "    }\n",
       "</style>\n",
       "<table border=\"1\" class=\"dataframe\">\n",
       "  <thead>\n",
       "    <tr style=\"text-align: right;\">\n",
       "      <th></th>\n",
       "      <th>MovieID</th>\n",
       "      <th>Rating</th>\n",
       "      <th>Username</th>\n",
       "      <th>CommentDate</th>\n",
       "    </tr>\n",
       "  </thead>\n",
       "  <tbody>\n",
       "    <tr>\n",
       "      <th>0</th>\n",
       "      <td>tt0283530</td>\n",
       "      <td>7</td>\n",
       "      <td>CuriosityKilledShawn</td>\n",
       "      <td>2005-08-14</td>\n",
       "    </tr>\n",
       "    <tr>\n",
       "      <th>1</th>\n",
       "      <td>tt0283530</td>\n",
       "      <td>7</td>\n",
       "      <td>ma-cortes</td>\n",
       "      <td>2005-07-12</td>\n",
       "    </tr>\n",
       "    <tr>\n",
       "      <th>2</th>\n",
       "      <td>tt0283530</td>\n",
       "      <td>8</td>\n",
       "      <td>redkiwi</td>\n",
       "      <td>2002-12-09</td>\n",
       "    </tr>\n",
       "    <tr>\n",
       "      <th>3</th>\n",
       "      <td>tt0283530</td>\n",
       "      <td>9</td>\n",
       "      <td>KUAlum26</td>\n",
       "      <td>2006-03-20</td>\n",
       "    </tr>\n",
       "    <tr>\n",
       "      <th>4</th>\n",
       "      <td>tt0283530</td>\n",
       "      <td>10</td>\n",
       "      <td>au_law2001</td>\n",
       "      <td>2005-01-23</td>\n",
       "    </tr>\n",
       "  </tbody>\n",
       "</table>\n",
       "</div>"
      ],
      "text/plain": [
       "     MovieID  Rating              Username CommentDate\n",
       "0  tt0283530       7  CuriosityKilledShawn  2005-08-14\n",
       "1  tt0283530       7             ma-cortes  2005-07-12\n",
       "2  tt0283530       8               redkiwi  2002-12-09\n",
       "3  tt0283530       9              KUAlum26  2006-03-20\n",
       "4  tt0283530      10            au_law2001  2005-01-23"
      ]
     },
     "execution_count": 12,
     "metadata": {},
     "output_type": "execute_result"
    }
   ],
   "source": [
    "df_reviews['CommentDate'] = pd.to_datetime(df_reviews['CommentDate'])\n",
    "df_reviews.head()"
   ]
  },
  {
   "cell_type": "markdown",
   "id": "bc1fa78e",
   "metadata": {
    "papermill": {
     "duration": 0.014115,
     "end_time": "2025-05-25T09:46:57.193417",
     "exception": false,
     "start_time": "2025-05-25T09:46:57.179302",
     "status": "completed"
    },
    "tags": []
   },
   "source": [
    "**RATINGS**"
   ]
  },
  {
   "cell_type": "code",
   "execution_count": 13,
   "id": "5c567182",
   "metadata": {
    "execution": {
     "iopub.execute_input": "2025-05-25T09:46:57.222399Z",
     "iopub.status.busy": "2025-05-25T09:46:57.222132Z",
     "iopub.status.idle": "2025-05-25T09:46:57.301026Z",
     "shell.execute_reply": "2025-05-25T09:46:57.300343Z"
    },
    "papermill": {
     "duration": 0.094788,
     "end_time": "2025-05-25T09:46:57.302153",
     "exception": false,
     "start_time": "2025-05-25T09:46:57.207365",
     "status": "completed"
    },
    "tags": []
   },
   "outputs": [
    {
     "data": {
      "text/html": [
       "<div>\n",
       "<style scoped>\n",
       "    .dataframe tbody tr th:only-of-type {\n",
       "        vertical-align: middle;\n",
       "    }\n",
       "\n",
       "    .dataframe tbody tr th {\n",
       "        vertical-align: top;\n",
       "    }\n",
       "\n",
       "    .dataframe thead th {\n",
       "        text-align: right;\n",
       "    }\n",
       "</style>\n",
       "<table border=\"1\" class=\"dataframe\">\n",
       "  <thead>\n",
       "    <tr style=\"text-align: right;\">\n",
       "      <th></th>\n",
       "      <th>Rating</th>\n",
       "    </tr>\n",
       "  </thead>\n",
       "  <tbody>\n",
       "    <tr>\n",
       "      <th>count</th>\n",
       "      <td>1.380601e+06</td>\n",
       "    </tr>\n",
       "    <tr>\n",
       "      <th>mean</th>\n",
       "      <td>6.396743e+00</td>\n",
       "    </tr>\n",
       "    <tr>\n",
       "      <th>std</th>\n",
       "      <td>2.124442e+00</td>\n",
       "    </tr>\n",
       "    <tr>\n",
       "      <th>min</th>\n",
       "      <td>1.000000e+00</td>\n",
       "    </tr>\n",
       "    <tr>\n",
       "      <th>25%</th>\n",
       "      <td>5.000000e+00</td>\n",
       "    </tr>\n",
       "    <tr>\n",
       "      <th>50%</th>\n",
       "      <td>7.000000e+00</td>\n",
       "    </tr>\n",
       "    <tr>\n",
       "      <th>75%</th>\n",
       "      <td>8.000000e+00</td>\n",
       "    </tr>\n",
       "    <tr>\n",
       "      <th>max</th>\n",
       "      <td>1.000000e+01</td>\n",
       "    </tr>\n",
       "  </tbody>\n",
       "</table>\n",
       "</div>"
      ],
      "text/plain": [
       "             Rating\n",
       "count  1.380601e+06\n",
       "mean   6.396743e+00\n",
       "std    2.124442e+00\n",
       "min    1.000000e+00\n",
       "25%    5.000000e+00\n",
       "50%    7.000000e+00\n",
       "75%    8.000000e+00\n",
       "max    1.000000e+01"
      ]
     },
     "execution_count": 13,
     "metadata": {},
     "output_type": "execute_result"
    }
   ],
   "source": [
    "df_ratings.describe()"
   ]
  },
  {
   "cell_type": "code",
   "execution_count": 14,
   "id": "1842ebd1",
   "metadata": {
    "execution": {
     "iopub.execute_input": "2025-05-25T09:46:57.332224Z",
     "iopub.status.busy": "2025-05-25T09:46:57.332001Z",
     "iopub.status.idle": "2025-05-25T09:46:57.517069Z",
     "shell.execute_reply": "2025-05-25T09:46:57.516122Z"
    },
    "papermill": {
     "duration": 0.201452,
     "end_time": "2025-05-25T09:46:57.518411",
     "exception": false,
     "start_time": "2025-05-25T09:46:57.316959",
     "status": "completed"
    },
    "tags": []
   },
   "outputs": [
    {
     "name": "stdout",
     "output_type": "stream",
     "text": [
      "<class 'pandas.core.frame.DataFrame'>\n",
      "RangeIndex: 1380657 entries, 0 to 1380656\n",
      "Data columns (total 4 columns):\n",
      " #   Column       Non-Null Count    Dtype  \n",
      "---  ------       --------------    -----  \n",
      " 0   MovieID      1380657 non-null  object \n",
      " 1   Rating       1380601 non-null  float64\n",
      " 2   Username     1380657 non-null  object \n",
      " 3   CommentDate  1380601 non-null  object \n",
      "dtypes: float64(1), object(3)\n",
      "memory usage: 42.1+ MB\n"
     ]
    }
   ],
   "source": [
    "df_ratings.info()"
   ]
  },
  {
   "cell_type": "markdown",
   "id": "a2de558f",
   "metadata": {
    "papermill": {
     "duration": 0.014226,
     "end_time": "2025-05-25T09:46:57.547660",
     "exception": false,
     "start_time": "2025-05-25T09:46:57.533434",
     "status": "completed"
    },
    "tags": []
   },
   "source": [
    "Drop NaN value in columns: MovieID, Rating, Username"
   ]
  },
  {
   "cell_type": "code",
   "execution_count": 15,
   "id": "03708f8b",
   "metadata": {
    "execution": {
     "iopub.execute_input": "2025-05-25T09:46:57.577547Z",
     "iopub.status.busy": "2025-05-25T09:46:57.576915Z",
     "iopub.status.idle": "2025-05-25T09:46:57.879428Z",
     "shell.execute_reply": "2025-05-25T09:46:57.878608Z"
    },
    "papermill": {
     "duration": 0.318909,
     "end_time": "2025-05-25T09:46:57.880894",
     "exception": false,
     "start_time": "2025-05-25T09:46:57.561985",
     "status": "completed"
    },
    "tags": []
   },
   "outputs": [],
   "source": [
    "df_ratings.dropna(subset=['Username', 'Rating', 'MovieID'], inplace = True)\n",
    "df_ratings['CommentDate'] = df_ratings['CommentDate'].fillna('Rated on Jun 1, 2000')"
   ]
  },
  {
   "cell_type": "markdown",
   "id": "3df7e08c",
   "metadata": {
    "papermill": {
     "duration": 0.014692,
     "end_time": "2025-05-25T09:46:57.910437",
     "exception": false,
     "start_time": "2025-05-25T09:46:57.895745",
     "status": "completed"
    },
    "tags": []
   },
   "source": [
    "Convert Column CommentDate "
   ]
  },
  {
   "cell_type": "code",
   "execution_count": 16,
   "id": "4e90c8a2",
   "metadata": {
    "execution": {
     "iopub.execute_input": "2025-05-25T09:46:57.940731Z",
     "iopub.status.busy": "2025-05-25T09:46:57.940218Z",
     "iopub.status.idle": "2025-05-25T09:46:58.565110Z",
     "shell.execute_reply": "2025-05-25T09:46:58.564362Z"
    },
    "papermill": {
     "duration": 0.641481,
     "end_time": "2025-05-25T09:46:58.566377",
     "exception": false,
     "start_time": "2025-05-25T09:46:57.924896",
     "status": "completed"
    },
    "tags": []
   },
   "outputs": [
    {
     "data": {
      "text/html": [
       "<div>\n",
       "<style scoped>\n",
       "    .dataframe tbody tr th:only-of-type {\n",
       "        vertical-align: middle;\n",
       "    }\n",
       "\n",
       "    .dataframe tbody tr th {\n",
       "        vertical-align: top;\n",
       "    }\n",
       "\n",
       "    .dataframe thead th {\n",
       "        text-align: right;\n",
       "    }\n",
       "</style>\n",
       "<table border=\"1\" class=\"dataframe\">\n",
       "  <thead>\n",
       "    <tr style=\"text-align: right;\">\n",
       "      <th></th>\n",
       "      <th>MovieID</th>\n",
       "      <th>Rating</th>\n",
       "      <th>Username</th>\n",
       "      <th>CommentDate</th>\n",
       "    </tr>\n",
       "  </thead>\n",
       "  <tbody>\n",
       "    <tr>\n",
       "      <th>0</th>\n",
       "      <td>tt2096673</td>\n",
       "      <td>10.0</td>\n",
       "      <td>bretttaylor-04022</td>\n",
       "      <td>2017-06-10</td>\n",
       "    </tr>\n",
       "    <tr>\n",
       "      <th>1</th>\n",
       "      <td>tt0434409</td>\n",
       "      <td>8.0</td>\n",
       "      <td>bretttaylor-04022</td>\n",
       "      <td>2017-06-10</td>\n",
       "    </tr>\n",
       "    <tr>\n",
       "      <th>2</th>\n",
       "      <td>tt1205489</td>\n",
       "      <td>9.0</td>\n",
       "      <td>bretttaylor-04022</td>\n",
       "      <td>2017-06-10</td>\n",
       "    </tr>\n",
       "    <tr>\n",
       "      <th>3</th>\n",
       "      <td>tt0266543</td>\n",
       "      <td>8.0</td>\n",
       "      <td>bretttaylor-04022</td>\n",
       "      <td>2017-06-10</td>\n",
       "    </tr>\n",
       "    <tr>\n",
       "      <th>4</th>\n",
       "      <td>tt0758758</td>\n",
       "      <td>8.0</td>\n",
       "      <td>bretttaylor-04022</td>\n",
       "      <td>2017-06-10</td>\n",
       "    </tr>\n",
       "  </tbody>\n",
       "</table>\n",
       "</div>"
      ],
      "text/plain": [
       "     MovieID  Rating           Username CommentDate\n",
       "0  tt2096673    10.0  bretttaylor-04022  2017-06-10\n",
       "1  tt0434409     8.0  bretttaylor-04022  2017-06-10\n",
       "2  tt1205489     9.0  bretttaylor-04022  2017-06-10\n",
       "3  tt0266543     8.0  bretttaylor-04022  2017-06-10\n",
       "4  tt0758758     8.0  bretttaylor-04022  2017-06-10"
      ]
     },
     "execution_count": 16,
     "metadata": {},
     "output_type": "execute_result"
    }
   ],
   "source": [
    "df_ratings['CommentDate'] = df_ratings['CommentDate'].str.replace(\"Rated on \", \"\", regex=False)\n",
    "df_ratings['CommentDate'] = pd.to_datetime(df_ratings['CommentDate'])\n",
    "df_ratings.head()"
   ]
  },
  {
   "cell_type": "markdown",
   "id": "9d65efc4",
   "metadata": {
    "papermill": {
     "duration": 0.015034,
     "end_time": "2025-05-25T09:46:58.596358",
     "exception": false,
     "start_time": "2025-05-25T09:46:58.581324",
     "status": "completed"
    },
    "tags": []
   },
   "source": [
    "## 2.2 Merge Reviews and Ratings"
   ]
  },
  {
   "cell_type": "markdown",
   "id": "e40ce35c",
   "metadata": {
    "papermill": {
     "duration": 0.0143,
     "end_time": "2025-05-25T09:46:58.625191",
     "exception": false,
     "start_time": "2025-05-25T09:46:58.610891",
     "status": "completed"
    },
    "tags": []
   },
   "source": [
    "Filter ratings and reviews"
   ]
  },
  {
   "cell_type": "code",
   "execution_count": 17,
   "id": "b91a350c",
   "metadata": {
    "execution": {
     "iopub.execute_input": "2025-05-25T09:46:58.655756Z",
     "iopub.status.busy": "2025-05-25T09:46:58.654917Z",
     "iopub.status.idle": "2025-05-25T09:46:58.775545Z",
     "shell.execute_reply": "2025-05-25T09:46:58.774565Z"
    },
    "papermill": {
     "duration": 0.137092,
     "end_time": "2025-05-25T09:46:58.776757",
     "exception": false,
     "start_time": "2025-05-25T09:46:58.639665",
     "status": "completed"
    },
    "tags": []
   },
   "outputs": [
    {
     "name": "stdout",
     "output_type": "stream",
     "text": [
      "190643 1130658\n"
     ]
    }
   ],
   "source": [
    "movieIDs = df_movies['ID']\n",
    "df_reviews =  df_reviews[df_reviews['MovieID'].isin(movieIDs)]\n",
    "df_ratings =  df_ratings[df_ratings['MovieID'].isin(movieIDs)]\n",
    "print(df_reviews.shape[0], df_ratings.shape[0])"
   ]
  },
  {
   "cell_type": "markdown",
   "id": "b9af9ae5",
   "metadata": {
    "papermill": {
     "duration": 0.015438,
     "end_time": "2025-05-25T09:46:58.807165",
     "exception": false,
     "start_time": "2025-05-25T09:46:58.791727",
     "status": "completed"
    },
    "tags": []
   },
   "source": [
    "Merge"
   ]
  },
  {
   "cell_type": "code",
   "execution_count": 18,
   "id": "af08a5da",
   "metadata": {
    "execution": {
     "iopub.execute_input": "2025-05-25T09:46:58.837541Z",
     "iopub.status.busy": "2025-05-25T09:46:58.837239Z",
     "iopub.status.idle": "2025-05-25T09:46:59.208995Z",
     "shell.execute_reply": "2025-05-25T09:46:59.208124Z"
    },
    "papermill": {
     "duration": 0.388471,
     "end_time": "2025-05-25T09:46:59.210315",
     "exception": false,
     "start_time": "2025-05-25T09:46:58.821844",
     "status": "completed"
    },
    "tags": []
   },
   "outputs": [
    {
     "name": "stdout",
     "output_type": "stream",
     "text": [
      "           MovieID  Rating              Username CommentDate\n",
      "0        tt0283530     7.0  CuriosityKilledShawn  2005-08-14\n",
      "1        tt0283530     7.0             ma-cortes  2005-07-12\n",
      "2        tt0283530     8.0               redkiwi  2002-12-09\n",
      "3        tt0283530     9.0              KUAlum26  2006-03-20\n",
      "4        tt0283530    10.0            au_law2001  2005-01-23\n",
      "...            ...     ...                   ...         ...\n",
      "1321296  tt1821549     9.0              seaview1  2014-03-01\n",
      "1321297  tt0790636     9.0              seaview1  2014-03-01\n",
      "1321298  tt2431286     9.0              seaview1  2014-03-01\n",
      "1321299  tt1843866     9.0              seaview1  2014-04-18\n",
      "1321300  tt1877832     9.0              seaview1  2014-06-12\n",
      "\n",
      "[1269661 rows x 4 columns]\n"
     ]
    }
   ],
   "source": [
    "ratings = pd.concat([df_reviews, df_ratings], ignore_index = True)\n",
    "ratings.drop_duplicates(subset=['Username', 'MovieID'], inplace = True)\n",
    "print(ratings)"
   ]
  },
  {
   "cell_type": "code",
   "execution_count": 19,
   "id": "d8a7decc",
   "metadata": {
    "execution": {
     "iopub.execute_input": "2025-05-25T09:46:59.241691Z",
     "iopub.status.busy": "2025-05-25T09:46:59.241454Z",
     "iopub.status.idle": "2025-05-25T09:46:59.295256Z",
     "shell.execute_reply": "2025-05-25T09:46:59.294380Z"
    },
    "papermill": {
     "duration": 0.070508,
     "end_time": "2025-05-25T09:46:59.296515",
     "exception": false,
     "start_time": "2025-05-25T09:46:59.226007",
     "status": "completed"
    },
    "tags": []
   },
   "outputs": [
    {
     "name": "stdout",
     "output_type": "stream",
     "text": [
      "Total Users: 14148\n",
      "Total Movies: 6675\n",
      "Total Ratings: 1269661\n"
     ]
    }
   ],
   "source": [
    "numUser = ratings['Username'].copy()\n",
    "numUser.drop_duplicates(inplace = True)\n",
    "print(\"Total Users:\", numUser.shape[0])\n",
    "print(\"Total Movies:\", df_movies.shape[0])\n",
    "print(\"Total Ratings:\", ratings.shape[0])"
   ]
  },
  {
   "cell_type": "markdown",
   "id": "7c17621e",
   "metadata": {
    "papermill": {
     "duration": 0.01447,
     "end_time": "2025-05-25T09:46:59.326652",
     "exception": false,
     "start_time": "2025-05-25T09:46:59.312182",
     "status": "completed"
    },
    "tags": []
   },
   "source": [
    "## 2.3 Statistical Analysis and Preprocesing Data"
   ]
  },
  {
   "cell_type": "markdown",
   "id": "76c71105",
   "metadata": {
    "papermill": {
     "duration": 0.014494,
     "end_time": "2025-05-25T09:46:59.355732",
     "exception": false,
     "start_time": "2025-05-25T09:46:59.341238",
     "status": "completed"
    },
    "tags": []
   },
   "source": [
    "### 2.3.0 Ratings"
   ]
  },
  {
   "cell_type": "code",
   "execution_count": 20,
   "id": "7ddb4122",
   "metadata": {
    "execution": {
     "iopub.execute_input": "2025-05-25T09:46:59.386881Z",
     "iopub.status.busy": "2025-05-25T09:46:59.386087Z",
     "iopub.status.idle": "2025-05-25T09:46:59.643701Z",
     "shell.execute_reply": "2025-05-25T09:46:59.642904Z"
    },
    "papermill": {
     "duration": 0.274215,
     "end_time": "2025-05-25T09:46:59.644918",
     "exception": false,
     "start_time": "2025-05-25T09:46:59.370703",
     "status": "completed"
    },
    "tags": []
   },
   "outputs": [
    {
     "data": {
      "image/png": "[encoded data removed]",
      "text/plain": [
       "<Figure size 640x480 with 1 Axes>"
      ]
     },
     "metadata": {},
     "output_type": "display_data"
    }
   ],
   "source": [
    "plt.hist(ratings['Rating'], bins=10, color='skyblue', edgecolor='black')\n",
    "plt.title('Distribution of Movie Ratings')\n",
    "plt.xlabel('Rating')\n",
    "plt.ylabel('Frequency')\n",
    "plt.show()"
   ]
  },
  {
   "cell_type": "code",
   "execution_count": 21,
   "id": "41adf295",
   "metadata": {
    "execution": {
     "iopub.execute_input": "2025-05-25T09:46:59.677422Z",
     "iopub.status.busy": "2025-05-25T09:46:59.676721Z",
     "iopub.status.idle": "2025-05-25T09:47:00.021275Z",
     "shell.execute_reply": "2025-05-25T09:47:00.020523Z"
    },
    "papermill": {
     "duration": 0.36155,
     "end_time": "2025-05-25T09:47:00.022467",
     "exception": false,
     "start_time": "2025-05-25T09:46:59.660917",
     "status": "completed"
    },
    "tags": []
   },
   "outputs": [
    {
     "data": {
      "image/png": "[encoded data removed]",
      "text/plain": [
       "<Figure size 1000x600 with 1 Axes>"
      ]
     },
     "metadata": {},
     "output_type": "display_data"
    }
   ],
   "source": [
    "ratings['Year'] = ratings['CommentDate'].dt.to_period('Y')\n",
    "comments_over_time = ratings.groupby('Year').size()\n",
    "\n",
    "comments_over_time.plot(kind='bar', color='orange', figsize=(10, 6))\n",
    "plt.title('Number of Comments Over Time')\n",
    "plt.xlabel('Year')\n",
    "plt.ylabel('Number of Comments')\n",
    "plt.show()"
   ]
  },
  {
   "cell_type": "code",
   "execution_count": 22,
   "id": "70c041ed",
   "metadata": {
    "execution": {
     "iopub.execute_input": "2025-05-25T09:47:00.054757Z",
     "iopub.status.busy": "2025-05-25T09:47:00.054518Z",
     "iopub.status.idle": "2025-05-25T09:47:00.086684Z",
     "shell.execute_reply": "2025-05-25T09:47:00.086042Z"
    },
    "papermill": {
     "duration": 0.049276,
     "end_time": "2025-05-25T09:47:00.087894",
     "exception": false,
     "start_time": "2025-05-25T09:47:00.038618",
     "status": "completed"
    },
    "tags": []
   },
   "outputs": [
    {
     "data": {
      "text/plain": [
       "count                          1269661\n",
       "mean     2017-01-19 18:09:38.847424768\n",
       "min                1970-01-01 00:00:00\n",
       "25%                2013-10-09 00:00:00\n",
       "50%                2017-09-28 00:00:00\n",
       "75%                2020-12-23 00:00:00\n",
       "max                2025-04-07 00:00:00\n",
       "Name: CommentDate, dtype: object"
      ]
     },
     "execution_count": 22,
     "metadata": {},
     "output_type": "execute_result"
    }
   ],
   "source": [
    "ratings['CommentDate'].describe()"
   ]
  },
  {
   "cell_type": "code",
   "execution_count": 23,
   "id": "9fe882f5",
   "metadata": {
    "execution": {
     "iopub.execute_input": "2025-05-25T09:47:00.120861Z",
     "iopub.status.busy": "2025-05-25T09:47:00.120240Z",
     "iopub.status.idle": "2025-05-25T09:47:03.396841Z",
     "shell.execute_reply": "2025-05-25T09:47:03.396154Z"
    },
    "papermill": {
     "duration": 3.294408,
     "end_time": "2025-05-25T09:47:03.398388",
     "exception": false,
     "start_time": "2025-05-25T09:47:00.103980",
     "status": "completed"
    },
    "tags": []
   },
   "outputs": [],
   "source": [
    "ratings['CommentDate'] = ratings['CommentDate'].apply(lambda x: \n",
    "    pd.Timestamp('2000-01-01') if x.year < 2000 \n",
    "    else pd.Timestamp('2024-12-31') if x.year > 2024 \n",
    "    else x\n",
    ")"
   ]
  },
  {
   "cell_type": "code",
   "execution_count": 24,
   "id": "ebb427c4",
   "metadata": {
    "execution": {
     "iopub.execute_input": "2025-05-25T09:47:03.437438Z",
     "iopub.status.busy": "2025-05-25T09:47:03.436735Z",
     "iopub.status.idle": "2025-05-25T09:47:03.756975Z",
     "shell.execute_reply": "2025-05-25T09:47:03.756241Z"
    },
    "papermill": {
     "duration": 0.340543,
     "end_time": "2025-05-25T09:47:03.758078",
     "exception": false,
     "start_time": "2025-05-25T09:47:03.417535",
     "status": "completed"
    },
    "tags": []
   },
   "outputs": [
    {
     "data": {
      "image/png": "[encoded data removed]",
      "text/plain": [
       "<Figure size 1000x600 with 1 Axes>"
      ]
     },
     "metadata": {},
     "output_type": "display_data"
    }
   ],
   "source": [
    "ratings['Year'] = ratings['CommentDate'].dt.to_period('Y')\n",
    "comments_over_time = ratings.groupby('Year').size()\n",
    "\n",
    "comments_over_time.plot(kind='bar', color='orange', figsize=(10, 6))\n",
    "plt.title('Number of Comments Over Time')\n",
    "plt.xlabel('Year')\n",
    "plt.ylabel('Number of Comments')\n",
    "plt.show()"
   ]
  },
  {
   "cell_type": "markdown",
   "id": "7cb2df7e",
   "metadata": {
    "papermill": {
     "duration": 0.016316,
     "end_time": "2025-05-25T09:47:03.791233",
     "exception": false,
     "start_time": "2025-05-25T09:47:03.774917",
     "status": "completed"
    },
    "tags": []
   },
   "source": [
    "### 2.3.1 Users "
   ]
  },
  {
   "cell_type": "code",
   "execution_count": 25,
   "id": "08736137",
   "metadata": {
    "execution": {
     "iopub.execute_input": "2025-05-25T09:47:03.824674Z",
     "iopub.status.busy": "2025-05-25T09:47:03.824082Z",
     "iopub.status.idle": "2025-05-25T09:47:03.886685Z",
     "shell.execute_reply": "2025-05-25T09:47:03.885775Z"
    },
    "papermill": {
     "duration": 0.080617,
     "end_time": "2025-05-25T09:47:03.887875",
     "exception": false,
     "start_time": "2025-05-25T09:47:03.807258",
     "status": "completed"
    },
    "tags": []
   },
   "outputs": [
    {
     "name": "stdout",
     "output_type": "stream",
     "text": [
      "['CuriosityKilledShawn', 'ma-cortes', 'redkiwi', 'KUAlum26', 'au_law2001', 'August1991', 'helpless_dancer', 'FilmOtaku', 'ferguson-6', 'Beachbum2018']\n"
     ]
    }
   ],
   "source": [
    "list_usernames = ratings[\"Username\"].unique().tolist()\n",
    "print(list_usernames[:10])"
   ]
  },
  {
   "cell_type": "markdown",
   "id": "86143b9d",
   "metadata": {
    "papermill": {
     "duration": 0.015918,
     "end_time": "2025-05-25T09:47:03.920408",
     "exception": false,
     "start_time": "2025-05-25T09:47:03.904490",
     "status": "completed"
    },
    "tags": []
   },
   "source": [
    "Visual Gender"
   ]
  },
  {
   "cell_type": "markdown",
   "id": "bd9cf59b",
   "metadata": {
    "papermill": {
     "duration": 0.01581,
     "end_time": "2025-05-25T09:47:03.952111",
     "exception": false,
     "start_time": "2025-05-25T09:47:03.936301",
     "status": "completed"
    },
    "tags": []
   },
   "source": [
    "1: Male, 0: Female"
   ]
  },
  {
   "cell_type": "code",
   "execution_count": 26,
   "id": "a6f3e208",
   "metadata": {
    "execution": {
     "iopub.execute_input": "2025-05-25T09:47:03.984999Z",
     "iopub.status.busy": "2025-05-25T09:47:03.984764Z",
     "iopub.status.idle": "2025-05-25T09:47:03.995456Z",
     "shell.execute_reply": "2025-05-25T09:47:03.994831Z"
    },
    "papermill": {
     "duration": 0.028504,
     "end_time": "2025-05-25T09:47:03.996554",
     "exception": false,
     "start_time": "2025-05-25T09:47:03.968050",
     "status": "completed"
    },
    "tags": []
   },
   "outputs": [
    {
     "data": {
      "text/html": [
       "<div>\n",
       "<style scoped>\n",
       "    .dataframe tbody tr th:only-of-type {\n",
       "        vertical-align: middle;\n",
       "    }\n",
       "\n",
       "    .dataframe tbody tr th {\n",
       "        vertical-align: top;\n",
       "    }\n",
       "\n",
       "    .dataframe thead th {\n",
       "        text-align: right;\n",
       "    }\n",
       "</style>\n",
       "<table border=\"1\" class=\"dataframe\">\n",
       "  <thead>\n",
       "    <tr style=\"text-align: right;\">\n",
       "      <th></th>\n",
       "      <th>Username</th>\n",
       "      <th>Gender</th>\n",
       "    </tr>\n",
       "  </thead>\n",
       "  <tbody>\n",
       "    <tr>\n",
       "      <th>0</th>\n",
       "      <td>CuriosityKilledShawn</td>\n",
       "      <td>Male</td>\n",
       "    </tr>\n",
       "    <tr>\n",
       "      <th>1</th>\n",
       "      <td>ma-cortes</td>\n",
       "      <td>Female</td>\n",
       "    </tr>\n",
       "    <tr>\n",
       "      <th>2</th>\n",
       "      <td>redkiwi</td>\n",
       "      <td>Female</td>\n",
       "    </tr>\n",
       "    <tr>\n",
       "      <th>3</th>\n",
       "      <td>KUAlum26</td>\n",
       "      <td>Male</td>\n",
       "    </tr>\n",
       "    <tr>\n",
       "      <th>4</th>\n",
       "      <td>au_law2001</td>\n",
       "      <td>Male</td>\n",
       "    </tr>\n",
       "    <tr>\n",
       "      <th>...</th>\n",
       "      <td>...</td>\n",
       "      <td>...</td>\n",
       "    </tr>\n",
       "    <tr>\n",
       "      <th>14143</th>\n",
       "      <td>briner8397</td>\n",
       "      <td>Male</td>\n",
       "    </tr>\n",
       "    <tr>\n",
       "      <th>14144</th>\n",
       "      <td>TeenVamp</td>\n",
       "      <td>Male</td>\n",
       "    </tr>\n",
       "    <tr>\n",
       "      <th>14145</th>\n",
       "      <td>mathomas-28053</td>\n",
       "      <td>Male</td>\n",
       "    </tr>\n",
       "    <tr>\n",
       "      <th>14146</th>\n",
       "      <td>WolfGoddess77</td>\n",
       "      <td>Male</td>\n",
       "    </tr>\n",
       "    <tr>\n",
       "      <th>14147</th>\n",
       "      <td>RHPSvegas</td>\n",
       "      <td>Male</td>\n",
       "    </tr>\n",
       "  </tbody>\n",
       "</table>\n",
       "<p>14148 rows × 2 columns</p>\n",
       "</div>"
      ],
      "text/plain": [
       "                   Username  Gender\n",
       "0      CuriosityKilledShawn    Male\n",
       "1                 ma-cortes  Female\n",
       "2                   redkiwi  Female\n",
       "3                  KUAlum26    Male\n",
       "4                au_law2001    Male\n",
       "...                     ...     ...\n",
       "14143            briner8397    Male\n",
       "14144              TeenVamp    Male\n",
       "14145        mathomas-28053    Male\n",
       "14146         WolfGoddess77    Male\n",
       "14147             RHPSvegas    Male\n",
       "\n",
       "[14148 rows x 2 columns]"
      ]
     },
     "execution_count": 26,
     "metadata": {},
     "output_type": "execute_result"
    }
   ],
   "source": [
    "user_df = pd.DataFrame(list_usernames, columns=[\"Username\"])\n",
    "np.random.seed(42)\n",
    "user_df[\"Gender\"] = np.random.choice([\"Male\", \"Female\"], size=len(user_df), p=[0.7, 0.3])\n",
    "user_df"
   ]
  },
  {
   "cell_type": "markdown",
   "id": "08109b20",
   "metadata": {
    "papermill": {
     "duration": 0.016098,
     "end_time": "2025-05-25T09:47:04.029130",
     "exception": false,
     "start_time": "2025-05-25T09:47:04.013032",
     "status": "completed"
    },
    "tags": []
   },
   "source": [
    "Visual Age"
   ]
  },
  {
   "cell_type": "markdown",
   "id": "c322d850",
   "metadata": {
    "papermill": {
     "duration": 0.016015,
     "end_time": "2025-05-25T09:47:04.061627",
     "exception": false,
     "start_time": "2025-05-25T09:47:04.045612",
     "status": "completed"
    },
    "tags": []
   },
   "source": [
    "* 1:  \"Under 18\"\n",
    "* 18:  \"18-24\"\n",
    "* 25:  \"25-34\"\n",
    "* 35:  \"35-44\"\n",
    "* 45:  \"45-49\"\n",
    "* 50:  \"50-55\"\n",
    "* 56:  \"56+\""
   ]
  },
  {
   "cell_type": "code",
   "execution_count": 27,
   "id": "9dc21ad3",
   "metadata": {
    "execution": {
     "iopub.execute_input": "2025-05-25T09:47:04.095446Z",
     "iopub.status.busy": "2025-05-25T09:47:04.095161Z",
     "iopub.status.idle": "2025-05-25T09:47:04.104478Z",
     "shell.execute_reply": "2025-05-25T09:47:04.103593Z"
    },
    "papermill": {
     "duration": 0.027667,
     "end_time": "2025-05-25T09:47:04.105593",
     "exception": false,
     "start_time": "2025-05-25T09:47:04.077926",
     "status": "completed"
    },
    "tags": []
   },
   "outputs": [
    {
     "name": "stdout",
     "output_type": "stream",
     "text": [
      "                   Username  Gender  Age\n",
      "0      CuriosityKilledShawn    Male   25\n",
      "1                 ma-cortes  Female   56\n",
      "2                   redkiwi  Female   35\n",
      "3                  KUAlum26    Male   35\n",
      "4                au_law2001    Male   18\n",
      "...                     ...     ...  ...\n",
      "14143            briner8397    Male   25\n",
      "14144              TeenVamp    Male   25\n",
      "14145        mathomas-28053    Male   35\n",
      "14146         WolfGoddess77    Male   35\n",
      "14147             RHPSvegas    Male   25\n",
      "\n",
      "[14148 rows x 3 columns]\n",
      "\n",
      "Age Proportions (%):\n",
      " Age\n",
      "25    35.100368\n",
      "35    19.402036\n",
      "18    18.688154\n",
      "45     8.785694\n",
      "50     8.078880\n",
      "56     6.325982\n",
      "1      3.618886\n",
      "Name: proportion, dtype: float64\n"
     ]
    }
   ],
   "source": [
    "age_values = [ 1, 18, 25, 35, 45, 50, 56]\n",
    "age_probs  = [ 222, 1103, 2096, 1193,  550,  496,  380]\n",
    "age_probs = [p / sum(age_probs) for p in age_probs]  # chuyển về tỷ lệ\n",
    "\n",
    "# Random tuổi theo phân phối\n",
    "np.random.seed(42)\n",
    "user_df['Age'] = np.random.choice(age_values, size=len(user_df), p=age_probs)\n",
    "\n",
    "print(user_df)\n",
    "age_proportions = user_df['Age'].value_counts(normalize=True) * 100\n",
    "print(\"\\nAge Proportions (%):\\n\", age_proportions)"
   ]
  },
  {
   "cell_type": "markdown",
   "id": "555a18ec",
   "metadata": {
    "papermill": {
     "duration": 0.016612,
     "end_time": "2025-05-25T09:47:04.139136",
     "exception": false,
     "start_time": "2025-05-25T09:47:04.122524",
     "status": "completed"
    },
    "tags": []
   },
   "source": [
    "Visual Occupation"
   ]
  },
  {
   "cell_type": "markdown",
   "id": "41ab2b0c",
   "metadata": {
    "papermill": {
     "duration": 0.016209,
     "end_time": "2025-05-25T09:47:04.171572",
     "exception": false,
     "start_time": "2025-05-25T09:47:04.155363",
     "status": "completed"
    },
    "tags": []
   },
   "source": [
    "*  0:  \"other\" or not specified\n",
    "*  1:  \"academic/educator\"\n",
    "*  2:  \"artist\"\n",
    "*  3:  \"clerical/admin\"\n",
    "*  4:  \"college/grad student\"\n",
    "*  5:  \"customer service\"\n",
    "*  6:  \"doctor/health care\"\n",
    "*  7:  \"executive/managerial\"\n",
    "*  8:  \"farmer\"\n",
    "*  9:  \"homemaker\"\n",
    "* 10:  \"K-12 student\"\n",
    "* 11:  \"lawyer\"\n",
    "* 12:  \"programmer\"\n",
    "* 13:  \"retired\"\n",
    "* 14:  \"sales/marketing\"\n",
    "* 15:  \"scientist\"\n",
    "* 16:  \"self-employed\"\n",
    "* 17:  \"technician/engineer\"\n",
    "* 18:  \"tradesman/craftsman\"\n",
    "* 19:  \"unemployed\"\n",
    "* 20:  \"writer\""
   ]
  },
  {
   "cell_type": "code",
   "execution_count": 28,
   "id": "023a5894",
   "metadata": {
    "execution": {
     "iopub.execute_input": "2025-05-25T09:47:04.205278Z",
     "iopub.status.busy": "2025-05-25T09:47:04.204811Z",
     "iopub.status.idle": "2025-05-25T09:47:04.223699Z",
     "shell.execute_reply": "2025-05-25T09:47:04.222720Z"
    },
    "papermill": {
     "duration": 0.037003,
     "end_time": "2025-05-25T09:47:04.224786",
     "exception": false,
     "start_time": "2025-05-25T09:47:04.187783",
     "status": "completed"
    },
    "tags": []
   },
   "outputs": [
    {
     "name": "stdout",
     "output_type": "stream",
     "text": [
      "\n",
      "Occupation Proportions (%):\n",
      " Occupation\n",
      "4     12.750919\n",
      "0     11.923947\n",
      "7     11.301951\n",
      "1      8.630195\n",
      "17     8.616059\n",
      "12     6.516822\n",
      "14     4.891151\n",
      "20     4.580153\n",
      "2      4.283291\n",
      "6      3.845066\n",
      "16     3.830930\n",
      "10     3.102912\n",
      "3      2.876732\n",
      "13     2.431439\n",
      "15     2.254736\n",
      "5      2.007351\n",
      "11     1.865988\n",
      "9      1.653944\n",
      "19     1.208651\n",
      "18     1.109697\n",
      "8      0.318066\n",
      "Name: proportion, dtype: float64\n",
      "               Username  Gender  Age  Occupation\n",
      "0  CuriosityKilledShawn    Male   25          16\n",
      "1             ma-cortes  Female   56          15\n",
      "2               redkiwi  Female   35          12\n",
      "3              KUAlum26    Male   35           3\n",
      "4            au_law2001    Male   18           0\n"
     ]
    }
   ],
   "source": [
    "np.random.seed(42)\n",
    "\n",
    "user_df['Occupation'] = -1\n",
    "\n",
    "age_distribution = {\n",
    "    '<18': {10: 163, 0: 27, 19: 12, 1: 4, 2: 3, 4: 3, 17: 2, 14: 2, 7: 2, 8: 1, 13: 1, 12: 1, 11: 1}, \n",
    "    '18-56': {4: 756, 0: 651, 7: 638, 17: 478, 1: 469, 12: 380, 14: 285, 20: 270, 2: 252, 16: 217, 6: 215, 3: 161, 15: 137, 11: 122, 5: 111, 9: 88, 18: 67, 19: 58, 13: 39, 10: 31, 8: 13}, \n",
    "    '>56': {13: 102, 1: 55, 7: 39, 0: 33, 16: 24, 17: 22, 6: 21, 14: 15, 3: 12, 2: 12, 20: 11, 12: 7, 15: 7, 11: 6, 9: 4, 18: 3, 8: 3, 19: 2, 5: 1, 10: 1}\n",
    "}\n",
    "\n",
    "\n",
    "\n",
    "\n",
    "\n",
    "under18_probs = np.array(list(age_distribution[\"<18\"].values()))\n",
    "under18_probs = under18_probs / under18_probs.sum()\n",
    "\n",
    "over56_probs = np.array(list(age_distribution[\">56\"].values()))\n",
    "over56_probs = over56_probs / over56_probs.sum()\n",
    "\n",
    "age18_56_probs = np.array(list(age_distribution[\"18-56\"].values()))\n",
    "age18_56_probs = age18_56_probs / age18_56_probs.sum()\n",
    "\n",
    "\n",
    "\n",
    "# <18\n",
    "age_under18_idx = user_df[user_df['Age'] == 1].index\n",
    "under18_choices = list(age_distribution[\"<18\"].keys())\n",
    "user_df.loc[age_under18_idx, 'Occupation'] = np.random.choice(\n",
    "    under18_choices, size=len(age_under18_idx), p=under18_probs\n",
    ")\n",
    "\n",
    "\n",
    "\n",
    "\n",
    "# 56+\n",
    "age_over56_idx = user_df[user_df['Age'] == 56].index\n",
    "over56_choices = list(age_distribution[\">56\"].keys())\n",
    "user_df.loc[age_over56_idx, 'Occupation'] = np.random.choice(\n",
    "    over56_choices, size=len(age_over56_idx), p=over56_probs\n",
    ")\n",
    "\n",
    "\n",
    "\n",
    "#18-56\n",
    "age_18_56_idx = user_df[user_df['Age'].isin([18, 25, 35, 45, 50])].index\n",
    "age18_56_choices = list(age_distribution[\"18-56\"].keys())\n",
    "user_df.loc[age_18_56_idx, 'Occupation'] = np.random.choice(\n",
    "    age18_56_choices, size=len(age_18_56_idx), p=age18_56_probs\n",
    ")\n",
    "\n",
    "# Calculate occupation proportions\n",
    "occupation_proportions = user_df['Occupation'].value_counts(normalize=True) * 100\n",
    "print(\"\\nOccupation Proportions (%):\\n\", occupation_proportions)\n",
    "print(user_df.head())"
   ]
  },
  {
   "cell_type": "code",
   "execution_count": 29,
   "id": "95f1c5ce",
   "metadata": {
    "execution": {
     "iopub.execute_input": "2025-05-25T09:47:04.258687Z",
     "iopub.status.busy": "2025-05-25T09:47:04.258135Z",
     "iopub.status.idle": "2025-05-25T09:47:04.424956Z",
     "shell.execute_reply": "2025-05-25T09:47:04.424276Z"
    },
    "papermill": {
     "duration": 0.184847,
     "end_time": "2025-05-25T09:47:04.426057",
     "exception": false,
     "start_time": "2025-05-25T09:47:04.241210",
     "status": "completed"
    },
    "tags": []
   },
   "outputs": [
    {
     "name": "stdout",
     "output_type": "stream",
     "text": [
      "test index:  0\n",
      "numuser:  14148\n",
      "Example for briner8397:  [14143, 14149, 14152, 14158]\n"
     ]
    }
   ],
   "source": [
    "user_index_by_username = {username: idx for idx, username in enumerate(list_usernames)}\n",
    "print(\"test index: \", user_index_by_username['CuriosityKilledShawn'])\n",
    "gender_index_by_name = {\"Female\":0, \"Male\": 1}\n",
    "age_index_by_name = {1: 0, 18: 1, 25: 2, 35:3, 45: 4, 50: 5, 56:6}\n",
    "occupations = list(range(21))\n",
    "occupation_index_by_name = {name: index for index, name in enumerate(occupations)}\n",
    "\n",
    "num_users = len(list_usernames)\n",
    "print(\"numuser: \",num_users)\n",
    "gender_offset = num_users\n",
    "age_offset = gender_offset + len(gender_index_by_name)\n",
    "occupation_offset = age_offset + len(age_index_by_name)\n",
    "\n",
    "user_features = []\n",
    "\n",
    "for index in range(num_users):\n",
    "    gender_index = gender_index_by_name[user_df[\"Gender\"][index]] + gender_offset\n",
    "    age_index = age_index_by_name[user_df[\"Age\"][index]] + age_offset\n",
    "    occupation_index = user_df[\"Occupation\"][index] + occupation_offset\n",
    "    user_features.append([index, gender_index, age_index, occupation_index])\n",
    "\n",
    "\n",
    "print(\"Example for briner8397: \", user_features[user_index_by_username[\"briner8397\"]])"
   ]
  },
  {
   "cell_type": "markdown",
   "id": "9dd8752c",
   "metadata": {
    "papermill": {
     "duration": 0.016804,
     "end_time": "2025-05-25T09:47:04.460003",
     "exception": false,
     "start_time": "2025-05-25T09:47:04.443199",
     "status": "completed"
    },
    "tags": []
   },
   "source": [
    "### 2.3.2 Movies"
   ]
  },
  {
   "cell_type": "code",
   "execution_count": 30,
   "id": "2fd56d7f",
   "metadata": {
    "execution": {
     "iopub.execute_input": "2025-05-25T09:47:04.494007Z",
     "iopub.status.busy": "2025-05-25T09:47:04.493510Z",
     "iopub.status.idle": "2025-05-25T09:47:04.497886Z",
     "shell.execute_reply": "2025-05-25T09:47:04.497366Z"
    },
    "papermill": {
     "duration": 0.02257,
     "end_time": "2025-05-25T09:47:04.498939",
     "exception": false,
     "start_time": "2025-05-25T09:47:04.476369",
     "status": "completed"
    },
    "tags": []
   },
   "outputs": [
    {
     "data": {
      "text/plain": [
       "Index(['ID', 'Title', 'Genres', 'Rating', 'Year', 'Numrate', 'Runtime',\n",
       "       'Image', 'Directors', 'Writers', 'Stars'],\n",
       "      dtype='object')"
      ]
     },
     "execution_count": 30,
     "metadata": {},
     "output_type": "execute_result"
    }
   ],
   "source": [
    "df_movies.columns"
   ]
  },
  {
   "cell_type": "markdown",
   "id": "65b941b5",
   "metadata": {
    "papermill": {
     "duration": 0.016312,
     "end_time": "2025-05-25T09:47:04.532880",
     "exception": false,
     "start_time": "2025-05-25T09:47:04.516568",
     "status": "completed"
    },
    "tags": []
   },
   "source": [
    "Drop unneeded columns"
   ]
  },
  {
   "cell_type": "code",
   "execution_count": 31,
   "id": "aa391b66",
   "metadata": {
    "execution": {
     "iopub.execute_input": "2025-05-25T09:47:04.567290Z",
     "iopub.status.busy": "2025-05-25T09:47:04.566783Z",
     "iopub.status.idle": "2025-05-25T09:47:04.576208Z",
     "shell.execute_reply": "2025-05-25T09:47:04.575525Z"
    },
    "papermill": {
     "duration": 0.027956,
     "end_time": "2025-05-25T09:47:04.577367",
     "exception": false,
     "start_time": "2025-05-25T09:47:04.549411",
     "status": "completed"
    },
    "tags": []
   },
   "outputs": [
    {
     "data": {
      "text/html": [
       "<div>\n",
       "<style scoped>\n",
       "    .dataframe tbody tr th:only-of-type {\n",
       "        vertical-align: middle;\n",
       "    }\n",
       "\n",
       "    .dataframe tbody tr th {\n",
       "        vertical-align: top;\n",
       "    }\n",
       "\n",
       "    .dataframe thead th {\n",
       "        text-align: right;\n",
       "    }\n",
       "</style>\n",
       "<table border=\"1\" class=\"dataframe\">\n",
       "  <thead>\n",
       "    <tr style=\"text-align: right;\">\n",
       "      <th></th>\n",
       "      <th>ID</th>\n",
       "      <th>Genres</th>\n",
       "      <th>Year</th>\n",
       "      <th>Runtime</th>\n",
       "      <th>Directors</th>\n",
       "      <th>Writers</th>\n",
       "      <th>Stars</th>\n",
       "    </tr>\n",
       "  </thead>\n",
       "  <tbody>\n",
       "    <tr>\n",
       "      <th>0</th>\n",
       "      <td>tt0283530</td>\n",
       "      <td>Drama</td>\n",
       "      <td>2002</td>\n",
       "      <td>109</td>\n",
       "      <td>Michael Hoffman</td>\n",
       "      <td>Ethan Canin, Neil Tolkin</td>\n",
       "      <td>Kevin Kline, Emile Hirsch, Joel Gretsch</td>\n",
       "    </tr>\n",
       "  </tbody>\n",
       "</table>\n",
       "</div>"
      ],
      "text/plain": [
       "          ID Genres  Year  Runtime        Directors                   Writers  \\\n",
       "0  tt0283530  Drama  2002      109  Michael Hoffman  Ethan Canin, Neil Tolkin   \n",
       "\n",
       "                                     Stars  \n",
       "0  Kevin Kline, Emile Hirsch, Joel Gretsch  "
      ]
     },
     "execution_count": 31,
     "metadata": {},
     "output_type": "execute_result"
    }
   ],
   "source": [
    "df_movies = df_movies.drop(['Title', 'Rating', 'Image', 'Numrate'], axis = 1)\n",
    "df_movies.head(1)"
   ]
  },
  {
   "cell_type": "code",
   "execution_count": 32,
   "id": "92a01e17",
   "metadata": {
    "execution": {
     "iopub.execute_input": "2025-05-25T09:47:04.612109Z",
     "iopub.status.busy": "2025-05-25T09:47:04.611700Z",
     "iopub.status.idle": "2025-05-25T09:47:04.617137Z",
     "shell.execute_reply": "2025-05-25T09:47:04.616342Z"
    },
    "papermill": {
     "duration": 0.023883,
     "end_time": "2025-05-25T09:47:04.618263",
     "exception": false,
     "start_time": "2025-05-25T09:47:04.594380",
     "status": "completed"
    },
    "tags": []
   },
   "outputs": [
    {
     "name": "stdout",
     "output_type": "stream",
     "text": [
      "Ví dụ ánh xạ MovieID với index: 0\n"
     ]
    }
   ],
   "source": [
    "movie_index_by_id = {movie_id: idx for idx, movie_id in enumerate(df_movies['ID'])}\n",
    "\n",
    "print(\"Ví dụ ánh xạ MovieID với index:\", movie_index_by_id['tt0283530'])"
   ]
  },
  {
   "cell_type": "markdown",
   "id": "62278b60",
   "metadata": {
    "papermill": {
     "duration": 0.016358,
     "end_time": "2025-05-25T09:47:04.651372",
     "exception": false,
     "start_time": "2025-05-25T09:47:04.635014",
     "status": "completed"
    },
    "tags": []
   },
   "source": [
    "**Genres**"
   ]
  },
  {
   "cell_type": "markdown",
   "id": "b1ebb085",
   "metadata": {
    "papermill": {
     "duration": 0.016388,
     "end_time": "2025-05-25T09:47:04.684791",
     "exception": false,
     "start_time": "2025-05-25T09:47:04.668403",
     "status": "completed"
    },
    "tags": []
   },
   "source": [
    "Clean and Onehot encoding"
   ]
  },
  {
   "cell_type": "code",
   "execution_count": 33,
   "id": "187c8081",
   "metadata": {
    "execution": {
     "iopub.execute_input": "2025-05-25T09:47:04.720135Z",
     "iopub.status.busy": "2025-05-25T09:47:04.719471Z",
     "iopub.status.idle": "2025-05-25T09:47:04.738610Z",
     "shell.execute_reply": "2025-05-25T09:47:04.737993Z"
    },
    "papermill": {
     "duration": 0.037892,
     "end_time": "2025-05-25T09:47:04.739746",
     "exception": false,
     "start_time": "2025-05-25T09:47:04.701854",
     "status": "completed"
    },
    "tags": []
   },
   "outputs": [
    {
     "data": {
      "text/plain": [
       "0                                               [drama]\n",
       "1                              [drama, horror, mystery]\n",
       "2                                       [comedy, drama]\n",
       "3      [zombie horror, drama, horror, sci-fi, thriller]\n",
       "4                                    [biography, drama]\n",
       "                            ...                        \n",
       "95    [psychological thriller, road trip, drama, mys...\n",
       "96                   [slasher horror, horror, thriller]\n",
       "97    [coming-of-age, feel-good romance, comedy, dra...\n",
       "98                 [coming-of-age, period drama, drama]\n",
       "99                                    [comedy, romance]\n",
       "Name: Genres, Length: 100, dtype: object"
      ]
     },
     "execution_count": 33,
     "metadata": {},
     "output_type": "execute_result"
    }
   ],
   "source": [
    "df_movies['Genres'] = df_movies['Genres'].apply(lambda x: [g.strip().lower() for g in x.split(',')])\n",
    "df_movies['Genres'].head(100)"
   ]
  },
  {
   "cell_type": "code",
   "execution_count": 34,
   "id": "8ba38635",
   "metadata": {
    "execution": {
     "iopub.execute_input": "2025-05-25T09:47:04.775758Z",
     "iopub.status.busy": "2025-05-25T09:47:04.775004Z",
     "iopub.status.idle": "2025-05-25T09:47:04.788834Z",
     "shell.execute_reply": "2025-05-25T09:47:04.788294Z"
    },
    "papermill": {
     "duration": 0.032897,
     "end_time": "2025-05-25T09:47:04.789889",
     "exception": false,
     "start_time": "2025-05-25T09:47:04.756992",
     "status": "completed"
    },
    "tags": []
   },
   "outputs": [
    {
     "data": {
      "text/plain": [
       "183"
      ]
     },
     "execution_count": 34,
     "metadata": {},
     "output_type": "execute_result"
    }
   ],
   "source": [
    "genre_counter = Counter()\n",
    "for genre_list in df_movies['Genres']:\n",
    "    for genre in genre_list:\n",
    "        genre_counter[genre] += 1\n",
    "len(genre_counter)"
   ]
  },
  {
   "cell_type": "code",
   "execution_count": 35,
   "id": "9f3e9155",
   "metadata": {
    "execution": {
     "iopub.execute_input": "2025-05-25T09:47:04.824738Z",
     "iopub.status.busy": "2025-05-25T09:47:04.824531Z",
     "iopub.status.idle": "2025-05-25T09:47:04.828056Z",
     "shell.execute_reply": "2025-05-25T09:47:04.827402Z"
    },
    "papermill": {
     "duration": 0.022235,
     "end_time": "2025-05-25T09:47:04.829118",
     "exception": false,
     "start_time": "2025-05-25T09:47:04.806883",
     "status": "completed"
    },
    "tags": []
   },
   "outputs": [],
   "source": [
    "rare_genres = {genre for genre, count in genre_counter.items() if count < 20}\n",
    "# print(\"Thể loại hiếm:\", rare_genres)"
   ]
  },
  {
   "cell_type": "code",
   "execution_count": 36,
   "id": "fd533c78",
   "metadata": {
    "execution": {
     "iopub.execute_input": "2025-05-25T09:47:04.863683Z",
     "iopub.status.busy": "2025-05-25T09:47:04.863243Z",
     "iopub.status.idle": "2025-05-25T09:47:04.879407Z",
     "shell.execute_reply": "2025-05-25T09:47:04.878479Z"
    },
    "papermill": {
     "duration": 0.034607,
     "end_time": "2025-05-25T09:47:04.880554",
     "exception": false,
     "start_time": "2025-05-25T09:47:04.845947",
     "status": "completed"
    },
    "tags": []
   },
   "outputs": [
    {
     "name": "stdout",
     "output_type": "stream",
     "text": [
      "0                                              [drama]\n",
      "1                             [drama, horror, mystery]\n",
      "2                                      [comedy, drama]\n",
      "3     [drama, horror, sci-fi, thriller, zombie horror]\n",
      "4                                   [biography, drama]\n",
      "5                                   [action, thriller]\n",
      "6    [crime, dark comedy, horror, psychological thr...\n",
      "7    [adventure, comedy, family, fantasy, road trip...\n",
      "8                   [comedy, romance, romantic comedy]\n",
      "9                                       [drama, music]\n",
      "Name: Genres, dtype: object\n"
     ]
    }
   ],
   "source": [
    "def replace_rare_genres(genre_list):\n",
    "    new_list = []\n",
    "    for genre in genre_list:\n",
    "        if genre in rare_genres: \n",
    "            new_list.append('other')\n",
    "        else:\n",
    "            new_list.append(genre)\n",
    "    return sorted(set(new_list))  # Loại bỏ trùng lặp và sắp xếp lại\n",
    "\n",
    "df_movies['Genres'] = df_movies['Genres'].apply(replace_rare_genres)\n",
    "print(df_movies['Genres'].head(10))"
   ]
  },
  {
   "cell_type": "code",
   "execution_count": 37,
   "id": "bbd2df1e",
   "metadata": {
    "execution": {
     "iopub.execute_input": "2025-05-25T09:47:04.915551Z",
     "iopub.status.busy": "2025-05-25T09:47:04.914982Z",
     "iopub.status.idle": "2025-05-25T09:47:04.920830Z",
     "shell.execute_reply": "2025-05-25T09:47:04.920274Z"
    },
    "papermill": {
     "duration": 0.024288,
     "end_time": "2025-05-25T09:47:04.921879",
     "exception": false,
     "start_time": "2025-05-25T09:47:04.897591",
     "status": "completed"
    },
    "tags": []
   },
   "outputs": [],
   "source": [
    "# Danh sách tất cả các thể loại duy nhất (bao gồm cả 'other')\n",
    "all_genres = set()\n",
    "for genre_list in df_movies['Genres']:\n",
    "    all_genres.update(genre_list)\n",
    "\n",
    "# Sắp xếp và tạo ra chỉ số cho từng thể loại\n",
    "genre_index_by_name = {genre: idx for idx, genre in enumerate(sorted(all_genres))}\n",
    "\n",
    "# In ra genre_index_by_name để kiểm tra\n",
    "# print(\"Genre Index Mapping:\", genre_index_by_name)"
   ]
  },
  {
   "cell_type": "markdown",
   "id": "dca5c96d",
   "metadata": {
    "papermill": {
     "duration": 0.016692,
     "end_time": "2025-05-25T09:47:04.955462",
     "exception": false,
     "start_time": "2025-05-25T09:47:04.938770",
     "status": "completed"
    },
    "tags": []
   },
   "source": [
    "**Year**"
   ]
  },
  {
   "cell_type": "code",
   "execution_count": 38,
   "id": "dce051ff",
   "metadata": {
    "execution": {
     "iopub.execute_input": "2025-05-25T09:47:04.990489Z",
     "iopub.status.busy": "2025-05-25T09:47:04.990029Z",
     "iopub.status.idle": "2025-05-25T09:47:05.005776Z",
     "shell.execute_reply": "2025-05-25T09:47:05.005080Z"
    },
    "papermill": {
     "duration": 0.034497,
     "end_time": "2025-05-25T09:47:05.006912",
     "exception": false,
     "start_time": "2025-05-25T09:47:04.972415",
     "status": "completed"
    },
    "tags": []
   },
   "outputs": [
    {
     "name": "stdout",
     "output_type": "stream",
     "text": [
      "          ID  Year  Year_Group\n",
      "0  tt0283530  2002        2000\n",
      "1  tt6859762  2018        2015\n",
      "2  tt1196204  2010        2010\n",
      "3  tt3463106  2017        2015\n",
      "4  tt1023490  2008        2005\n",
      "5  tt1547234  2012        2010\n",
      "6  tt0804516  2007        2005\n",
      "7  tt0131704  2000        2000\n",
      "8  tt0261289  2002        2000\n",
      "9  tt0365957  2004        2000\n"
     ]
    },
    {
     "data": {
      "text/html": [
       "<div>\n",
       "<style scoped>\n",
       "    .dataframe tbody tr th:only-of-type {\n",
       "        vertical-align: middle;\n",
       "    }\n",
       "\n",
       "    .dataframe tbody tr th {\n",
       "        vertical-align: top;\n",
       "    }\n",
       "\n",
       "    .dataframe thead th {\n",
       "        text-align: right;\n",
       "    }\n",
       "</style>\n",
       "<table border=\"1\" class=\"dataframe\">\n",
       "  <thead>\n",
       "    <tr style=\"text-align: right;\">\n",
       "      <th></th>\n",
       "      <th>ID</th>\n",
       "      <th>Genres</th>\n",
       "      <th>Runtime</th>\n",
       "      <th>Directors</th>\n",
       "      <th>Writers</th>\n",
       "      <th>Stars</th>\n",
       "      <th>Year_Group</th>\n",
       "    </tr>\n",
       "  </thead>\n",
       "  <tbody>\n",
       "    <tr>\n",
       "      <th>0</th>\n",
       "      <td>tt0283530</td>\n",
       "      <td>[drama]</td>\n",
       "      <td>109</td>\n",
       "      <td>Michael Hoffman</td>\n",
       "      <td>Ethan Canin, Neil Tolkin</td>\n",
       "      <td>Kevin Kline, Emile Hirsch, Joel Gretsch</td>\n",
       "      <td>2000</td>\n",
       "    </tr>\n",
       "  </tbody>\n",
       "</table>\n",
       "</div>"
      ],
      "text/plain": [
       "          ID   Genres  Runtime        Directors                   Writers  \\\n",
       "0  tt0283530  [drama]      109  Michael Hoffman  Ethan Canin, Neil Tolkin   \n",
       "\n",
       "                                     Stars  Year_Group  \n",
       "0  Kevin Kline, Emile Hirsch, Joel Gretsch        2000  "
      ]
     },
     "execution_count": 38,
     "metadata": {},
     "output_type": "execute_result"
    }
   ],
   "source": [
    "def group_years(year):\n",
    "    return (year // 5) * 5\n",
    "\n",
    "df_movies['Year_Group'] = df_movies['Year'].apply(group_years)\n",
    "\n",
    "print(df_movies[['ID', 'Year', 'Year_Group']].head(10))\n",
    "df_movies.drop(['Year'], axis = 1, inplace = True)\n",
    "df_movies.head(1)"
   ]
  },
  {
   "cell_type": "code",
   "execution_count": 39,
   "id": "2bd57060",
   "metadata": {
    "execution": {
     "iopub.execute_input": "2025-05-25T09:47:05.041966Z",
     "iopub.status.busy": "2025-05-25T09:47:05.041529Z",
     "iopub.status.idle": "2025-05-25T09:47:05.046039Z",
     "shell.execute_reply": "2025-05-25T09:47:05.045353Z"
    },
    "papermill": {
     "duration": 0.023283,
     "end_time": "2025-05-25T09:47:05.047179",
     "exception": false,
     "start_time": "2025-05-25T09:47:05.023896",
     "status": "completed"
    },
    "tags": []
   },
   "outputs": [
    {
     "name": "stdout",
     "output_type": "stream",
     "text": [
      "Year Group Index Mapping: {2000: 0, 2005: 1, 2010: 2, 2015: 3, 2020: 4}\n"
     ]
    }
   ],
   "source": [
    "# Lấy tất cả các nhóm năm (Year_Group) duy nhất\n",
    "year_groups = df_movies['Year_Group'].unique()\n",
    "\n",
    "# Tạo từ điển ánh xạ từ nhóm năm sang chỉ số\n",
    "year_index_by_group = {year_group: idx for idx, year_group in enumerate(sorted(year_groups))}\n",
    "\n",
    "# In ra year_index_by_group để kiểm tra\n",
    "print(\"Year Group Index Mapping:\", year_index_by_group)"
   ]
  },
  {
   "cell_type": "markdown",
   "id": "615397a8",
   "metadata": {
    "papermill": {
     "duration": 0.016703,
     "end_time": "2025-05-25T09:47:05.080829",
     "exception": false,
     "start_time": "2025-05-25T09:47:05.064126",
     "status": "completed"
    },
    "tags": []
   },
   "source": [
    "**Runtime**"
   ]
  },
  {
   "cell_type": "code",
   "execution_count": 40,
   "id": "081b3c3a",
   "metadata": {
    "execution": {
     "iopub.execute_input": "2025-05-25T09:47:05.115650Z",
     "iopub.status.busy": "2025-05-25T09:47:05.115416Z",
     "iopub.status.idle": "2025-05-25T09:47:05.389691Z",
     "shell.execute_reply": "2025-05-25T09:47:05.388999Z"
    },
    "papermill": {
     "duration": 0.293303,
     "end_time": "2025-05-25T09:47:05.390984",
     "exception": false,
     "start_time": "2025-05-25T09:47:05.097681",
     "status": "completed"
    },
    "tags": []
   },
   "outputs": [
    {
     "name": "stderr",
     "output_type": "stream",
     "text": [
      "/usr/local/lib/python3.11/dist-packages/seaborn/_oldcore.py:1119: FutureWarning: use_inf_as_na option is deprecated and will be removed in a future version. Convert inf values to NaN before operating instead.\n",
      "  with pd.option_context('mode.use_inf_as_na', True):\n"
     ]
    },
    {
     "data": {
      "image/png": "[encoded data removed]",
      "text/plain": [
       "<Figure size 1000x600 with 1 Axes>"
      ]
     },
     "metadata": {},
     "output_type": "display_data"
    }
   ],
   "source": [
    "plt.figure(figsize=(10, 6))\n",
    "sns.histplot(data=df_movies, x='Runtime', bins=30, kde=True, color='salmon')\n",
    "plt.title('Phân phối thời lượng phim')\n",
    "plt.xlabel('Thời lượng (phút)')\n",
    "plt.ylabel('Số lượng phim')\n",
    "plt.grid(True)\n",
    "plt.show()"
   ]
  },
  {
   "cell_type": "code",
   "execution_count": 41,
   "id": "8826d806",
   "metadata": {
    "execution": {
     "iopub.execute_input": "2025-05-25T09:47:05.429133Z",
     "iopub.status.busy": "2025-05-25T09:47:05.428640Z",
     "iopub.status.idle": "2025-05-25T09:47:05.435867Z",
     "shell.execute_reply": "2025-05-25T09:47:05.435343Z"
    },
    "papermill": {
     "duration": 0.026918,
     "end_time": "2025-05-25T09:47:05.436847",
     "exception": false,
     "start_time": "2025-05-25T09:47:05.409929",
     "status": "completed"
    },
    "tags": []
   },
   "outputs": [
    {
     "data": {
      "text/plain": [
       "count    6675.000000\n",
       "mean      107.705768\n",
       "std        19.327470\n",
       "min        47.000000\n",
       "25%        94.000000\n",
       "50%       104.000000\n",
       "75%       117.000000\n",
       "max       467.000000\n",
       "Name: Runtime, dtype: float64"
      ]
     },
     "execution_count": 41,
     "metadata": {},
     "output_type": "execute_result"
    }
   ],
   "source": [
    "df_movies['Runtime'].describe()"
   ]
  },
  {
   "cell_type": "code",
   "execution_count": 42,
   "id": "e7d750ff",
   "metadata": {
    "execution": {
     "iopub.execute_input": "2025-05-25T09:47:05.473182Z",
     "iopub.status.busy": "2025-05-25T09:47:05.472996Z",
     "iopub.status.idle": "2025-05-25T09:47:05.485018Z",
     "shell.execute_reply": "2025-05-25T09:47:05.484345Z"
    },
    "papermill": {
     "duration": 0.031423,
     "end_time": "2025-05-25T09:47:05.486142",
     "exception": false,
     "start_time": "2025-05-25T09:47:05.454719",
     "status": "completed"
    },
    "tags": []
   },
   "outputs": [
    {
     "data": {
      "text/html": [
       "<div>\n",
       "<style scoped>\n",
       "    .dataframe tbody tr th:only-of-type {\n",
       "        vertical-align: middle;\n",
       "    }\n",
       "\n",
       "    .dataframe tbody tr th {\n",
       "        vertical-align: top;\n",
       "    }\n",
       "\n",
       "    .dataframe thead th {\n",
       "        text-align: right;\n",
       "    }\n",
       "</style>\n",
       "<table border=\"1\" class=\"dataframe\">\n",
       "  <thead>\n",
       "    <tr style=\"text-align: right;\">\n",
       "      <th></th>\n",
       "      <th>ID</th>\n",
       "      <th>Genres</th>\n",
       "      <th>Directors</th>\n",
       "      <th>Writers</th>\n",
       "      <th>Stars</th>\n",
       "      <th>Year_Group</th>\n",
       "      <th>Runtime_group</th>\n",
       "    </tr>\n",
       "  </thead>\n",
       "  <tbody>\n",
       "    <tr>\n",
       "      <th>0</th>\n",
       "      <td>tt0283530</td>\n",
       "      <td>[drama]</td>\n",
       "      <td>Michael Hoffman</td>\n",
       "      <td>Ethan Canin, Neil Tolkin</td>\n",
       "      <td>Kevin Kline, Emile Hirsch, Joel Gretsch</td>\n",
       "      <td>2000</td>\n",
       "      <td>Standard</td>\n",
       "    </tr>\n",
       "    <tr>\n",
       "      <th>1</th>\n",
       "      <td>tt6859762</td>\n",
       "      <td>[drama, horror, mystery]</td>\n",
       "      <td>Lenny Abrahamson</td>\n",
       "      <td>Lucinda Coxon, Sarah Waters</td>\n",
       "      <td>Domhnall Gleeson, Will Poulter, Ruth Wilson</td>\n",
       "      <td>2015</td>\n",
       "      <td>Standard</td>\n",
       "    </tr>\n",
       "  </tbody>\n",
       "</table>\n",
       "</div>"
      ],
      "text/plain": [
       "          ID                    Genres         Directors  \\\n",
       "0  tt0283530                   [drama]   Michael Hoffman   \n",
       "1  tt6859762  [drama, horror, mystery]  Lenny Abrahamson   \n",
       "\n",
       "                       Writers                                        Stars  \\\n",
       "0     Ethan Canin, Neil Tolkin      Kevin Kline, Emile Hirsch, Joel Gretsch   \n",
       "1  Lucinda Coxon, Sarah Waters  Domhnall Gleeson, Will Poulter, Ruth Wilson   \n",
       "\n",
       "   Year_Group Runtime_group  \n",
       "0        2000      Standard  \n",
       "1        2015      Standard  "
      ]
     },
     "execution_count": 42,
     "metadata": {},
     "output_type": "execute_result"
    }
   ],
   "source": [
    "def group_runtime(runtime):\n",
    "    if runtime < 60:\n",
    "        return 'Very_Short'\n",
    "    elif runtime < 90:\n",
    "        return 'Short'\n",
    "    elif runtime < 120:\n",
    "        return 'Standard'\n",
    "    elif runtime < 150:\n",
    "        return 'Long'\n",
    "    else:\n",
    "        return 'Very_Long'\n",
    "\n",
    "df_movies['Runtime_group'] = df_movies['Runtime'].apply(group_runtime)\n",
    "df_movies.drop(['Runtime'], axis=1, inplace=True)\n",
    "df_movies.head(2)"
   ]
  },
  {
   "cell_type": "code",
   "execution_count": 43,
   "id": "a18a6d36",
   "metadata": {
    "execution": {
     "iopub.execute_input": "2025-05-25T09:47:05.523751Z",
     "iopub.status.busy": "2025-05-25T09:47:05.523259Z",
     "iopub.status.idle": "2025-05-25T09:47:05.527806Z",
     "shell.execute_reply": "2025-05-25T09:47:05.527129Z"
    },
    "papermill": {
     "duration": 0.024877,
     "end_time": "2025-05-25T09:47:05.528847",
     "exception": false,
     "start_time": "2025-05-25T09:47:05.503970",
     "status": "completed"
    },
    "tags": []
   },
   "outputs": [
    {
     "name": "stdout",
     "output_type": "stream",
     "text": [
      "Runtime Group Index Mapping: {'Long': 0, 'Short': 1, 'Standard': 2, 'Very_Long': 3, 'Very_Short': 4}\n"
     ]
    }
   ],
   "source": [
    "# Lấy tất cả các nhóm thời gian (Runtime_group) duy nhất\n",
    "runtime_groups = df_movies['Runtime_group'].unique()\n",
    "\n",
    "# Tạo từ điển ánh xạ từ nhóm thời gian sang chỉ số\n",
    "runtime_index_by_group = {runtime_group: idx for idx, runtime_group in enumerate(sorted(runtime_groups))}\n",
    "\n",
    "# In ra runtime_index_by_group để kiểm tra\n",
    "print(\"Runtime Group Index Mapping:\", runtime_index_by_group)"
   ]
  },
  {
   "cell_type": "markdown",
   "id": "5643ac4c",
   "metadata": {
    "papermill": {
     "duration": 0.017551,
     "end_time": "2025-05-25T09:47:05.564115",
     "exception": false,
     "start_time": "2025-05-25T09:47:05.546564",
     "status": "completed"
    },
    "tags": []
   },
   "source": [
    "**Directors**"
   ]
  },
  {
   "cell_type": "code",
   "execution_count": 44,
   "id": "7b375ecb",
   "metadata": {
    "execution": {
     "iopub.execute_input": "2025-05-25T09:47:05.600612Z",
     "iopub.status.busy": "2025-05-25T09:47:05.600031Z",
     "iopub.status.idle": "2025-05-25T09:47:05.611605Z",
     "shell.execute_reply": "2025-05-25T09:47:05.611010Z"
    },
    "papermill": {
     "duration": 0.030918,
     "end_time": "2025-05-25T09:47:05.612712",
     "exception": false,
     "start_time": "2025-05-25T09:47:05.581794",
     "status": "completed"
    },
    "tags": []
   },
   "outputs": [
    {
     "data": {
      "text/plain": [
       "0                    [michael hoffman]\n",
       "1                   [lenny abrahamson]\n",
       "2    [ricky gervais, stephen merchant]\n",
       "3                       [david freyne]\n",
       "4                   [paolo sorrentino]\n",
       "Name: Directors, dtype: object"
      ]
     },
     "execution_count": 44,
     "metadata": {},
     "output_type": "execute_result"
    }
   ],
   "source": [
    "df_movies['Directors'] = df_movies['Directors'].apply(lambda x: [g.strip().lower() for g in x.split(',')])\n",
    "df_movies['Directors'].head(5)"
   ]
  },
  {
   "cell_type": "code",
   "execution_count": 45,
   "id": "53146fa8",
   "metadata": {
    "execution": {
     "iopub.execute_input": "2025-05-25T09:47:05.650241Z",
     "iopub.status.busy": "2025-05-25T09:47:05.649749Z",
     "iopub.status.idle": "2025-05-25T09:47:05.658175Z",
     "shell.execute_reply": "2025-05-25T09:47:05.657641Z"
    },
    "papermill": {
     "duration": 0.028309,
     "end_time": "2025-05-25T09:47:05.659118",
     "exception": false,
     "start_time": "2025-05-25T09:47:05.630809",
     "status": "completed"
    },
    "tags": []
   },
   "outputs": [
    {
     "data": {
      "text/plain": [
       "3739"
      ]
     },
     "execution_count": 45,
     "metadata": {},
     "output_type": "execute_result"
    }
   ],
   "source": [
    "director_counter = Counter()\n",
    "for director_list in df_movies['Directors']:\n",
    "    for genre in director_list:\n",
    "        director_counter[genre] += 1\n",
    "len(director_counter)"
   ]
  },
  {
   "cell_type": "code",
   "execution_count": 46,
   "id": "3c7b7e80",
   "metadata": {
    "execution": {
     "iopub.execute_input": "2025-05-25T09:47:05.696684Z",
     "iopub.status.busy": "2025-05-25T09:47:05.696198Z",
     "iopub.status.idle": "2025-05-25T09:47:05.700581Z",
     "shell.execute_reply": "2025-05-25T09:47:05.699891Z"
    },
    "papermill": {
     "duration": 0.024606,
     "end_time": "2025-05-25T09:47:05.701674",
     "exception": false,
     "start_time": "2025-05-25T09:47:05.677068",
     "status": "completed"
    },
    "tags": []
   },
   "outputs": [
    {
     "name": "stdout",
     "output_type": "stream",
     "text": [
      "Đạo diễn ít hơn 5 phim: 3439\n"
     ]
    }
   ],
   "source": [
    "rare_director = {genre for genre, count in director_counter.items() if count < 5}\n",
    "print(\"Đạo diễn ít hơn 5 phim:\", len(rare_director))"
   ]
  },
  {
   "cell_type": "code",
   "execution_count": 47,
   "id": "a5e23d22",
   "metadata": {
    "execution": {
     "iopub.execute_input": "2025-05-25T09:47:05.743819Z",
     "iopub.status.busy": "2025-05-25T09:47:05.743589Z",
     "iopub.status.idle": "2025-05-25T09:47:05.754777Z",
     "shell.execute_reply": "2025-05-25T09:47:05.753751Z"
    },
    "papermill": {
     "duration": 0.036874,
     "end_time": "2025-05-25T09:47:05.756448",
     "exception": false,
     "start_time": "2025-05-25T09:47:05.719574",
     "status": "completed"
    },
    "tags": []
   },
   "outputs": [
    {
     "name": "stdout",
     "output_type": "stream",
     "text": [
      "0               [other]\n",
      "1               [other]\n",
      "2               [other]\n",
      "3               [other]\n",
      "4    [paolo sorrentino]\n",
      "5         [david koepp]\n",
      "6               [other]\n",
      "7               [other]\n",
      "8               [other]\n",
      "9               [other]\n",
      "Name: Directors, dtype: object\n"
     ]
    }
   ],
   "source": [
    "def replace_rare_director(director_list):\n",
    "    new_list = []\n",
    "    for genre in director_list:\n",
    "        if genre in rare_director: \n",
    "            new_list.append('other')\n",
    "        else:\n",
    "            new_list.append(genre)\n",
    "    return sorted(set(new_list))  # Loại bỏ trùng lặp và sắp xếp lại\n",
    "\n",
    "df_movies['Directors'] = df_movies['Directors'].apply(replace_rare_director)\n",
    "print(df_movies['Directors'].head(10))"
   ]
  },
  {
   "cell_type": "code",
   "execution_count": 48,
   "id": "32dd1028",
   "metadata": {
    "execution": {
     "iopub.execute_input": "2025-05-25T09:47:05.817527Z",
     "iopub.status.busy": "2025-05-25T09:47:05.817247Z",
     "iopub.status.idle": "2025-05-25T09:47:05.822803Z",
     "shell.execute_reply": "2025-05-25T09:47:05.822236Z"
    },
    "papermill": {
     "duration": 0.034171,
     "end_time": "2025-05-25T09:47:05.823836",
     "exception": false,
     "start_time": "2025-05-25T09:47:05.789665",
     "status": "completed"
    },
    "tags": []
   },
   "outputs": [],
   "source": [
    "# Lấy tất cả các đạo diễn duy nhất\n",
    "directors = df_movies['Directors'].explode().unique()\n",
    "\n",
    "# Tạo từ điển ánh xạ đạo diễn thành chỉ số\n",
    "director_index_by_name = {director: idx for idx, director in enumerate(sorted(directors))}\n",
    "\n",
    "# In ra ánh xạ đạo diễn thành chỉ số\n",
    "# print(\"Director Index Mapping:\", director_index_by_name)\n"
   ]
  },
  {
   "cell_type": "markdown",
   "id": "2e6a8455",
   "metadata": {
    "papermill": {
     "duration": 0.018319,
     "end_time": "2025-05-25T09:47:05.860424",
     "exception": false,
     "start_time": "2025-05-25T09:47:05.842105",
     "status": "completed"
    },
    "tags": []
   },
   "source": [
    "writers"
   ]
  },
  {
   "cell_type": "code",
   "execution_count": 49,
   "id": "f8380daf",
   "metadata": {
    "execution": {
     "iopub.execute_input": "2025-05-25T09:47:05.898093Z",
     "iopub.status.busy": "2025-05-25T09:47:05.897812Z",
     "iopub.status.idle": "2025-05-25T09:47:05.911421Z",
     "shell.execute_reply": "2025-05-25T09:47:05.910715Z"
    },
    "papermill": {
     "duration": 0.033689,
     "end_time": "2025-05-25T09:47:05.912551",
     "exception": false,
     "start_time": "2025-05-25T09:47:05.878862",
     "status": "completed"
    },
    "tags": []
   },
   "outputs": [
    {
     "data": {
      "text/plain": [
       "0           [ethan canin, neil tolkin]\n",
       "1        [lucinda coxon, sarah waters]\n",
       "2    [ricky gervais, stephen merchant]\n",
       "3                       [david freyne]\n",
       "4                   [paolo sorrentino]\n",
       "Name: Writers, dtype: object"
      ]
     },
     "execution_count": 49,
     "metadata": {},
     "output_type": "execute_result"
    }
   ],
   "source": [
    "df_movies['Writers'] = df_movies['Writers'].apply(lambda x: [g.strip().lower() for g in x.split(',')])\n",
    "df_movies['Writers'].head(5)"
   ]
  },
  {
   "cell_type": "code",
   "execution_count": 50,
   "id": "8d43a751",
   "metadata": {
    "execution": {
     "iopub.execute_input": "2025-05-25T09:47:05.951208Z",
     "iopub.status.busy": "2025-05-25T09:47:05.950664Z",
     "iopub.status.idle": "2025-05-25T09:47:05.961007Z",
     "shell.execute_reply": "2025-05-25T09:47:05.960349Z"
    },
    "papermill": {
     "duration": 0.030896,
     "end_time": "2025-05-25T09:47:05.962039",
     "exception": false,
     "start_time": "2025-05-25T09:47:05.931143",
     "status": "completed"
    },
    "tags": []
   },
   "outputs": [
    {
     "data": {
      "text/plain": [
       "8124"
      ]
     },
     "execution_count": 50,
     "metadata": {},
     "output_type": "execute_result"
    }
   ],
   "source": [
    "writer_counter = Counter()\n",
    "for writer_list in df_movies['Writers']:\n",
    "    for genre in writer_list:\n",
    "        writer_counter[genre] += 1\n",
    "len(writer_counter)"
   ]
  },
  {
   "cell_type": "code",
   "execution_count": 51,
   "id": "b884d258",
   "metadata": {
    "execution": {
     "iopub.execute_input": "2025-05-25T09:47:05.999488Z",
     "iopub.status.busy": "2025-05-25T09:47:05.998972Z",
     "iopub.status.idle": "2025-05-25T09:47:06.003933Z",
     "shell.execute_reply": "2025-05-25T09:47:06.003226Z"
    },
    "papermill": {
     "duration": 0.024836,
     "end_time": "2025-05-25T09:47:06.004980",
     "exception": false,
     "start_time": "2025-05-25T09:47:05.980144",
     "status": "completed"
    },
    "tags": []
   },
   "outputs": [
    {
     "name": "stdout",
     "output_type": "stream",
     "text": [
      "Writers ít hơn 5 phim: 7724\n"
     ]
    }
   ],
   "source": [
    "rare_writer = {genre for genre, count in writer_counter.items() if count < 5}\n",
    "print(\"Writers ít hơn 5 phim:\", len(rare_writer))"
   ]
  },
  {
   "cell_type": "code",
   "execution_count": 52,
   "id": "0adf38d8",
   "metadata": {
    "execution": {
     "iopub.execute_input": "2025-05-25T09:47:06.041946Z",
     "iopub.status.busy": "2025-05-25T09:47:06.041742Z",
     "iopub.status.idle": "2025-05-25T09:47:06.054170Z",
     "shell.execute_reply": "2025-05-25T09:47:06.053587Z"
    },
    "papermill": {
     "duration": 0.032236,
     "end_time": "2025-05-25T09:47:06.055238",
     "exception": false,
     "start_time": "2025-05-25T09:47:06.023002",
     "status": "completed"
    },
    "tags": []
   },
   "outputs": [
    {
     "name": "stdout",
     "output_type": "stream",
     "text": [
      "0                      [other]\n",
      "1                      [other]\n",
      "2                      [other]\n",
      "3                      [other]\n",
      "4           [paolo sorrentino]\n",
      "5         [david koepp, other]\n",
      "6                      [other]\n",
      "7    [kenneth lonergan, other]\n",
      "8        [jay scherick, other]\n",
      "9                      [other]\n",
      "Name: Writers, dtype: object\n"
     ]
    }
   ],
   "source": [
    "def replace_rare_writer(writer_list):\n",
    "    new_list = []\n",
    "    for genre in writer_list:\n",
    "        if genre in rare_writer: \n",
    "            new_list.append('other')\n",
    "        else:\n",
    "            new_list.append(genre)\n",
    "    return sorted(set(new_list))  # Loại bỏ trùng lặp và sắp xếp lại\n",
    "\n",
    "df_movies['Writers'] = df_movies['Writers'].apply(replace_rare_writer)\n",
    "print(df_movies['Writers'].head(10))"
   ]
  },
  {
   "cell_type": "code",
   "execution_count": 53,
   "id": "c6b41918",
   "metadata": {
    "execution": {
     "iopub.execute_input": "2025-05-25T09:47:06.093103Z",
     "iopub.status.busy": "2025-05-25T09:47:06.092848Z",
     "iopub.status.idle": "2025-05-25T09:47:06.098178Z",
     "shell.execute_reply": "2025-05-25T09:47:06.097680Z"
    },
    "papermill": {
     "duration": 0.025395,
     "end_time": "2025-05-25T09:47:06.099147",
     "exception": false,
     "start_time": "2025-05-25T09:47:06.073752",
     "status": "completed"
    },
    "tags": []
   },
   "outputs": [],
   "source": [
    "writers = df_movies['Writers'].explode().unique()\n",
    "\n",
    "writer_index_by_name = {writer: idx for idx, writer in enumerate(sorted(writers))}\n",
    "\n",
    "# print(\"writer Index Mapping:\", writer_index_by_name)\n"
   ]
  },
  {
   "cell_type": "markdown",
   "id": "886b2d72",
   "metadata": {
    "papermill": {
     "duration": 0.017953,
     "end_time": "2025-05-25T09:47:06.135296",
     "exception": false,
     "start_time": "2025-05-25T09:47:06.117343",
     "status": "completed"
    },
    "tags": []
   },
   "source": [
    "Stars"
   ]
  },
  {
   "cell_type": "code",
   "execution_count": 54,
   "id": "cd62a604",
   "metadata": {
    "execution": {
     "iopub.execute_input": "2025-05-25T09:47:06.172412Z",
     "iopub.status.busy": "2025-05-25T09:47:06.172148Z",
     "iopub.status.idle": "2025-05-25T09:47:06.202884Z",
     "shell.execute_reply": "2025-05-25T09:47:06.201949Z"
    },
    "papermill": {
     "duration": 0.050486,
     "end_time": "2025-05-25T09:47:06.203894",
     "exception": false,
     "start_time": "2025-05-25T09:47:06.153408",
     "status": "completed"
    },
    "tags": []
   },
   "outputs": [
    {
     "name": "stdout",
     "output_type": "stream",
     "text": [
      "8070\n",
      "Stars ít hơn 10 phim: 7667\n",
      "0                             [emile hirsch, other]\n",
      "1                         [domhnall gleeson, other]\n",
      "2                           [felicity jones, other]\n",
      "3                              [elliot page, other]\n",
      "4                                           [other]\n",
      "5    [joseph gordon-levitt, michael shannon, other]\n",
      "6                                           [other]\n",
      "7             [other, piper perabo, robert de niro]\n",
      "8                                           [other]\n",
      "9                                           [other]\n",
      "Name: Stars, dtype: object\n"
     ]
    }
   ],
   "source": [
    "df_movies['Stars'] = df_movies['Stars'].apply(lambda x: [g.strip().lower() for g in x.split(',')])\n",
    "df_movies['Stars'].head(5)\n",
    "\n",
    "star_counter = Counter()\n",
    "for star_list in df_movies['Stars']:\n",
    "    for genre in star_list:\n",
    "        star_counter[genre] += 1\n",
    "print(len(star_counter))\n",
    "\n",
    "rare_star = {genre for genre, count in star_counter.items() if count < 10}\n",
    "print(\"Stars ít hơn 10 phim:\", len(rare_star))\n",
    "\n",
    "def replace_rare_star(star_list):\n",
    "    new_list = []\n",
    "    for genre in star_list:\n",
    "        if genre in rare_star: \n",
    "            new_list.append('other')\n",
    "        else:\n",
    "            new_list.append(genre)\n",
    "    return sorted(set(new_list))  # Loại bỏ trùng lặp và sắp xếp lại\n",
    "\n",
    "df_movies['Stars'] = df_movies['Stars'].apply(replace_rare_star)\n",
    "print(df_movies['Stars'].head(10))"
   ]
  },
  {
   "cell_type": "code",
   "execution_count": 55,
   "id": "c0f910d6",
   "metadata": {
    "execution": {
     "iopub.execute_input": "2025-05-25T09:47:06.241830Z",
     "iopub.status.busy": "2025-05-25T09:47:06.241116Z",
     "iopub.status.idle": "2025-05-25T09:47:06.246795Z",
     "shell.execute_reply": "2025-05-25T09:47:06.246280Z"
    },
    "papermill": {
     "duration": 0.025375,
     "end_time": "2025-05-25T09:47:06.247844",
     "exception": false,
     "start_time": "2025-05-25T09:47:06.222469",
     "status": "completed"
    },
    "tags": []
   },
   "outputs": [],
   "source": [
    "stars = df_movies['Stars'].explode().unique()\n",
    "star_index_by_name = {star: idx for idx, star in enumerate(sorted(stars))}\n",
    "# print(\"star Index Mapping:\", star_index_by_name)"
   ]
  },
  {
   "cell_type": "code",
   "execution_count": 56,
   "id": "9deadb81",
   "metadata": {
    "execution": {
     "iopub.execute_input": "2025-05-25T09:47:06.285366Z",
     "iopub.status.busy": "2025-05-25T09:47:06.284892Z",
     "iopub.status.idle": "2025-05-25T09:47:06.296300Z",
     "shell.execute_reply": "2025-05-25T09:47:06.295760Z"
    },
    "papermill": {
     "duration": 0.031164,
     "end_time": "2025-05-25T09:47:06.297370",
     "exception": false,
     "start_time": "2025-05-25T09:47:06.266206",
     "status": "completed"
    },
    "tags": []
   },
   "outputs": [
    {
     "data": {
      "text/html": [
       "<div>\n",
       "<style scoped>\n",
       "    .dataframe tbody tr th:only-of-type {\n",
       "        vertical-align: middle;\n",
       "    }\n",
       "\n",
       "    .dataframe tbody tr th {\n",
       "        vertical-align: top;\n",
       "    }\n",
       "\n",
       "    .dataframe thead th {\n",
       "        text-align: right;\n",
       "    }\n",
       "</style>\n",
       "<table border=\"1\" class=\"dataframe\">\n",
       "  <thead>\n",
       "    <tr style=\"text-align: right;\">\n",
       "      <th></th>\n",
       "      <th>ID</th>\n",
       "      <th>Genres</th>\n",
       "      <th>Directors</th>\n",
       "      <th>Writers</th>\n",
       "      <th>Stars</th>\n",
       "      <th>Year_Group</th>\n",
       "      <th>Runtime_group</th>\n",
       "    </tr>\n",
       "  </thead>\n",
       "  <tbody>\n",
       "    <tr>\n",
       "      <th>0</th>\n",
       "      <td>tt0283530</td>\n",
       "      <td>[drama]</td>\n",
       "      <td>[other]</td>\n",
       "      <td>[other]</td>\n",
       "      <td>[emile hirsch, other]</td>\n",
       "      <td>2000</td>\n",
       "      <td>Standard</td>\n",
       "    </tr>\n",
       "    <tr>\n",
       "      <th>1</th>\n",
       "      <td>tt6859762</td>\n",
       "      <td>[drama, horror, mystery]</td>\n",
       "      <td>[other]</td>\n",
       "      <td>[other]</td>\n",
       "      <td>[domhnall gleeson, other]</td>\n",
       "      <td>2015</td>\n",
       "      <td>Standard</td>\n",
       "    </tr>\n",
       "    <tr>\n",
       "      <th>2</th>\n",
       "      <td>tt1196204</td>\n",
       "      <td>[comedy, drama]</td>\n",
       "      <td>[other]</td>\n",
       "      <td>[other]</td>\n",
       "      <td>[felicity jones, other]</td>\n",
       "      <td>2010</td>\n",
       "      <td>Standard</td>\n",
       "    </tr>\n",
       "    <tr>\n",
       "      <th>3</th>\n",
       "      <td>tt3463106</td>\n",
       "      <td>[drama, horror, sci-fi, thriller, zombie horror]</td>\n",
       "      <td>[other]</td>\n",
       "      <td>[other]</td>\n",
       "      <td>[elliot page, other]</td>\n",
       "      <td>2015</td>\n",
       "      <td>Standard</td>\n",
       "    </tr>\n",
       "    <tr>\n",
       "      <th>4</th>\n",
       "      <td>tt1023490</td>\n",
       "      <td>[biography, drama]</td>\n",
       "      <td>[paolo sorrentino]</td>\n",
       "      <td>[paolo sorrentino]</td>\n",
       "      <td>[other]</td>\n",
       "      <td>2005</td>\n",
       "      <td>Standard</td>\n",
       "    </tr>\n",
       "  </tbody>\n",
       "</table>\n",
       "</div>"
      ],
      "text/plain": [
       "          ID                                            Genres  \\\n",
       "0  tt0283530                                           [drama]   \n",
       "1  tt6859762                          [drama, horror, mystery]   \n",
       "2  tt1196204                                   [comedy, drama]   \n",
       "3  tt3463106  [drama, horror, sci-fi, thriller, zombie horror]   \n",
       "4  tt1023490                                [biography, drama]   \n",
       "\n",
       "            Directors             Writers                      Stars  \\\n",
       "0             [other]             [other]      [emile hirsch, other]   \n",
       "1             [other]             [other]  [domhnall gleeson, other]   \n",
       "2             [other]             [other]    [felicity jones, other]   \n",
       "3             [other]             [other]       [elliot page, other]   \n",
       "4  [paolo sorrentino]  [paolo sorrentino]                    [other]   \n",
       "\n",
       "   Year_Group Runtime_group  \n",
       "0        2000      Standard  \n",
       "1        2015      Standard  \n",
       "2        2010      Standard  \n",
       "3        2015      Standard  \n",
       "4        2005      Standard  "
      ]
     },
     "execution_count": 56,
     "metadata": {},
     "output_type": "execute_result"
    }
   ],
   "source": [
    "df_movies.head()"
   ]
  },
  {
   "cell_type": "markdown",
   "id": "54ae0a84",
   "metadata": {
    "papermill": {
     "duration": 0.01829,
     "end_time": "2025-05-25T09:47:06.334526",
     "exception": false,
     "start_time": "2025-05-25T09:47:06.316236",
     "status": "completed"
    },
    "tags": []
   },
   "source": [
    "Tạo offset cho ánh xạ"
   ]
  },
  {
   "cell_type": "code",
   "execution_count": 57,
   "id": "6fa218ca",
   "metadata": {
    "execution": {
     "iopub.execute_input": "2025-05-25T09:47:06.373472Z",
     "iopub.status.busy": "2025-05-25T09:47:06.372962Z",
     "iopub.status.idle": "2025-05-25T09:47:06.376770Z",
     "shell.execute_reply": "2025-05-25T09:47:06.376237Z"
    },
    "papermill": {
     "duration": 0.02499,
     "end_time": "2025-05-25T09:47:06.377836",
     "exception": false,
     "start_time": "2025-05-25T09:47:06.352846",
     "status": "completed"
    },
    "tags": []
   },
   "outputs": [],
   "source": [
    "num_movies = len(df_movies)\n",
    "movie_offset = occupation_offset + len(occupation_index_by_name)\n",
    "\n",
    "\n",
    "genre_offset     = movie_offset + num_movies\n",
    "year_offset      = genre_offset + len(genre_index_by_name)\n",
    "runtime_offset   = year_offset + len(year_index_by_group)\n",
    "director_offset  = runtime_offset + len(runtime_index_by_group)\n",
    "writer_offset    = director_offset + len(director_index_by_name)\n",
    "star_offset      = writer_offset + len(writer_index_by_name)"
   ]
  },
  {
   "cell_type": "code",
   "execution_count": 58,
   "id": "00c8640f",
   "metadata": {
    "execution": {
     "iopub.execute_input": "2025-05-25T09:47:06.415488Z",
     "iopub.status.busy": "2025-05-25T09:47:06.415248Z",
     "iopub.status.idle": "2025-05-25T09:47:06.726993Z",
     "shell.execute_reply": "2025-05-25T09:47:06.726111Z"
    },
    "papermill": {
     "duration": 0.33193,
     "end_time": "2025-05-25T09:47:06.728298",
     "exception": false,
     "start_time": "2025-05-25T09:47:06.396368",
     "status": "completed"
    },
    "tags": []
   },
   "outputs": [
    {
     "name": "stdout",
     "output_type": "stream",
     "text": [
      "Example for the first movie: [14178, 20888, 20985, 20992, 21197, 21576, 21810, 21998]\n"
     ]
    }
   ],
   "source": [
    "movie_features = []\n",
    "\n",
    "for i, row in df_movies.iterrows():\n",
    "    features = []\n",
    "\n",
    "    # Movie ID (duy nhất cho mỗi movie)\n",
    "    features.append(movie_offset + i)\n",
    "\n",
    "    # Genres\n",
    "    for genre in row['Genres']:\n",
    "        features.append(genre_index_by_name[genre] + genre_offset)\n",
    "\n",
    "    # Year group\n",
    "    features.append(year_index_by_group[row['Year_Group']] + year_offset)\n",
    "\n",
    "    # Runtime group\n",
    "    features.append(runtime_index_by_group[row['Runtime_group']] + runtime_offset)\n",
    "\n",
    "    # Directors\n",
    "    for director in row['Directors']:\n",
    "        features.append(director_index_by_name[director] + director_offset)\n",
    "\n",
    "    # Writers\n",
    "    for writer in row['Writers']:\n",
    "        features.append(writer_index_by_name[writer] + writer_offset)\n",
    "\n",
    "    # Stars\n",
    "    for star in row['Stars']:\n",
    "        features.append(star_index_by_name[star] + star_offset)\n",
    "\n",
    "    movie_features.append(features)\n",
    "    \n",
    "print(\"Example for the first movie:\", movie_features[0])"
   ]
  },
  {
   "cell_type": "code",
   "execution_count": 59,
   "id": "c4e1071c",
   "metadata": {
    "execution": {
     "iopub.execute_input": "2025-05-25T09:47:06.769981Z",
     "iopub.status.busy": "2025-05-25T09:47:06.769422Z",
     "iopub.status.idle": "2025-05-25T09:47:06.773841Z",
     "shell.execute_reply": "2025-05-25T09:47:06.773197Z"
    },
    "papermill": {
     "duration": 0.025315,
     "end_time": "2025-05-25T09:47:06.774848",
     "exception": false,
     "start_time": "2025-05-25T09:47:06.749533",
     "status": "completed"
    },
    "tags": []
   },
   "outputs": [
    {
     "name": "stdout",
     "output_type": "stream",
     "text": [
      "total input: 22101\n"
     ]
    }
   ],
   "source": [
    "total_inputs = (\n",
    "    star_offset + len(star_index_by_name)\n",
    ")\n",
    "print(\"total input:\", total_inputs)\n"
   ]
  },
  {
   "cell_type": "markdown",
   "id": "21ebf2e0",
   "metadata": {
    "papermill": {
     "duration": 0.01875,
     "end_time": "2025-05-25T09:47:06.812735",
     "exception": false,
     "start_time": "2025-05-25T09:47:06.793985",
     "status": "completed"
    },
    "tags": []
   },
   "source": [
    "## 2.4 Data Preparation"
   ]
  },
  {
   "cell_type": "markdown",
   "id": "a7b245a5",
   "metadata": {
    "papermill": {
     "duration": 0.018304,
     "end_time": "2025-05-25T09:47:06.849498",
     "exception": false,
     "start_time": "2025-05-25T09:47:06.831194",
     "status": "completed"
    },
    "tags": []
   },
   "source": [
    "### 2.4.1 Encoding Username, MovieID"
   ]
  },
  {
   "cell_type": "code",
   "execution_count": 60,
   "id": "2a3b1f09",
   "metadata": {
    "execution": {
     "iopub.execute_input": "2025-05-25T09:47:06.887783Z",
     "iopub.status.busy": "2025-05-25T09:47:06.887560Z",
     "iopub.status.idle": "2025-05-25T09:47:11.243626Z",
     "shell.execute_reply": "2025-05-25T09:47:11.242824Z"
    },
    "papermill": {
     "duration": 4.377252,
     "end_time": "2025-05-25T09:47:11.245129",
     "exception": false,
     "start_time": "2025-05-25T09:47:06.867877",
     "status": "completed"
    },
    "tags": []
   },
   "outputs": [],
   "source": [
    "from typing import List\n",
    "\n",
    "import pandas as pd\n",
    "import torch\n",
    "from torch.utils.data import Dataset\n",
    "from torch.utils.data import DataLoader\n",
    "from collections import defaultdict\n",
    "import heapq"
   ]
  },
  {
   "cell_type": "code",
   "execution_count": 61,
   "id": "2260b61d",
   "metadata": {
    "execution": {
     "iopub.execute_input": "2025-05-25T09:47:11.284646Z",
     "iopub.status.busy": "2025-05-25T09:47:11.283848Z",
     "iopub.status.idle": "2025-05-25T09:47:11.290847Z",
     "shell.execute_reply": "2025-05-25T09:47:11.290264Z"
    },
    "papermill": {
     "duration": 0.027196,
     "end_time": "2025-05-25T09:47:11.291904",
     "exception": false,
     "start_time": "2025-05-25T09:47:11.264708",
     "status": "completed"
    },
    "tags": []
   },
   "outputs": [],
   "source": [
    "class MovieRecommenderDataset(Dataset):\n",
    "    def __init__(self, ratings_df, movie_features, user_features, user_index_by_username, movie_index_by_id):\n",
    "        self.ratings_df = ratings_df\n",
    "        self.movie_features = movie_features\n",
    "        self.user_features = user_features\n",
    "        self.user_index_by_username = user_index_by_username\n",
    "        self.movie_index_by_id = movie_index_by_id\n",
    "        \n",
    "    def __len__(self):\n",
    "        return len(self.ratings_df)\n",
    "    \n",
    "    def __getitem__(self, index):\n",
    "        username = self.ratings_df[\"Username\"].iloc[index]\n",
    "        movie_id = self.ratings_df[\"MovieID\"].iloc[index]\n",
    "        rating = self.ratings_df[\"Rating\"].iloc[index]\n",
    "        \n",
    "        # Get user index\n",
    "        user_index = self.user_index_by_username.get(username, 0)\n",
    "        \n",
    "        # Get movie features\n",
    "        movie_idx = self.movie_index_by_id.get(movie_id, 0)\n",
    "        features = self.user_features[user_index] + self.movie_features[movie_idx]\n",
    "        \n",
    "        return torch.tensor(features, dtype=torch.long), torch.tensor(rating, dtype=torch.float)\n",
    "\n",
    "from functools import partial\n",
    "def collate_fn(batch, num_inputs):\n",
    "    features, ratings = zip(*batch)\n",
    "    \n",
    "    # Find the maximum length of features\n",
    "    max_len = max(len(f) for f in features)\n",
    "    \n",
    "    # Pad features to the same length\n",
    "    padded_features = []\n",
    "    for f in features:\n",
    "        #num_inputs là giá trị đặc biệt bảo sung vào\n",
    "        padded = torch.cat([f, torch.full((max_len - len(f),), num_inputs, dtype=torch.long)])\n",
    "        padded_features.append(padded)\n",
    "    \n",
    "    # Stack tensors\n",
    "    features_tensor = torch.stack(padded_features)\n",
    "    ratings_tensor = torch.stack(ratings)\n",
    "    \n",
    "    return features_tensor, ratings_tensor"
   ]
  },
  {
   "cell_type": "markdown",
   "id": "21d35d2c",
   "metadata": {
    "papermill": {
     "duration": 0.018138,
     "end_time": "2025-05-25T09:47:11.328469",
     "exception": false,
     "start_time": "2025-05-25T09:47:11.310331",
     "status": "completed"
    },
    "tags": []
   },
   "source": [
    "### 2.4.2 Split train/test: Leave-One-Out Split (LOO) (last one ratings for each user)"
   ]
  },
  {
   "cell_type": "code",
   "execution_count": 62,
   "id": "0813154a",
   "metadata": {
    "execution": {
     "iopub.execute_input": "2025-05-25T09:47:11.366200Z",
     "iopub.status.busy": "2025-05-25T09:47:11.365768Z",
     "iopub.status.idle": "2025-05-25T09:47:11.596048Z",
     "shell.execute_reply": "2025-05-25T09:47:11.595211Z"
    },
    "papermill": {
     "duration": 0.250782,
     "end_time": "2025-05-25T09:47:11.597644",
     "exception": false,
     "start_time": "2025-05-25T09:47:11.346862",
     "status": "completed"
    },
    "tags": []
   },
   "outputs": [],
   "source": [
    "ratings['CommentDate'] = pd.to_datetime(ratings['CommentDate'])\n",
    "ratings = ratings.sort_values(by=['Username', 'CommentDate'])"
   ]
  },
  {
   "cell_type": "code",
   "execution_count": 63,
   "id": "7dd0b249",
   "metadata": {
    "execution": {
     "iopub.execute_input": "2025-05-25T09:47:11.637585Z",
     "iopub.status.busy": "2025-05-25T09:47:11.636973Z",
     "iopub.status.idle": "2025-05-25T09:47:15.720006Z",
     "shell.execute_reply": "2025-05-25T09:47:15.719358Z"
    },
    "papermill": {
     "duration": 4.10421,
     "end_time": "2025-05-25T09:47:15.721417",
     "exception": false,
     "start_time": "2025-05-25T09:47:11.617207",
     "status": "completed"
    },
    "tags": []
   },
   "outputs": [],
   "source": [
    "train_val_rows = []\n",
    "test_rows = []\n",
    "\n",
    "for user_id, group in ratings.groupby('Username'):\n",
    "    if len(group) >= 2:\n",
    "        test_rows.append(group.iloc[-1])\n",
    "        train_val_rows.append(group.iloc[:-1])\n",
    "    else:\n",
    "        train_val_rows.append(group)\n",
    "\n",
    "df_train_val = pd.concat(train_val_rows)\n",
    "df_test = pd.DataFrame(test_rows)"
   ]
  },
  {
   "cell_type": "code",
   "execution_count": 64,
   "id": "94d232cc",
   "metadata": {
    "execution": {
     "iopub.execute_input": "2025-05-25T09:47:15.762181Z",
     "iopub.status.busy": "2025-05-25T09:47:15.761923Z",
     "iopub.status.idle": "2025-05-25T09:47:15.765924Z",
     "shell.execute_reply": "2025-05-25T09:47:15.765199Z"
    },
    "papermill": {
     "duration": 0.025623,
     "end_time": "2025-05-25T09:47:15.766987",
     "exception": false,
     "start_time": "2025-05-25T09:47:15.741364",
     "status": "completed"
    },
    "tags": []
   },
   "outputs": [
    {
     "name": "stdout",
     "output_type": "stream",
     "text": [
      "Train size: (1255513, 5)\n",
      "Test size: (14148, 5)\n"
     ]
    }
   ],
   "source": [
    "print(\"Train size:\", df_train_val.shape)\n",
    "print(\"Test size:\", df_test.shape)"
   ]
  },
  {
   "cell_type": "code",
   "execution_count": 65,
   "id": "95719aa8",
   "metadata": {
    "execution": {
     "iopub.execute_input": "2025-05-25T09:47:15.805621Z",
     "iopub.status.busy": "2025-05-25T09:47:15.805390Z",
     "iopub.status.idle": "2025-05-25T09:47:16.106164Z",
     "shell.execute_reply": "2025-05-25T09:47:16.105359Z"
    },
    "papermill": {
     "duration": 0.321781,
     "end_time": "2025-05-25T09:47:16.107425",
     "exception": false,
     "start_time": "2025-05-25T09:47:15.785644",
     "status": "completed"
    },
    "tags": []
   },
   "outputs": [
    {
     "name": "stdout",
     "output_type": "stream",
     "text": [
      "Train: 1129961\n",
      "Validation: 125552\n",
      "Test: 14148\n"
     ]
    }
   ],
   "source": [
    "from sklearn.model_selection import train_test_split\n",
    "\n",
    "df_train, df_val = train_test_split(df_train_val, test_size=0.1, random_state=42)\n",
    "\n",
    "print(\"Train:\", len(df_train))\n",
    "print(\"Validation:\", len(df_val))\n",
    "print(\"Test:\", len(df_test))\n"
   ]
  },
  {
   "cell_type": "markdown",
   "id": "70760935",
   "metadata": {
    "papermill": {
     "duration": 0.018702,
     "end_time": "2025-05-25T09:47:16.145946",
     "exception": false,
     "start_time": "2025-05-25T09:47:16.127244",
     "status": "completed"
    },
    "tags": []
   },
   "source": [
    "# 3.Model"
   ]
  },
  {
   "cell_type": "code",
   "execution_count": 66,
   "id": "3e3eb268",
   "metadata": {
    "execution": {
     "iopub.execute_input": "2025-05-25T09:47:16.184273Z",
     "iopub.status.busy": "2025-05-25T09:47:16.184017Z",
     "iopub.status.idle": "2025-05-25T09:47:26.155873Z",
     "shell.execute_reply": "2025-05-25T09:47:26.155249Z"
    },
    "papermill": {
     "duration": 9.992543,
     "end_time": "2025-05-25T09:47:26.157165",
     "exception": false,
     "start_time": "2025-05-25T09:47:16.164622",
     "status": "completed"
    },
    "tags": []
   },
   "outputs": [],
   "source": [
    "import torch.nn as nn\n",
    "import torch.nn.functional as F\n",
    "import pandas as pd\n",
    "import numpy as np\n",
    "from torch.utils.data import Dataset, DataLoader\n",
    "import pytorch_lightning as pl\n",
    "from pytorch_lightning.loggers import TensorBoardLogger\n",
    "from pytorch_lightning.callbacks import EarlyStopping, ModelCheckpoint, LearningRateMonitor, LearningRateFinder\n",
    "from collections import defaultdict\n",
    "import heapq"
   ]
  },
  {
   "cell_type": "markdown",
   "id": "f3ceb6fd",
   "metadata": {
    "papermill": {
     "duration": 0.018477,
     "end_time": "2025-05-25T09:47:26.195117",
     "exception": false,
     "start_time": "2025-05-25T09:47:26.176640",
     "status": "completed"
    },
    "tags": []
   },
   "source": [
    "Xây dựng mô hình factorization dựa trên công thức\n",
    "$$\n",
    "\\hat{y} = w_0 + \\sum_{i=1}^{n} w_i x_i + \\sum_{i=1}^{n} \\sum_{j=i+1}^{n} \\langle v_i, v_j \\rangle x_i x_j\n",
    "$$\n"
   ]
  },
  {
   "cell_type": "code",
   "execution_count": 67,
   "id": "cceabc1a",
   "metadata": {
    "execution": {
     "iopub.execute_input": "2025-05-25T09:47:26.234120Z",
     "iopub.status.busy": "2025-05-25T09:47:26.233429Z",
     "iopub.status.idle": "2025-05-25T09:47:26.247920Z",
     "shell.execute_reply": "2025-05-25T09:47:26.247342Z"
    },
    "papermill": {
     "duration": 0.035341,
     "end_time": "2025-05-25T09:47:26.248904",
     "exception": false,
     "start_time": "2025-05-25T09:47:26.213563",
     "status": "completed"
    },
    "tags": []
   },
   "outputs": [],
   "source": [
    "class FactorizationMachine(pl.LightningModule):\n",
    "    def __init__(self, num_inputs, embedding_dim, lr=5e-4, weight_decay=5e-5, dropout_rate=0.2):\n",
    "        super(FactorizationMachine, self).__init__()\n",
    "        self.save_hyperparameters()\n",
    "        \n",
    "        self.rating_mean = (10 + 1) / 2\n",
    "        self.rating_range = (10 - 1) / 2\n",
    "        \n",
    "        # Ma trận V\n",
    "        self.embedding = nn.Embedding(num_inputs + 1, embedding_dim, padding_idx= num_inputs)\n",
    "        \n",
    "        # bias w\n",
    "        self.linear = nn.Embedding(num_inputs + 1, 1, padding_idx= num_inputs)\n",
    "        \n",
    "        # Global bias w0\n",
    "        self.bias = nn.Parameter(torch.zeros(1))\n",
    "\n",
    "        self.dropout = nn.Dropout(p=dropout_rate)\n",
    "        self._init_weights()\n",
    "        \n",
    "    def _init_weights(self):\n",
    "        nn.init.xavier_normal_(self.embedding.weight.data, gain=1.0)\n",
    "        nn.init.xavier_normal_(self.linear.weight.data, gain=1.0)\n",
    "        nn.init.normal_(self.bias.data, mean=0.0, std=0.01)\n",
    "        \n",
    "    def forward(self, x):\n",
    "        mask = (x != self.embedding.padding_idx).unsqueeze(-1)\n",
    "\n",
    "        # Bias cho từng feature: w_i * x_i\n",
    "        linear_part = self.linear(x).sum(dim=1).squeeze(-1)  # Thêm squeeze(-1) để chuyển từ [batch, 1] -> [batch]  \n",
    "\n",
    "        # Ma trận V\n",
    "        embed_x = self.embedding(x)  \n",
    "        \n",
    "        # Tính theo công thức  \n",
    "        sum_of_embed = embed_x.sum(dim=1) \n",
    "        square_of_sum = sum_of_embed.pow(2) \n",
    "        \n",
    "        sum_of_square = embed_x.pow(2).sum(dim=1) \n",
    "        \n",
    "        # Phần cuối trong công thức\n",
    "        interactions = 0.5 * (square_of_sum - sum_of_square).sum(dim=1)\n",
    "        \n",
    "        # Tổng tất cả\n",
    "        predictions = self.bias + linear_part + interactions\n",
    "        \n",
    "        return predictions\n",
    "    \n",
    "    def predict_rating(self, username, movie_id, user_index_by_username, movie_index_by_id, movie_features, user_features):\n",
    "\n",
    "        self.eval()  \n",
    "        with torch.no_grad():\n",
    "            user_index = user_index_by_username.get(username, 0)\n",
    "            movie_idx = movie_index_by_id.get(movie_id, 0)\n",
    "\n",
    "            features = user_features[user_index] + movie_features[movie_idx]\n",
    "            features_tensor = torch.tensor([features], dtype=torch.long)\n",
    "\n",
    "            normalized_pred = self(features_tensor)\n",
    "            original_pred = normalized_pred * self.rating_range + self.rating_mean\n",
    "            return torch.clip(original_pred, min=1, max=10).item()\n",
    "    \n",
    "    def recommend_top_k(self, username, movie_features, user_features, user_index_by_username, k=10, exclude_movie_indices=None):\n",
    "\n",
    "        self.eval() \n",
    "        if exclude_movie_indices is None:\n",
    "            exclude_movie_indices = set()\n",
    "            \n",
    "        predictions = []\n",
    "        \n",
    "        with torch.no_grad():\n",
    "            user_index = user_index_by_username.get(username, 0)\n",
    "            \n",
    "            for movie_idx in range(len(movie_features)):\n",
    "                if movie_idx in exclude_movie_indices:\n",
    "                    continue\n",
    "                \n",
    "                features = user_features[user_index] + movie_features[movie_idx]\n",
    "                features_tensor = torch.tensor([features], dtype=torch.long)\n",
    "                \n",
    "                normalized_pred = self(features_tensor)\n",
    "                original_pred = normalized_pred * self.rating_range + self.rating_mean\n",
    "                \n",
    "                predictions.append((movie_idx, original_pred.item()))\n",
    "        \n",
    "        return sorted(predictions, key=lambda x: x[1], reverse=True)[:k]\n",
    "    \n",
    "   \n",
    "     \n",
    "    def training_step(self, batch, batch_idx):\n",
    "        inputs, ratings = batch\n",
    "        \n",
    "        # Normalize ratings to centered range\n",
    "        normalized_ratings = (ratings - self.rating_mean) / self.rating_range\n",
    "        \n",
    "        predicted_ratings = self(inputs)\n",
    "        loss = F.mse_loss(predicted_ratings, normalized_ratings)\n",
    "        self.log(\"train_loss\", loss)\n",
    "        return loss\n",
    "    \n",
    "    def validation_step(self, batch, batch_idx):\n",
    "        inputs, ratings = batch\n",
    "        \n",
    "        # Normalize ratings to centered range\n",
    "        normalized_ratings = (ratings - self.rating_mean) / self.rating_range\n",
    "        \n",
    "        predicted_ratings = self(inputs)\n",
    "        loss = F.mse_loss(predicted_ratings, normalized_ratings)\n",
    "        \n",
    "        # Calculate RMSE on original scale\n",
    "        pred_original = predicted_ratings * self.rating_range + self.rating_mean\n",
    "        rmse = torch.sqrt(F.mse_loss(pred_original, ratings))\n",
    "        \n",
    "        self.log(\"val_loss\", loss)\n",
    "        self.log(\"val_rmse\", rmse)\n",
    "        return loss\n",
    "    \n",
    "    def configure_optimizers(self):\n",
    "        return torch.optim.Adam(\n",
    "            self.parameters(), \n",
    "            lr=self.hparams.lr, \n",
    "            weight_decay=self.hparams.weight_decay\n",
    "        )\n",
    "\n",
    "    def on_validation_epoch_end(self):\n",
    "        train_loss = self.trainer.callback_metrics.get(\"train_loss\")\n",
    "        val_loss = self.trainer.callback_metrics.get(\"val_loss\")\n",
    "        val_rmse = self.trainer.callback_metrics.get(\"val_rmse\")\n",
    "        \n",
    "        train_loss_str = f\"{train_loss:.4f}\" if train_loss is not None else \"N/A\"\n",
    "        val_loss_str = f\"{val_loss:.4f}\" if val_loss is not None else \"N/A\"\n",
    "        val_rmse_str = f\"{val_rmse:.4f}\" if val_rmse is not None else \"N/A\"\n",
    "        \n",
    "        print(f\"Epoch {self.current_epoch}: Train Loss: {train_loss_str}, Val Loss: {val_loss_str}, Val RMSE: {val_rmse_str}\")"
   ]
  },
  {
   "cell_type": "code",
   "execution_count": 68,
   "id": "740efbac",
   "metadata": {
    "execution": {
     "iopub.execute_input": "2025-05-25T09:47:26.287384Z",
     "iopub.status.busy": "2025-05-25T09:47:26.286916Z",
     "iopub.status.idle": "2025-05-25T09:47:26.293892Z",
     "shell.execute_reply": "2025-05-25T09:47:26.293330Z"
    },
    "papermill": {
     "duration": 0.027243,
     "end_time": "2025-05-25T09:47:26.294878",
     "exception": false,
     "start_time": "2025-05-25T09:47:26.267635",
     "status": "completed"
    },
    "tags": []
   },
   "outputs": [],
   "source": [
    "# Training function\n",
    "def train_factorization_machine_model(\n",
    "    train_df,\n",
    "    val_df,\n",
    "    movie_features,\n",
    "    user_features,\n",
    "    user_index_by_username,\n",
    "    movie_index_by_id,\n",
    "    num_inputs,\n",
    "    embedding_dim=64,\n",
    "    batch_size=1024,\n",
    "    max_epochs=20,\n",
    "    learning_rate= 0.0005,\n",
    "    weight_decay=1e-5,\n",
    "    dropout_rate=0.02\n",
    "):\n",
    "\n",
    "    train_dataset = MovieRecommenderDataset(train_df, movie_features, user_features, user_index_by_username, movie_index_by_id)\n",
    "    val_dataset = MovieRecommenderDataset(val_df, movie_features, user_features, user_index_by_username, movie_index_by_id)\n",
    "    \n",
    "    num_workers = 4\n",
    "    \n",
    "    train_dataloader = DataLoader(\n",
    "        train_dataset,\n",
    "        batch_size=batch_size, \n",
    "        shuffle=True,\n",
    "        num_workers=num_workers,\n",
    "        collate_fn=partial(collate_fn, num_inputs=num_inputs)\n",
    "    )\n",
    "    \n",
    "    val_dataloader = DataLoader(\n",
    "        val_dataset,\n",
    "        batch_size=batch_size,\n",
    "        shuffle=False,\n",
    "        num_workers=num_workers,\n",
    "        collate_fn=partial(collate_fn, num_inputs=num_inputs)\n",
    "    )\n",
    "    \n",
    "    # Create model\n",
    "    model = FactorizationMachine(\n",
    "        num_inputs=num_inputs,\n",
    "        embedding_dim=embedding_dim,\n",
    "        lr=learning_rate,\n",
    "        weight_decay=weight_decay,\n",
    "        dropout_rate=dropout_rate\n",
    "    )\n",
    "    \n",
    "    logger = TensorBoardLogger(\n",
    "        \"fm_logs\",\n",
    "        name=f\"lr{learning_rate}_wd{weight_decay}_emb{embedding_dim}_b{batch_size}\"\n",
    "    )\n",
    "    \n",
    "    early_stop_callback = EarlyStopping(\n",
    "        monitor=\"val_loss\",\n",
    "        patience=5,\n",
    "        verbose=True,\n",
    "        mode=\"min\"\n",
    "    )\n",
    "\n",
    "    checkpoint_callback = ModelCheckpoint(\n",
    "        monitor=\"val_loss\",\n",
    "        dirpath=\"checkpoints/\",\n",
    "        filename=\"fm-best-{epoch:02d}-{val_loss:.4f}\",\n",
    "        save_top_k=1,\n",
    "        mode=\"min\"\n",
    "    )\n",
    "    \n",
    "    lr_monitor = LearningRateMonitor(logging_interval='epoch')\n",
    "\n",
    "    trainer = pl.Trainer(\n",
    "        max_epochs=max_epochs,\n",
    "        logger=logger,\n",
    "        accelerator=\"auto\",\n",
    "        devices=1,\n",
    "        callbacks=[early_stop_callback, checkpoint_callback, lr_monitor],\n",
    "        precision=\"16-mixed\"\n",
    "    )\n",
    "    \n",
    "    # Train model\n",
    "    trainer.fit(model, train_dataloader, val_dataloader)\n",
    "    \n",
    "    return model"
   ]
  },
  {
   "cell_type": "code",
   "execution_count": 69,
   "id": "6ef547fb",
   "metadata": {
    "execution": {
     "iopub.execute_input": "2025-05-25T09:47:26.333114Z",
     "iopub.status.busy": "2025-05-25T09:47:26.332920Z",
     "iopub.status.idle": "2025-05-25T09:47:26.336951Z",
     "shell.execute_reply": "2025-05-25T09:47:26.336423Z"
    },
    "papermill": {
     "duration": 0.024356,
     "end_time": "2025-05-25T09:47:26.337985",
     "exception": false,
     "start_time": "2025-05-25T09:47:26.313629",
     "status": "completed"
    },
    "tags": []
   },
   "outputs": [],
   "source": [
    "def generate_recommendations(\n",
    "    model,\n",
    "    username,\n",
    "    movie_features,\n",
    "    user_features,\n",
    "    user_index_by_username,\n",
    "    k=10,\n",
    "    user_rated_movies=None\n",
    "):\n",
    "    if user_rated_movies is None or username not in user_rated_movies:\n",
    "        exclude_indices = set()\n",
    "    else:\n",
    "        exclude_indices = user_rated_movies[username]\n",
    "    \n",
    "    recommendations = model.recommend_top_k(\n",
    "        username,\n",
    "        movie_features,\n",
    "        user_features,\n",
    "        user_index_by_username,\n",
    "        k=k,\n",
    "        exclude_movie_indices=exclude_indices\n",
    "    )\n",
    "    return recommendations"
   ]
  },
  {
   "cell_type": "code",
   "execution_count": 70,
   "id": "0deeb5aa",
   "metadata": {
    "execution": {
     "iopub.execute_input": "2025-05-25T09:47:26.376192Z",
     "iopub.status.busy": "2025-05-25T09:47:26.375980Z",
     "iopub.status.idle": "2025-05-25T09:47:26.382004Z",
     "shell.execute_reply": "2025-05-25T09:47:26.381507Z"
    },
    "papermill": {
     "duration": 0.026425,
     "end_time": "2025-05-25T09:47:26.382923",
     "exception": false,
     "start_time": "2025-05-25T09:47:26.356498",
     "status": "completed"
    },
    "tags": []
   },
   "outputs": [],
   "source": [
    "def test_model_performance(model, test_df, movie_features, user_features, user_index_by_username, movie_index_by_id, num_inputs, batch_size=128):\n",
    "    model.eval()\n",
    "    \n",
    "    test_dataset = MovieRecommenderDataset(df_test, movie_features, user_features, user_index_by_username, movie_index_by_id)\n",
    "    \n",
    "    test_dataloader = DataLoader(\n",
    "        test_dataset,\n",
    "        batch_size=batch_size,\n",
    "        shuffle=False,\n",
    "        num_workers=4,\n",
    "        collate_fn=partial(collate_fn, num_inputs=num_inputs)\n",
    "    )\n",
    "    \n",
    "    total_samples = 0\n",
    "    sum_rmse = 0.0\n",
    "    sum_mae = 0.0\n",
    "    \n",
    "    # Thực hiện dự đoán và tính metric\n",
    "    device = next(model.parameters()).device  # Lấy device của model\n",
    "    \n",
    "    with torch.no_grad():\n",
    "        for inputs, ratings in test_dataloader:\n",
    "            inputs = inputs.to(device)\n",
    "            ratings = ratings.to(device)\n",
    "            \n",
    "            # Dự đoán và chuyển về thang điểm gốc\n",
    "            normalized_preds = model(inputs)\n",
    "            predicted_ratings = normalized_preds * model.rating_range + model.rating_mean\n",
    "            \n",
    "            # Tính RMSE và MAE\n",
    "            batch_rmse = torch.sqrt(F.mse_loss(predicted_ratings, ratings))\n",
    "            batch_mae = F.l1_loss(predicted_ratings, ratings)\n",
    "            \n",
    "            batch_size = ratings.size(0)\n",
    "            sum_rmse += batch_rmse.item() * batch_size\n",
    "            sum_mae += batch_mae.item() * batch_size\n",
    "            total_samples += batch_size\n",
    "    \n",
    "    avg_rmse = sum_rmse / total_samples\n",
    "    avg_mae = sum_mae / total_samples\n",
    "    \n",
    "    print(f\"Test Results on {total_samples} samples:\")\n",
    "    print(f\"RMSE: {avg_rmse:.4f}\")\n",
    "    print(f\"MAE: {avg_mae:.4f}\")\n",
    "    \n",
    "    return {\n",
    "        'rmse': avg_rmse,\n",
    "        'mae': avg_mae,\n",
    "        'num_samples': total_samples\n",
    "    }"
   ]
  },
  {
   "cell_type": "markdown",
   "id": "deaa9352",
   "metadata": {
    "papermill": {
     "duration": 0.018472,
     "end_time": "2025-05-25T09:47:26.419969",
     "exception": false,
     "start_time": "2025-05-25T09:47:26.401497",
     "status": "completed"
    },
    "tags": []
   },
   "source": [
    "# 4. Train and eval"
   ]
  },
  {
   "cell_type": "code",
   "execution_count": 71,
   "id": "9a79ac34",
   "metadata": {
    "execution": {
     "iopub.execute_input": "2025-05-25T09:47:26.459630Z",
     "iopub.status.busy": "2025-05-25T09:47:26.458932Z",
     "iopub.status.idle": "2025-05-25T09:54:58.057853Z",
     "shell.execute_reply": "2025-05-25T09:54:58.056973Z"
    },
    "papermill": {
     "duration": 451.621101,
     "end_time": "2025-05-25T09:54:58.059478",
     "exception": false,
     "start_time": "2025-05-25T09:47:26.438377",
     "status": "completed"
    },
    "tags": []
   },
   "outputs": [
    {
     "name": "stderr",
     "output_type": "stream",
     "text": [
      "2025-05-25 09:47:29.045876: E external/local_xla/xla/stream_executor/cuda/cuda_fft.cc:477] Unable to register cuFFT factory: Attempting to register factory for plugin cuFFT when one has already been registered\n",
      "WARNING: All log messages before absl::InitializeLog() is called are written to STDERR\n",
      "E0000 00:00:1748166449.291470      19 cuda_dnn.cc:8310] Unable to register cuDNN factory: Attempting to register factory for plugin cuDNN when one has already been registered\n",
      "E0000 00:00:1748166449.358484      19 cuda_blas.cc:1418] Unable to register cuBLAS factory: Attempting to register factory for plugin cuBLAS when one has already been registered\n"
     ]
    },
    {
     "data": {
      "application/vnd.jupyter.widget-view+json": {
       "model_id": "5302e56864ec4a68991269bfd5c30839",
       "version_major": 2,
       "version_minor": 0
      },
      "text/plain": [
       "Sanity Checking: |          | 0/? [00:00<?, ?it/s]"
      ]
     },
     "metadata": {},
     "output_type": "display_data"
    },
    {
     "name": "stdout",
     "output_type": "stream",
     "text": [
      "Epoch 0: Train Loss: N/A, Val Loss: 7.9194, Val RMSE: 12.6634\n"
     ]
    },
    {
     "data": {
      "application/vnd.jupyter.widget-view+json": {
       "model_id": "1fcd7a3188db4321acdf2b382c38364d",
       "version_major": 2,
       "version_minor": 0
      },
      "text/plain": [
       "Training: |          | 0/? [00:00<?, ?it/s]"
      ]
     },
     "metadata": {},
     "output_type": "display_data"
    },
    {
     "data": {
      "application/vnd.jupyter.widget-view+json": {
       "model_id": "ca865790ff5d47ddbce7eacc2636b86e",
       "version_major": 2,
       "version_minor": 0
      },
      "text/plain": [
       "Validation: |          | 0/? [00:00<?, ?it/s]"
      ]
     },
     "metadata": {},
     "output_type": "display_data"
    },
    {
     "name": "stdout",
     "output_type": "stream",
     "text": [
      "Epoch 0: Train Loss: 0.1511, Val Loss: 0.1498, Val RMSE: 1.7419\n"
     ]
    },
    {
     "data": {
      "application/vnd.jupyter.widget-view+json": {
       "model_id": "04e02a2a71d34b8490f24e40ba47af60",
       "version_major": 2,
       "version_minor": 0
      },
      "text/plain": [
       "Validation: |          | 0/? [00:00<?, ?it/s]"
      ]
     },
     "metadata": {},
     "output_type": "display_data"
    },
    {
     "name": "stdout",
     "output_type": "stream",
     "text": [
      "Epoch 1: Train Loss: 0.1377, Val Loss: 0.1438, Val RMSE: 1.7066\n"
     ]
    },
    {
     "data": {
      "application/vnd.jupyter.widget-view+json": {
       "model_id": "433355f930594df384198af29a2a7913",
       "version_major": 2,
       "version_minor": 0
      },
      "text/plain": [
       "Validation: |          | 0/? [00:00<?, ?it/s]"
      ]
     },
     "metadata": {},
     "output_type": "display_data"
    },
    {
     "name": "stdout",
     "output_type": "stream",
     "text": [
      "Epoch 2: Train Loss: 0.1314, Val Loss: 0.1382, Val RMSE: 1.6727\n"
     ]
    },
    {
     "data": {
      "application/vnd.jupyter.widget-view+json": {
       "model_id": "445a1a87a5b645f0bb884acf7bd92886",
       "version_major": 2,
       "version_minor": 0
      },
      "text/plain": [
       "Validation: |          | 0/? [00:00<?, ?it/s]"
      ]
     },
     "metadata": {},
     "output_type": "display_data"
    },
    {
     "name": "stdout",
     "output_type": "stream",
     "text": [
      "Epoch 3: Train Loss: 0.1207, Val Loss: 0.1350, Val RMSE: 1.6532\n"
     ]
    },
    {
     "data": {
      "application/vnd.jupyter.widget-view+json": {
       "model_id": "3d0fc990ccfe4904a5d961c538e725fd",
       "version_major": 2,
       "version_minor": 0
      },
      "text/plain": [
       "Validation: |          | 0/? [00:00<?, ?it/s]"
      ]
     },
     "metadata": {},
     "output_type": "display_data"
    },
    {
     "name": "stdout",
     "output_type": "stream",
     "text": [
      "Epoch 4: Train Loss: 0.1167, Val Loss: 0.1329, Val RMSE: 1.6401\n"
     ]
    },
    {
     "data": {
      "application/vnd.jupyter.widget-view+json": {
       "model_id": "cc1af6b9ffc1434fa309824859c6cec7",
       "version_major": 2,
       "version_minor": 0
      },
      "text/plain": [
       "Validation: |          | 0/? [00:00<?, ?it/s]"
      ]
     },
     "metadata": {},
     "output_type": "display_data"
    },
    {
     "name": "stdout",
     "output_type": "stream",
     "text": [
      "Epoch 5: Train Loss: 0.1052, Val Loss: 0.1323, Val RMSE: 1.6369\n"
     ]
    },
    {
     "data": {
      "application/vnd.jupyter.widget-view+json": {
       "model_id": "d88acfd5eb68400ba8617801ec02ee1a",
       "version_major": 2,
       "version_minor": 0
      },
      "text/plain": [
       "Validation: |          | 0/? [00:00<?, ?it/s]"
      ]
     },
     "metadata": {},
     "output_type": "display_data"
    },
    {
     "name": "stdout",
     "output_type": "stream",
     "text": [
      "Epoch 6: Train Loss: 0.1042, Val Loss: 0.1317, Val RMSE: 1.6331\n"
     ]
    },
    {
     "data": {
      "application/vnd.jupyter.widget-view+json": {
       "model_id": "4e15a1f41ae14226ad4c02e237b2ddbc",
       "version_major": 2,
       "version_minor": 0
      },
      "text/plain": [
       "Validation: |          | 0/? [00:00<?, ?it/s]"
      ]
     },
     "metadata": {},
     "output_type": "display_data"
    },
    {
     "name": "stdout",
     "output_type": "stream",
     "text": [
      "Epoch 7: Train Loss: 0.0970, Val Loss: 0.1317, Val RMSE: 1.6331\n"
     ]
    },
    {
     "data": {
      "application/vnd.jupyter.widget-view+json": {
       "model_id": "b36c850b694145f5b5e305043305b320",
       "version_major": 2,
       "version_minor": 0
      },
      "text/plain": [
       "Validation: |          | 0/? [00:00<?, ?it/s]"
      ]
     },
     "metadata": {},
     "output_type": "display_data"
    },
    {
     "name": "stdout",
     "output_type": "stream",
     "text": [
      "Epoch 8: Train Loss: 0.0921, Val Loss: 0.1320, Val RMSE: 1.6347\n"
     ]
    },
    {
     "data": {
      "application/vnd.jupyter.widget-view+json": {
       "model_id": "205c3d7c6a434777b334d01cba457593",
       "version_major": 2,
       "version_minor": 0
      },
      "text/plain": [
       "Validation: |          | 0/? [00:00<?, ?it/s]"
      ]
     },
     "metadata": {},
     "output_type": "display_data"
    },
    {
     "name": "stdout",
     "output_type": "stream",
     "text": [
      "Epoch 9: Train Loss: 0.0870, Val Loss: 0.1327, Val RMSE: 1.6390\n"
     ]
    },
    {
     "data": {
      "application/vnd.jupyter.widget-view+json": {
       "model_id": "7e60c0d6ac0848e58e99744e681634d3",
       "version_major": 2,
       "version_minor": 0
      },
      "text/plain": [
       "Validation: |          | 0/? [00:00<?, ?it/s]"
      ]
     },
     "metadata": {},
     "output_type": "display_data"
    },
    {
     "name": "stdout",
     "output_type": "stream",
     "text": [
      "Epoch 10: Train Loss: 0.0812, Val Loss: 0.1333, Val RMSE: 1.6430\n"
     ]
    },
    {
     "data": {
      "application/vnd.jupyter.widget-view+json": {
       "model_id": "a37c2536f7e448308c431a410d876141",
       "version_major": 2,
       "version_minor": 0
      },
      "text/plain": [
       "Validation: |          | 0/? [00:00<?, ?it/s]"
      ]
     },
     "metadata": {},
     "output_type": "display_data"
    },
    {
     "name": "stdout",
     "output_type": "stream",
     "text": [
      "Epoch 11: Train Loss: 0.0760, Val Loss: 0.1337, Val RMSE: 1.6455\n"
     ]
    },
    {
     "data": {
      "application/vnd.jupyter.widget-view+json": {
       "model_id": "af7d0a49141d46bd8f4d7243ec4eb5fe",
       "version_major": 2,
       "version_minor": 0
      },
      "text/plain": [
       "Validation: |          | 0/? [00:00<?, ?it/s]"
      ]
     },
     "metadata": {},
     "output_type": "display_data"
    },
    {
     "name": "stdout",
     "output_type": "stream",
     "text": [
      "Epoch 12: Train Loss: 0.0691, Val Loss: 0.1349, Val RMSE: 1.6528\n"
     ]
    }
   ],
   "source": [
    "model = train_factorization_machine_model(\n",
    "        train_df=df_train,\n",
    "        val_df=df_val,\n",
    "        movie_features=movie_features,\n",
    "        user_features = user_features,\n",
    "        user_index_by_username=user_index_by_username,\n",
    "        movie_index_by_id = movie_index_by_id,\n",
    "        num_inputs=total_inputs,\n",
    "        embedding_dim=1000,  \n",
    "        # batch_size=4096, \n",
    "        batch_size = 8192 ,\n",
    "        max_epochs=100       \n",
    "    )"
   ]
  },
  {
   "cell_type": "code",
   "execution_count": 72,
   "id": "8e49f039",
   "metadata": {
    "execution": {
     "iopub.execute_input": "2025-05-25T09:54:58.103183Z",
     "iopub.status.busy": "2025-05-25T09:54:58.102939Z",
     "iopub.status.idle": "2025-05-25T09:54:59.123260Z",
     "shell.execute_reply": "2025-05-25T09:54:59.122399Z"
    },
    "papermill": {
     "duration": 1.043273,
     "end_time": "2025-05-25T09:54:59.124637",
     "exception": false,
     "start_time": "2025-05-25T09:54:58.081364",
     "status": "completed"
    },
    "tags": []
   },
   "outputs": [
    {
     "name": "stdout",
     "output_type": "stream",
     "text": [
      "Test Results on 14148 samples:\n",
      "RMSE: 2.3796\n",
      "MAE: 1.8799\n"
     ]
    }
   ],
   "source": [
    "test_metrics = test_model_performance(\n",
    "    model=model,\n",
    "    test_df=df_test,\n",
    "    movie_features=movie_features,\n",
    "    user_features=user_features,\n",
    "    user_index_by_username=user_index_by_username,\n",
    "    movie_index_by_id=movie_index_by_id,\n",
    "    num_inputs=total_inputs,\n",
    "    batch_size=128\n",
    ")"
   ]
  },
  {
   "cell_type": "code",
   "execution_count": 73,
   "id": "6b9d89ea",
   "metadata": {
    "execution": {
     "iopub.execute_input": "2025-05-25T09:54:59.168252Z",
     "iopub.status.busy": "2025-05-25T09:54:59.168000Z",
     "iopub.status.idle": "2025-05-25T09:54:59.178801Z",
     "shell.execute_reply": "2025-05-25T09:54:59.178215Z"
    },
    "papermill": {
     "duration": 0.033302,
     "end_time": "2025-05-25T09:54:59.179868",
     "exception": false,
     "start_time": "2025-05-25T09:54:59.146566",
     "status": "completed"
    },
    "tags": []
   },
   "outputs": [
    {
     "name": "stdout",
     "output_type": "stream",
     "text": [
      "Dự đoán người dùng bretttaylor-04022 sẽ đánh giá phim tt0434409: 7.44/10\n"
     ]
    }
   ],
   "source": [
    "#Test dự đoán\n",
    "username = \"bretttaylor-04022\"\n",
    "movie_id = 'tt0434409' \n",
    "\n",
    "predicted_rating = model.predict_rating(\n",
    "    username=username,\n",
    "    movie_id=movie_id,\n",
    "    user_index_by_username=user_index_by_username,\n",
    "    movie_index_by_id=movie_index_by_id,\n",
    "    movie_features=movie_features,\n",
    "    user_features=user_features\n",
    ")\n",
    "\n",
    "print(f\"Dự đoán người dùng {username} sẽ đánh giá phim {movie_id}: {predicted_rating:.2f}/10\")"
   ]
  },
  {
   "cell_type": "code",
   "execution_count": 74,
   "id": "1fe33ea7",
   "metadata": {
    "execution": {
     "iopub.execute_input": "2025-05-25T09:54:59.222837Z",
     "iopub.status.busy": "2025-05-25T09:54:59.222169Z",
     "iopub.status.idle": "2025-05-25T09:55:00.325513Z",
     "shell.execute_reply": "2025-05-25T09:55:00.324680Z"
    },
    "papermill": {
     "duration": 1.126141,
     "end_time": "2025-05-25T09:55:00.326807",
     "exception": false,
     "start_time": "2025-05-25T09:54:59.200666",
     "status": "completed"
    },
    "scrolled": true,
    "tags": []
   },
   "outputs": [
    {
     "name": "stdout",
     "output_type": "stream",
     "text": [
      "Top 10 phim được gợi ý cho người dùng Libretio:\n",
      "1. Movie ID: 531 - Điểm dự đoán: 7.81/10\n",
      "2. Movie ID: 3336 - Điểm dự đoán: 7.65/10\n",
      "3. Movie ID: 2916 - Điểm dự đoán: 7.56/10\n",
      "4. Movie ID: 4017 - Điểm dự đoán: 7.41/10\n",
      "5. Movie ID: 641 - Điểm dự đoán: 7.35/10\n",
      "6. Movie ID: 2127 - Điểm dự đoán: 7.32/10\n",
      "7. Movie ID: 533 - Điểm dự đoán: 7.29/10\n",
      "8. Movie ID: 3515 - Điểm dự đoán: 7.22/10\n",
      "9. Movie ID: 1245 - Điểm dự đoán: 7.20/10\n",
      "10. Movie ID: 6127 - Điểm dự đoán: 7.18/10\n"
     ]
    }
   ],
   "source": [
    "#Test gợi ý\n",
    "username = \"Libretio\" \n",
    "\n",
    "recommended_movies = generate_recommendations(\n",
    "    model=model,\n",
    "    username=username,\n",
    "    movie_features=movie_features,\n",
    "    user_features=user_features,\n",
    "    user_index_by_username=user_index_by_username,\n",
    "    k=10,\n",
    "    # user_rated_movies=user_rated_movies  # Bỏ qua nếu không có\n",
    ")\n",
    "\n",
    "print(f\"Top 10 phim được gợi ý cho người dùng {username}:\")\n",
    "for i, (movie_idx, rating) in enumerate(recommended_movies, 1):\n",
    "    movie_title = f\"Movie ID: {movie_idx}\"\n",
    "    \n",
    "    print(f\"{i}. {movie_title} - Điểm dự đoán: {rating:.2f}/10\")"
   ]
  },
  {
   "cell_type": "code",
   "execution_count": 75,
   "id": "66474cb8",
   "metadata": {
    "execution": {
     "iopub.execute_input": "2025-05-25T09:55:00.375222Z",
     "iopub.status.busy": "2025-05-25T09:55:00.374905Z",
     "iopub.status.idle": "2025-05-25T09:55:00.466967Z",
     "shell.execute_reply": "2025-05-25T09:55:00.466068Z"
    },
    "papermill": {
     "duration": 0.118659,
     "end_time": "2025-05-25T09:55:00.468236",
     "exception": false,
     "start_time": "2025-05-25T09:55:00.349577",
     "status": "completed"
    },
    "scrolled": true,
    "tags": []
   },
   "outputs": [
    {
     "name": "stdout",
     "output_type": "stream",
     "text": [
      "007Waffles - tt31022050: pred: 4.90/10  real: 1.0\n",
      "04GreatFlick - tt15671028: pred: 6.98/10  real: 7.0\n",
      "0Tolerence - tt12838766: pred: 5.20/10  real: 2.0\n",
      "0w0 - tt15314262: pred: 5.49/10  real: 5.0\n",
      "108YearsOld - tt12800524: pred: 2.51/10  real: 2.0\n",
      "109YearsOld - tt13405778: pred: 1.00/10  real: 1.0\n",
      "11ovz11 - tt12838766: pred: 6.47/10  real: 6.0\n",
      "121mcv - tt17526714: pred: 6.29/10  real: 7.0\n",
      "12NiuNiu6 - tt13429870: pred: 9.20/10  real: 10.0\n",
      "13Funbags - tt2318527: pred: 4.23/10  real: 10.0\n",
      "18Buddha - tt9471678: pred: 7.39/10  real: 4.0\n",
      "1930s_Time_Machine - tt12789558: pred: 7.86/10  real: 7.0\n",
      "1bilbo - tt1856101: pred: 6.21/10  real: 1.0\n",
      "1ifemare - tt12838766: pred: 6.25/10  real: 6.0\n",
      "2001ASOfan - tt4558376: pred: 5.60/10  real: 7.0\n",
      "210west - tt5040012: pred: 4.74/10  real: 4.0\n",
      "235SCOPE - tt2771200: pred: 7.07/10  real: 6.0\n",
      "2BoZozz5178 - tt1780798: pred: 5.82/10  real: 8.0\n",
      "2Pass_Time - tt19862722: pred: 7.51/10  real: 10.0\n",
      "2TRASH2 - tt1517268: pred: 8.09/10  real: 10.0\n",
      "2Yung4This - tt23558280: pred: 6.26/10  real: 1.0\n",
      "3-D - tt0356634: pred: 4.59/10  real: 1.0\n",
      "3xHCCH - tt3915174: pred: 7.68/10  real: 8.0\n",
      "4u4o - tt8110640: pred: 5.63/10  real: 2.0\n",
      "50fiftillidideeBrain - tt0382932: pred: 9.03/10  real: 8.0\n",
      "5h4d0w - tt1984153: pred: 5.43/10  real: 4.0\n",
      "661jda - tt0424205: pred: 4.46/10  real: 8.0\n",
      "80sHorror - tt23289160: pred: 7.70/10  real: 1.0\n",
      "98nurdinm-1 - tt1321870: pred: 5.19/10  real: 7.0\n",
      "=G= - tt3833480: pred: 6.10/10  real: 6.0\n",
      "A-Shekhar - tt1849718: pred: 8.34/10  real: 9.0\n",
      "A24Score - tt31122323: pred: 4.17/10  real: 8.0\n",
      "A7medSalah - tt9224104: pred: 5.57/10  real: 5.0\n",
      "ABSenior - tt13751694: pred: 8.59/10  real: 10.0\n",
      "ACA13 - tt1020773: pred: 4.13/10  real: 2.0\n",
      "ACollegeStudent - tt18259086: pred: 5.98/10  real: 7.0\n",
      "ADHDBB - tt28015403: pred: 6.43/10  real: 9.0\n",
      "AEBarschall - tt1381404: pred: 7.36/10  real: 10.0\n",
      "AGood - tt27145269: pred: 6.20/10  real: 8.0\n",
      "AGuyNamedJake - tt7126948: pred: 3.53/10  real: 1.0\n",
      "AHOLDER-1 - tt0407887: pred: 7.83/10  real: 9.0\n",
      "AIANDAS - tt15671028: pred: 4.55/10  real: 4.0\n",
      "AIOS-Reviews - tt8291806: pred: 8.17/10  real: 9.0\n",
      "AJ108 - tt5352846: pred: 3.99/10  real: 8.0\n",
      "AJ4F - tt1235448: pred: 4.59/10  real: 5.0\n",
      "AJ9441 - tt5040012: pred: 5.88/10  real: 7.0\n",
      "AJ_McAninch - tt17505010: pred: 7.42/10  real: 6.0\n",
      "AJ_Nel - tt28015403: pred: 8.55/10  real: 8.0\n",
      "AJ_is_Awesomness - tt0962726: pred: 5.42/10  real: 9.0\n",
      "AJx91 - tt17526714: pred: 4.93/10  real: 6.0\n",
      "AKRob3 - tt15083184: pred: 6.23/10  real: 9.0\n",
      "AKS-6 - tt0380366: pred: 6.23/10  real: 8.0\n",
      "ALIENIGHTMARE - tt7527682: pred: 5.99/10  real: 3.0\n",
      "AMOGHREVIEWS - tt12735488: pred: 5.64/10  real: 10.0\n",
      "ARTaylor - tt18259086: pred: 7.60/10  real: 8.0\n",
      "ASouthernHorrorFan - tt1843303: pred: 5.86/10  real: 6.0\n",
      "ASuiGeneris - tt1298644: pred: 4.98/10  real: 6.0\n",
      "AZINDN - tt0462335: pred: 4.58/10  real: 4.0\n",
      "A_Boydude_Reviews - tt8790086: pred: 4.21/10  real: 8.0\n",
      "A_Different_Drummer - tt3501112: pred: 7.49/10  real: 7.0\n",
      "A_FORTY_SEVEN - tt13818368: pred: 5.79/10  real: 8.0\n",
      "A_Kind_Of_CineMagic - tt1185834: pred: 3.30/10  real: 8.0\n",
      "A_Llama_Drama - tt8160834: pred: 5.32/10  real: 3.0\n",
      "A_Random_Guy_22 - tt0864835: pred: 6.16/10  real: 7.0\n",
      "A_Roode - tt0831887: pred: 4.94/10  real: 6.0\n",
      "Aam_Aadmi - tt0405508: pred: 4.48/10  real: 6.0\n",
      "Aaron1375 - tt21307994: pred: 4.07/10  real: 5.0\n",
      "AaronCapenBanner - tt4913966: pred: 4.91/10  real: 6.0\n",
      "AaronRush9 - tt22890246: pred: 7.69/10  real: 4.0\n",
      "Abbark - tt3661298: pred: 7.61/10  real: 3.0\n",
      "Abby-9 - tt0467110: pred: 6.06/10  real: 10.0\n",
      "Abby_qadir - tt29268110: pred: 7.69/10  real: 8.0\n",
      "Abdo0079 - tt4218696: pred: 6.41/10  real: 9.0\n",
      "Abdulxoxo - tt4266638: pred: 7.47/10  real: 7.0\n",
      "Abfabbb - tt17526714: pred: 6.26/10  real: 7.0\n",
      "AbhiMathews - tt0278504: pred: 5.90/10  real: 5.0\n",
      "AbhiSh4ke - tt6277462: pred: 4.56/10  real: 6.0\n",
      "Abhinav009 - tt2388771: pred: 6.51/10  real: 9.0\n",
      "Abir-Xtreme - tt2263944: pred: 6.41/10  real: 8.0\n",
      "Abominog - tt1258197: pred: 5.98/10  real: 5.0\n",
      "AbraxisDragon - tt12749596: pred: 6.32/10  real: 8.0\n",
      "AbyGayle-23652 - tt6198946: pred: 7.49/10  real: 5.0\n",
      "Ac1975 - tt8790086: pred: 4.24/10  real: 1.0\n",
      "Acolin_f - tt1045778: pred: 3.44/10  real: 5.0\n",
      "Action-Reviews - tt15314262: pred: 5.88/10  real: 7.0\n",
      "ActionMovieDude - tt1517268: pred: 5.15/10  real: 1.0\n",
      "Adam_venedam - tt1666185: pred: 5.18/10  real: 2.0\n",
      "Adamanthe - tt28249919: pred: 5.64/10  real: 7.0\n",
      "Adams5905 - tt7873348: pred: 3.55/10  real: 1.0\n",
      "Adeeb-ghazal - tt28015403: pred: 6.98/10  real: 7.0\n",
      "Adorable - tt1375666: pred: 7.45/10  real: 4.0\n",
      "AdrenalinDragon - tt28249919: pred: 3.77/10  real: 6.0\n",
      "Adrian232 - tt2592614: pred: 4.64/10  real: 3.0\n",
      "AdrianOlonan - tt1951264: pred: 8.44/10  real: 10.0\n",
      "AdrienneGrayceMusic - tt10665342: pred: 6.00/10  real: 1.0\n",
      "AdultAudienceMember - tt9411972: pred: 6.08/10  real: 10.0\n",
      "Advocate1 - tt11225626: pred: 8.63/10  real: 8.0\n",
      "AfricanBro - tt26625693: pred: 5.00/10  real: 7.0\n",
      "AfroPixFlix - tt1772424: pred: 5.33/10  real: 6.0\n"
     ]
    }
   ],
   "source": [
    "i = 1\n",
    "for index, row in df_test.iterrows():\n",
    "    \n",
    "    username = row['Username']\n",
    "    movie_id = row['MovieID']\n",
    "    rating = row['Rating']\n",
    "    predicted_rating = model.predict_rating(\n",
    "        username=username,\n",
    "        movie_id=movie_id,\n",
    "        user_index_by_username=user_index_by_username,\n",
    "        movie_index_by_id=movie_index_by_id,\n",
    "        movie_features=movie_features,\n",
    "        user_features=user_features\n",
    "    )\n",
    "    \n",
    "    print(f\"{username} - {movie_id}: pred: {predicted_rating:.2f}/10  real: {rating}\")\n",
    "    i+=1\n",
    "    if i >99:\n",
    "        break"
   ]
  },
  {
   "cell_type": "markdown",
   "id": "954f1f2f",
   "metadata": {
    "papermill": {
     "duration": 0.020735,
     "end_time": "2025-05-25T09:55:00.510503",
     "exception": false,
     "start_time": "2025-05-25T09:55:00.489768",
     "status": "completed"
    },
    "tags": []
   },
   "source": [
    "# 5. Cold start"
   ]
  },
  {
   "cell_type": "code",
   "execution_count": 76,
   "id": "06b4a930",
   "metadata": {
    "execution": {
     "iopub.execute_input": "2025-05-25T09:55:00.552818Z",
     "iopub.status.busy": "2025-05-25T09:55:00.552348Z",
     "iopub.status.idle": "2025-05-25T09:55:00.558291Z",
     "shell.execute_reply": "2025-05-25T09:55:00.557585Z"
    },
    "papermill": {
     "duration": 0.02856,
     "end_time": "2025-05-25T09:55:00.559515",
     "exception": false,
     "start_time": "2025-05-25T09:55:00.530955",
     "status": "completed"
    },
    "tags": []
   },
   "outputs": [],
   "source": [
    "def predict_for_new_user(model, user_features, movie_id, movie_features, movie_index_by_id):\n",
    "    model.eval()\n",
    "    with torch.no_grad():\n",
    "        movie_idx = movie_index_by_id.get(movie_id, 0)\n",
    "        # Kết hợp feature của user mới và movie\n",
    "        features = user_features + movie_features[movie_idx]\n",
    "        features_tensor = torch.tensor([features], dtype=torch.long)\n",
    "        \n",
    "        normalized_pred = model(features_tensor)\n",
    "        original_pred = normalized_pred * model.rating_range + model.rating_mean\n",
    "        return torch.clip(original_pred, min=1, max=10).item()\n",
    "\n",
    "def predict_for_new_movie(model, username, user_features, user_index_by_username, movie_features):\n",
    "    model.eval()\n",
    "    with torch.no_grad():\n",
    "        user_index = user_index_by_username.get(username, 0)\n",
    "        # Kết hợp feature của user và movie mới\n",
    "        features = user_features[user_index] + movie_features\n",
    "        features_tensor = torch.tensor([features], dtype=torch.long)\n",
    "        \n",
    "        normalized_pred = model(features_tensor)\n",
    "        original_pred = normalized_pred * model.rating_range + model.rating_mean\n",
    "        return torch.clip(original_pred, min=1, max=10).item()\n",
    "\n",
    "\n"
   ]
  },
  {
   "cell_type": "code",
   "execution_count": 77,
   "id": "ae354cff",
   "metadata": {
    "execution": {
     "iopub.execute_input": "2025-05-25T09:55:00.604695Z",
     "iopub.status.busy": "2025-05-25T09:55:00.604475Z",
     "iopub.status.idle": "2025-05-25T09:55:00.611678Z",
     "shell.execute_reply": "2025-05-25T09:55:00.611067Z"
    },
    "papermill": {
     "duration": 0.03244,
     "end_time": "2025-05-25T09:55:00.612706",
     "exception": false,
     "start_time": "2025-05-25T09:55:00.580266",
     "status": "completed"
    },
    "tags": []
   },
   "outputs": [
    {
     "name": "stdout",
     "output_type": "stream",
     "text": [
      "Dự đoán người dùng mới sẽ đánh giá phim tt0434409: 7.35/10\n",
      "Dự đoán người dùng bretttaylor-04022 sẽ đánh giá phim mới: 5.56/10\n"
     ]
    }
   ],
   "source": [
    "new_user_features = [\n",
    "    gender_offset + gender_index_by_name[\"Male\"],  # Nam\n",
    "    age_offset + age_index_by_name[25],  # 25-34 tuổi\n",
    "    occupation_offset + occupation_index_by_name[12]  # Lập trình viên\n",
    "]\n",
    "\n",
    "movie_id = \"tt0434409\"\n",
    "predicted_rating = predict_for_new_user(\n",
    "    model=model,\n",
    "    user_features=new_user_features,  \n",
    "    movie_id=movie_id,\n",
    "    movie_features=movie_features,\n",
    "    movie_index_by_id=movie_index_by_id\n",
    ")\n",
    "print(f\"Dự đoán người dùng mới sẽ đánh giá phim {movie_id}: {predicted_rating:.2f}/10\")\n",
    "\n",
    "new_movie_features = [\n",
    "    genre_offset + genre_index_by_name[\"action\"],\n",
    "    year_offset + year_index_by_group[2020],\n",
    "    runtime_offset + runtime_index_by_group[\"Standard\"],\n",
    "    director_offset + director_index_by_name[\"other\"],\n",
    "    writer_offset + writer_index_by_name[\"other\"],\n",
    "    star_offset + star_index_by_name[\"other\"]\n",
    "]\n",
    "\n",
    "username = \"bretttaylor-04022\"\n",
    "predicted_rating = predict_for_new_movie(\n",
    "    model=model,\n",
    "    username=username,\n",
    "    user_features=user_features,\n",
    "    user_index_by_username=user_index_by_username, \n",
    "    movie_features=new_movie_features\n",
    ")\n",
    "print(f\"Dự đoán người dùng {username} sẽ đánh giá phim mới: {predicted_rating:.2f}/10\")"
   ]
  },
  {
   "cell_type": "code",
   "execution_count": 78,
   "id": "22d04a79",
   "metadata": {
    "execution": {
     "iopub.execute_input": "2025-05-25T09:55:00.655351Z",
     "iopub.status.busy": "2025-05-25T09:55:00.654907Z",
     "iopub.status.idle": "2025-05-25T09:55:00.661818Z",
     "shell.execute_reply": "2025-05-25T09:55:00.660898Z"
    },
    "papermill": {
     "duration": 0.029847,
     "end_time": "2025-05-25T09:55:00.663494",
     "exception": false,
     "start_time": "2025-05-25T09:55:00.633647",
     "status": "completed"
    },
    "tags": []
   },
   "outputs": [],
   "source": [
    "def recommend_for_new_user(\n",
    "    model, \n",
    "    user_features,  # [gender_idx, age_idx, occupation_idx]\n",
    "    movie_features,\n",
    "    k=10\n",
    "):\n",
    "    model.eval()\n",
    "    predictions = []\n",
    "    \n",
    "    with torch.no_grad():\n",
    "        for movie_idx in range(len(movie_features)):\n",
    "            # Kết hợp features của user mới và movie\n",
    "            features = user_features + movie_features[movie_idx]\n",
    "            features_tensor = torch.tensor([features], dtype=torch.long)\n",
    "            \n",
    "            normalized_pred = model(features_tensor)\n",
    "            rating = normalized_pred * model.rating_range + model.rating_mean\n",
    "            predictions.append((movie_idx, rating.item()))\n",
    "    \n",
    "    # Sort theo rating và lấy top-k\n",
    "    return sorted(predictions, key=lambda x: x[1], reverse=True)[:k]\n",
    "\n",
    "def find_potential_users_for_new_movie(\n",
    "    model,\n",
    "    movie_features,  # [genres, year, runtime, directors, writers, stars]\n",
    "    user_features,\n",
    "    user_index_by_username,\n",
    "    k=10,\n",
    "    rating_threshold=8.0  # Ngưỡng rating để coi là đánh giá cao\n",
    "):\n",
    "    model.eval()\n",
    "    potential_users = []\n",
    "    \n",
    "    with torch.no_grad():\n",
    "        # Duyệt qua từng user\n",
    "        for username, user_idx in user_index_by_username.items():\n",
    "            # Kết hợp features của user và movie mới\n",
    "            features = user_features[user_idx] + movie_features\n",
    "            features_tensor = torch.tensor([features], dtype=torch.long)\n",
    "            \n",
    "            normalized_pred = model(features_tensor)\n",
    "            rating = normalized_pred * model.rating_range + model.rating_mean\n",
    "            \n",
    "            if rating.item() >= rating_threshold:\n",
    "                potential_users.append((username, rating.item()))\n",
    "    \n",
    "    # Sort theo rating và lấy top-k\n",
    "    return sorted(potential_users, key=lambda x: x[1], reverse=True)[:k]\n",
    "\n"
   ]
  },
  {
   "cell_type": "code",
   "execution_count": 79,
   "id": "f171777d",
   "metadata": {
    "execution": {
     "iopub.execute_input": "2025-05-25T09:55:00.714171Z",
     "iopub.status.busy": "2025-05-25T09:55:00.713692Z",
     "iopub.status.idle": "2025-05-25T09:55:04.031841Z",
     "shell.execute_reply": "2025-05-25T09:55:04.030997Z"
    },
    "papermill": {
     "duration": 3.341263,
     "end_time": "2025-05-25T09:55:04.032995",
     "exception": false,
     "start_time": "2025-05-25T09:55:00.691732",
     "status": "completed"
    },
    "tags": []
   },
   "outputs": [
    {
     "name": "stdout",
     "output_type": "stream",
     "text": [
      "Top 10 phim được đề xuất cho người dùng mới:\n",
      "1. Movie idx: 1524 - Rating: 8.86/10\n",
      "2. Movie idx: 1918 - Rating: 8.85/10\n",
      "3. Movie idx: 5906 - Rating: 8.84/10\n",
      "4. Movie idx: 3336 - Rating: 8.79/10\n",
      "5. Movie idx: 2022 - Rating: 8.64/10\n",
      "6. Movie idx: 1726 - Rating: 8.64/10\n",
      "7. Movie idx: 5278 - Rating: 8.64/10\n",
      "8. Movie idx: 1536 - Rating: 8.63/10\n",
      "9. Movie idx: 5250 - Rating: 8.55/10\n",
      "10. Movie idx: 5998 - Rating: 8.52/10\n",
      "\n",
      "Top 10 người dùng có khả năng đánh giá cao phim mới:\n",
      "1. KASRA10 - Predicted rating: 9.76/10\n",
      "2. Dr_Mark_ODoherty - Predicted rating: 9.45/10\n",
      "3. juanmuscle - Predicted rating: 9.40/10\n",
      "4. sethn172 - Predicted rating: 9.38/10\n",
      "5. gabethedinosaur - Predicted rating: 9.36/10\n",
      "6. Cinema2kMendoza - Predicted rating: 9.27/10\n",
      "7. RainbowVic - Predicted rating: 9.13/10\n",
      "8. startrekfan72 - Predicted rating: 9.11/10\n",
      "9. ja_kitty_71 - Predicted rating: 9.05/10\n",
      "10. bevo-13678 - Predicted rating: 9.05/10\n"
     ]
    }
   ],
   "source": [
    "new_user_features = [\n",
    "    gender_offset + gender_index_by_name[\"Male\"],  # Nam\n",
    "    age_offset + age_index_by_name[25],  # 25-34 tuổi\n",
    "    occupation_offset + occupation_index_by_name[12]  # Lập trình viên\n",
    "]\n",
    "\n",
    "top_movies = recommend_for_new_user(\n",
    "    model=model,\n",
    "    user_features=new_user_features,\n",
    "    movie_features=movie_features,\n",
    "    k=10\n",
    ")\n",
    "\n",
    "print(\"Top 10 phim được đề xuất cho người dùng mới:\")\n",
    "for i, (movie_idx, rating) in enumerate(top_movies, 1):\n",
    "    print(f\"{i}. Movie idx: {movie_idx} - Rating: {rating:.2f}/10\")\n",
    "\n",
    "new_movie_features = [\n",
    "    genre_offset + genre_index_by_name[\"action\"],  # Thể loại action\n",
    "    year_offset + year_index_by_group[2020],  # Năm 2020\n",
    "    runtime_offset + runtime_index_by_group[\"Standard\"], # Độ dài chuẩn\n",
    "    director_offset + director_index_by_name[\"other\"],  # Đạo diễn khác\n",
    "    writer_offset + writer_index_by_name[\"other\"],  # Writer khác\n",
    "    star_offset + star_index_by_name[\"other\"]  # Diễn viên khác\n",
    "]\n",
    "\n",
    "potential_users = find_potential_users_for_new_movie(\n",
    "    model=model,\n",
    "    movie_features=new_movie_features,\n",
    "    user_features=user_features,\n",
    "    user_index_by_username=user_index_by_username,\n",
    "    k=10,\n",
    "    rating_threshold=8.0\n",
    ")\n",
    "\n",
    "print(\"\\nTop 10 người dùng có khả năng đánh giá cao phim mới:\")\n",
    "for i, (username, rating) in enumerate(potential_users, 1):\n",
    "    print(f\"{i}. {username} - Predicted rating: {rating:.2f}/10\")"
   ]
  },
  {
   "cell_type": "code",
   "execution_count": 80,
   "id": "49c7e34f",
   "metadata": {
    "execution": {
     "iopub.execute_input": "2025-05-25T09:55:04.076726Z",
     "iopub.status.busy": "2025-05-25T09:55:04.076492Z",
     "iopub.status.idle": "2025-05-25T09:55:15.085287Z",
     "shell.execute_reply": "2025-05-25T09:55:15.084371Z"
    },
    "papermill": {
     "duration": 11.031957,
     "end_time": "2025-05-25T09:55:15.086584",
     "exception": false,
     "start_time": "2025-05-25T09:55:04.054627",
     "status": "completed"
    },
    "tags": []
   },
   "outputs": [
    {
     "name": "stdout",
     "output_type": "stream",
     "text": [
      "Generating recommendations for different user profiles...\n",
      "\n",
      "Top 5 recommendations for Teen Student:\n",
      "1. Movie ID: 1918 - Predicted Rating: 8.82/10\n",
      "2. Movie ID: 2465 - Predicted Rating: 8.70/10\n",
      "3. Movie ID: 1546 - Predicted Rating: 8.50/10\n",
      "4. Movie ID: 4562 - Predicted Rating: 8.42/10\n",
      "5. Movie ID: 2709 - Predicted Rating: 8.42/10\n",
      "--------------------------------------------------\n",
      "\n",
      "Top 5 recommendations for College Student:\n",
      "1. Movie ID: 531 - Predicted Rating: 9.07/10\n",
      "2. Movie ID: 2333 - Predicted Rating: 9.06/10\n",
      "3. Movie ID: 2022 - Predicted Rating: 9.05/10\n",
      "4. Movie ID: 2916 - Predicted Rating: 8.99/10\n",
      "5. Movie ID: 1918 - Predicted Rating: 8.99/10\n",
      "--------------------------------------------------\n",
      "\n",
      "Top 5 recommendations for Young Professional:\n",
      "1. Movie ID: 1524 - Predicted Rating: 8.86/10\n",
      "2. Movie ID: 1918 - Predicted Rating: 8.85/10\n",
      "3. Movie ID: 5906 - Predicted Rating: 8.84/10\n",
      "4. Movie ID: 3336 - Predicted Rating: 8.79/10\n",
      "5. Movie ID: 2022 - Predicted Rating: 8.64/10\n",
      "--------------------------------------------------\n",
      "\n",
      "Top 5 recommendations for Middle-aged Manager:\n",
      "1. Movie ID: 3336 - Predicted Rating: 9.06/10\n",
      "2. Movie ID: 6667 - Predicted Rating: 9.02/10\n",
      "3. Movie ID: 3247 - Predicted Rating: 9.00/10\n",
      "4. Movie ID: 1524 - Predicted Rating: 8.79/10\n",
      "5. Movie ID: 1536 - Predicted Rating: 8.79/10\n",
      "--------------------------------------------------\n",
      "\n",
      "Top 5 recommendations for Senior Academic:\n",
      "1. Movie ID: 832 - Predicted Rating: 8.87/10\n",
      "2. Movie ID: 3884 - Predicted Rating: 8.85/10\n",
      "3. Movie ID: 4392 - Predicted Rating: 8.82/10\n",
      "4. Movie ID: 479 - Predicted Rating: 8.71/10\n",
      "5. Movie ID: 1272 - Predicted Rating: 8.70/10\n",
      "--------------------------------------------------\n",
      "\n",
      "Top 5 recommendations for Artist:\n",
      "1. Movie ID: 1524 - Predicted Rating: 9.69/10\n",
      "2. Movie ID: 3336 - Predicted Rating: 9.65/10\n",
      "3. Movie ID: 1918 - Predicted Rating: 9.61/10\n",
      "4. Movie ID: 5906 - Predicted Rating: 9.55/10\n",
      "5. Movie ID: 3257 - Predicted Rating: 9.39/10\n",
      "--------------------------------------------------\n",
      "\n",
      "Top 5 recommendations for Doctor:\n",
      "1. Movie ID: 224 - Predicted Rating: 9.16/10\n",
      "2. Movie ID: 3336 - Predicted Rating: 9.07/10\n",
      "3. Movie ID: 4567 - Predicted Rating: 8.96/10\n",
      "4. Movie ID: 4516 - Predicted Rating: 8.94/10\n",
      "5. Movie ID: 1536 - Predicted Rating: 8.90/10\n",
      "--------------------------------------------------\n",
      "\n",
      "Top 5 recommendations for Retiree:\n",
      "1. Movie ID: 3336 - Predicted Rating: 9.96/10\n",
      "2. Movie ID: 3247 - Predicted Rating: 9.41/10\n",
      "3. Movie ID: 1524 - Predicted Rating: 9.21/10\n",
      "4. Movie ID: 2073 - Predicted Rating: 9.03/10\n",
      "5. Movie ID: 5906 - Predicted Rating: 8.91/10\n",
      "--------------------------------------------------\n",
      "\n",
      "Top 5 recommendations for Young Writer:\n",
      "1. Movie ID: 1918 - Predicted Rating: 10.02/10\n",
      "2. Movie ID: 1524 - Predicted Rating: 9.48/10\n",
      "3. Movie ID: 1245 - Predicted Rating: 9.39/10\n",
      "4. Movie ID: 1536 - Predicted Rating: 9.15/10\n",
      "5. Movie ID: 3908 - Predicted Rating: 9.08/10\n",
      "--------------------------------------------------\n",
      "\n",
      "Top 5 recommendations for Tech Professional:\n",
      "1. Movie ID: 1536 - Predicted Rating: 8.55/10\n",
      "2. Movie ID: 4516 - Predicted Rating: 8.52/10\n",
      "3. Movie ID: 5250 - Predicted Rating: 8.51/10\n",
      "4. Movie ID: 3336 - Predicted Rating: 8.47/10\n",
      "5. Movie ID: 3257 - Predicted Rating: 8.46/10\n",
      "--------------------------------------------------\n"
     ]
    }
   ],
   "source": [
    "#Thử với các kiểu user khác nhau\n",
    "user_profiles = {\n",
    "    \"Teen Student\": [\n",
    "        gender_offset + gender_index_by_name[\"Male\"],\n",
    "        age_offset + age_index_by_name[1],      # Under 18\n",
    "        occupation_offset + occupation_index_by_name[10]  # K-12 student\n",
    "    ],\n",
    "    \n",
    "    \"College Student\": [\n",
    "        gender_offset + gender_index_by_name[\"Female\"],\n",
    "        age_offset + age_index_by_name[18],     # 18-24\n",
    "        occupation_offset + occupation_index_by_name[4]   # college student\n",
    "    ],\n",
    "    \n",
    "    \"Young Professional\": [\n",
    "        gender_offset + gender_index_by_name[\"Male\"],\n",
    "        age_offset + age_index_by_name[25],     # 25-34\n",
    "        occupation_offset + occupation_index_by_name[12]  # programmer\n",
    "    ],\n",
    "    \n",
    "    \"Middle-aged Manager\": [\n",
    "        gender_offset + gender_index_by_name[\"Female\"],\n",
    "        age_offset + age_index_by_name[35],     # 35-44\n",
    "        occupation_offset + occupation_index_by_name[7]   # executive/managerial\n",
    "    ],\n",
    "    \n",
    "    \"Senior Academic\": [\n",
    "        gender_offset + gender_index_by_name[\"Male\"],\n",
    "        age_offset + age_index_by_name[45],     # 45-49\n",
    "        occupation_offset + occupation_index_by_name[1]   # academic/educator\n",
    "    ],\n",
    "    \n",
    "    \"Artist\": [\n",
    "        gender_offset + gender_index_by_name[\"Female\"],\n",
    "        age_offset + age_index_by_name[25],     # 25-34\n",
    "        occupation_offset + occupation_index_by_name[2]   # artist\n",
    "    ],\n",
    "    \n",
    "    \"Doctor\": [\n",
    "        gender_offset + gender_index_by_name[\"Male\"],\n",
    "        age_offset + age_index_by_name[35],     # 35-44\n",
    "        occupation_offset + occupation_index_by_name[6]   # doctor/health care\n",
    "    ],\n",
    "    \n",
    "    \"Retiree\": [\n",
    "        gender_offset + gender_index_by_name[\"Female\"],\n",
    "        age_offset + age_index_by_name[56],     # 56+\n",
    "        occupation_offset + occupation_index_by_name[13]  # retired\n",
    "    ],\n",
    "    \n",
    "    \"Young Writer\": [\n",
    "        gender_offset + gender_index_by_name[\"Female\"],\n",
    "        age_offset + age_index_by_name[25],     # 25-34\n",
    "        occupation_offset + occupation_index_by_name[20]  # writer\n",
    "    ],\n",
    "    \n",
    "    \"Tech Professional\": [\n",
    "        gender_offset + gender_index_by_name[\"Male\"],\n",
    "        age_offset + age_index_by_name[35],     # 35-44\n",
    "        occupation_offset + occupation_index_by_name[17]  # technician/engineer\n",
    "    ]\n",
    "}\n",
    "\n",
    "# Test recommendations for each profile\n",
    "print(\"Generating recommendations for different user profiles...\")\n",
    "for profile_name, profile_features in user_profiles.items():\n",
    "    print(f\"\\nTop 5 recommendations for {profile_name}:\")\n",
    "    recommendations = recommend_for_new_user(\n",
    "        model=model,\n",
    "        user_features=profile_features,\n",
    "        movie_features=movie_features,\n",
    "        k=5\n",
    "    )\n",
    "    \n",
    "    for i, (movie_idx, rating) in enumerate(recommendations, 1):\n",
    "        movie_title = f\"Movie ID: {movie_idx}\"\n",
    "        print(f\"{i}. {movie_title} - Predicted Rating: {rating:.2f}/10\")\n",
    "    print(\"-\" * 50)"
   ]
  },
  {
   "cell_type": "markdown",
   "id": "6e447e9b",
   "metadata": {
    "papermill": {
     "duration": 0.020941,
     "end_time": "2025-05-25T09:55:15.129543",
     "exception": false,
     "start_time": "2025-05-25T09:55:15.108602",
     "status": "completed"
    },
    "tags": []
   },
   "source": [
    "# 5. Save Model"
   ]
  },
  {
   "cell_type": "code",
   "execution_count": 81,
   "id": "a729e887",
   "metadata": {
    "execution": {
     "iopub.execute_input": "2025-05-25T09:55:15.172562Z",
     "iopub.status.busy": "2025-05-25T09:55:15.172278Z",
     "iopub.status.idle": "2025-05-25T09:55:15.185273Z",
     "shell.execute_reply": "2025-05-25T09:55:15.184720Z"
    },
    "papermill": {
     "duration": 0.035802,
     "end_time": "2025-05-25T09:55:15.186400",
     "exception": false,
     "start_time": "2025-05-25T09:55:15.150598",
     "status": "completed"
    },
    "tags": []
   },
   "outputs": [
    {
     "data": {
      "text/html": [
       "<div>\n",
       "<style scoped>\n",
       "    .dataframe tbody tr th:only-of-type {\n",
       "        vertical-align: middle;\n",
       "    }\n",
       "\n",
       "    .dataframe tbody tr th {\n",
       "        vertical-align: top;\n",
       "    }\n",
       "\n",
       "    .dataframe thead th {\n",
       "        text-align: right;\n",
       "    }\n",
       "</style>\n",
       "<table border=\"1\" class=\"dataframe\">\n",
       "  <thead>\n",
       "    <tr style=\"text-align: right;\">\n",
       "      <th></th>\n",
       "      <th>ID</th>\n",
       "      <th>Genres</th>\n",
       "      <th>Directors</th>\n",
       "      <th>Writers</th>\n",
       "      <th>Stars</th>\n",
       "      <th>Year_Group</th>\n",
       "      <th>Runtime_group</th>\n",
       "    </tr>\n",
       "  </thead>\n",
       "  <tbody>\n",
       "    <tr>\n",
       "      <th>0</th>\n",
       "      <td>tt0283530</td>\n",
       "      <td>[drama]</td>\n",
       "      <td>[other]</td>\n",
       "      <td>[other]</td>\n",
       "      <td>[emile hirsch, other]</td>\n",
       "      <td>2000</td>\n",
       "      <td>Standard</td>\n",
       "    </tr>\n",
       "    <tr>\n",
       "      <th>1</th>\n",
       "      <td>tt6859762</td>\n",
       "      <td>[drama, horror, mystery]</td>\n",
       "      <td>[other]</td>\n",
       "      <td>[other]</td>\n",
       "      <td>[domhnall gleeson, other]</td>\n",
       "      <td>2015</td>\n",
       "      <td>Standard</td>\n",
       "    </tr>\n",
       "    <tr>\n",
       "      <th>2</th>\n",
       "      <td>tt1196204</td>\n",
       "      <td>[comedy, drama]</td>\n",
       "      <td>[other]</td>\n",
       "      <td>[other]</td>\n",
       "      <td>[felicity jones, other]</td>\n",
       "      <td>2010</td>\n",
       "      <td>Standard</td>\n",
       "    </tr>\n",
       "    <tr>\n",
       "      <th>3</th>\n",
       "      <td>tt3463106</td>\n",
       "      <td>[drama, horror, sci-fi, thriller, zombie horror]</td>\n",
       "      <td>[other]</td>\n",
       "      <td>[other]</td>\n",
       "      <td>[elliot page, other]</td>\n",
       "      <td>2015</td>\n",
       "      <td>Standard</td>\n",
       "    </tr>\n",
       "    <tr>\n",
       "      <th>4</th>\n",
       "      <td>tt1023490</td>\n",
       "      <td>[biography, drama]</td>\n",
       "      <td>[paolo sorrentino]</td>\n",
       "      <td>[paolo sorrentino]</td>\n",
       "      <td>[other]</td>\n",
       "      <td>2005</td>\n",
       "      <td>Standard</td>\n",
       "    </tr>\n",
       "  </tbody>\n",
       "</table>\n",
       "</div>"
      ],
      "text/plain": [
       "          ID                                            Genres  \\\n",
       "0  tt0283530                                           [drama]   \n",
       "1  tt6859762                          [drama, horror, mystery]   \n",
       "2  tt1196204                                   [comedy, drama]   \n",
       "3  tt3463106  [drama, horror, sci-fi, thriller, zombie horror]   \n",
       "4  tt1023490                                [biography, drama]   \n",
       "\n",
       "            Directors             Writers                      Stars  \\\n",
       "0             [other]             [other]      [emile hirsch, other]   \n",
       "1             [other]             [other]  [domhnall gleeson, other]   \n",
       "2             [other]             [other]    [felicity jones, other]   \n",
       "3             [other]             [other]       [elliot page, other]   \n",
       "4  [paolo sorrentino]  [paolo sorrentino]                    [other]   \n",
       "\n",
       "   Year_Group Runtime_group  \n",
       "0        2000      Standard  \n",
       "1        2015      Standard  \n",
       "2        2010      Standard  \n",
       "3        2015      Standard  \n",
       "4        2005      Standard  "
      ]
     },
     "execution_count": 81,
     "metadata": {},
     "output_type": "execute_result"
    }
   ],
   "source": [
    "df_movies.head()"
   ]
  },
  {
   "cell_type": "code",
   "execution_count": 82,
   "id": "d551d1ef",
   "metadata": {
    "execution": {
     "iopub.execute_input": "2025-05-25T09:55:15.230809Z",
     "iopub.status.busy": "2025-05-25T09:55:15.230172Z",
     "iopub.status.idle": "2025-05-25T09:55:15.284167Z",
     "shell.execute_reply": "2025-05-25T09:55:15.283108Z"
    },
    "papermill": {
     "duration": 0.077599,
     "end_time": "2025-05-25T09:55:15.285716",
     "exception": false,
     "start_time": "2025-05-25T09:55:15.208117",
     "status": "completed"
    },
    "tags": []
   },
   "outputs": [
    {
     "data": {
      "text/html": [
       "<div>\n",
       "<style scoped>\n",
       "    .dataframe tbody tr th:only-of-type {\n",
       "        vertical-align: middle;\n",
       "    }\n",
       "\n",
       "    .dataframe tbody tr th {\n",
       "        vertical-align: top;\n",
       "    }\n",
       "\n",
       "    .dataframe thead th {\n",
       "        text-align: right;\n",
       "    }\n",
       "</style>\n",
       "<table border=\"1\" class=\"dataframe\">\n",
       "  <thead>\n",
       "    <tr style=\"text-align: right;\">\n",
       "      <th></th>\n",
       "      <th>ID</th>\n",
       "      <th>Title</th>\n",
       "      <th>Genres</th>\n",
       "      <th>Rating</th>\n",
       "      <th>Year</th>\n",
       "      <th>Numrate</th>\n",
       "      <th>Runtime</th>\n",
       "      <th>Image</th>\n",
       "      <th>Directors</th>\n",
       "      <th>Writers</th>\n",
       "      <th>Stars</th>\n",
       "    </tr>\n",
       "  </thead>\n",
       "  <tbody>\n",
       "    <tr>\n",
       "      <th>0</th>\n",
       "      <td>tt0283530</td>\n",
       "      <td>The Emperor's Club</td>\n",
       "      <td>Drama</td>\n",
       "      <td>6.9</td>\n",
       "      <td>2002</td>\n",
       "      <td>18K</td>\n",
       "      <td>109</td>\n",
       "      <td>https://m.media-amazon.com/images/M/MV5BZmNlNz...</td>\n",
       "      <td>Michael Hoffman</td>\n",
       "      <td>Ethan Canin, Neil Tolkin</td>\n",
       "      <td>Kevin Kline, Emile Hirsch, Joel Gretsch</td>\n",
       "    </tr>\n",
       "    <tr>\n",
       "      <th>1</th>\n",
       "      <td>tt6859762</td>\n",
       "      <td>The Little Stranger</td>\n",
       "      <td>Drama, Horror, Mystery</td>\n",
       "      <td>5.5</td>\n",
       "      <td>2018</td>\n",
       "      <td>11K</td>\n",
       "      <td>111</td>\n",
       "      <td>https://m.media-amazon.com/images/M/MV5BMTYyNz...</td>\n",
       "      <td>Lenny Abrahamson</td>\n",
       "      <td>Lucinda Coxon, Sarah Waters</td>\n",
       "      <td>Domhnall Gleeson, Will Poulter, Ruth Wilson</td>\n",
       "    </tr>\n",
       "    <tr>\n",
       "      <th>2</th>\n",
       "      <td>tt1196204</td>\n",
       "      <td>Cemetery Junction</td>\n",
       "      <td>Comedy, Drama</td>\n",
       "      <td>6.8</td>\n",
       "      <td>2010</td>\n",
       "      <td>24K</td>\n",
       "      <td>95</td>\n",
       "      <td>https://m.media-amazon.com/images/M/MV5BMTQ1Mj...</td>\n",
       "      <td>Ricky Gervais, Stephen Merchant</td>\n",
       "      <td>Ricky Gervais, Stephen Merchant</td>\n",
       "      <td>Christian Cooke, Felicity Jones, Tom Hughes</td>\n",
       "    </tr>\n",
       "    <tr>\n",
       "      <th>3</th>\n",
       "      <td>tt3463106</td>\n",
       "      <td>The Cured</td>\n",
       "      <td>Zombie Horror, Drama, Horror, Sci-Fi, Thriller</td>\n",
       "      <td>5.6</td>\n",
       "      <td>2017</td>\n",
       "      <td>9.8K</td>\n",
       "      <td>95</td>\n",
       "      <td>https://m.media-amazon.com/images/M/MV5BMmIwOD...</td>\n",
       "      <td>David Freyne</td>\n",
       "      <td>David Freyne</td>\n",
       "      <td>Elliot Page, Sam Keeley, Tom Vaughan-Lawlor</td>\n",
       "    </tr>\n",
       "    <tr>\n",
       "      <th>4</th>\n",
       "      <td>tt1023490</td>\n",
       "      <td>Il Divo</td>\n",
       "      <td>Biography, Drama</td>\n",
       "      <td>7.2</td>\n",
       "      <td>2008</td>\n",
       "      <td>20K</td>\n",
       "      <td>110</td>\n",
       "      <td>https://m.media-amazon.com/images/M/MV5BZTJhZT...</td>\n",
       "      <td>Paolo Sorrentino</td>\n",
       "      <td>Paolo Sorrentino</td>\n",
       "      <td>Toni Servillo, Anna Bonaiuto, Giulio Bosetti</td>\n",
       "    </tr>\n",
       "  </tbody>\n",
       "</table>\n",
       "</div>"
      ],
      "text/plain": [
       "          ID                Title  \\\n",
       "0  tt0283530   The Emperor's Club   \n",
       "1  tt6859762  The Little Stranger   \n",
       "2  tt1196204    Cemetery Junction   \n",
       "3  tt3463106            The Cured   \n",
       "4  tt1023490              Il Divo   \n",
       "\n",
       "                                           Genres  Rating  Year Numrate  \\\n",
       "0                                           Drama     6.9  2002     18K   \n",
       "1                          Drama, Horror, Mystery     5.5  2018     11K   \n",
       "2                                   Comedy, Drama     6.8  2010     24K   \n",
       "3  Zombie Horror, Drama, Horror, Sci-Fi, Thriller     5.6  2017    9.8K   \n",
       "4                                Biography, Drama     7.2  2008     20K   \n",
       "\n",
       "   Runtime                                              Image  \\\n",
       "0      109  https://m.media-amazon.com/images/M/MV5BZmNlNz...   \n",
       "1      111  https://m.media-amazon.com/images/M/MV5BMTYyNz...   \n",
       "2       95  https://m.media-amazon.com/images/M/MV5BMTQ1Mj...   \n",
       "3       95  https://m.media-amazon.com/images/M/MV5BMmIwOD...   \n",
       "4      110  https://m.media-amazon.com/images/M/MV5BZTJhZT...   \n",
       "\n",
       "                         Directors                          Writers  \\\n",
       "0                  Michael Hoffman         Ethan Canin, Neil Tolkin   \n",
       "1                 Lenny Abrahamson      Lucinda Coxon, Sarah Waters   \n",
       "2  Ricky Gervais, Stephen Merchant  Ricky Gervais, Stephen Merchant   \n",
       "3                     David Freyne                     David Freyne   \n",
       "4                 Paolo Sorrentino                 Paolo Sorrentino   \n",
       "\n",
       "                                          Stars  \n",
       "0       Kevin Kline, Emile Hirsch, Joel Gretsch  \n",
       "1   Domhnall Gleeson, Will Poulter, Ruth Wilson  \n",
       "2   Christian Cooke, Felicity Jones, Tom Hughes  \n",
       "3   Elliot Page, Sam Keeley, Tom Vaughan-Lawlor  \n",
       "4  Toni Servillo, Anna Bonaiuto, Giulio Bosetti  "
      ]
     },
     "execution_count": 82,
     "metadata": {},
     "output_type": "execute_result"
    }
   ],
   "source": [
    "movies = pd.read_csv('/kaggle/input/imdb-dataset/movies.csv')\n",
    "movies.head()"
   ]
  },
  {
   "cell_type": "code",
   "execution_count": 83,
   "id": "34f1aaa3",
   "metadata": {
    "execution": {
     "iopub.execute_input": "2025-05-25T09:55:15.332020Z",
     "iopub.status.busy": "2025-05-25T09:55:15.331781Z",
     "iopub.status.idle": "2025-05-25T09:55:15.358383Z",
     "shell.execute_reply": "2025-05-25T09:55:15.357708Z"
    },
    "papermill": {
     "duration": 0.05055,
     "end_time": "2025-05-25T09:55:15.359462",
     "exception": false,
     "start_time": "2025-05-25T09:55:15.308912",
     "status": "completed"
    },
    "tags": []
   },
   "outputs": [
    {
     "data": {
      "text/html": [
       "<div>\n",
       "<style scoped>\n",
       "    .dataframe tbody tr th:only-of-type {\n",
       "        vertical-align: middle;\n",
       "    }\n",
       "\n",
       "    .dataframe tbody tr th {\n",
       "        vertical-align: top;\n",
       "    }\n",
       "\n",
       "    .dataframe thead th {\n",
       "        text-align: right;\n",
       "    }\n",
       "</style>\n",
       "<table border=\"1\" class=\"dataframe\">\n",
       "  <thead>\n",
       "    <tr style=\"text-align: right;\">\n",
       "      <th></th>\n",
       "      <th>ID</th>\n",
       "      <th>Genres</th>\n",
       "      <th>Directors</th>\n",
       "      <th>Writers</th>\n",
       "      <th>Stars</th>\n",
       "      <th>Year_Group</th>\n",
       "      <th>Runtime_group</th>\n",
       "      <th>Rating</th>\n",
       "      <th>Year</th>\n",
       "      <th>Numrate</th>\n",
       "      <th>Runtime</th>\n",
       "      <th>Image</th>\n",
       "      <th>Title</th>\n",
       "    </tr>\n",
       "  </thead>\n",
       "  <tbody>\n",
       "    <tr>\n",
       "      <th>0</th>\n",
       "      <td>tt0283530</td>\n",
       "      <td>[drama]</td>\n",
       "      <td>[other]</td>\n",
       "      <td>[other]</td>\n",
       "      <td>[emile hirsch, other]</td>\n",
       "      <td>2000</td>\n",
       "      <td>Standard</td>\n",
       "      <td>6.9</td>\n",
       "      <td>2002</td>\n",
       "      <td>18K</td>\n",
       "      <td>109</td>\n",
       "      <td>https://m.media-amazon.com/images/M/MV5BZmNlNz...</td>\n",
       "      <td>The Emperor's Club</td>\n",
       "    </tr>\n",
       "    <tr>\n",
       "      <th>1</th>\n",
       "      <td>tt6859762</td>\n",
       "      <td>[drama, horror, mystery]</td>\n",
       "      <td>[other]</td>\n",
       "      <td>[other]</td>\n",
       "      <td>[domhnall gleeson, other]</td>\n",
       "      <td>2015</td>\n",
       "      <td>Standard</td>\n",
       "      <td>5.5</td>\n",
       "      <td>2018</td>\n",
       "      <td>11K</td>\n",
       "      <td>111</td>\n",
       "      <td>https://m.media-amazon.com/images/M/MV5BMTYyNz...</td>\n",
       "      <td>The Little Stranger</td>\n",
       "    </tr>\n",
       "    <tr>\n",
       "      <th>2</th>\n",
       "      <td>tt1196204</td>\n",
       "      <td>[comedy, drama]</td>\n",
       "      <td>[other]</td>\n",
       "      <td>[other]</td>\n",
       "      <td>[felicity jones, other]</td>\n",
       "      <td>2010</td>\n",
       "      <td>Standard</td>\n",
       "      <td>6.8</td>\n",
       "      <td>2010</td>\n",
       "      <td>24K</td>\n",
       "      <td>95</td>\n",
       "      <td>https://m.media-amazon.com/images/M/MV5BMTQ1Mj...</td>\n",
       "      <td>Cemetery Junction</td>\n",
       "    </tr>\n",
       "    <tr>\n",
       "      <th>3</th>\n",
       "      <td>tt3463106</td>\n",
       "      <td>[drama, horror, sci-fi, thriller, zombie horror]</td>\n",
       "      <td>[other]</td>\n",
       "      <td>[other]</td>\n",
       "      <td>[elliot page, other]</td>\n",
       "      <td>2015</td>\n",
       "      <td>Standard</td>\n",
       "      <td>5.6</td>\n",
       "      <td>2017</td>\n",
       "      <td>9.8K</td>\n",
       "      <td>95</td>\n",
       "      <td>https://m.media-amazon.com/images/M/MV5BMmIwOD...</td>\n",
       "      <td>The Cured</td>\n",
       "    </tr>\n",
       "    <tr>\n",
       "      <th>4</th>\n",
       "      <td>tt1023490</td>\n",
       "      <td>[biography, drama]</td>\n",
       "      <td>[paolo sorrentino]</td>\n",
       "      <td>[paolo sorrentino]</td>\n",
       "      <td>[other]</td>\n",
       "      <td>2005</td>\n",
       "      <td>Standard</td>\n",
       "      <td>7.2</td>\n",
       "      <td>2008</td>\n",
       "      <td>20K</td>\n",
       "      <td>110</td>\n",
       "      <td>https://m.media-amazon.com/images/M/MV5BZTJhZT...</td>\n",
       "      <td>Il Divo</td>\n",
       "    </tr>\n",
       "  </tbody>\n",
       "</table>\n",
       "</div>"
      ],
      "text/plain": [
       "          ID                                            Genres  \\\n",
       "0  tt0283530                                           [drama]   \n",
       "1  tt6859762                          [drama, horror, mystery]   \n",
       "2  tt1196204                                   [comedy, drama]   \n",
       "3  tt3463106  [drama, horror, sci-fi, thriller, zombie horror]   \n",
       "4  tt1023490                                [biography, drama]   \n",
       "\n",
       "            Directors             Writers                      Stars  \\\n",
       "0             [other]             [other]      [emile hirsch, other]   \n",
       "1             [other]             [other]  [domhnall gleeson, other]   \n",
       "2             [other]             [other]    [felicity jones, other]   \n",
       "3             [other]             [other]       [elliot page, other]   \n",
       "4  [paolo sorrentino]  [paolo sorrentino]                    [other]   \n",
       "\n",
       "   Year_Group Runtime_group  Rating  Year Numrate  Runtime  \\\n",
       "0        2000      Standard     6.9  2002     18K      109   \n",
       "1        2015      Standard     5.5  2018     11K      111   \n",
       "2        2010      Standard     6.8  2010     24K       95   \n",
       "3        2015      Standard     5.6  2017    9.8K       95   \n",
       "4        2005      Standard     7.2  2008     20K      110   \n",
       "\n",
       "                                               Image                Title  \n",
       "0  https://m.media-amazon.com/images/M/MV5BZmNlNz...   The Emperor's Club  \n",
       "1  https://m.media-amazon.com/images/M/MV5BMTYyNz...  The Little Stranger  \n",
       "2  https://m.media-amazon.com/images/M/MV5BMTQ1Mj...    Cemetery Junction  \n",
       "3  https://m.media-amazon.com/images/M/MV5BMmIwOD...            The Cured  \n",
       "4  https://m.media-amazon.com/images/M/MV5BZTJhZT...              Il Divo  "
      ]
     },
     "execution_count": 83,
     "metadata": {},
     "output_type": "execute_result"
    }
   ],
   "source": [
    "df_movies_for_save = df_movies.merge(\n",
    "    movies[['ID', 'Rating', 'Year', 'Numrate', 'Runtime', 'Image', 'Title']],\n",
    "    on='ID',\n",
    "    how='left'  # hoặc 'inner' nếu bạn chỉ muốn giữ những ID trùng nhau\n",
    ")\n",
    "df_movies_for_save.head()"
   ]
  },
  {
   "cell_type": "code",
   "execution_count": 84,
   "id": "bbac2141",
   "metadata": {
    "execution": {
     "iopub.execute_input": "2025-05-25T09:55:15.403990Z",
     "iopub.status.busy": "2025-05-25T09:55:15.403549Z",
     "iopub.status.idle": "2025-05-25T09:55:15.501800Z",
     "shell.execute_reply": "2025-05-25T09:55:15.500963Z"
    },
    "papermill": {
     "duration": 0.122058,
     "end_time": "2025-05-25T09:55:15.503541",
     "exception": false,
     "start_time": "2025-05-25T09:55:15.381483",
     "status": "completed"
    },
    "tags": []
   },
   "outputs": [],
   "source": [
    "torch.save(model.state_dict(), \"factorization_machine.pt\")"
   ]
  },
  {
   "cell_type": "code",
   "execution_count": 85,
   "id": "15e92861",
   "metadata": {
    "execution": {
     "iopub.execute_input": "2025-05-25T09:55:15.549212Z",
     "iopub.status.busy": "2025-05-25T09:55:15.548757Z",
     "iopub.status.idle": "2025-05-25T09:55:19.093444Z",
     "shell.execute_reply": "2025-05-25T09:55:19.092847Z"
    },
    "papermill": {
     "duration": 3.568662,
     "end_time": "2025-05-25T09:55:19.094820",
     "exception": false,
     "start_time": "2025-05-25T09:55:15.526158",
     "status": "completed"
    },
    "tags": []
   },
   "outputs": [],
   "source": [
    "ratings.to_csv('ratings.csv', index=False)\n",
    "df_movies_for_save.to_csv('movies.csv', index=False)\n",
    "user_df.to_csv('users.csv', index=False)"
   ]
  },
  {
   "cell_type": "code",
   "execution_count": 86,
   "id": "b9a09c37",
   "metadata": {
    "execution": {
     "iopub.execute_input": "2025-05-25T09:55:19.140560Z",
     "iopub.status.busy": "2025-05-25T09:55:19.139789Z",
     "iopub.status.idle": "2025-05-25T09:55:19.181766Z",
     "shell.execute_reply": "2025-05-25T09:55:19.180997Z"
    },
    "papermill": {
     "duration": 0.065544,
     "end_time": "2025-05-25T09:55:19.182975",
     "exception": false,
     "start_time": "2025-05-25T09:55:19.117431",
     "status": "completed"
    },
    "tags": []
   },
   "outputs": [],
   "source": [
    "import pickle\n",
    "\n",
    "data = {\n",
    "    # Dùng chung\n",
    "    \"movie_features\": movie_features,\n",
    "    \"user_features\": user_features,\n",
    "    \"user_index_by_username\": user_index_by_username,\n",
    "    \"movie_index_by_id\": movie_index_by_id,\n",
    "    \"num_inputs\": model.hparams.num_inputs,\n",
    "    \"embedding_dim\": model.hparams.embedding_dim,\n",
    "    \"learning_rate\": model.hparams.lr,\n",
    "    \"weight_decay\": model.hparams.weight_decay,\n",
    "    \"dropout_rate\": model.hparams.dropout_rate,\n",
    "    \n",
    "    # Thêm các offset\n",
    "    \"gender_offset\": gender_offset,\n",
    "    \"age_offset\": age_offset, \n",
    "    \"occupation_offset\": occupation_offset,\n",
    "    \"movie_offset\": movie_offset,\n",
    "    \"genre_offset\": genre_offset,\n",
    "    \"year_offset\": year_offset,\n",
    "    \"runtime_offset\": runtime_offset,\n",
    "    \"director_offset\": director_offset,\n",
    "    \"writer_offset\": writer_offset,\n",
    "    \"star_offset\": star_offset,\n",
    "\n",
    "    # Thêm các index mapping\n",
    "    \"gender_index_by_name\": gender_index_by_name,\n",
    "    \"age_index_by_name\": age_index_by_name,\n",
    "    \"occupation_index_by_name\": occupation_index_by_name,\n",
    "    \"genre_index_by_name\": genre_index_by_name,\n",
    "    \"year_index_by_group\": year_index_by_group,\n",
    "    \"runtime_index_by_group\": runtime_index_by_group,\n",
    "    \"director_index_by_name\": director_index_by_name,\n",
    "    \"writer_index_by_name\": writer_index_by_name,\n",
    "    \"star_index_by_name\": star_index_by_name\n",
    "}\n",
    "\n",
    "with open('support_data.pkl', \"wb\") as f:\n",
    "    pickle.dump(data, f)"
   ]
  }
 ],
 "metadata": {
  "kaggle": {
   "accelerator": "gpu",
   "dataSources": [
    {
     "datasetId": 7050373,
     "sourceId": 11347405,
     "sourceType": "datasetVersion"
    }
   ],
   "dockerImageVersionId": 31012,
   "isGpuEnabled": true,
   "isInternetEnabled": true,
   "language": "python",
   "sourceType": "notebook"
  },
  "kernelspec": {
   "display_name": "Python 3",
   "language": "python",
   "name": "python3"
  },
  "language_info": {
   "codemirror_mode": {
    "name": "ipython",
    "version": 3
   },
   "file_extension": ".py",
   "mimetype": "text/x-python",
   "name": "python",
   "nbconvert_exporter": "python",
   "pygments_lexer": "ipython3",
   "version": "3.11.11"
  },
  "papermill": {
   "default_parameters": {},
   "duration": 516.902157,
   "end_time": "2025-05-25T09:55:22.334239",
   "environment_variables": {},
   "exception": null,
   "input_path": "__notebook__.ipynb",
   "output_path": "__notebook__.ipynb",
   "parameters": {},
   "start_time": "2025-05-25T09:46:45.432082",
   "version": "2.6.0"
  },
  "widgets": {
   "application/vnd.jupyter.widget-state+json": {
    "state": {
     "03bc77e57edf4e30971c73e4c43e4445": {
      "model_module": "@jupyter-widgets/controls",
      "model_module_version": "2.0.0",
      "model_name": "ProgressStyleModel",
      "state": {
       "_model_module": "@jupyter-widgets/controls",
       "_model_module_version": "2.0.0",
       "_model_name": "ProgressStyleModel",
       "_view_count": null,
       "_view_module": "@jupyter-widgets/base",
       "_view_module_version": "2.0.0",
       "_view_name": "StyleView",
       "bar_color": null,
       "description_width": ""
      }
     },
     "043bc66cb0074c0daee59a4688c7fd37": {
      "model_module": "@jupyter-widgets/controls",
      "model_module_version": "2.0.0",
      "model_name": "HTMLStyleModel",
      "state": {
       "_model_module": "@jupyter-widgets/controls",
       "_model_module_version": "2.0.0",
       "_model_name": "HTMLStyleModel",
       "_view_count": null,
       "_view_module": "@jupyter-widgets/base",
       "_view_module_version": "2.0.0",
       "_view_name": "StyleView",
       "background": null,
       "description_width": "",
       "font_size": null,
       "text_color": null
      }
     },
     "04e02a2a71d34b8490f24e40ba47af60": {
      "model_module": "@jupyter-widgets/controls",
      "model_module_version": "2.0.0",
      "model_name": "HBoxModel",
      "state": {
       "_dom_classes": [],
       "_model_module": "@jupyter-widgets/controls",
       "_model_module_version": "2.0.0",
       "_model_name": "HBoxModel",
       "_view_count": null,
       "_view_module": "@jupyter-widgets/controls",
       "_view_module_version": "2.0.0",
       "_view_name": "HBoxView",
       "box_style": "",
       "children": [
        "IPY_MODEL_835e5a29d82c4090b792626fa93742d8",
        "IPY_MODEL_e1d6da6b9bd74cac8cd67c80e0588564",
        "IPY_MODEL_ef3406e7094a403c8ab6d2fc24baa451"
       ],
       "layout": "IPY_MODEL_a63f064264244f1c83a97cf01a0bef24",
       "tabbable": null,
       "tooltip": null
      }
     },
     "058a111f81054c78ab5098e15b9e5256": {
      "model_module": "@jupyter-widgets/controls",
      "model_module_version": "2.0.0",
      "model_name": "FloatProgressModel",
      "state": {
       "_dom_classes": [],
       "_model_module": "@jupyter-widgets/controls",
       "_model_module_version": "2.0.0",
       "_model_name": "FloatProgressModel",
       "_view_count": null,
       "_view_module": "@jupyter-widgets/controls",
       "_view_module_version": "2.0.0",
       "_view_name": "ProgressView",
       "bar_style": "",
       "description": "",
       "description_allow_html": false,
       "layout": "IPY_MODEL_5d3f09c8bcc546948244a382465402ab",
       "max": 16.0,
       "min": 0.0,
       "orientation": "horizontal",
       "style": "IPY_MODEL_75541097f18b404e978e28cf53f20667",
       "tabbable": null,
       "tooltip": null,
       "value": 16.0
      }
     },
     "05e966533f034bdb91e7cbca216c0631": {
      "model_module": "@jupyter-widgets/base",
      "model_module_version": "2.0.0",
      "model_name": "LayoutModel",
      "state": {
       "_model_module": "@jupyter-widgets/base",
       "_model_module_version": "2.0.0",
       "_model_name": "LayoutModel",
       "_view_count": null,
       "_view_module": "@jupyter-widgets/base",
       "_view_module_version": "2.0.0",
       "_view_name": "LayoutView",
       "align_content": null,
       "align_items": null,
       "align_self": null,
       "border_bottom": null,
       "border_left": null,
       "border_right": null,
       "border_top": null,
       "bottom": null,
       "display": "inline-flex",
       "flex": null,
       "flex_flow": "row wrap",
       "grid_area": null,
       "grid_auto_columns": null,
       "grid_auto_flow": null,
       "grid_auto_rows": null,
       "grid_column": null,
       "grid_gap": null,
       "grid_row": null,
       "grid_template_areas": null,
       "grid_template_columns": null,
       "grid_template_rows": null,
       "height": null,
       "justify_content": null,
       "justify_items": null,
       "left": null,
       "margin": null,
       "max_height": null,
       "max_width": null,
       "min_height": null,
       "min_width": null,
       "object_fit": null,
       "object_position": null,
       "order": null,
       "overflow": null,
       "padding": null,
       "right": null,
       "top": null,
       "visibility": "hidden",
       "width": "100%"
      }
     },
     "0619516b1fd748fcacfb1975e4d14ed4": {
      "model_module": "@jupyter-widgets/controls",
      "model_module_version": "2.0.0",
      "model_name": "HTMLModel",
      "state": {
       "_dom_classes": [],
       "_model_module": "@jupyter-widgets/controls",
       "_model_module_version": "2.0.0",
       "_model_name": "HTMLModel",
       "_view_count": null,
       "_view_module": "@jupyter-widgets/controls",
       "_view_module_version": "2.0.0",
       "_view_name": "HTMLView",
       "description": "",
       "description_allow_html": false,
       "layout": "IPY_MODEL_d5203bd265eb436c83851358684b2ede",
       "placeholder": "​",
       "style": "IPY_MODEL_6f74359ebb264b1fa9fbf50402428bb0",
       "tabbable": null,
       "tooltip": null,
       "value": " 16/16 [00:02&lt;00:00,  7.92it/s]"
      }
     },
     "06c560a3b2784fe4a33a0be6e3ffb23d": {
      "model_module": "@jupyter-widgets/controls",
      "model_module_version": "2.0.0",
      "model_name": "HTMLStyleModel",
      "state": {
       "_model_module": "@jupyter-widgets/controls",
       "_model_module_version": "2.0.0",
       "_model_name": "HTMLStyleModel",
       "_view_count": null,
       "_view_module": "@jupyter-widgets/base",
       "_view_module_version": "2.0.0",
       "_view_name": "StyleView",
       "background": null,
       "description_width": "",
       "font_size": null,
       "text_color": null
      }
     },
     "093f9d07d19244e88aafa55751c23220": {
      "model_module": "@jupyter-widgets/controls",
      "model_module_version": "2.0.0",
      "model_name": "ProgressStyleModel",
      "state": {
       "_model_module": "@jupyter-widgets/controls",
       "_model_module_version": "2.0.0",
       "_model_name": "ProgressStyleModel",
       "_view_count": null,
       "_view_module": "@jupyter-widgets/base",
       "_view_module_version": "2.0.0",
       "_view_name": "StyleView",
       "bar_color": null,
       "description_width": ""
      }
     },
     "0ce4e71203b64834ad424d70cff1ccf5": {
      "model_module": "@jupyter-widgets/base",
      "model_module_version": "2.0.0",
      "model_name": "LayoutModel",
      "state": {
       "_model_module": "@jupyter-widgets/base",
       "_model_module_version": "2.0.0",
       "_model_name": "LayoutModel",
       "_view_count": null,
       "_view_module": "@jupyter-widgets/base",
       "_view_module_version": "2.0.0",
       "_view_name": "LayoutView",
       "align_content": null,
       "align_items": null,
       "align_self": null,
       "border_bottom": null,
       "border_left": null,
       "border_right": null,
       "border_top": null,
       "bottom": null,
       "display": null,
       "flex": "2",
       "flex_flow": null,
       "grid_area": null,
       "grid_auto_columns": null,
       "grid_auto_flow": null,
       "grid_auto_rows": null,
       "grid_column": null,
       "grid_gap": null,
       "grid_row": null,
       "grid_template_areas": null,
       "grid_template_columns": null,
       "grid_template_rows": null,
       "height": null,
       "justify_content": null,
       "justify_items": null,
       "left": null,
       "margin": null,
       "max_height": null,
       "max_width": null,
       "min_height": null,
       "min_width": null,
       "object_fit": null,
       "object_position": null,
       "order": null,
       "overflow": null,
       "padding": null,
       "right": null,
       "top": null,
       "visibility": null,
       "width": null
      }
     },
     "0d95ab10542044d5b00f6f2736b11cae": {
      "model_module": "@jupyter-widgets/base",
      "model_module_version": "2.0.0",
      "model_name": "LayoutModel",
      "state": {
       "_model_module": "@jupyter-widgets/base",
       "_model_module_version": "2.0.0",
       "_model_name": "LayoutModel",
       "_view_count": null,
       "_view_module": "@jupyter-widgets/base",
       "_view_module_version": "2.0.0",
       "_view_name": "LayoutView",
       "align_content": null,
       "align_items": null,
       "align_self": null,
       "border_bottom": null,
       "border_left": null,
       "border_right": null,
       "border_top": null,
       "bottom": null,
       "display": "inline-flex",
       "flex": null,
       "flex_flow": "row wrap",
       "grid_area": null,
       "grid_auto_columns": null,
       "grid_auto_flow": null,
       "grid_auto_rows": null,
       "grid_column": null,
       "grid_gap": null,
       "grid_row": null,
       "grid_template_areas": null,
       "grid_template_columns": null,
       "grid_template_rows": null,
       "height": null,
       "justify_content": null,
       "justify_items": null,
       "left": null,
       "margin": null,
       "max_height": null,
       "max_width": null,
       "min_height": null,
       "min_width": null,
       "object_fit": null,
       "object_position": null,
       "order": null,
       "overflow": null,
       "padding": null,
       "right": null,
       "top": null,
       "visibility": "hidden",
       "width": "100%"
      }
     },
     "0ee01b4d39eb459d908a69baf4ca56aa": {
      "model_module": "@jupyter-widgets/base",
      "model_module_version": "2.0.0",
      "model_name": "LayoutModel",
      "state": {
       "_model_module": "@jupyter-widgets/base",
       "_model_module_version": "2.0.0",
       "_model_name": "LayoutModel",
       "_view_count": null,
       "_view_module": "@jupyter-widgets/base",
       "_view_module_version": "2.0.0",
       "_view_name": "LayoutView",
       "align_content": null,
       "align_items": null,
       "align_self": null,
       "border_bottom": null,
       "border_left": null,
       "border_right": null,
       "border_top": null,
       "bottom": null,
       "display": null,
       "flex": null,
       "flex_flow": null,
       "grid_area": null,
       "grid_auto_columns": null,
       "grid_auto_flow": null,
       "grid_auto_rows": null,
       "grid_column": null,
       "grid_gap": null,
       "grid_row": null,
       "grid_template_areas": null,
       "grid_template_columns": null,
       "grid_template_rows": null,
       "height": null,
       "justify_content": null,
       "justify_items": null,
       "left": null,
       "margin": null,
       "max_height": null,
       "max_width": null,
       "min_height": null,
       "min_width": null,
       "object_fit": null,
       "object_position": null,
       "order": null,
       "overflow": null,
       "padding": null,
       "right": null,
       "top": null,
       "visibility": null,
       "width": null
      }
     },
     "10b2b2625d33486bb8de03a8396ff7c7": {
      "model_module": "@jupyter-widgets/controls",
      "model_module_version": "2.0.0",
      "model_name": "ProgressStyleModel",
      "state": {
       "_model_module": "@jupyter-widgets/controls",
       "_model_module_version": "2.0.0",
       "_model_name": "ProgressStyleModel",
       "_view_count": null,
       "_view_module": "@jupyter-widgets/base",
       "_view_module_version": "2.0.0",
       "_view_name": "StyleView",
       "bar_color": null,
       "description_width": ""
      }
     },
     "10f10031f7dc4e72bb3ec2b2858a2dfc": {
      "model_module": "@jupyter-widgets/controls",
      "model_module_version": "2.0.0",
      "model_name": "ProgressStyleModel",
      "state": {
       "_model_module": "@jupyter-widgets/controls",
       "_model_module_version": "2.0.0",
       "_model_name": "ProgressStyleModel",
       "_view_count": null,
       "_view_module": "@jupyter-widgets/base",
       "_view_module_version": "2.0.0",
       "_view_name": "StyleView",
       "bar_color": null,
       "description_width": ""
      }
     },
     "112f53c1e89441108436e8fab34a52c7": {
      "model_module": "@jupyter-widgets/controls",
      "model_module_version": "2.0.0",
      "model_name": "FloatProgressModel",
      "state": {
       "_dom_classes": [],
       "_model_module": "@jupyter-widgets/controls",
       "_model_module_version": "2.0.0",
       "_model_name": "FloatProgressModel",
       "_view_count": null,
       "_view_module": "@jupyter-widgets/controls",
       "_view_module_version": "2.0.0",
       "_view_name": "ProgressView",
       "bar_style": "",
       "description": "",
       "description_allow_html": false,
       "layout": "IPY_MODEL_ed3e133fc59345009bea5d6ecdc2e450",
       "max": 16.0,
       "min": 0.0,
       "orientation": "horizontal",
       "style": "IPY_MODEL_d1e136faa510449ca940543cdaa8ed02",
       "tabbable": null,
       "tooltip": null,
       "value": 16.0
      }
     },
     "135038ec1a644c6f941cbad41945e37b": {
      "model_module": "@jupyter-widgets/controls",
      "model_module_version": "2.0.0",
      "model_name": "HTMLStyleModel",
      "state": {
       "_model_module": "@jupyter-widgets/controls",
       "_model_module_version": "2.0.0",
       "_model_name": "HTMLStyleModel",
       "_view_count": null,
       "_view_module": "@jupyter-widgets/base",
       "_view_module_version": "2.0.0",
       "_view_name": "StyleView",
       "background": null,
       "description_width": "",
       "font_size": null,
       "text_color": null
      }
     },
     "13bfb249494c442bbee2348936d2b187": {
      "model_module": "@jupyter-widgets/controls",
      "model_module_version": "2.0.0",
      "model_name": "HTMLStyleModel",
      "state": {
       "_model_module": "@jupyter-widgets/controls",
       "_model_module_version": "2.0.0",
       "_model_name": "HTMLStyleModel",
       "_view_count": null,
       "_view_module": "@jupyter-widgets/base",
       "_view_module_version": "2.0.0",
       "_view_name": "StyleView",
       "background": null,
       "description_width": "",
       "font_size": null,
       "text_color": null
      }
     },
     "17a15a6504c14261b9e454e8a8b629b7": {
      "model_module": "@jupyter-widgets/controls",
      "model_module_version": "2.0.0",
      "model_name": "HTMLModel",
      "state": {
       "_dom_classes": [],
       "_model_module": "@jupyter-widgets/controls",
       "_model_module_version": "2.0.0",
       "_model_name": "HTMLModel",
       "_view_count": null,
       "_view_module": "@jupyter-widgets/controls",
       "_view_module_version": "2.0.0",
       "_view_name": "HTMLView",
       "description": "",
       "description_allow_html": false,
       "layout": "IPY_MODEL_bd6495e97cdd4230829cf61029f64d0d",
       "placeholder": "​",
       "style": "IPY_MODEL_13bfb249494c442bbee2348936d2b187",
       "tabbable": null,
       "tooltip": null,
       "value": " 138/138 [00:32&lt;00:00,  4.24it/s, v_num=0]"
      }
     },
     "1aaf3ab991ad4076a095554672c513c8": {
      "model_module": "@jupyter-widgets/controls",
      "model_module_version": "2.0.0",
      "model_name": "HTMLStyleModel",
      "state": {
       "_model_module": "@jupyter-widgets/controls",
       "_model_module_version": "2.0.0",
       "_model_name": "HTMLStyleModel",
       "_view_count": null,
       "_view_module": "@jupyter-widgets/base",
       "_view_module_version": "2.0.0",
       "_view_name": "StyleView",
       "background": null,
       "description_width": "",
       "font_size": null,
       "text_color": null
      }
     },
     "1b71c415f9394459897b560d30b1c781": {
      "model_module": "@jupyter-widgets/controls",
      "model_module_version": "2.0.0",
      "model_name": "FloatProgressModel",
      "state": {
       "_dom_classes": [],
       "_model_module": "@jupyter-widgets/controls",
       "_model_module_version": "2.0.0",
       "_model_name": "FloatProgressModel",
       "_view_count": null,
       "_view_module": "@jupyter-widgets/controls",
       "_view_module_version": "2.0.0",
       "_view_name": "ProgressView",
       "bar_style": "success",
       "description": "",
       "description_allow_html": false,
       "layout": "IPY_MODEL_1f81e500b41a45c492a7865e51ac2f94",
       "max": 138.0,
       "min": 0.0,
       "orientation": "horizontal",
       "style": "IPY_MODEL_d41a1c789c364c8cb73c381a568e95ad",
       "tabbable": null,
       "tooltip": null,
       "value": 138.0
      }
     },
     "1c2b73fc821948369c53a83b2644d89b": {
      "model_module": "@jupyter-widgets/controls",
      "model_module_version": "2.0.0",
      "model_name": "HTMLStyleModel",
      "state": {
       "_model_module": "@jupyter-widgets/controls",
       "_model_module_version": "2.0.0",
       "_model_name": "HTMLStyleModel",
       "_view_count": null,
       "_view_module": "@jupyter-widgets/base",
       "_view_module_version": "2.0.0",
       "_view_name": "StyleView",
       "background": null,
       "description_width": "",
       "font_size": null,
       "text_color": null
      }
     },
     "1d3e0f6969ec47ee937ad2b5be81610b": {
      "model_module": "@jupyter-widgets/controls",
      "model_module_version": "2.0.0",
      "model_name": "ProgressStyleModel",
      "state": {
       "_model_module": "@jupyter-widgets/controls",
       "_model_module_version": "2.0.0",
       "_model_name": "ProgressStyleModel",
       "_view_count": null,
       "_view_module": "@jupyter-widgets/base",
       "_view_module_version": "2.0.0",
       "_view_name": "StyleView",
       "bar_color": null,
       "description_width": ""
      }
     },
     "1f651b1821da40e09e1d771bd0d7f6c9": {
      "model_module": "@jupyter-widgets/controls",
      "model_module_version": "2.0.0",
      "model_name": "FloatProgressModel",
      "state": {
       "_dom_classes": [],
       "_model_module": "@jupyter-widgets/controls",
       "_model_module_version": "2.0.0",
       "_model_name": "FloatProgressModel",
       "_view_count": null,
       "_view_module": "@jupyter-widgets/controls",
       "_view_module_version": "2.0.0",
       "_view_name": "ProgressView",
       "bar_style": "",
       "description": "",
       "description_allow_html": false,
       "layout": "IPY_MODEL_abb572b4c283431bbb8e1172fd757e5f",
       "max": 2.0,
       "min": 0.0,
       "orientation": "horizontal",
       "style": "IPY_MODEL_bfc73c4b9fa548e089c864518ad66acf",
       "tabbable": null,
       "tooltip": null,
       "value": 2.0
      }
     },
     "1f81e500b41a45c492a7865e51ac2f94": {
      "model_module": "@jupyter-widgets/base",
      "model_module_version": "2.0.0",
      "model_name": "LayoutModel",
      "state": {
       "_model_module": "@jupyter-widgets/base",
       "_model_module_version": "2.0.0",
       "_model_name": "LayoutModel",
       "_view_count": null,
       "_view_module": "@jupyter-widgets/base",
       "_view_module_version": "2.0.0",
       "_view_name": "LayoutView",
       "align_content": null,
       "align_items": null,
       "align_self": null,
       "border_bottom": null,
       "border_left": null,
       "border_right": null,
       "border_top": null,
       "bottom": null,
       "display": null,
       "flex": "2",
       "flex_flow": null,
       "grid_area": null,
       "grid_auto_columns": null,
       "grid_auto_flow": null,
       "grid_auto_rows": null,
       "grid_column": null,
       "grid_gap": null,
       "grid_row": null,
       "grid_template_areas": null,
       "grid_template_columns": null,
       "grid_template_rows": null,
       "height": null,
       "justify_content": null,
       "justify_items": null,
       "left": null,
       "margin": null,
       "max_height": null,
       "max_width": null,
       "min_height": null,
       "min_width": null,
       "object_fit": null,
       "object_position": null,
       "order": null,
       "overflow": null,
       "padding": null,
       "right": null,
       "top": null,
       "visibility": null,
       "width": null
      }
     },
     "1fcd7a3188db4321acdf2b382c38364d": {
      "model_module": "@jupyter-widgets/controls",
      "model_module_version": "2.0.0",
      "model_name": "HBoxModel",
      "state": {
       "_dom_classes": [],
       "_model_module": "@jupyter-widgets/controls",
       "_model_module_version": "2.0.0",
       "_model_name": "HBoxModel",
       "_view_count": null,
       "_view_module": "@jupyter-widgets/controls",
       "_view_module_version": "2.0.0",
       "_view_name": "HBoxView",
       "box_style": "",
       "children": [
        "IPY_MODEL_71a36d732fdb4bf6944b7d89a33e75ad",
        "IPY_MODEL_1b71c415f9394459897b560d30b1c781",
        "IPY_MODEL_17a15a6504c14261b9e454e8a8b629b7"
       ],
       "layout": "IPY_MODEL_85eb8f2086ee4aa080514192cfb3ca3b",
       "tabbable": null,
       "tooltip": null
      }
     },
     "205c3d7c6a434777b334d01cba457593": {
      "model_module": "@jupyter-widgets/controls",
      "model_module_version": "2.0.0",
      "model_name": "HBoxModel",
      "state": {
       "_dom_classes": [],
       "_model_module": "@jupyter-widgets/controls",
       "_model_module_version": "2.0.0",
       "_model_name": "HBoxModel",
       "_view_count": null,
       "_view_module": "@jupyter-widgets/controls",
       "_view_module_version": "2.0.0",
       "_view_name": "HBoxView",
       "box_style": "",
       "children": [
        "IPY_MODEL_cecf6c8f11fc41779c7dab926a823eb6",
        "IPY_MODEL_b10124edf0d44d51857cbebffb45a5ee",
        "IPY_MODEL_ece675b5b5064e43b621f6532e691f5e"
       ],
       "layout": "IPY_MODEL_b9f48f55e33d4e248ebf5e7d8d69ddd6",
       "tabbable": null,
       "tooltip": null
      }
     },
     "213f5a5c27a0431a90547e7266b95157": {
      "model_module": "@jupyter-widgets/base",
      "model_module_version": "2.0.0",
      "model_name": "LayoutModel",
      "state": {
       "_model_module": "@jupyter-widgets/base",
       "_model_module_version": "2.0.0",
       "_model_name": "LayoutModel",
       "_view_count": null,
       "_view_module": "@jupyter-widgets/base",
       "_view_module_version": "2.0.0",
       "_view_name": "LayoutView",
       "align_content": null,
       "align_items": null,
       "align_self": null,
       "border_bottom": null,
       "border_left": null,
       "border_right": null,
       "border_top": null,
       "bottom": null,
       "display": null,
       "flex": null,
       "flex_flow": null,
       "grid_area": null,
       "grid_auto_columns": null,
       "grid_auto_flow": null,
       "grid_auto_rows": null,
       "grid_column": null,
       "grid_gap": null,
       "grid_row": null,
       "grid_template_areas": null,
       "grid_template_columns": null,
       "grid_template_rows": null,
       "height": null,
       "justify_content": null,
       "justify_items": null,
       "left": null,
       "margin": null,
       "max_height": null,
       "max_width": null,
       "min_height": null,
       "min_width": null,
       "object_fit": null,
       "object_position": null,
       "order": null,
       "overflow": null,
       "padding": null,
       "right": null,
       "top": null,
       "visibility": null,
       "width": null
      }
     },
     "24402be6aff84f7283c4173687ba51bc": {
      "model_module": "@jupyter-widgets/controls",
      "model_module_version": "2.0.0",
      "model_name": "ProgressStyleModel",
      "state": {
       "_model_module": "@jupyter-widgets/controls",
       "_model_module_version": "2.0.0",
       "_model_name": "ProgressStyleModel",
       "_view_count": null,
       "_view_module": "@jupyter-widgets/base",
       "_view_module_version": "2.0.0",
       "_view_name": "StyleView",
       "bar_color": null,
       "description_width": ""
      }
     },
     "24a52b190cc2448aa01f5d859963fd1d": {
      "model_module": "@jupyter-widgets/controls",
      "model_module_version": "2.0.0",
      "model_name": "HTMLStyleModel",
      "state": {
       "_model_module": "@jupyter-widgets/controls",
       "_model_module_version": "2.0.0",
       "_model_name": "HTMLStyleModel",
       "_view_count": null,
       "_view_module": "@jupyter-widgets/base",
       "_view_module_version": "2.0.0",
       "_view_name": "StyleView",
       "background": null,
       "description_width": "",
       "font_size": null,
       "text_color": null
      }
     },
     "283c5c3338084452b617718d446ee12f": {
      "model_module": "@jupyter-widgets/controls",
      "model_module_version": "2.0.0",
      "model_name": "HTMLStyleModel",
      "state": {
       "_model_module": "@jupyter-widgets/controls",
       "_model_module_version": "2.0.0",
       "_model_name": "HTMLStyleModel",
       "_view_count": null,
       "_view_module": "@jupyter-widgets/base",
       "_view_module_version": "2.0.0",
       "_view_name": "StyleView",
       "background": null,
       "description_width": "",
       "font_size": null,
       "text_color": null
      }
     },
     "293d54e1b73242219e53b7306f1ec4af": {
      "model_module": "@jupyter-widgets/base",
      "model_module_version": "2.0.0",
      "model_name": "LayoutModel",
      "state": {
       "_model_module": "@jupyter-widgets/base",
       "_model_module_version": "2.0.0",
       "_model_name": "LayoutModel",
       "_view_count": null,
       "_view_module": "@jupyter-widgets/base",
       "_view_module_version": "2.0.0",
       "_view_name": "LayoutView",
       "align_content": null,
       "align_items": null,
       "align_self": null,
       "border_bottom": null,
       "border_left": null,
       "border_right": null,
       "border_top": null,
       "bottom": null,
       "display": null,
       "flex": null,
       "flex_flow": null,
       "grid_area": null,
       "grid_auto_columns": null,
       "grid_auto_flow": null,
       "grid_auto_rows": null,
       "grid_column": null,
       "grid_gap": null,
       "grid_row": null,
       "grid_template_areas": null,
       "grid_template_columns": null,
       "grid_template_rows": null,
       "height": null,
       "justify_content": null,
       "justify_items": null,
       "left": null,
       "margin": null,
       "max_height": null,
       "max_width": null,
       "min_height": null,
       "min_width": null,
       "object_fit": null,
       "object_position": null,
       "order": null,
       "overflow": null,
       "padding": null,
       "right": null,
       "top": null,
       "visibility": null,
       "width": null
      }
     },
     "2d31f138dd394905b318fa8096e06d7f": {
      "model_module": "@jupyter-widgets/base",
      "model_module_version": "2.0.0",
      "model_name": "LayoutModel",
      "state": {
       "_model_module": "@jupyter-widgets/base",
       "_model_module_version": "2.0.0",
       "_model_name": "LayoutModel",
       "_view_count": null,
       "_view_module": "@jupyter-widgets/base",
       "_view_module_version": "2.0.0",
       "_view_name": "LayoutView",
       "align_content": null,
       "align_items": null,
       "align_self": null,
       "border_bottom": null,
       "border_left": null,
       "border_right": null,
       "border_top": null,
       "bottom": null,
       "display": null,
       "flex": null,
       "flex_flow": null,
       "grid_area": null,
       "grid_auto_columns": null,
       "grid_auto_flow": null,
       "grid_auto_rows": null,
       "grid_column": null,
       "grid_gap": null,
       "grid_row": null,
       "grid_template_areas": null,
       "grid_template_columns": null,
       "grid_template_rows": null,
       "height": null,
       "justify_content": null,
       "justify_items": null,
       "left": null,
       "margin": null,
       "max_height": null,
       "max_width": null,
       "min_height": null,
       "min_width": null,
       "object_fit": null,
       "object_position": null,
       "order": null,
       "overflow": null,
       "padding": null,
       "right": null,
       "top": null,
       "visibility": null,
       "width": null
      }
     },
     "2d67ea45c4c0441bb8bdad2854b38cb5": {
      "model_module": "@jupyter-widgets/controls",
      "model_module_version": "2.0.0",
      "model_name": "FloatProgressModel",
      "state": {
       "_dom_classes": [],
       "_model_module": "@jupyter-widgets/controls",
       "_model_module_version": "2.0.0",
       "_model_name": "FloatProgressModel",
       "_view_count": null,
       "_view_module": "@jupyter-widgets/controls",
       "_view_module_version": "2.0.0",
       "_view_name": "ProgressView",
       "bar_style": "",
       "description": "",
       "description_allow_html": false,
       "layout": "IPY_MODEL_f3ecf14b185246ab942fbd6eec4077a1",
       "max": 16.0,
       "min": 0.0,
       "orientation": "horizontal",
       "style": "IPY_MODEL_1d3e0f6969ec47ee937ad2b5be81610b",
       "tabbable": null,
       "tooltip": null,
       "value": 16.0
      }
     },
     "2e6579ba35054b3e917ded29c6446bf1": {
      "model_module": "@jupyter-widgets/base",
      "model_module_version": "2.0.0",
      "model_name": "LayoutModel",
      "state": {
       "_model_module": "@jupyter-widgets/base",
       "_model_module_version": "2.0.0",
       "_model_name": "LayoutModel",
       "_view_count": null,
       "_view_module": "@jupyter-widgets/base",
       "_view_module_version": "2.0.0",
       "_view_name": "LayoutView",
       "align_content": null,
       "align_items": null,
       "align_self": null,
       "border_bottom": null,
       "border_left": null,
       "border_right": null,
       "border_top": null,
       "bottom": null,
       "display": null,
       "flex": null,
       "flex_flow": null,
       "grid_area": null,
       "grid_auto_columns": null,
       "grid_auto_flow": null,
       "grid_auto_rows": null,
       "grid_column": null,
       "grid_gap": null,
       "grid_row": null,
       "grid_template_areas": null,
       "grid_template_columns": null,
       "grid_template_rows": null,
       "height": null,
       "justify_content": null,
       "justify_items": null,
       "left": null,
       "margin": null,
       "max_height": null,
       "max_width": null,
       "min_height": null,
       "min_width": null,
       "object_fit": null,
       "object_position": null,
       "order": null,
       "overflow": null,
       "padding": null,
       "right": null,
       "top": null,
       "visibility": null,
       "width": null
      }
     },
     "302283057f434a2683b62b8ef80a360c": {
      "model_module": "@jupyter-widgets/base",
      "model_module_version": "2.0.0",
      "model_name": "LayoutModel",
      "state": {
       "_model_module": "@jupyter-widgets/base",
       "_model_module_version": "2.0.0",
       "_model_name": "LayoutModel",
       "_view_count": null,
       "_view_module": "@jupyter-widgets/base",
       "_view_module_version": "2.0.0",
       "_view_name": "LayoutView",
       "align_content": null,
       "align_items": null,
       "align_self": null,
       "border_bottom": null,
       "border_left": null,
       "border_right": null,
       "border_top": null,
       "bottom": null,
       "display": null,
       "flex": null,
       "flex_flow": null,
       "grid_area": null,
       "grid_auto_columns": null,
       "grid_auto_flow": null,
       "grid_auto_rows": null,
       "grid_column": null,
       "grid_gap": null,
       "grid_row": null,
       "grid_template_areas": null,
       "grid_template_columns": null,
       "grid_template_rows": null,
       "height": null,
       "justify_content": null,
       "justify_items": null,
       "left": null,
       "margin": null,
       "max_height": null,
       "max_width": null,
       "min_height": null,
       "min_width": null,
       "object_fit": null,
       "object_position": null,
       "order": null,
       "overflow": null,
       "padding": null,
       "right": null,
       "top": null,
       "visibility": null,
       "width": null
      }
     },
     "30633d4e896a43bbbfc22bb19d01ad00": {
      "model_module": "@jupyter-widgets/controls",
      "model_module_version": "2.0.0",
      "model_name": "HTMLModel",
      "state": {
       "_dom_classes": [],
       "_model_module": "@jupyter-widgets/controls",
       "_model_module_version": "2.0.0",
       "_model_name": "HTMLModel",
       "_view_count": null,
       "_view_module": "@jupyter-widgets/controls",
       "_view_module_version": "2.0.0",
       "_view_name": "HTMLView",
       "description": "",
       "description_allow_html": false,
       "layout": "IPY_MODEL_9c6990a8698641e4989b81b12181eebe",
       "placeholder": "​",
       "style": "IPY_MODEL_91d0bc47532341c8b718529d726693e4",
       "tabbable": null,
       "tooltip": null,
       "value": "Validation DataLoader 0: 100%"
      }
     },
     "3475b9e59b9c4fdd94fa56b0fe66030a": {
      "model_module": "@jupyter-widgets/controls",
      "model_module_version": "2.0.0",
      "model_name": "HTMLModel",
      "state": {
       "_dom_classes": [],
       "_model_module": "@jupyter-widgets/controls",
       "_model_module_version": "2.0.0",
       "_model_name": "HTMLModel",
       "_view_count": null,
       "_view_module": "@jupyter-widgets/controls",
       "_view_module_version": "2.0.0",
       "_view_name": "HTMLView",
       "description": "",
       "description_allow_html": false,
       "layout": "IPY_MODEL_8a7fbc5fc2514b43a32fd8f9e0ec64fd",
       "placeholder": "​",
       "style": "IPY_MODEL_84c74a38c695467bbbcd16cf647af26d",
       "tabbable": null,
       "tooltip": null,
       "value": "Validation DataLoader 0: 100%"
      }
     },
     "3767870d70fa4d0e9be8d060f765d23d": {
      "model_module": "@jupyter-widgets/base",
      "model_module_version": "2.0.0",
      "model_name": "LayoutModel",
      "state": {
       "_model_module": "@jupyter-widgets/base",
       "_model_module_version": "2.0.0",
       "_model_name": "LayoutModel",
       "_view_count": null,
       "_view_module": "@jupyter-widgets/base",
       "_view_module_version": "2.0.0",
       "_view_name": "LayoutView",
       "align_content": null,
       "align_items": null,
       "align_self": null,
       "border_bottom": null,
       "border_left": null,
       "border_right": null,
       "border_top": null,
       "bottom": null,
       "display": null,
       "flex": null,
       "flex_flow": null,
       "grid_area": null,
       "grid_auto_columns": null,
       "grid_auto_flow": null,
       "grid_auto_rows": null,
       "grid_column": null,
       "grid_gap": null,
       "grid_row": null,
       "grid_template_areas": null,
       "grid_template_columns": null,
       "grid_template_rows": null,
       "height": null,
       "justify_content": null,
       "justify_items": null,
       "left": null,
       "margin": null,
       "max_height": null,
       "max_width": null,
       "min_height": null,
       "min_width": null,
       "object_fit": null,
       "object_position": null,
       "order": null,
       "overflow": null,
       "padding": null,
       "right": null,
       "top": null,
       "visibility": null,
       "width": null
      }
     },
     "37daa9b37d00466e9c7e63154da238e6": {
      "model_module": "@jupyter-widgets/controls",
      "model_module_version": "2.0.0",
      "model_name": "HTMLModel",
      "state": {
       "_dom_classes": [],
       "_model_module": "@jupyter-widgets/controls",
       "_model_module_version": "2.0.0",
       "_model_name": "HTMLModel",
       "_view_count": null,
       "_view_module": "@jupyter-widgets/controls",
       "_view_module_version": "2.0.0",
       "_view_name": "HTMLView",
       "description": "",
       "description_allow_html": false,
       "layout": "IPY_MODEL_4d744bdfc1334d86ac0c55e5b5772e92",
       "placeholder": "​",
       "style": "IPY_MODEL_06c560a3b2784fe4a33a0be6e3ffb23d",
       "tabbable": null,
       "tooltip": null,
       "value": "Validation DataLoader 0: 100%"
      }
     },
     "3a86bd1dd3114f51971efff219885d1e": {
      "model_module": "@jupyter-widgets/controls",
      "model_module_version": "2.0.0",
      "model_name": "HTMLStyleModel",
      "state": {
       "_model_module": "@jupyter-widgets/controls",
       "_model_module_version": "2.0.0",
       "_model_name": "HTMLStyleModel",
       "_view_count": null,
       "_view_module": "@jupyter-widgets/base",
       "_view_module_version": "2.0.0",
       "_view_name": "StyleView",
       "background": null,
       "description_width": "",
       "font_size": null,
       "text_color": null
      }
     },
     "3aaeb812a0064e52bd59254ceb4d1b06": {
      "model_module": "@jupyter-widgets/controls",
      "model_module_version": "2.0.0",
      "model_name": "ProgressStyleModel",
      "state": {
       "_model_module": "@jupyter-widgets/controls",
       "_model_module_version": "2.0.0",
       "_model_name": "ProgressStyleModel",
       "_view_count": null,
       "_view_module": "@jupyter-widgets/base",
       "_view_module_version": "2.0.0",
       "_view_name": "StyleView",
       "bar_color": null,
       "description_width": ""
      }
     },
     "3ae1dcc56798476a801b2d51a76def33": {
      "model_module": "@jupyter-widgets/controls",
      "model_module_version": "2.0.0",
      "model_name": "HTMLModel",
      "state": {
       "_dom_classes": [],
       "_model_module": "@jupyter-widgets/controls",
       "_model_module_version": "2.0.0",
       "_model_name": "HTMLModel",
       "_view_count": null,
       "_view_module": "@jupyter-widgets/controls",
       "_view_module_version": "2.0.0",
       "_view_name": "HTMLView",
       "description": "",
       "description_allow_html": false,
       "layout": "IPY_MODEL_213f5a5c27a0431a90547e7266b95157",
       "placeholder": "​",
       "style": "IPY_MODEL_7a8919a2f47c49fbb57adaa8043a6899",
       "tabbable": null,
       "tooltip": null,
       "value": " 16/16 [00:02&lt;00:00,  7.19it/s]"
      }
     },
     "3c51a0d90ce64715b0d98848376a7210": {
      "model_module": "@jupyter-widgets/base",
      "model_module_version": "2.0.0",
      "model_name": "LayoutModel",
      "state": {
       "_model_module": "@jupyter-widgets/base",
       "_model_module_version": "2.0.0",
       "_model_name": "LayoutModel",
       "_view_count": null,
       "_view_module": "@jupyter-widgets/base",
       "_view_module_version": "2.0.0",
       "_view_name": "LayoutView",
       "align_content": null,
       "align_items": null,
       "align_self": null,
       "border_bottom": null,
       "border_left": null,
       "border_right": null,
       "border_top": null,
       "bottom": null,
       "display": null,
       "flex": null,
       "flex_flow": null,
       "grid_area": null,
       "grid_auto_columns": null,
       "grid_auto_flow": null,
       "grid_auto_rows": null,
       "grid_column": null,
       "grid_gap": null,
       "grid_row": null,
       "grid_template_areas": null,
       "grid_template_columns": null,
       "grid_template_rows": null,
       "height": null,
       "justify_content": null,
       "justify_items": null,
       "left": null,
       "margin": null,
       "max_height": null,
       "max_width": null,
       "min_height": null,
       "min_width": null,
       "object_fit": null,
       "object_position": null,
       "order": null,
       "overflow": null,
       "padding": null,
       "right": null,
       "top": null,
       "visibility": null,
       "width": null
      }
     },
     "3c8ec34de0a7470eac239a0b8e075e36": {
      "model_module": "@jupyter-widgets/controls",
      "model_module_version": "2.0.0",
      "model_name": "HTMLStyleModel",
      "state": {
       "_model_module": "@jupyter-widgets/controls",
       "_model_module_version": "2.0.0",
       "_model_name": "HTMLStyleModel",
       "_view_count": null,
       "_view_module": "@jupyter-widgets/base",
       "_view_module_version": "2.0.0",
       "_view_name": "StyleView",
       "background": null,
       "description_width": "",
       "font_size": null,
       "text_color": null
      }
     },
     "3d0fc990ccfe4904a5d961c538e725fd": {
      "model_module": "@jupyter-widgets/controls",
      "model_module_version": "2.0.0",
      "model_name": "HBoxModel",
      "state": {
       "_dom_classes": [],
       "_model_module": "@jupyter-widgets/controls",
       "_model_module_version": "2.0.0",
       "_model_name": "HBoxModel",
       "_view_count": null,
       "_view_module": "@jupyter-widgets/controls",
       "_view_module_version": "2.0.0",
       "_view_name": "HBoxView",
       "box_style": "",
       "children": [
        "IPY_MODEL_e6a0fa14d47a40e8a726d31124ae354f",
        "IPY_MODEL_112f53c1e89441108436e8fab34a52c7",
        "IPY_MODEL_ef64f374461147e2b55433de8fb1d529"
       ],
       "layout": "IPY_MODEL_9497c935989a4c30a87ac770e3e8de81",
       "tabbable": null,
       "tooltip": null
      }
     },
     "406a199e3dec4b78a41cd41eac4456eb": {
      "model_module": "@jupyter-widgets/controls",
      "model_module_version": "2.0.0",
      "model_name": "ProgressStyleModel",
      "state": {
       "_model_module": "@jupyter-widgets/controls",
       "_model_module_version": "2.0.0",
       "_model_name": "ProgressStyleModel",
       "_view_count": null,
       "_view_module": "@jupyter-widgets/base",
       "_view_module_version": "2.0.0",
       "_view_name": "StyleView",
       "bar_color": null,
       "description_width": ""
      }
     },
     "433355f930594df384198af29a2a7913": {
      "model_module": "@jupyter-widgets/controls",
      "model_module_version": "2.0.0",
      "model_name": "HBoxModel",
      "state": {
       "_dom_classes": [],
       "_model_module": "@jupyter-widgets/controls",
       "_model_module_version": "2.0.0",
       "_model_name": "HBoxModel",
       "_view_count": null,
       "_view_module": "@jupyter-widgets/controls",
       "_view_module_version": "2.0.0",
       "_view_name": "HBoxView",
       "box_style": "",
       "children": [
        "IPY_MODEL_d1bb243dac8e4fa2b74b5916d67d0e04",
        "IPY_MODEL_68d1295e51fc4b8bab346120e3c89674",
        "IPY_MODEL_e0432d114f6c46e4ab53b6e180b88ac4"
       ],
       "layout": "IPY_MODEL_dac9067a3b3e4b5999be7f4dce92e9fb",
       "tabbable": null,
       "tooltip": null
      }
     },
     "43b64de3d6d849d3a07548374b469bf8": {
      "model_module": "@jupyter-widgets/controls",
      "model_module_version": "2.0.0",
      "model_name": "HTMLStyleModel",
      "state": {
       "_model_module": "@jupyter-widgets/controls",
       "_model_module_version": "2.0.0",
       "_model_name": "HTMLStyleModel",
       "_view_count": null,
       "_view_module": "@jupyter-widgets/base",
       "_view_module_version": "2.0.0",
       "_view_name": "StyleView",
       "background": null,
       "description_width": "",
       "font_size": null,
       "text_color": null
      }
     },
     "445a1a87a5b645f0bb884acf7bd92886": {
      "model_module": "@jupyter-widgets/controls",
      "model_module_version": "2.0.0",
      "model_name": "HBoxModel",
      "state": {
       "_dom_classes": [],
       "_model_module": "@jupyter-widgets/controls",
       "_model_module_version": "2.0.0",
       "_model_name": "HBoxModel",
       "_view_count": null,
       "_view_module": "@jupyter-widgets/controls",
       "_view_module_version": "2.0.0",
       "_view_name": "HBoxView",
       "box_style": "",
       "children": [
        "IPY_MODEL_37daa9b37d00466e9c7e63154da238e6",
        "IPY_MODEL_2d67ea45c4c0441bb8bdad2854b38cb5",
        "IPY_MODEL_ee1cc02d20b74e23af98e55ced2957cd"
       ],
       "layout": "IPY_MODEL_a72de9bdd79448c48d9709425b655541",
       "tabbable": null,
       "tooltip": null
      }
     },
     "449d4c9be2d9498fa8ca6d207e94df69": {
      "model_module": "@jupyter-widgets/base",
      "model_module_version": "2.0.0",
      "model_name": "LayoutModel",
      "state": {
       "_model_module": "@jupyter-widgets/base",
       "_model_module_version": "2.0.0",
       "_model_name": "LayoutModel",
       "_view_count": null,
       "_view_module": "@jupyter-widgets/base",
       "_view_module_version": "2.0.0",
       "_view_name": "LayoutView",
       "align_content": null,
       "align_items": null,
       "align_self": null,
       "border_bottom": null,
       "border_left": null,
       "border_right": null,
       "border_top": null,
       "bottom": null,
       "display": null,
       "flex": "2",
       "flex_flow": null,
       "grid_area": null,
       "grid_auto_columns": null,
       "grid_auto_flow": null,
       "grid_auto_rows": null,
       "grid_column": null,
       "grid_gap": null,
       "grid_row": null,
       "grid_template_areas": null,
       "grid_template_columns": null,
       "grid_template_rows": null,
       "height": null,
       "justify_content": null,
       "justify_items": null,
       "left": null,
       "margin": null,
       "max_height": null,
       "max_width": null,
       "min_height": null,
       "min_width": null,
       "object_fit": null,
       "object_position": null,
       "order": null,
       "overflow": null,
       "padding": null,
       "right": null,
       "top": null,
       "visibility": null,
       "width": null
      }
     },
     "474fbcd0276d4d4ea46bb66b3893d849": {
      "model_module": "@jupyter-widgets/base",
      "model_module_version": "2.0.0",
      "model_name": "LayoutModel",
      "state": {
       "_model_module": "@jupyter-widgets/base",
       "_model_module_version": "2.0.0",
       "_model_name": "LayoutModel",
       "_view_count": null,
       "_view_module": "@jupyter-widgets/base",
       "_view_module_version": "2.0.0",
       "_view_name": "LayoutView",
       "align_content": null,
       "align_items": null,
       "align_self": null,
       "border_bottom": null,
       "border_left": null,
       "border_right": null,
       "border_top": null,
       "bottom": null,
       "display": null,
       "flex": null,
       "flex_flow": null,
       "grid_area": null,
       "grid_auto_columns": null,
       "grid_auto_flow": null,
       "grid_auto_rows": null,
       "grid_column": null,
       "grid_gap": null,
       "grid_row": null,
       "grid_template_areas": null,
       "grid_template_columns": null,
       "grid_template_rows": null,
       "height": null,
       "justify_content": null,
       "justify_items": null,
       "left": null,
       "margin": null,
       "max_height": null,
       "max_width": null,
       "min_height": null,
       "min_width": null,
       "object_fit": null,
       "object_position": null,
       "order": null,
       "overflow": null,
       "padding": null,
       "right": null,
       "top": null,
       "visibility": null,
       "width": null
      }
     },
     "49cc77d35baa4ad4aec6acff23893b87": {
      "model_module": "@jupyter-widgets/base",
      "model_module_version": "2.0.0",
      "model_name": "LayoutModel",
      "state": {
       "_model_module": "@jupyter-widgets/base",
       "_model_module_version": "2.0.0",
       "_model_name": "LayoutModel",
       "_view_count": null,
       "_view_module": "@jupyter-widgets/base",
       "_view_module_version": "2.0.0",
       "_view_name": "LayoutView",
       "align_content": null,
       "align_items": null,
       "align_self": null,
       "border_bottom": null,
       "border_left": null,
       "border_right": null,
       "border_top": null,
       "bottom": null,
       "display": null,
       "flex": null,
       "flex_flow": null,
       "grid_area": null,
       "grid_auto_columns": null,
       "grid_auto_flow": null,
       "grid_auto_rows": null,
       "grid_column": null,
       "grid_gap": null,
       "grid_row": null,
       "grid_template_areas": null,
       "grid_template_columns": null,
       "grid_template_rows": null,
       "height": null,
       "justify_content": null,
       "justify_items": null,
       "left": null,
       "margin": null,
       "max_height": null,
       "max_width": null,
       "min_height": null,
       "min_width": null,
       "object_fit": null,
       "object_position": null,
       "order": null,
       "overflow": null,
       "padding": null,
       "right": null,
       "top": null,
       "visibility": null,
       "width": null
      }
     },
     "4a7400c021014e52beccd02891e7d7fe": {
      "model_module": "@jupyter-widgets/base",
      "model_module_version": "2.0.0",
      "model_name": "LayoutModel",
      "state": {
       "_model_module": "@jupyter-widgets/base",
       "_model_module_version": "2.0.0",
       "_model_name": "LayoutModel",
       "_view_count": null,
       "_view_module": "@jupyter-widgets/base",
       "_view_module_version": "2.0.0",
       "_view_name": "LayoutView",
       "align_content": null,
       "align_items": null,
       "align_self": null,
       "border_bottom": null,
       "border_left": null,
       "border_right": null,
       "border_top": null,
       "bottom": null,
       "display": null,
       "flex": null,
       "flex_flow": null,
       "grid_area": null,
       "grid_auto_columns": null,
       "grid_auto_flow": null,
       "grid_auto_rows": null,
       "grid_column": null,
       "grid_gap": null,
       "grid_row": null,
       "grid_template_areas": null,
       "grid_template_columns": null,
       "grid_template_rows": null,
       "height": null,
       "justify_content": null,
       "justify_items": null,
       "left": null,
       "margin": null,
       "max_height": null,
       "max_width": null,
       "min_height": null,
       "min_width": null,
       "object_fit": null,
       "object_position": null,
       "order": null,
       "overflow": null,
       "padding": null,
       "right": null,
       "top": null,
       "visibility": null,
       "width": null
      }
     },
     "4ac7eba635444d3a9930e7d8960b8a19": {
      "model_module": "@jupyter-widgets/base",
      "model_module_version": "2.0.0",
      "model_name": "LayoutModel",
      "state": {
       "_model_module": "@jupyter-widgets/base",
       "_model_module_version": "2.0.0",
       "_model_name": "LayoutModel",
       "_view_count": null,
       "_view_module": "@jupyter-widgets/base",
       "_view_module_version": "2.0.0",
       "_view_name": "LayoutView",
       "align_content": null,
       "align_items": null,
       "align_self": null,
       "border_bottom": null,
       "border_left": null,
       "border_right": null,
       "border_top": null,
       "bottom": null,
       "display": "inline-flex",
       "flex": null,
       "flex_flow": "row wrap",
       "grid_area": null,
       "grid_auto_columns": null,
       "grid_auto_flow": null,
       "grid_auto_rows": null,
       "grid_column": null,
       "grid_gap": null,
       "grid_row": null,
       "grid_template_areas": null,
       "grid_template_columns": null,
       "grid_template_rows": null,
       "height": null,
       "justify_content": null,
       "justify_items": null,
       "left": null,
       "margin": null,
       "max_height": null,
       "max_width": null,
       "min_height": null,
       "min_width": null,
       "object_fit": null,
       "object_position": null,
       "order": null,
       "overflow": null,
       "padding": null,
       "right": null,
       "top": null,
       "visibility": "hidden",
       "width": "100%"
      }
     },
     "4d744bdfc1334d86ac0c55e5b5772e92": {
      "model_module": "@jupyter-widgets/base",
      "model_module_version": "2.0.0",
      "model_name": "LayoutModel",
      "state": {
       "_model_module": "@jupyter-widgets/base",
       "_model_module_version": "2.0.0",
       "_model_name": "LayoutModel",
       "_view_count": null,
       "_view_module": "@jupyter-widgets/base",
       "_view_module_version": "2.0.0",
       "_view_name": "LayoutView",
       "align_content": null,
       "align_items": null,
       "align_self": null,
       "border_bottom": null,
       "border_left": null,
       "border_right": null,
       "border_top": null,
       "bottom": null,
       "display": null,
       "flex": null,
       "flex_flow": null,
       "grid_area": null,
       "grid_auto_columns": null,
       "grid_auto_flow": null,
       "grid_auto_rows": null,
       "grid_column": null,
       "grid_gap": null,
       "grid_row": null,
       "grid_template_areas": null,
       "grid_template_columns": null,
       "grid_template_rows": null,
       "height": null,
       "justify_content": null,
       "justify_items": null,
       "left": null,
       "margin": null,
       "max_height": null,
       "max_width": null,
       "min_height": null,
       "min_width": null,
       "object_fit": null,
       "object_position": null,
       "order": null,
       "overflow": null,
       "padding": null,
       "right": null,
       "top": null,
       "visibility": null,
       "width": null
      }
     },
     "4e15a1f41ae14226ad4c02e237b2ddbc": {
      "model_module": "@jupyter-widgets/controls",
      "model_module_version": "2.0.0",
      "model_name": "HBoxModel",
      "state": {
       "_dom_classes": [],
       "_model_module": "@jupyter-widgets/controls",
       "_model_module_version": "2.0.0",
       "_model_name": "HBoxModel",
       "_view_count": null,
       "_view_module": "@jupyter-widgets/controls",
       "_view_module_version": "2.0.0",
       "_view_name": "HBoxView",
       "box_style": "",
       "children": [
        "IPY_MODEL_3475b9e59b9c4fdd94fa56b0fe66030a",
        "IPY_MODEL_55115a81a2c643609fedb7308b7eb1be",
        "IPY_MODEL_b1a25dce3e1646cfbd8cfa6d77bcb3cb"
       ],
       "layout": "IPY_MODEL_b2c37a9f50c949068a6ace07bcd55fe7",
       "tabbable": null,
       "tooltip": null
      }
     },
     "4f1d0f9d611e4485a58384236ecf5f26": {
      "model_module": "@jupyter-widgets/base",
      "model_module_version": "2.0.0",
      "model_name": "LayoutModel",
      "state": {
       "_model_module": "@jupyter-widgets/base",
       "_model_module_version": "2.0.0",
       "_model_name": "LayoutModel",
       "_view_count": null,
       "_view_module": "@jupyter-widgets/base",
       "_view_module_version": "2.0.0",
       "_view_name": "LayoutView",
       "align_content": null,
       "align_items": null,
       "align_self": null,
       "border_bottom": null,
       "border_left": null,
       "border_right": null,
       "border_top": null,
       "bottom": null,
       "display": null,
       "flex": "2",
       "flex_flow": null,
       "grid_area": null,
       "grid_auto_columns": null,
       "grid_auto_flow": null,
       "grid_auto_rows": null,
       "grid_column": null,
       "grid_gap": null,
       "grid_row": null,
       "grid_template_areas": null,
       "grid_template_columns": null,
       "grid_template_rows": null,
       "height": null,
       "justify_content": null,
       "justify_items": null,
       "left": null,
       "margin": null,
       "max_height": null,
       "max_width": null,
       "min_height": null,
       "min_width": null,
       "object_fit": null,
       "object_position": null,
       "order": null,
       "overflow": null,
       "padding": null,
       "right": null,
       "top": null,
       "visibility": null,
       "width": null
      }
     },
     "500eb799f2bc4486ac05df684b55bf53": {
      "model_module": "@jupyter-widgets/base",
      "model_module_version": "2.0.0",
      "model_name": "LayoutModel",
      "state": {
       "_model_module": "@jupyter-widgets/base",
       "_model_module_version": "2.0.0",
       "_model_name": "LayoutModel",
       "_view_count": null,
       "_view_module": "@jupyter-widgets/base",
       "_view_module_version": "2.0.0",
       "_view_name": "LayoutView",
       "align_content": null,
       "align_items": null,
       "align_self": null,
       "border_bottom": null,
       "border_left": null,
       "border_right": null,
       "border_top": null,
       "bottom": null,
       "display": null,
       "flex": null,
       "flex_flow": null,
       "grid_area": null,
       "grid_auto_columns": null,
       "grid_auto_flow": null,
       "grid_auto_rows": null,
       "grid_column": null,
       "grid_gap": null,
       "grid_row": null,
       "grid_template_areas": null,
       "grid_template_columns": null,
       "grid_template_rows": null,
       "height": null,
       "justify_content": null,
       "justify_items": null,
       "left": null,
       "margin": null,
       "max_height": null,
       "max_width": null,
       "min_height": null,
       "min_width": null,
       "object_fit": null,
       "object_position": null,
       "order": null,
       "overflow": null,
       "padding": null,
       "right": null,
       "top": null,
       "visibility": null,
       "width": null
      }
     },
     "510f006067224b6484d9a46ed4f49c7f": {
      "model_module": "@jupyter-widgets/controls",
      "model_module_version": "2.0.0",
      "model_name": "HTMLStyleModel",
      "state": {
       "_model_module": "@jupyter-widgets/controls",
       "_model_module_version": "2.0.0",
       "_model_name": "HTMLStyleModel",
       "_view_count": null,
       "_view_module": "@jupyter-widgets/base",
       "_view_module_version": "2.0.0",
       "_view_name": "StyleView",
       "background": null,
       "description_width": "",
       "font_size": null,
       "text_color": null
      }
     },
     "51b1a179b3d1454e97333b537d4ab027": {
      "model_module": "@jupyter-widgets/controls",
      "model_module_version": "2.0.0",
      "model_name": "ProgressStyleModel",
      "state": {
       "_model_module": "@jupyter-widgets/controls",
       "_model_module_version": "2.0.0",
       "_model_name": "ProgressStyleModel",
       "_view_count": null,
       "_view_module": "@jupyter-widgets/base",
       "_view_module_version": "2.0.0",
       "_view_name": "StyleView",
       "bar_color": null,
       "description_width": ""
      }
     },
     "51c804f60c1547e1b24fe78bc336d653": {
      "model_module": "@jupyter-widgets/base",
      "model_module_version": "2.0.0",
      "model_name": "LayoutModel",
      "state": {
       "_model_module": "@jupyter-widgets/base",
       "_model_module_version": "2.0.0",
       "_model_name": "LayoutModel",
       "_view_count": null,
       "_view_module": "@jupyter-widgets/base",
       "_view_module_version": "2.0.0",
       "_view_name": "LayoutView",
       "align_content": null,
       "align_items": null,
       "align_self": null,
       "border_bottom": null,
       "border_left": null,
       "border_right": null,
       "border_top": null,
       "bottom": null,
       "display": null,
       "flex": "2",
       "flex_flow": null,
       "grid_area": null,
       "grid_auto_columns": null,
       "grid_auto_flow": null,
       "grid_auto_rows": null,
       "grid_column": null,
       "grid_gap": null,
       "grid_row": null,
       "grid_template_areas": null,
       "grid_template_columns": null,
       "grid_template_rows": null,
       "height": null,
       "justify_content": null,
       "justify_items": null,
       "left": null,
       "margin": null,
       "max_height": null,
       "max_width": null,
       "min_height": null,
       "min_width": null,
       "object_fit": null,
       "object_position": null,
       "order": null,
       "overflow": null,
       "padding": null,
       "right": null,
       "top": null,
       "visibility": null,
       "width": null
      }
     },
     "5302e56864ec4a68991269bfd5c30839": {
      "model_module": "@jupyter-widgets/controls",
      "model_module_version": "2.0.0",
      "model_name": "HBoxModel",
      "state": {
       "_dom_classes": [],
       "_model_module": "@jupyter-widgets/controls",
       "_model_module_version": "2.0.0",
       "_model_name": "HBoxModel",
       "_view_count": null,
       "_view_module": "@jupyter-widgets/controls",
       "_view_module_version": "2.0.0",
       "_view_name": "HBoxView",
       "box_style": "",
       "children": [
        "IPY_MODEL_825458338e144239a5df299bdd3db692",
        "IPY_MODEL_1f651b1821da40e09e1d771bd0d7f6c9",
        "IPY_MODEL_b5268d58d0334f178d2f7377173e290b"
       ],
       "layout": "IPY_MODEL_acbe15812dc5497681dded141e8b25a1",
       "tabbable": null,
       "tooltip": null
      }
     },
     "55115a81a2c643609fedb7308b7eb1be": {
      "model_module": "@jupyter-widgets/controls",
      "model_module_version": "2.0.0",
      "model_name": "FloatProgressModel",
      "state": {
       "_dom_classes": [],
       "_model_module": "@jupyter-widgets/controls",
       "_model_module_version": "2.0.0",
       "_model_name": "FloatProgressModel",
       "_view_count": null,
       "_view_module": "@jupyter-widgets/controls",
       "_view_module_version": "2.0.0",
       "_view_name": "ProgressView",
       "bar_style": "",
       "description": "",
       "description_allow_html": false,
       "layout": "IPY_MODEL_449d4c9be2d9498fa8ca6d207e94df69",
       "max": 16.0,
       "min": 0.0,
       "orientation": "horizontal",
       "style": "IPY_MODEL_10b2b2625d33486bb8de03a8396ff7c7",
       "tabbable": null,
       "tooltip": null,
       "value": 16.0
      }
     },
     "5b63b4410ef6499fa1f98541cc1cc88b": {
      "model_module": "@jupyter-widgets/controls",
      "model_module_version": "2.0.0",
      "model_name": "HTMLStyleModel",
      "state": {
       "_model_module": "@jupyter-widgets/controls",
       "_model_module_version": "2.0.0",
       "_model_name": "HTMLStyleModel",
       "_view_count": null,
       "_view_module": "@jupyter-widgets/base",
       "_view_module_version": "2.0.0",
       "_view_name": "StyleView",
       "background": null,
       "description_width": "",
       "font_size": null,
       "text_color": null
      }
     },
     "5d3f09c8bcc546948244a382465402ab": {
      "model_module": "@jupyter-widgets/base",
      "model_module_version": "2.0.0",
      "model_name": "LayoutModel",
      "state": {
       "_model_module": "@jupyter-widgets/base",
       "_model_module_version": "2.0.0",
       "_model_name": "LayoutModel",
       "_view_count": null,
       "_view_module": "@jupyter-widgets/base",
       "_view_module_version": "2.0.0",
       "_view_name": "LayoutView",
       "align_content": null,
       "align_items": null,
       "align_self": null,
       "border_bottom": null,
       "border_left": null,
       "border_right": null,
       "border_top": null,
       "bottom": null,
       "display": null,
       "flex": "2",
       "flex_flow": null,
       "grid_area": null,
       "grid_auto_columns": null,
       "grid_auto_flow": null,
       "grid_auto_rows": null,
       "grid_column": null,
       "grid_gap": null,
       "grid_row": null,
       "grid_template_areas": null,
       "grid_template_columns": null,
       "grid_template_rows": null,
       "height": null,
       "justify_content": null,
       "justify_items": null,
       "left": null,
       "margin": null,
       "max_height": null,
       "max_width": null,
       "min_height": null,
       "min_width": null,
       "object_fit": null,
       "object_position": null,
       "order": null,
       "overflow": null,
       "padding": null,
       "right": null,
       "top": null,
       "visibility": null,
       "width": null
      }
     },
     "611b22337e1f4a46b8ab13b85fbe3a3a": {
      "model_module": "@jupyter-widgets/base",
      "model_module_version": "2.0.0",
      "model_name": "LayoutModel",
      "state": {
       "_model_module": "@jupyter-widgets/base",
       "_model_module_version": "2.0.0",
       "_model_name": "LayoutModel",
       "_view_count": null,
       "_view_module": "@jupyter-widgets/base",
       "_view_module_version": "2.0.0",
       "_view_name": "LayoutView",
       "align_content": null,
       "align_items": null,
       "align_self": null,
       "border_bottom": null,
       "border_left": null,
       "border_right": null,
       "border_top": null,
       "bottom": null,
       "display": null,
       "flex": null,
       "flex_flow": null,
       "grid_area": null,
       "grid_auto_columns": null,
       "grid_auto_flow": null,
       "grid_auto_rows": null,
       "grid_column": null,
       "grid_gap": null,
       "grid_row": null,
       "grid_template_areas": null,
       "grid_template_columns": null,
       "grid_template_rows": null,
       "height": null,
       "justify_content": null,
       "justify_items": null,
       "left": null,
       "margin": null,
       "max_height": null,
       "max_width": null,
       "min_height": null,
       "min_width": null,
       "object_fit": null,
       "object_position": null,
       "order": null,
       "overflow": null,
       "padding": null,
       "right": null,
       "top": null,
       "visibility": null,
       "width": null
      }
     },
     "617c4a39fb204d07bc72de25bf588870": {
      "model_module": "@jupyter-widgets/controls",
      "model_module_version": "2.0.0",
      "model_name": "HTMLModel",
      "state": {
       "_dom_classes": [],
       "_model_module": "@jupyter-widgets/controls",
       "_model_module_version": "2.0.0",
       "_model_name": "HTMLModel",
       "_view_count": null,
       "_view_module": "@jupyter-widgets/controls",
       "_view_module_version": "2.0.0",
       "_view_name": "HTMLView",
       "description": "",
       "description_allow_html": false,
       "layout": "IPY_MODEL_acb29577724d4cc4bfc667b66bbeaccb",
       "placeholder": "​",
       "style": "IPY_MODEL_24a52b190cc2448aa01f5d859963fd1d",
       "tabbable": null,
       "tooltip": null,
       "value": "Validation DataLoader 0: 100%"
      }
     },
     "65cd78adc2794b778ff059c60f24f66f": {
      "model_module": "@jupyter-widgets/controls",
      "model_module_version": "2.0.0",
      "model_name": "HTMLModel",
      "state": {
       "_dom_classes": [],
       "_model_module": "@jupyter-widgets/controls",
       "_model_module_version": "2.0.0",
       "_model_name": "HTMLModel",
       "_view_count": null,
       "_view_module": "@jupyter-widgets/controls",
       "_view_module_version": "2.0.0",
       "_view_name": "HTMLView",
       "description": "",
       "description_allow_html": false,
       "layout": "IPY_MODEL_ffd51d6dd1974b0ca73723a23c040e0e",
       "placeholder": "​",
       "style": "IPY_MODEL_43b64de3d6d849d3a07548374b469bf8",
       "tabbable": null,
       "tooltip": null,
       "value": "Validation DataLoader 0: 100%"
      }
     },
     "679405c4d4684ed687bc5d0d20951dca": {
      "model_module": "@jupyter-widgets/controls",
      "model_module_version": "2.0.0",
      "model_name": "HTMLModel",
      "state": {
       "_dom_classes": [],
       "_model_module": "@jupyter-widgets/controls",
       "_model_module_version": "2.0.0",
       "_model_name": "HTMLModel",
       "_view_count": null,
       "_view_module": "@jupyter-widgets/controls",
       "_view_module_version": "2.0.0",
       "_view_name": "HTMLView",
       "description": "",
       "description_allow_html": false,
       "layout": "IPY_MODEL_3767870d70fa4d0e9be8d060f765d23d",
       "placeholder": "​",
       "style": "IPY_MODEL_5b63b4410ef6499fa1f98541cc1cc88b",
       "tabbable": null,
       "tooltip": null,
       "value": " 16/16 [00:02&lt;00:00,  7.93it/s]"
      }
     },
     "68d1295e51fc4b8bab346120e3c89674": {
      "model_module": "@jupyter-widgets/controls",
      "model_module_version": "2.0.0",
      "model_name": "FloatProgressModel",
      "state": {
       "_dom_classes": [],
       "_model_module": "@jupyter-widgets/controls",
       "_model_module_version": "2.0.0",
       "_model_name": "FloatProgressModel",
       "_view_count": null,
       "_view_module": "@jupyter-widgets/controls",
       "_view_module_version": "2.0.0",
       "_view_name": "ProgressView",
       "bar_style": "",
       "description": "",
       "description_allow_html": false,
       "layout": "IPY_MODEL_89f6e194a63c4b19ad490023628a32a6",
       "max": 16.0,
       "min": 0.0,
       "orientation": "horizontal",
       "style": "IPY_MODEL_3aaeb812a0064e52bd59254ceb4d1b06",
       "tabbable": null,
       "tooltip": null,
       "value": 16.0
      }
     },
     "6f74359ebb264b1fa9fbf50402428bb0": {
      "model_module": "@jupyter-widgets/controls",
      "model_module_version": "2.0.0",
      "model_name": "HTMLStyleModel",
      "state": {
       "_model_module": "@jupyter-widgets/controls",
       "_model_module_version": "2.0.0",
       "_model_name": "HTMLStyleModel",
       "_view_count": null,
       "_view_module": "@jupyter-widgets/base",
       "_view_module_version": "2.0.0",
       "_view_name": "StyleView",
       "background": null,
       "description_width": "",
       "font_size": null,
       "text_color": null
      }
     },
     "71a36d732fdb4bf6944b7d89a33e75ad": {
      "model_module": "@jupyter-widgets/controls",
      "model_module_version": "2.0.0",
      "model_name": "HTMLModel",
      "state": {
       "_dom_classes": [],
       "_model_module": "@jupyter-widgets/controls",
       "_model_module_version": "2.0.0",
       "_model_name": "HTMLModel",
       "_view_count": null,
       "_view_module": "@jupyter-widgets/controls",
       "_view_module_version": "2.0.0",
       "_view_name": "HTMLView",
       "description": "",
       "description_allow_html": false,
       "layout": "IPY_MODEL_f1f87db4c7c44b83ba4d0ca664cab0ec",
       "placeholder": "​",
       "style": "IPY_MODEL_cbd7df683bb94debb2f5fec6b865dfd3",
       "tabbable": null,
       "tooltip": null,
       "value": "Epoch 12: 100%"
      }
     },
     "72054a545ea442628ef803fadcc5450b": {
      "model_module": "@jupyter-widgets/controls",
      "model_module_version": "2.0.0",
      "model_name": "HTMLModel",
      "state": {
       "_dom_classes": [],
       "_model_module": "@jupyter-widgets/controls",
       "_model_module_version": "2.0.0",
       "_model_name": "HTMLModel",
       "_view_count": null,
       "_view_module": "@jupyter-widgets/controls",
       "_view_module_version": "2.0.0",
       "_view_name": "HTMLView",
       "description": "",
       "description_allow_html": false,
       "layout": "IPY_MODEL_3c51a0d90ce64715b0d98848376a7210",
       "placeholder": "​",
       "style": "IPY_MODEL_1aaf3ab991ad4076a095554672c513c8",
       "tabbable": null,
       "tooltip": null,
       "value": " 16/16 [00:02&lt;00:00,  7.92it/s]"
      }
     },
     "75541097f18b404e978e28cf53f20667": {
      "model_module": "@jupyter-widgets/controls",
      "model_module_version": "2.0.0",
      "model_name": "ProgressStyleModel",
      "state": {
       "_model_module": "@jupyter-widgets/controls",
       "_model_module_version": "2.0.0",
       "_model_name": "ProgressStyleModel",
       "_view_count": null,
       "_view_module": "@jupyter-widgets/base",
       "_view_module_version": "2.0.0",
       "_view_name": "StyleView",
       "bar_color": null,
       "description_width": ""
      }
     },
     "78ddded7814d44ab92d1949764ed2e56": {
      "model_module": "@jupyter-widgets/controls",
      "model_module_version": "2.0.0",
      "model_name": "FloatProgressModel",
      "state": {
       "_dom_classes": [],
       "_model_module": "@jupyter-widgets/controls",
       "_model_module_version": "2.0.0",
       "_model_name": "FloatProgressModel",
       "_view_count": null,
       "_view_module": "@jupyter-widgets/controls",
       "_view_module_version": "2.0.0",
       "_view_name": "ProgressView",
       "bar_style": "",
       "description": "",
       "description_allow_html": false,
       "layout": "IPY_MODEL_a1dbc8cdfd604b30ba37d80928e44b19",
       "max": 16.0,
       "min": 0.0,
       "orientation": "horizontal",
       "style": "IPY_MODEL_10f10031f7dc4e72bb3ec2b2858a2dfc",
       "tabbable": null,
       "tooltip": null,
       "value": 16.0
      }
     },
     "7a8919a2f47c49fbb57adaa8043a6899": {
      "model_module": "@jupyter-widgets/controls",
      "model_module_version": "2.0.0",
      "model_name": "HTMLStyleModel",
      "state": {
       "_model_module": "@jupyter-widgets/controls",
       "_model_module_version": "2.0.0",
       "_model_name": "HTMLStyleModel",
       "_view_count": null,
       "_view_module": "@jupyter-widgets/base",
       "_view_module_version": "2.0.0",
       "_view_name": "StyleView",
       "background": null,
       "description_width": "",
       "font_size": null,
       "text_color": null
      }
     },
     "7e5e0a0a55b8437694bc198b173dd782": {
      "model_module": "@jupyter-widgets/controls",
      "model_module_version": "2.0.0",
      "model_name": "FloatProgressModel",
      "state": {
       "_dom_classes": [],
       "_model_module": "@jupyter-widgets/controls",
       "_model_module_version": "2.0.0",
       "_model_name": "FloatProgressModel",
       "_view_count": null,
       "_view_module": "@jupyter-widgets/controls",
       "_view_module_version": "2.0.0",
       "_view_name": "ProgressView",
       "bar_style": "",
       "description": "",
       "description_allow_html": false,
       "layout": "IPY_MODEL_d5dc7d13289242afae185860365ac70b",
       "max": 16.0,
       "min": 0.0,
       "orientation": "horizontal",
       "style": "IPY_MODEL_406a199e3dec4b78a41cd41eac4456eb",
       "tabbable": null,
       "tooltip": null,
       "value": 16.0
      }
     },
     "7e60c0d6ac0848e58e99744e681634d3": {
      "model_module": "@jupyter-widgets/controls",
      "model_module_version": "2.0.0",
      "model_name": "HBoxModel",
      "state": {
       "_dom_classes": [],
       "_model_module": "@jupyter-widgets/controls",
       "_model_module_version": "2.0.0",
       "_model_name": "HBoxModel",
       "_view_count": null,
       "_view_module": "@jupyter-widgets/controls",
       "_view_module_version": "2.0.0",
       "_view_name": "HBoxView",
       "box_style": "",
       "children": [
        "IPY_MODEL_617c4a39fb204d07bc72de25bf588870",
        "IPY_MODEL_ae595122bbb24456a59f3975ef54ac14",
        "IPY_MODEL_3ae1dcc56798476a801b2d51a76def33"
       ],
       "layout": "IPY_MODEL_c6a154fd2bd345cd8cf09168c626f4de",
       "tabbable": null,
       "tooltip": null
      }
     },
     "7f535d2f79cc4314a9701c8d9a8f57b0": {
      "model_module": "@jupyter-widgets/base",
      "model_module_version": "2.0.0",
      "model_name": "LayoutModel",
      "state": {
       "_model_module": "@jupyter-widgets/base",
       "_model_module_version": "2.0.0",
       "_model_name": "LayoutModel",
       "_view_count": null,
       "_view_module": "@jupyter-widgets/base",
       "_view_module_version": "2.0.0",
       "_view_name": "LayoutView",
       "align_content": null,
       "align_items": null,
       "align_self": null,
       "border_bottom": null,
       "border_left": null,
       "border_right": null,
       "border_top": null,
       "bottom": null,
       "display": null,
       "flex": null,
       "flex_flow": null,
       "grid_area": null,
       "grid_auto_columns": null,
       "grid_auto_flow": null,
       "grid_auto_rows": null,
       "grid_column": null,
       "grid_gap": null,
       "grid_row": null,
       "grid_template_areas": null,
       "grid_template_columns": null,
       "grid_template_rows": null,
       "height": null,
       "justify_content": null,
       "justify_items": null,
       "left": null,
       "margin": null,
       "max_height": null,
       "max_width": null,
       "min_height": null,
       "min_width": null,
       "object_fit": null,
       "object_position": null,
       "order": null,
       "overflow": null,
       "padding": null,
       "right": null,
       "top": null,
       "visibility": null,
       "width": null
      }
     },
     "825458338e144239a5df299bdd3db692": {
      "model_module": "@jupyter-widgets/controls",
      "model_module_version": "2.0.0",
      "model_name": "HTMLModel",
      "state": {
       "_dom_classes": [],
       "_model_module": "@jupyter-widgets/controls",
       "_model_module_version": "2.0.0",
       "_model_name": "HTMLModel",
       "_view_count": null,
       "_view_module": "@jupyter-widgets/controls",
       "_view_module_version": "2.0.0",
       "_view_name": "HTMLView",
       "description": "",
       "description_allow_html": false,
       "layout": "IPY_MODEL_4a7400c021014e52beccd02891e7d7fe",
       "placeholder": "​",
       "style": "IPY_MODEL_9a7344ff2eda4edf8575a8ddde031ef9",
       "tabbable": null,
       "tooltip": null,
       "value": "Sanity Checking DataLoader 0: 100%"
      }
     },
     "835e5a29d82c4090b792626fa93742d8": {
      "model_module": "@jupyter-widgets/controls",
      "model_module_version": "2.0.0",
      "model_name": "HTMLModel",
      "state": {
       "_dom_classes": [],
       "_model_module": "@jupyter-widgets/controls",
       "_model_module_version": "2.0.0",
       "_model_name": "HTMLModel",
       "_view_count": null,
       "_view_module": "@jupyter-widgets/controls",
       "_view_module_version": "2.0.0",
       "_view_name": "HTMLView",
       "description": "",
       "description_allow_html": false,
       "layout": "IPY_MODEL_500eb799f2bc4486ac05df684b55bf53",
       "placeholder": "​",
       "style": "IPY_MODEL_a97cfc82e3f644b18bb40ae410ac2afd",
       "tabbable": null,
       "tooltip": null,
       "value": "Validation DataLoader 0: 100%"
      }
     },
     "84c74a38c695467bbbcd16cf647af26d": {
      "model_module": "@jupyter-widgets/controls",
      "model_module_version": "2.0.0",
      "model_name": "HTMLStyleModel",
      "state": {
       "_model_module": "@jupyter-widgets/controls",
       "_model_module_version": "2.0.0",
       "_model_name": "HTMLStyleModel",
       "_view_count": null,
       "_view_module": "@jupyter-widgets/base",
       "_view_module_version": "2.0.0",
       "_view_name": "StyleView",
       "background": null,
       "description_width": "",
       "font_size": null,
       "text_color": null
      }
     },
     "85948031f9554ec4a104660500b7dbde": {
      "model_module": "@jupyter-widgets/controls",
      "model_module_version": "2.0.0",
      "model_name": "HTMLStyleModel",
      "state": {
       "_model_module": "@jupyter-widgets/controls",
       "_model_module_version": "2.0.0",
       "_model_name": "HTMLStyleModel",
       "_view_count": null,
       "_view_module": "@jupyter-widgets/base",
       "_view_module_version": "2.0.0",
       "_view_name": "StyleView",
       "background": null,
       "description_width": "",
       "font_size": null,
       "text_color": null
      }
     },
     "85b6bcb7f7a8400791ae8cba83372129": {
      "model_module": "@jupyter-widgets/controls",
      "model_module_version": "2.0.0",
      "model_name": "FloatProgressModel",
      "state": {
       "_dom_classes": [],
       "_model_module": "@jupyter-widgets/controls",
       "_model_module_version": "2.0.0",
       "_model_name": "FloatProgressModel",
       "_view_count": null,
       "_view_module": "@jupyter-widgets/controls",
       "_view_module_version": "2.0.0",
       "_view_name": "ProgressView",
       "bar_style": "",
       "description": "",
       "description_allow_html": false,
       "layout": "IPY_MODEL_92fb9d1dc05844aebbad317a289bd2e9",
       "max": 16.0,
       "min": 0.0,
       "orientation": "horizontal",
       "style": "IPY_MODEL_24402be6aff84f7283c4173687ba51bc",
       "tabbable": null,
       "tooltip": null,
       "value": 16.0
      }
     },
     "85eb8f2086ee4aa080514192cfb3ca3b": {
      "model_module": "@jupyter-widgets/base",
      "model_module_version": "2.0.0",
      "model_name": "LayoutModel",
      "state": {
       "_model_module": "@jupyter-widgets/base",
       "_model_module_version": "2.0.0",
       "_model_name": "LayoutModel",
       "_view_count": null,
       "_view_module": "@jupyter-widgets/base",
       "_view_module_version": "2.0.0",
       "_view_name": "LayoutView",
       "align_content": null,
       "align_items": null,
       "align_self": null,
       "border_bottom": null,
       "border_left": null,
       "border_right": null,
       "border_top": null,
       "bottom": null,
       "display": "inline-flex",
       "flex": null,
       "flex_flow": "row wrap",
       "grid_area": null,
       "grid_auto_columns": null,
       "grid_auto_flow": null,
       "grid_auto_rows": null,
       "grid_column": null,
       "grid_gap": null,
       "grid_row": null,
       "grid_template_areas": null,
       "grid_template_columns": null,
       "grid_template_rows": null,
       "height": null,
       "justify_content": null,
       "justify_items": null,
       "left": null,
       "margin": null,
       "max_height": null,
       "max_width": null,
       "min_height": null,
       "min_width": null,
       "object_fit": null,
       "object_position": null,
       "order": null,
       "overflow": null,
       "padding": null,
       "right": null,
       "top": null,
       "visibility": null,
       "width": "100%"
      }
     },
     "86f8b082a0e64da69c7a8736bf9187e2": {
      "model_module": "@jupyter-widgets/controls",
      "model_module_version": "2.0.0",
      "model_name": "HTMLStyleModel",
      "state": {
       "_model_module": "@jupyter-widgets/controls",
       "_model_module_version": "2.0.0",
       "_model_name": "HTMLStyleModel",
       "_view_count": null,
       "_view_module": "@jupyter-widgets/base",
       "_view_module_version": "2.0.0",
       "_view_name": "StyleView",
       "background": null,
       "description_width": "",
       "font_size": null,
       "text_color": null
      }
     },
     "89844550b1f9448ebddf4086abfbbde9": {
      "model_module": "@jupyter-widgets/controls",
      "model_module_version": "2.0.0",
      "model_name": "HTMLModel",
      "state": {
       "_dom_classes": [],
       "_model_module": "@jupyter-widgets/controls",
       "_model_module_version": "2.0.0",
       "_model_name": "HTMLModel",
       "_view_count": null,
       "_view_module": "@jupyter-widgets/controls",
       "_view_module_version": "2.0.0",
       "_view_name": "HTMLView",
       "description": "",
       "description_allow_html": false,
       "layout": "IPY_MODEL_49cc77d35baa4ad4aec6acff23893b87",
       "placeholder": "​",
       "style": "IPY_MODEL_3a86bd1dd3114f51971efff219885d1e",
       "tabbable": null,
       "tooltip": null,
       "value": " 16/16 [00:01&lt;00:00,  8.53it/s]"
      }
     },
     "89f6e194a63c4b19ad490023628a32a6": {
      "model_module": "@jupyter-widgets/base",
      "model_module_version": "2.0.0",
      "model_name": "LayoutModel",
      "state": {
       "_model_module": "@jupyter-widgets/base",
       "_model_module_version": "2.0.0",
       "_model_name": "LayoutModel",
       "_view_count": null,
       "_view_module": "@jupyter-widgets/base",
       "_view_module_version": "2.0.0",
       "_view_name": "LayoutView",
       "align_content": null,
       "align_items": null,
       "align_self": null,
       "border_bottom": null,
       "border_left": null,
       "border_right": null,
       "border_top": null,
       "bottom": null,
       "display": null,
       "flex": "2",
       "flex_flow": null,
       "grid_area": null,
       "grid_auto_columns": null,
       "grid_auto_flow": null,
       "grid_auto_rows": null,
       "grid_column": null,
       "grid_gap": null,
       "grid_row": null,
       "grid_template_areas": null,
       "grid_template_columns": null,
       "grid_template_rows": null,
       "height": null,
       "justify_content": null,
       "justify_items": null,
       "left": null,
       "margin": null,
       "max_height": null,
       "max_width": null,
       "min_height": null,
       "min_width": null,
       "object_fit": null,
       "object_position": null,
       "order": null,
       "overflow": null,
       "padding": null,
       "right": null,
       "top": null,
       "visibility": null,
       "width": null
      }
     },
     "8a7fbc5fc2514b43a32fd8f9e0ec64fd": {
      "model_module": "@jupyter-widgets/base",
      "model_module_version": "2.0.0",
      "model_name": "LayoutModel",
      "state": {
       "_model_module": "@jupyter-widgets/base",
       "_model_module_version": "2.0.0",
       "_model_name": "LayoutModel",
       "_view_count": null,
       "_view_module": "@jupyter-widgets/base",
       "_view_module_version": "2.0.0",
       "_view_name": "LayoutView",
       "align_content": null,
       "align_items": null,
       "align_self": null,
       "border_bottom": null,
       "border_left": null,
       "border_right": null,
       "border_top": null,
       "bottom": null,
       "display": null,
       "flex": null,
       "flex_flow": null,
       "grid_area": null,
       "grid_auto_columns": null,
       "grid_auto_flow": null,
       "grid_auto_rows": null,
       "grid_column": null,
       "grid_gap": null,
       "grid_row": null,
       "grid_template_areas": null,
       "grid_template_columns": null,
       "grid_template_rows": null,
       "height": null,
       "justify_content": null,
       "justify_items": null,
       "left": null,
       "margin": null,
       "max_height": null,
       "max_width": null,
       "min_height": null,
       "min_width": null,
       "object_fit": null,
       "object_position": null,
       "order": null,
       "overflow": null,
       "padding": null,
       "right": null,
       "top": null,
       "visibility": null,
       "width": null
      }
     },
     "8b874c8f3efa4ce8b0a306c5a7b9301b": {
      "model_module": "@jupyter-widgets/controls",
      "model_module_version": "2.0.0",
      "model_name": "HTMLStyleModel",
      "state": {
       "_model_module": "@jupyter-widgets/controls",
       "_model_module_version": "2.0.0",
       "_model_name": "HTMLStyleModel",
       "_view_count": null,
       "_view_module": "@jupyter-widgets/base",
       "_view_module_version": "2.0.0",
       "_view_name": "StyleView",
       "background": null,
       "description_width": "",
       "font_size": null,
       "text_color": null
      }
     },
     "91d0bc47532341c8b718529d726693e4": {
      "model_module": "@jupyter-widgets/controls",
      "model_module_version": "2.0.0",
      "model_name": "HTMLStyleModel",
      "state": {
       "_model_module": "@jupyter-widgets/controls",
       "_model_module_version": "2.0.0",
       "_model_name": "HTMLStyleModel",
       "_view_count": null,
       "_view_module": "@jupyter-widgets/base",
       "_view_module_version": "2.0.0",
       "_view_name": "StyleView",
       "background": null,
       "description_width": "",
       "font_size": null,
       "text_color": null
      }
     },
     "92fb9d1dc05844aebbad317a289bd2e9": {
      "model_module": "@jupyter-widgets/base",
      "model_module_version": "2.0.0",
      "model_name": "LayoutModel",
      "state": {
       "_model_module": "@jupyter-widgets/base",
       "_model_module_version": "2.0.0",
       "_model_name": "LayoutModel",
       "_view_count": null,
       "_view_module": "@jupyter-widgets/base",
       "_view_module_version": "2.0.0",
       "_view_name": "LayoutView",
       "align_content": null,
       "align_items": null,
       "align_self": null,
       "border_bottom": null,
       "border_left": null,
       "border_right": null,
       "border_top": null,
       "bottom": null,
       "display": null,
       "flex": "2",
       "flex_flow": null,
       "grid_area": null,
       "grid_auto_columns": null,
       "grid_auto_flow": null,
       "grid_auto_rows": null,
       "grid_column": null,
       "grid_gap": null,
       "grid_row": null,
       "grid_template_areas": null,
       "grid_template_columns": null,
       "grid_template_rows": null,
       "height": null,
       "justify_content": null,
       "justify_items": null,
       "left": null,
       "margin": null,
       "max_height": null,
       "max_width": null,
       "min_height": null,
       "min_width": null,
       "object_fit": null,
       "object_position": null,
       "order": null,
       "overflow": null,
       "padding": null,
       "right": null,
       "top": null,
       "visibility": null,
       "width": null
      }
     },
     "93bb92d6ab824da49c8c6f8ef859593c": {
      "model_module": "@jupyter-widgets/controls",
      "model_module_version": "2.0.0",
      "model_name": "HTMLStyleModel",
      "state": {
       "_model_module": "@jupyter-widgets/controls",
       "_model_module_version": "2.0.0",
       "_model_name": "HTMLStyleModel",
       "_view_count": null,
       "_view_module": "@jupyter-widgets/base",
       "_view_module_version": "2.0.0",
       "_view_name": "StyleView",
       "background": null,
       "description_width": "",
       "font_size": null,
       "text_color": null
      }
     },
     "9497c935989a4c30a87ac770e3e8de81": {
      "model_module": "@jupyter-widgets/base",
      "model_module_version": "2.0.0",
      "model_name": "LayoutModel",
      "state": {
       "_model_module": "@jupyter-widgets/base",
       "_model_module_version": "2.0.0",
       "_model_name": "LayoutModel",
       "_view_count": null,
       "_view_module": "@jupyter-widgets/base",
       "_view_module_version": "2.0.0",
       "_view_name": "LayoutView",
       "align_content": null,
       "align_items": null,
       "align_self": null,
       "border_bottom": null,
       "border_left": null,
       "border_right": null,
       "border_top": null,
       "bottom": null,
       "display": "inline-flex",
       "flex": null,
       "flex_flow": "row wrap",
       "grid_area": null,
       "grid_auto_columns": null,
       "grid_auto_flow": null,
       "grid_auto_rows": null,
       "grid_column": null,
       "grid_gap": null,
       "grid_row": null,
       "grid_template_areas": null,
       "grid_template_columns": null,
       "grid_template_rows": null,
       "height": null,
       "justify_content": null,
       "justify_items": null,
       "left": null,
       "margin": null,
       "max_height": null,
       "max_width": null,
       "min_height": null,
       "min_width": null,
       "object_fit": null,
       "object_position": null,
       "order": null,
       "overflow": null,
       "padding": null,
       "right": null,
       "top": null,
       "visibility": "hidden",
       "width": "100%"
      }
     },
     "95aa61ba0acf4609a131b8613e777fb9": {
      "model_module": "@jupyter-widgets/controls",
      "model_module_version": "2.0.0",
      "model_name": "HTMLStyleModel",
      "state": {
       "_model_module": "@jupyter-widgets/controls",
       "_model_module_version": "2.0.0",
       "_model_name": "HTMLStyleModel",
       "_view_count": null,
       "_view_module": "@jupyter-widgets/base",
       "_view_module_version": "2.0.0",
       "_view_name": "StyleView",
       "background": null,
       "description_width": "",
       "font_size": null,
       "text_color": null
      }
     },
     "967779fb63c34e58b41f7684deac5b15": {
      "model_module": "@jupyter-widgets/controls",
      "model_module_version": "2.0.0",
      "model_name": "HTMLStyleModel",
      "state": {
       "_model_module": "@jupyter-widgets/controls",
       "_model_module_version": "2.0.0",
       "_model_name": "HTMLStyleModel",
       "_view_count": null,
       "_view_module": "@jupyter-widgets/base",
       "_view_module_version": "2.0.0",
       "_view_name": "StyleView",
       "background": null,
       "description_width": "",
       "font_size": null,
       "text_color": null
      }
     },
     "97190347cd4a4fa3914bf9cc18a8320b": {
      "model_module": "@jupyter-widgets/base",
      "model_module_version": "2.0.0",
      "model_name": "LayoutModel",
      "state": {
       "_model_module": "@jupyter-widgets/base",
       "_model_module_version": "2.0.0",
       "_model_name": "LayoutModel",
       "_view_count": null,
       "_view_module": "@jupyter-widgets/base",
       "_view_module_version": "2.0.0",
       "_view_name": "LayoutView",
       "align_content": null,
       "align_items": null,
       "align_self": null,
       "border_bottom": null,
       "border_left": null,
       "border_right": null,
       "border_top": null,
       "bottom": null,
       "display": "inline-flex",
       "flex": null,
       "flex_flow": "row wrap",
       "grid_area": null,
       "grid_auto_columns": null,
       "grid_auto_flow": null,
       "grid_auto_rows": null,
       "grid_column": null,
       "grid_gap": null,
       "grid_row": null,
       "grid_template_areas": null,
       "grid_template_columns": null,
       "grid_template_rows": null,
       "height": null,
       "justify_content": null,
       "justify_items": null,
       "left": null,
       "margin": null,
       "max_height": null,
       "max_width": null,
       "min_height": null,
       "min_width": null,
       "object_fit": null,
       "object_position": null,
       "order": null,
       "overflow": null,
       "padding": null,
       "right": null,
       "top": null,
       "visibility": "hidden",
       "width": "100%"
      }
     },
     "9a7344ff2eda4edf8575a8ddde031ef9": {
      "model_module": "@jupyter-widgets/controls",
      "model_module_version": "2.0.0",
      "model_name": "HTMLStyleModel",
      "state": {
       "_model_module": "@jupyter-widgets/controls",
       "_model_module_version": "2.0.0",
       "_model_name": "HTMLStyleModel",
       "_view_count": null,
       "_view_module": "@jupyter-widgets/base",
       "_view_module_version": "2.0.0",
       "_view_name": "StyleView",
       "background": null,
       "description_width": "",
       "font_size": null,
       "text_color": null
      }
     },
     "9c6990a8698641e4989b81b12181eebe": {
      "model_module": "@jupyter-widgets/base",
      "model_module_version": "2.0.0",
      "model_name": "LayoutModel",
      "state": {
       "_model_module": "@jupyter-widgets/base",
       "_model_module_version": "2.0.0",
       "_model_name": "LayoutModel",
       "_view_count": null,
       "_view_module": "@jupyter-widgets/base",
       "_view_module_version": "2.0.0",
       "_view_name": "LayoutView",
       "align_content": null,
       "align_items": null,
       "align_self": null,
       "border_bottom": null,
       "border_left": null,
       "border_right": null,
       "border_top": null,
       "bottom": null,
       "display": null,
       "flex": null,
       "flex_flow": null,
       "grid_area": null,
       "grid_auto_columns": null,
       "grid_auto_flow": null,
       "grid_auto_rows": null,
       "grid_column": null,
       "grid_gap": null,
       "grid_row": null,
       "grid_template_areas": null,
       "grid_template_columns": null,
       "grid_template_rows": null,
       "height": null,
       "justify_content": null,
       "justify_items": null,
       "left": null,
       "margin": null,
       "max_height": null,
       "max_width": null,
       "min_height": null,
       "min_width": null,
       "object_fit": null,
       "object_position": null,
       "order": null,
       "overflow": null,
       "padding": null,
       "right": null,
       "top": null,
       "visibility": null,
       "width": null
      }
     },
     "9ceaebb0f503454c9c99b1e36dabd58c": {
      "model_module": "@jupyter-widgets/controls",
      "model_module_version": "2.0.0",
      "model_name": "HTMLStyleModel",
      "state": {
       "_model_module": "@jupyter-widgets/controls",
       "_model_module_version": "2.0.0",
       "_model_name": "HTMLStyleModel",
       "_view_count": null,
       "_view_module": "@jupyter-widgets/base",
       "_view_module_version": "2.0.0",
       "_view_name": "StyleView",
       "background": null,
       "description_width": "",
       "font_size": null,
       "text_color": null
      }
     },
     "9ec4ff823eb0447893d5494a5ceb1807": {
      "model_module": "@jupyter-widgets/controls",
      "model_module_version": "2.0.0",
      "model_name": "FloatProgressModel",
      "state": {
       "_dom_classes": [],
       "_model_module": "@jupyter-widgets/controls",
       "_model_module_version": "2.0.0",
       "_model_name": "FloatProgressModel",
       "_view_count": null,
       "_view_module": "@jupyter-widgets/controls",
       "_view_module_version": "2.0.0",
       "_view_name": "ProgressView",
       "bar_style": "",
       "description": "",
       "description_allow_html": false,
       "layout": "IPY_MODEL_e9ab9f912ce34040af8f444e279d148e",
       "max": 16.0,
       "min": 0.0,
       "orientation": "horizontal",
       "style": "IPY_MODEL_03bc77e57edf4e30971c73e4c43e4445",
       "tabbable": null,
       "tooltip": null,
       "value": 16.0
      }
     },
     "a1dbc8cdfd604b30ba37d80928e44b19": {
      "model_module": "@jupyter-widgets/base",
      "model_module_version": "2.0.0",
      "model_name": "LayoutModel",
      "state": {
       "_model_module": "@jupyter-widgets/base",
       "_model_module_version": "2.0.0",
       "_model_name": "LayoutModel",
       "_view_count": null,
       "_view_module": "@jupyter-widgets/base",
       "_view_module_version": "2.0.0",
       "_view_name": "LayoutView",
       "align_content": null,
       "align_items": null,
       "align_self": null,
       "border_bottom": null,
       "border_left": null,
       "border_right": null,
       "border_top": null,
       "bottom": null,
       "display": null,
       "flex": "2",
       "flex_flow": null,
       "grid_area": null,
       "grid_auto_columns": null,
       "grid_auto_flow": null,
       "grid_auto_rows": null,
       "grid_column": null,
       "grid_gap": null,
       "grid_row": null,
       "grid_template_areas": null,
       "grid_template_columns": null,
       "grid_template_rows": null,
       "height": null,
       "justify_content": null,
       "justify_items": null,
       "left": null,
       "margin": null,
       "max_height": null,
       "max_width": null,
       "min_height": null,
       "min_width": null,
       "object_fit": null,
       "object_position": null,
       "order": null,
       "overflow": null,
       "padding": null,
       "right": null,
       "top": null,
       "visibility": null,
       "width": null
      }
     },
     "a37c2536f7e448308c431a410d876141": {
      "model_module": "@jupyter-widgets/controls",
      "model_module_version": "2.0.0",
      "model_name": "HBoxModel",
      "state": {
       "_dom_classes": [],
       "_model_module": "@jupyter-widgets/controls",
       "_model_module_version": "2.0.0",
       "_model_name": "HBoxModel",
       "_view_count": null,
       "_view_module": "@jupyter-widgets/controls",
       "_view_module_version": "2.0.0",
       "_view_name": "HBoxView",
       "box_style": "",
       "children": [
        "IPY_MODEL_e7d3d8b83f864c5282c033334e87b402",
        "IPY_MODEL_7e5e0a0a55b8437694bc198b173dd782",
        "IPY_MODEL_89844550b1f9448ebddf4086abfbbde9"
       ],
       "layout": "IPY_MODEL_05e966533f034bdb91e7cbca216c0631",
       "tabbable": null,
       "tooltip": null
      }
     },
     "a63f064264244f1c83a97cf01a0bef24": {
      "model_module": "@jupyter-widgets/base",
      "model_module_version": "2.0.0",
      "model_name": "LayoutModel",
      "state": {
       "_model_module": "@jupyter-widgets/base",
       "_model_module_version": "2.0.0",
       "_model_name": "LayoutModel",
       "_view_count": null,
       "_view_module": "@jupyter-widgets/base",
       "_view_module_version": "2.0.0",
       "_view_name": "LayoutView",
       "align_content": null,
       "align_items": null,
       "align_self": null,
       "border_bottom": null,
       "border_left": null,
       "border_right": null,
       "border_top": null,
       "bottom": null,
       "display": "inline-flex",
       "flex": null,
       "flex_flow": "row wrap",
       "grid_area": null,
       "grid_auto_columns": null,
       "grid_auto_flow": null,
       "grid_auto_rows": null,
       "grid_column": null,
       "grid_gap": null,
       "grid_row": null,
       "grid_template_areas": null,
       "grid_template_columns": null,
       "grid_template_rows": null,
       "height": null,
       "justify_content": null,
       "justify_items": null,
       "left": null,
       "margin": null,
       "max_height": null,
       "max_width": null,
       "min_height": null,
       "min_width": null,
       "object_fit": null,
       "object_position": null,
       "order": null,
       "overflow": null,
       "padding": null,
       "right": null,
       "top": null,
       "visibility": "hidden",
       "width": "100%"
      }
     },
     "a72de9bdd79448c48d9709425b655541": {
      "model_module": "@jupyter-widgets/base",
      "model_module_version": "2.0.0",
      "model_name": "LayoutModel",
      "state": {
       "_model_module": "@jupyter-widgets/base",
       "_model_module_version": "2.0.0",
       "_model_name": "LayoutModel",
       "_view_count": null,
       "_view_module": "@jupyter-widgets/base",
       "_view_module_version": "2.0.0",
       "_view_name": "LayoutView",
       "align_content": null,
       "align_items": null,
       "align_self": null,
       "border_bottom": null,
       "border_left": null,
       "border_right": null,
       "border_top": null,
       "bottom": null,
       "display": "inline-flex",
       "flex": null,
       "flex_flow": "row wrap",
       "grid_area": null,
       "grid_auto_columns": null,
       "grid_auto_flow": null,
       "grid_auto_rows": null,
       "grid_column": null,
       "grid_gap": null,
       "grid_row": null,
       "grid_template_areas": null,
       "grid_template_columns": null,
       "grid_template_rows": null,
       "height": null,
       "justify_content": null,
       "justify_items": null,
       "left": null,
       "margin": null,
       "max_height": null,
       "max_width": null,
       "min_height": null,
       "min_width": null,
       "object_fit": null,
       "object_position": null,
       "order": null,
       "overflow": null,
       "padding": null,
       "right": null,
       "top": null,
       "visibility": "hidden",
       "width": "100%"
      }
     },
     "a97cfc82e3f644b18bb40ae410ac2afd": {
      "model_module": "@jupyter-widgets/controls",
      "model_module_version": "2.0.0",
      "model_name": "HTMLStyleModel",
      "state": {
       "_model_module": "@jupyter-widgets/controls",
       "_model_module_version": "2.0.0",
       "_model_name": "HTMLStyleModel",
       "_view_count": null,
       "_view_module": "@jupyter-widgets/base",
       "_view_module_version": "2.0.0",
       "_view_name": "StyleView",
       "background": null,
       "description_width": "",
       "font_size": null,
       "text_color": null
      }
     },
     "ab273da6c0d247fdb1f49751e3004782": {
      "model_module": "@jupyter-widgets/controls",
      "model_module_version": "2.0.0",
      "model_name": "HTMLModel",
      "state": {
       "_dom_classes": [],
       "_model_module": "@jupyter-widgets/controls",
       "_model_module_version": "2.0.0",
       "_model_name": "HTMLModel",
       "_view_count": null,
       "_view_module": "@jupyter-widgets/controls",
       "_view_module_version": "2.0.0",
       "_view_name": "HTMLView",
       "description": "",
       "description_allow_html": false,
       "layout": "IPY_MODEL_fd215a3314a343e0b85576f77bba8ebd",
       "placeholder": "​",
       "style": "IPY_MODEL_bef783f3acd74928bf71b735e9808664",
       "tabbable": null,
       "tooltip": null,
       "value": "Validation DataLoader 0: 100%"
      }
     },
     "ab5767b3f5cd4ee5869c581fd7d2252c": {
      "model_module": "@jupyter-widgets/controls",
      "model_module_version": "2.0.0",
      "model_name": "HTMLModel",
      "state": {
       "_dom_classes": [],
       "_model_module": "@jupyter-widgets/controls",
       "_model_module_version": "2.0.0",
       "_model_name": "HTMLModel",
       "_view_count": null,
       "_view_module": "@jupyter-widgets/controls",
       "_view_module_version": "2.0.0",
       "_view_name": "HTMLView",
       "description": "",
       "description_allow_html": false,
       "layout": "IPY_MODEL_0ee01b4d39eb459d908a69baf4ca56aa",
       "placeholder": "​",
       "style": "IPY_MODEL_8b874c8f3efa4ce8b0a306c5a7b9301b",
       "tabbable": null,
       "tooltip": null,
       "value": "Validation DataLoader 0: 100%"
      }
     },
     "ab9a186ac2304a64a177522df8562437": {
      "model_module": "@jupyter-widgets/base",
      "model_module_version": "2.0.0",
      "model_name": "LayoutModel",
      "state": {
       "_model_module": "@jupyter-widgets/base",
       "_model_module_version": "2.0.0",
       "_model_name": "LayoutModel",
       "_view_count": null,
       "_view_module": "@jupyter-widgets/base",
       "_view_module_version": "2.0.0",
       "_view_name": "LayoutView",
       "align_content": null,
       "align_items": null,
       "align_self": null,
       "border_bottom": null,
       "border_left": null,
       "border_right": null,
       "border_top": null,
       "bottom": null,
       "display": null,
       "flex": null,
       "flex_flow": null,
       "grid_area": null,
       "grid_auto_columns": null,
       "grid_auto_flow": null,
       "grid_auto_rows": null,
       "grid_column": null,
       "grid_gap": null,
       "grid_row": null,
       "grid_template_areas": null,
       "grid_template_columns": null,
       "grid_template_rows": null,
       "height": null,
       "justify_content": null,
       "justify_items": null,
       "left": null,
       "margin": null,
       "max_height": null,
       "max_width": null,
       "min_height": null,
       "min_width": null,
       "object_fit": null,
       "object_position": null,
       "order": null,
       "overflow": null,
       "padding": null,
       "right": null,
       "top": null,
       "visibility": null,
       "width": null
      }
     },
     "abb572b4c283431bbb8e1172fd757e5f": {
      "model_module": "@jupyter-widgets/base",
      "model_module_version": "2.0.0",
      "model_name": "LayoutModel",
      "state": {
       "_model_module": "@jupyter-widgets/base",
       "_model_module_version": "2.0.0",
       "_model_name": "LayoutModel",
       "_view_count": null,
       "_view_module": "@jupyter-widgets/base",
       "_view_module_version": "2.0.0",
       "_view_name": "LayoutView",
       "align_content": null,
       "align_items": null,
       "align_self": null,
       "border_bottom": null,
       "border_left": null,
       "border_right": null,
       "border_top": null,
       "bottom": null,
       "display": null,
       "flex": "2",
       "flex_flow": null,
       "grid_area": null,
       "grid_auto_columns": null,
       "grid_auto_flow": null,
       "grid_auto_rows": null,
       "grid_column": null,
       "grid_gap": null,
       "grid_row": null,
       "grid_template_areas": null,
       "grid_template_columns": null,
       "grid_template_rows": null,
       "height": null,
       "justify_content": null,
       "justify_items": null,
       "left": null,
       "margin": null,
       "max_height": null,
       "max_width": null,
       "min_height": null,
       "min_width": null,
       "object_fit": null,
       "object_position": null,
       "order": null,
       "overflow": null,
       "padding": null,
       "right": null,
       "top": null,
       "visibility": null,
       "width": null
      }
     },
     "abd12b575d4c4e289a327bd5a2997bba": {
      "model_module": "@jupyter-widgets/base",
      "model_module_version": "2.0.0",
      "model_name": "LayoutModel",
      "state": {
       "_model_module": "@jupyter-widgets/base",
       "_model_module_version": "2.0.0",
       "_model_name": "LayoutModel",
       "_view_count": null,
       "_view_module": "@jupyter-widgets/base",
       "_view_module_version": "2.0.0",
       "_view_name": "LayoutView",
       "align_content": null,
       "align_items": null,
       "align_self": null,
       "border_bottom": null,
       "border_left": null,
       "border_right": null,
       "border_top": null,
       "bottom": null,
       "display": null,
       "flex": null,
       "flex_flow": null,
       "grid_area": null,
       "grid_auto_columns": null,
       "grid_auto_flow": null,
       "grid_auto_rows": null,
       "grid_column": null,
       "grid_gap": null,
       "grid_row": null,
       "grid_template_areas": null,
       "grid_template_columns": null,
       "grid_template_rows": null,
       "height": null,
       "justify_content": null,
       "justify_items": null,
       "left": null,
       "margin": null,
       "max_height": null,
       "max_width": null,
       "min_height": null,
       "min_width": null,
       "object_fit": null,
       "object_position": null,
       "order": null,
       "overflow": null,
       "padding": null,
       "right": null,
       "top": null,
       "visibility": null,
       "width": null
      }
     },
     "acb29577724d4cc4bfc667b66bbeaccb": {
      "model_module": "@jupyter-widgets/base",
      "model_module_version": "2.0.0",
      "model_name": "LayoutModel",
      "state": {
       "_model_module": "@jupyter-widgets/base",
       "_model_module_version": "2.0.0",
       "_model_name": "LayoutModel",
       "_view_count": null,
       "_view_module": "@jupyter-widgets/base",
       "_view_module_version": "2.0.0",
       "_view_name": "LayoutView",
       "align_content": null,
       "align_items": null,
       "align_self": null,
       "border_bottom": null,
       "border_left": null,
       "border_right": null,
       "border_top": null,
       "bottom": null,
       "display": null,
       "flex": null,
       "flex_flow": null,
       "grid_area": null,
       "grid_auto_columns": null,
       "grid_auto_flow": null,
       "grid_auto_rows": null,
       "grid_column": null,
       "grid_gap": null,
       "grid_row": null,
       "grid_template_areas": null,
       "grid_template_columns": null,
       "grid_template_rows": null,
       "height": null,
       "justify_content": null,
       "justify_items": null,
       "left": null,
       "margin": null,
       "max_height": null,
       "max_width": null,
       "min_height": null,
       "min_width": null,
       "object_fit": null,
       "object_position": null,
       "order": null,
       "overflow": null,
       "padding": null,
       "right": null,
       "top": null,
       "visibility": null,
       "width": null
      }
     },
     "acbe15812dc5497681dded141e8b25a1": {
      "model_module": "@jupyter-widgets/base",
      "model_module_version": "2.0.0",
      "model_name": "LayoutModel",
      "state": {
       "_model_module": "@jupyter-widgets/base",
       "_model_module_version": "2.0.0",
       "_model_name": "LayoutModel",
       "_view_count": null,
       "_view_module": "@jupyter-widgets/base",
       "_view_module_version": "2.0.0",
       "_view_name": "LayoutView",
       "align_content": null,
       "align_items": null,
       "align_self": null,
       "border_bottom": null,
       "border_left": null,
       "border_right": null,
       "border_top": null,
       "bottom": null,
       "display": "inline-flex",
       "flex": null,
       "flex_flow": "row wrap",
       "grid_area": null,
       "grid_auto_columns": null,
       "grid_auto_flow": null,
       "grid_auto_rows": null,
       "grid_column": null,
       "grid_gap": null,
       "grid_row": null,
       "grid_template_areas": null,
       "grid_template_columns": null,
       "grid_template_rows": null,
       "height": null,
       "justify_content": null,
       "justify_items": null,
       "left": null,
       "margin": null,
       "max_height": null,
       "max_width": null,
       "min_height": null,
       "min_width": null,
       "object_fit": null,
       "object_position": null,
       "order": null,
       "overflow": null,
       "padding": null,
       "right": null,
       "top": null,
       "visibility": "hidden",
       "width": "100%"
      }
     },
     "ae595122bbb24456a59f3975ef54ac14": {
      "model_module": "@jupyter-widgets/controls",
      "model_module_version": "2.0.0",
      "model_name": "FloatProgressModel",
      "state": {
       "_dom_classes": [],
       "_model_module": "@jupyter-widgets/controls",
       "_model_module_version": "2.0.0",
       "_model_name": "FloatProgressModel",
       "_view_count": null,
       "_view_module": "@jupyter-widgets/controls",
       "_view_module_version": "2.0.0",
       "_view_name": "ProgressView",
       "bar_style": "",
       "description": "",
       "description_allow_html": false,
       "layout": "IPY_MODEL_0ce4e71203b64834ad424d70cff1ccf5",
       "max": 16.0,
       "min": 0.0,
       "orientation": "horizontal",
       "style": "IPY_MODEL_fbbd6649571846498e3e7124d8c6d0a8",
       "tabbable": null,
       "tooltip": null,
       "value": 16.0
      }
     },
     "af7d0a49141d46bd8f4d7243ec4eb5fe": {
      "model_module": "@jupyter-widgets/controls",
      "model_module_version": "2.0.0",
      "model_name": "HBoxModel",
      "state": {
       "_dom_classes": [],
       "_model_module": "@jupyter-widgets/controls",
       "_model_module_version": "2.0.0",
       "_model_name": "HBoxModel",
       "_view_count": null,
       "_view_module": "@jupyter-widgets/controls",
       "_view_module_version": "2.0.0",
       "_view_name": "HBoxView",
       "box_style": "",
       "children": [
        "IPY_MODEL_65cd78adc2794b778ff059c60f24f66f",
        "IPY_MODEL_78ddded7814d44ab92d1949764ed2e56",
        "IPY_MODEL_baf42b146e6842acb79889a75471cb8e"
       ],
       "layout": "IPY_MODEL_defa62988d6645719cf9dc18d2dcbc64",
       "tabbable": null,
       "tooltip": null
      }
     },
     "b10124edf0d44d51857cbebffb45a5ee": {
      "model_module": "@jupyter-widgets/controls",
      "model_module_version": "2.0.0",
      "model_name": "FloatProgressModel",
      "state": {
       "_dom_classes": [],
       "_model_module": "@jupyter-widgets/controls",
       "_model_module_version": "2.0.0",
       "_model_name": "FloatProgressModel",
       "_view_count": null,
       "_view_module": "@jupyter-widgets/controls",
       "_view_module_version": "2.0.0",
       "_view_name": "ProgressView",
       "bar_style": "",
       "description": "",
       "description_allow_html": false,
       "layout": "IPY_MODEL_51c804f60c1547e1b24fe78bc336d653",
       "max": 16.0,
       "min": 0.0,
       "orientation": "horizontal",
       "style": "IPY_MODEL_51b1a179b3d1454e97333b537d4ab027",
       "tabbable": null,
       "tooltip": null,
       "value": 16.0
      }
     },
     "b1a25dce3e1646cfbd8cfa6d77bcb3cb": {
      "model_module": "@jupyter-widgets/controls",
      "model_module_version": "2.0.0",
      "model_name": "HTMLModel",
      "state": {
       "_dom_classes": [],
       "_model_module": "@jupyter-widgets/controls",
       "_model_module_version": "2.0.0",
       "_model_name": "HTMLModel",
       "_view_count": null,
       "_view_module": "@jupyter-widgets/controls",
       "_view_module_version": "2.0.0",
       "_view_name": "HTMLView",
       "description": "",
       "description_allow_html": false,
       "layout": "IPY_MODEL_b2abb90e72a742db886f0522112d0c38",
       "placeholder": "​",
       "style": "IPY_MODEL_9ceaebb0f503454c9c99b1e36dabd58c",
       "tabbable": null,
       "tooltip": null,
       "value": " 16/16 [00:01&lt;00:00,  8.02it/s]"
      }
     },
     "b2abb90e72a742db886f0522112d0c38": {
      "model_module": "@jupyter-widgets/base",
      "model_module_version": "2.0.0",
      "model_name": "LayoutModel",
      "state": {
       "_model_module": "@jupyter-widgets/base",
       "_model_module_version": "2.0.0",
       "_model_name": "LayoutModel",
       "_view_count": null,
       "_view_module": "@jupyter-widgets/base",
       "_view_module_version": "2.0.0",
       "_view_name": "LayoutView",
       "align_content": null,
       "align_items": null,
       "align_self": null,
       "border_bottom": null,
       "border_left": null,
       "border_right": null,
       "border_top": null,
       "bottom": null,
       "display": null,
       "flex": null,
       "flex_flow": null,
       "grid_area": null,
       "grid_auto_columns": null,
       "grid_auto_flow": null,
       "grid_auto_rows": null,
       "grid_column": null,
       "grid_gap": null,
       "grid_row": null,
       "grid_template_areas": null,
       "grid_template_columns": null,
       "grid_template_rows": null,
       "height": null,
       "justify_content": null,
       "justify_items": null,
       "left": null,
       "margin": null,
       "max_height": null,
       "max_width": null,
       "min_height": null,
       "min_width": null,
       "object_fit": null,
       "object_position": null,
       "order": null,
       "overflow": null,
       "padding": null,
       "right": null,
       "top": null,
       "visibility": null,
       "width": null
      }
     },
     "b2c37a9f50c949068a6ace07bcd55fe7": {
      "model_module": "@jupyter-widgets/base",
      "model_module_version": "2.0.0",
      "model_name": "LayoutModel",
      "state": {
       "_model_module": "@jupyter-widgets/base",
       "_model_module_version": "2.0.0",
       "_model_name": "LayoutModel",
       "_view_count": null,
       "_view_module": "@jupyter-widgets/base",
       "_view_module_version": "2.0.0",
       "_view_name": "LayoutView",
       "align_content": null,
       "align_items": null,
       "align_self": null,
       "border_bottom": null,
       "border_left": null,
       "border_right": null,
       "border_top": null,
       "bottom": null,
       "display": "inline-flex",
       "flex": null,
       "flex_flow": "row wrap",
       "grid_area": null,
       "grid_auto_columns": null,
       "grid_auto_flow": null,
       "grid_auto_rows": null,
       "grid_column": null,
       "grid_gap": null,
       "grid_row": null,
       "grid_template_areas": null,
       "grid_template_columns": null,
       "grid_template_rows": null,
       "height": null,
       "justify_content": null,
       "justify_items": null,
       "left": null,
       "margin": null,
       "max_height": null,
       "max_width": null,
       "min_height": null,
       "min_width": null,
       "object_fit": null,
       "object_position": null,
       "order": null,
       "overflow": null,
       "padding": null,
       "right": null,
       "top": null,
       "visibility": "hidden",
       "width": "100%"
      }
     },
     "b36c850b694145f5b5e305043305b320": {
      "model_module": "@jupyter-widgets/controls",
      "model_module_version": "2.0.0",
      "model_name": "HBoxModel",
      "state": {
       "_dom_classes": [],
       "_model_module": "@jupyter-widgets/controls",
       "_model_module_version": "2.0.0",
       "_model_name": "HBoxModel",
       "_view_count": null,
       "_view_module": "@jupyter-widgets/controls",
       "_view_module_version": "2.0.0",
       "_view_name": "HBoxView",
       "box_style": "",
       "children": [
        "IPY_MODEL_bba8b9193cfc4c96b242bd9bc4f99d58",
        "IPY_MODEL_db2058570a0c4222ab6bac9deff60716",
        "IPY_MODEL_0619516b1fd748fcacfb1975e4d14ed4"
       ],
       "layout": "IPY_MODEL_4ac7eba635444d3a9930e7d8960b8a19",
       "tabbable": null,
       "tooltip": null
      }
     },
     "b5268d58d0334f178d2f7377173e290b": {
      "model_module": "@jupyter-widgets/controls",
      "model_module_version": "2.0.0",
      "model_name": "HTMLModel",
      "state": {
       "_dom_classes": [],
       "_model_module": "@jupyter-widgets/controls",
       "_model_module_version": "2.0.0",
       "_model_name": "HTMLModel",
       "_view_count": null,
       "_view_module": "@jupyter-widgets/controls",
       "_view_module_version": "2.0.0",
       "_view_name": "HTMLView",
       "description": "",
       "description_allow_html": false,
       "layout": "IPY_MODEL_611b22337e1f4a46b8ab13b85fbe3a3a",
       "placeholder": "​",
       "style": "IPY_MODEL_86f8b082a0e64da69c7a8736bf9187e2",
       "tabbable": null,
       "tooltip": null,
       "value": " 2/2 [00:00&lt;00:00,  2.96it/s]"
      }
     },
     "b5f1ebe1258c4bc5ae31116bff3ec4f0": {
      "model_module": "@jupyter-widgets/controls",
      "model_module_version": "2.0.0",
      "model_name": "HTMLModel",
      "state": {
       "_dom_classes": [],
       "_model_module": "@jupyter-widgets/controls",
       "_model_module_version": "2.0.0",
       "_model_name": "HTMLModel",
       "_view_count": null,
       "_view_module": "@jupyter-widgets/controls",
       "_view_module_version": "2.0.0",
       "_view_name": "HTMLView",
       "description": "",
       "description_allow_html": false,
       "layout": "IPY_MODEL_bab9a63401224bebbd434c1f10537fc7",
       "placeholder": "​",
       "style": "IPY_MODEL_1c2b73fc821948369c53a83b2644d89b",
       "tabbable": null,
       "tooltip": null,
       "value": " 16/16 [00:02&lt;00:00,  7.80it/s]"
      }
     },
     "b6f92683962a4dfbb4fc228b86a258d3": {
      "model_module": "@jupyter-widgets/base",
      "model_module_version": "2.0.0",
      "model_name": "LayoutModel",
      "state": {
       "_model_module": "@jupyter-widgets/base",
       "_model_module_version": "2.0.0",
       "_model_name": "LayoutModel",
       "_view_count": null,
       "_view_module": "@jupyter-widgets/base",
       "_view_module_version": "2.0.0",
       "_view_name": "LayoutView",
       "align_content": null,
       "align_items": null,
       "align_self": null,
       "border_bottom": null,
       "border_left": null,
       "border_right": null,
       "border_top": null,
       "bottom": null,
       "display": null,
       "flex": null,
       "flex_flow": null,
       "grid_area": null,
       "grid_auto_columns": null,
       "grid_auto_flow": null,
       "grid_auto_rows": null,
       "grid_column": null,
       "grid_gap": null,
       "grid_row": null,
       "grid_template_areas": null,
       "grid_template_columns": null,
       "grid_template_rows": null,
       "height": null,
       "justify_content": null,
       "justify_items": null,
       "left": null,
       "margin": null,
       "max_height": null,
       "max_width": null,
       "min_height": null,
       "min_width": null,
       "object_fit": null,
       "object_position": null,
       "order": null,
       "overflow": null,
       "padding": null,
       "right": null,
       "top": null,
       "visibility": null,
       "width": null
      }
     },
     "b9f48f55e33d4e248ebf5e7d8d69ddd6": {
      "model_module": "@jupyter-widgets/base",
      "model_module_version": "2.0.0",
      "model_name": "LayoutModel",
      "state": {
       "_model_module": "@jupyter-widgets/base",
       "_model_module_version": "2.0.0",
       "_model_name": "LayoutModel",
       "_view_count": null,
       "_view_module": "@jupyter-widgets/base",
       "_view_module_version": "2.0.0",
       "_view_name": "LayoutView",
       "align_content": null,
       "align_items": null,
       "align_self": null,
       "border_bottom": null,
       "border_left": null,
       "border_right": null,
       "border_top": null,
       "bottom": null,
       "display": "inline-flex",
       "flex": null,
       "flex_flow": "row wrap",
       "grid_area": null,
       "grid_auto_columns": null,
       "grid_auto_flow": null,
       "grid_auto_rows": null,
       "grid_column": null,
       "grid_gap": null,
       "grid_row": null,
       "grid_template_areas": null,
       "grid_template_columns": null,
       "grid_template_rows": null,
       "height": null,
       "justify_content": null,
       "justify_items": null,
       "left": null,
       "margin": null,
       "max_height": null,
       "max_width": null,
       "min_height": null,
       "min_width": null,
       "object_fit": null,
       "object_position": null,
       "order": null,
       "overflow": null,
       "padding": null,
       "right": null,
       "top": null,
       "visibility": "hidden",
       "width": "100%"
      }
     },
     "bab9a63401224bebbd434c1f10537fc7": {
      "model_module": "@jupyter-widgets/base",
      "model_module_version": "2.0.0",
      "model_name": "LayoutModel",
      "state": {
       "_model_module": "@jupyter-widgets/base",
       "_model_module_version": "2.0.0",
       "_model_name": "LayoutModel",
       "_view_count": null,
       "_view_module": "@jupyter-widgets/base",
       "_view_module_version": "2.0.0",
       "_view_name": "LayoutView",
       "align_content": null,
       "align_items": null,
       "align_self": null,
       "border_bottom": null,
       "border_left": null,
       "border_right": null,
       "border_top": null,
       "bottom": null,
       "display": null,
       "flex": null,
       "flex_flow": null,
       "grid_area": null,
       "grid_auto_columns": null,
       "grid_auto_flow": null,
       "grid_auto_rows": null,
       "grid_column": null,
       "grid_gap": null,
       "grid_row": null,
       "grid_template_areas": null,
       "grid_template_columns": null,
       "grid_template_rows": null,
       "height": null,
       "justify_content": null,
       "justify_items": null,
       "left": null,
       "margin": null,
       "max_height": null,
       "max_width": null,
       "min_height": null,
       "min_width": null,
       "object_fit": null,
       "object_position": null,
       "order": null,
       "overflow": null,
       "padding": null,
       "right": null,
       "top": null,
       "visibility": null,
       "width": null
      }
     },
     "baf42b146e6842acb79889a75471cb8e": {
      "model_module": "@jupyter-widgets/controls",
      "model_module_version": "2.0.0",
      "model_name": "HTMLModel",
      "state": {
       "_dom_classes": [],
       "_model_module": "@jupyter-widgets/controls",
       "_model_module_version": "2.0.0",
       "_model_name": "HTMLModel",
       "_view_count": null,
       "_view_module": "@jupyter-widgets/controls",
       "_view_module_version": "2.0.0",
       "_view_name": "HTMLView",
       "description": "",
       "description_allow_html": false,
       "layout": "IPY_MODEL_2e6579ba35054b3e917ded29c6446bf1",
       "placeholder": "​",
       "style": "IPY_MODEL_283c5c3338084452b617718d446ee12f",
       "tabbable": null,
       "tooltip": null,
       "value": " 16/16 [00:01&lt;00:00,  8.38it/s]"
      }
     },
     "bba8b9193cfc4c96b242bd9bc4f99d58": {
      "model_module": "@jupyter-widgets/controls",
      "model_module_version": "2.0.0",
      "model_name": "HTMLModel",
      "state": {
       "_dom_classes": [],
       "_model_module": "@jupyter-widgets/controls",
       "_model_module_version": "2.0.0",
       "_model_name": "HTMLModel",
       "_view_count": null,
       "_view_module": "@jupyter-widgets/controls",
       "_view_module_version": "2.0.0",
       "_view_name": "HTMLView",
       "description": "",
       "description_allow_html": false,
       "layout": "IPY_MODEL_474fbcd0276d4d4ea46bb66b3893d849",
       "placeholder": "​",
       "style": "IPY_MODEL_510f006067224b6484d9a46ed4f49c7f",
       "tabbable": null,
       "tooltip": null,
       "value": "Validation DataLoader 0: 100%"
      }
     },
     "bd6495e97cdd4230829cf61029f64d0d": {
      "model_module": "@jupyter-widgets/base",
      "model_module_version": "2.0.0",
      "model_name": "LayoutModel",
      "state": {
       "_model_module": "@jupyter-widgets/base",
       "_model_module_version": "2.0.0",
       "_model_name": "LayoutModel",
       "_view_count": null,
       "_view_module": "@jupyter-widgets/base",
       "_view_module_version": "2.0.0",
       "_view_name": "LayoutView",
       "align_content": null,
       "align_items": null,
       "align_self": null,
       "border_bottom": null,
       "border_left": null,
       "border_right": null,
       "border_top": null,
       "bottom": null,
       "display": null,
       "flex": null,
       "flex_flow": null,
       "grid_area": null,
       "grid_auto_columns": null,
       "grid_auto_flow": null,
       "grid_auto_rows": null,
       "grid_column": null,
       "grid_gap": null,
       "grid_row": null,
       "grid_template_areas": null,
       "grid_template_columns": null,
       "grid_template_rows": null,
       "height": null,
       "justify_content": null,
       "justify_items": null,
       "left": null,
       "margin": null,
       "max_height": null,
       "max_width": null,
       "min_height": null,
       "min_width": null,
       "object_fit": null,
       "object_position": null,
       "order": null,
       "overflow": null,
       "padding": null,
       "right": null,
       "top": null,
       "visibility": null,
       "width": null
      }
     },
     "bef783f3acd74928bf71b735e9808664": {
      "model_module": "@jupyter-widgets/controls",
      "model_module_version": "2.0.0",
      "model_name": "HTMLStyleModel",
      "state": {
       "_model_module": "@jupyter-widgets/controls",
       "_model_module_version": "2.0.0",
       "_model_name": "HTMLStyleModel",
       "_view_count": null,
       "_view_module": "@jupyter-widgets/base",
       "_view_module_version": "2.0.0",
       "_view_name": "StyleView",
       "background": null,
       "description_width": "",
       "font_size": null,
       "text_color": null
      }
     },
     "bfc73c4b9fa548e089c864518ad66acf": {
      "model_module": "@jupyter-widgets/controls",
      "model_module_version": "2.0.0",
      "model_name": "ProgressStyleModel",
      "state": {
       "_model_module": "@jupyter-widgets/controls",
       "_model_module_version": "2.0.0",
       "_model_name": "ProgressStyleModel",
       "_view_count": null,
       "_view_module": "@jupyter-widgets/base",
       "_view_module_version": "2.0.0",
       "_view_name": "StyleView",
       "bar_color": null,
       "description_width": ""
      }
     },
     "c1a33b2bd4764f4a80b9ad8d89caafc9": {
      "model_module": "@jupyter-widgets/controls",
      "model_module_version": "2.0.0",
      "model_name": "HTMLStyleModel",
      "state": {
       "_model_module": "@jupyter-widgets/controls",
       "_model_module_version": "2.0.0",
       "_model_name": "HTMLStyleModel",
       "_view_count": null,
       "_view_module": "@jupyter-widgets/base",
       "_view_module_version": "2.0.0",
       "_view_name": "StyleView",
       "background": null,
       "description_width": "",
       "font_size": null,
       "text_color": null
      }
     },
     "c6a154fd2bd345cd8cf09168c626f4de": {
      "model_module": "@jupyter-widgets/base",
      "model_module_version": "2.0.0",
      "model_name": "LayoutModel",
      "state": {
       "_model_module": "@jupyter-widgets/base",
       "_model_module_version": "2.0.0",
       "_model_name": "LayoutModel",
       "_view_count": null,
       "_view_module": "@jupyter-widgets/base",
       "_view_module_version": "2.0.0",
       "_view_name": "LayoutView",
       "align_content": null,
       "align_items": null,
       "align_self": null,
       "border_bottom": null,
       "border_left": null,
       "border_right": null,
       "border_top": null,
       "bottom": null,
       "display": "inline-flex",
       "flex": null,
       "flex_flow": "row wrap",
       "grid_area": null,
       "grid_auto_columns": null,
       "grid_auto_flow": null,
       "grid_auto_rows": null,
       "grid_column": null,
       "grid_gap": null,
       "grid_row": null,
       "grid_template_areas": null,
       "grid_template_columns": null,
       "grid_template_rows": null,
       "height": null,
       "justify_content": null,
       "justify_items": null,
       "left": null,
       "margin": null,
       "max_height": null,
       "max_width": null,
       "min_height": null,
       "min_width": null,
       "object_fit": null,
       "object_position": null,
       "order": null,
       "overflow": null,
       "padding": null,
       "right": null,
       "top": null,
       "visibility": "hidden",
       "width": "100%"
      }
     },
     "ca865790ff5d47ddbce7eacc2636b86e": {
      "model_module": "@jupyter-widgets/controls",
      "model_module_version": "2.0.0",
      "model_name": "HBoxModel",
      "state": {
       "_dom_classes": [],
       "_model_module": "@jupyter-widgets/controls",
       "_model_module_version": "2.0.0",
       "_model_name": "HBoxModel",
       "_view_count": null,
       "_view_module": "@jupyter-widgets/controls",
       "_view_module_version": "2.0.0",
       "_view_name": "HBoxView",
       "box_style": "",
       "children": [
        "IPY_MODEL_30633d4e896a43bbbfc22bb19d01ad00",
        "IPY_MODEL_9ec4ff823eb0447893d5494a5ceb1807",
        "IPY_MODEL_b5f1ebe1258c4bc5ae31116bff3ec4f0"
       ],
       "layout": "IPY_MODEL_0d95ab10542044d5b00f6f2736b11cae",
       "tabbable": null,
       "tooltip": null
      }
     },
     "cbd7df683bb94debb2f5fec6b865dfd3": {
      "model_module": "@jupyter-widgets/controls",
      "model_module_version": "2.0.0",
      "model_name": "HTMLStyleModel",
      "state": {
       "_model_module": "@jupyter-widgets/controls",
       "_model_module_version": "2.0.0",
       "_model_name": "HTMLStyleModel",
       "_view_count": null,
       "_view_module": "@jupyter-widgets/base",
       "_view_module_version": "2.0.0",
       "_view_name": "StyleView",
       "background": null,
       "description_width": "",
       "font_size": null,
       "text_color": null
      }
     },
     "cc1af6b9ffc1434fa309824859c6cec7": {
      "model_module": "@jupyter-widgets/controls",
      "model_module_version": "2.0.0",
      "model_name": "HBoxModel",
      "state": {
       "_dom_classes": [],
       "_model_module": "@jupyter-widgets/controls",
       "_model_module_version": "2.0.0",
       "_model_name": "HBoxModel",
       "_view_count": null,
       "_view_module": "@jupyter-widgets/controls",
       "_view_module_version": "2.0.0",
       "_view_name": "HBoxView",
       "box_style": "",
       "children": [
        "IPY_MODEL_ab273da6c0d247fdb1f49751e3004782",
        "IPY_MODEL_85b6bcb7f7a8400791ae8cba83372129",
        "IPY_MODEL_679405c4d4684ed687bc5d0d20951dca"
       ],
       "layout": "IPY_MODEL_eeae8b1305ee411c9a7e8a7f6e26a36d",
       "tabbable": null,
       "tooltip": null
      }
     },
     "cecf6c8f11fc41779c7dab926a823eb6": {
      "model_module": "@jupyter-widgets/controls",
      "model_module_version": "2.0.0",
      "model_name": "HTMLModel",
      "state": {
       "_dom_classes": [],
       "_model_module": "@jupyter-widgets/controls",
       "_model_module_version": "2.0.0",
       "_model_name": "HTMLModel",
       "_view_count": null,
       "_view_module": "@jupyter-widgets/controls",
       "_view_module_version": "2.0.0",
       "_view_name": "HTMLView",
       "description": "",
       "description_allow_html": false,
       "layout": "IPY_MODEL_7f535d2f79cc4314a9701c8d9a8f57b0",
       "placeholder": "​",
       "style": "IPY_MODEL_3c8ec34de0a7470eac239a0b8e075e36",
       "tabbable": null,
       "tooltip": null,
       "value": "Validation DataLoader 0: 100%"
      }
     },
     "d1bb243dac8e4fa2b74b5916d67d0e04": {
      "model_module": "@jupyter-widgets/controls",
      "model_module_version": "2.0.0",
      "model_name": "HTMLModel",
      "state": {
       "_dom_classes": [],
       "_model_module": "@jupyter-widgets/controls",
       "_model_module_version": "2.0.0",
       "_model_name": "HTMLModel",
       "_view_count": null,
       "_view_module": "@jupyter-widgets/controls",
       "_view_module_version": "2.0.0",
       "_view_name": "HTMLView",
       "description": "",
       "description_allow_html": false,
       "layout": "IPY_MODEL_ab9a186ac2304a64a177522df8562437",
       "placeholder": "​",
       "style": "IPY_MODEL_c1a33b2bd4764f4a80b9ad8d89caafc9",
       "tabbable": null,
       "tooltip": null,
       "value": "Validation DataLoader 0: 100%"
      }
     },
     "d1e136faa510449ca940543cdaa8ed02": {
      "model_module": "@jupyter-widgets/controls",
      "model_module_version": "2.0.0",
      "model_name": "ProgressStyleModel",
      "state": {
       "_model_module": "@jupyter-widgets/controls",
       "_model_module_version": "2.0.0",
       "_model_name": "ProgressStyleModel",
       "_view_count": null,
       "_view_module": "@jupyter-widgets/base",
       "_view_module_version": "2.0.0",
       "_view_name": "StyleView",
       "bar_color": null,
       "description_width": ""
      }
     },
     "d41a1c789c364c8cb73c381a568e95ad": {
      "model_module": "@jupyter-widgets/controls",
      "model_module_version": "2.0.0",
      "model_name": "ProgressStyleModel",
      "state": {
       "_model_module": "@jupyter-widgets/controls",
       "_model_module_version": "2.0.0",
       "_model_name": "ProgressStyleModel",
       "_view_count": null,
       "_view_module": "@jupyter-widgets/base",
       "_view_module_version": "2.0.0",
       "_view_name": "StyleView",
       "bar_color": null,
       "description_width": ""
      }
     },
     "d5203bd265eb436c83851358684b2ede": {
      "model_module": "@jupyter-widgets/base",
      "model_module_version": "2.0.0",
      "model_name": "LayoutModel",
      "state": {
       "_model_module": "@jupyter-widgets/base",
       "_model_module_version": "2.0.0",
       "_model_name": "LayoutModel",
       "_view_count": null,
       "_view_module": "@jupyter-widgets/base",
       "_view_module_version": "2.0.0",
       "_view_name": "LayoutView",
       "align_content": null,
       "align_items": null,
       "align_self": null,
       "border_bottom": null,
       "border_left": null,
       "border_right": null,
       "border_top": null,
       "bottom": null,
       "display": null,
       "flex": null,
       "flex_flow": null,
       "grid_area": null,
       "grid_auto_columns": null,
       "grid_auto_flow": null,
       "grid_auto_rows": null,
       "grid_column": null,
       "grid_gap": null,
       "grid_row": null,
       "grid_template_areas": null,
       "grid_template_columns": null,
       "grid_template_rows": null,
       "height": null,
       "justify_content": null,
       "justify_items": null,
       "left": null,
       "margin": null,
       "max_height": null,
       "max_width": null,
       "min_height": null,
       "min_width": null,
       "object_fit": null,
       "object_position": null,
       "order": null,
       "overflow": null,
       "padding": null,
       "right": null,
       "top": null,
       "visibility": null,
       "width": null
      }
     },
     "d5dc7d13289242afae185860365ac70b": {
      "model_module": "@jupyter-widgets/base",
      "model_module_version": "2.0.0",
      "model_name": "LayoutModel",
      "state": {
       "_model_module": "@jupyter-widgets/base",
       "_model_module_version": "2.0.0",
       "_model_name": "LayoutModel",
       "_view_count": null,
       "_view_module": "@jupyter-widgets/base",
       "_view_module_version": "2.0.0",
       "_view_name": "LayoutView",
       "align_content": null,
       "align_items": null,
       "align_self": null,
       "border_bottom": null,
       "border_left": null,
       "border_right": null,
       "border_top": null,
       "bottom": null,
       "display": null,
       "flex": "2",
       "flex_flow": null,
       "grid_area": null,
       "grid_auto_columns": null,
       "grid_auto_flow": null,
       "grid_auto_rows": null,
       "grid_column": null,
       "grid_gap": null,
       "grid_row": null,
       "grid_template_areas": null,
       "grid_template_columns": null,
       "grid_template_rows": null,
       "height": null,
       "justify_content": null,
       "justify_items": null,
       "left": null,
       "margin": null,
       "max_height": null,
       "max_width": null,
       "min_height": null,
       "min_width": null,
       "object_fit": null,
       "object_position": null,
       "order": null,
       "overflow": null,
       "padding": null,
       "right": null,
       "top": null,
       "visibility": null,
       "width": null
      }
     },
     "d88acfd5eb68400ba8617801ec02ee1a": {
      "model_module": "@jupyter-widgets/controls",
      "model_module_version": "2.0.0",
      "model_name": "HBoxModel",
      "state": {
       "_dom_classes": [],
       "_model_module": "@jupyter-widgets/controls",
       "_model_module_version": "2.0.0",
       "_model_name": "HBoxModel",
       "_view_count": null,
       "_view_module": "@jupyter-widgets/controls",
       "_view_module_version": "2.0.0",
       "_view_name": "HBoxView",
       "box_style": "",
       "children": [
        "IPY_MODEL_ab5767b3f5cd4ee5869c581fd7d2252c",
        "IPY_MODEL_058a111f81054c78ab5098e15b9e5256",
        "IPY_MODEL_72054a545ea442628ef803fadcc5450b"
       ],
       "layout": "IPY_MODEL_97190347cd4a4fa3914bf9cc18a8320b",
       "tabbable": null,
       "tooltip": null
      }
     },
     "dac9067a3b3e4b5999be7f4dce92e9fb": {
      "model_module": "@jupyter-widgets/base",
      "model_module_version": "2.0.0",
      "model_name": "LayoutModel",
      "state": {
       "_model_module": "@jupyter-widgets/base",
       "_model_module_version": "2.0.0",
       "_model_name": "LayoutModel",
       "_view_count": null,
       "_view_module": "@jupyter-widgets/base",
       "_view_module_version": "2.0.0",
       "_view_name": "LayoutView",
       "align_content": null,
       "align_items": null,
       "align_self": null,
       "border_bottom": null,
       "border_left": null,
       "border_right": null,
       "border_top": null,
       "bottom": null,
       "display": "inline-flex",
       "flex": null,
       "flex_flow": "row wrap",
       "grid_area": null,
       "grid_auto_columns": null,
       "grid_auto_flow": null,
       "grid_auto_rows": null,
       "grid_column": null,
       "grid_gap": null,
       "grid_row": null,
       "grid_template_areas": null,
       "grid_template_columns": null,
       "grid_template_rows": null,
       "height": null,
       "justify_content": null,
       "justify_items": null,
       "left": null,
       "margin": null,
       "max_height": null,
       "max_width": null,
       "min_height": null,
       "min_width": null,
       "object_fit": null,
       "object_position": null,
       "order": null,
       "overflow": null,
       "padding": null,
       "right": null,
       "top": null,
       "visibility": "hidden",
       "width": "100%"
      }
     },
     "db2058570a0c4222ab6bac9deff60716": {
      "model_module": "@jupyter-widgets/controls",
      "model_module_version": "2.0.0",
      "model_name": "FloatProgressModel",
      "state": {
       "_dom_classes": [],
       "_model_module": "@jupyter-widgets/controls",
       "_model_module_version": "2.0.0",
       "_model_name": "FloatProgressModel",
       "_view_count": null,
       "_view_module": "@jupyter-widgets/controls",
       "_view_module_version": "2.0.0",
       "_view_name": "ProgressView",
       "bar_style": "",
       "description": "",
       "description_allow_html": false,
       "layout": "IPY_MODEL_4f1d0f9d611e4485a58384236ecf5f26",
       "max": 16.0,
       "min": 0.0,
       "orientation": "horizontal",
       "style": "IPY_MODEL_e3d49d3c110f480abf7bee66db36f45f",
       "tabbable": null,
       "tooltip": null,
       "value": 16.0
      }
     },
     "defa62988d6645719cf9dc18d2dcbc64": {
      "model_module": "@jupyter-widgets/base",
      "model_module_version": "2.0.0",
      "model_name": "LayoutModel",
      "state": {
       "_model_module": "@jupyter-widgets/base",
       "_model_module_version": "2.0.0",
       "_model_name": "LayoutModel",
       "_view_count": null,
       "_view_module": "@jupyter-widgets/base",
       "_view_module_version": "2.0.0",
       "_view_name": "LayoutView",
       "align_content": null,
       "align_items": null,
       "align_self": null,
       "border_bottom": null,
       "border_left": null,
       "border_right": null,
       "border_top": null,
       "bottom": null,
       "display": "inline-flex",
       "flex": null,
       "flex_flow": "row wrap",
       "grid_area": null,
       "grid_auto_columns": null,
       "grid_auto_flow": null,
       "grid_auto_rows": null,
       "grid_column": null,
       "grid_gap": null,
       "grid_row": null,
       "grid_template_areas": null,
       "grid_template_columns": null,
       "grid_template_rows": null,
       "height": null,
       "justify_content": null,
       "justify_items": null,
       "left": null,
       "margin": null,
       "max_height": null,
       "max_width": null,
       "min_height": null,
       "min_width": null,
       "object_fit": null,
       "object_position": null,
       "order": null,
       "overflow": null,
       "padding": null,
       "right": null,
       "top": null,
       "visibility": "hidden",
       "width": "100%"
      }
     },
     "e0432d114f6c46e4ab53b6e180b88ac4": {
      "model_module": "@jupyter-widgets/controls",
      "model_module_version": "2.0.0",
      "model_name": "HTMLModel",
      "state": {
       "_dom_classes": [],
       "_model_module": "@jupyter-widgets/controls",
       "_model_module_version": "2.0.0",
       "_model_name": "HTMLModel",
       "_view_count": null,
       "_view_module": "@jupyter-widgets/controls",
       "_view_module_version": "2.0.0",
       "_view_name": "HTMLView",
       "description": "",
       "description_allow_html": false,
       "layout": "IPY_MODEL_2d31f138dd394905b318fa8096e06d7f",
       "placeholder": "​",
       "style": "IPY_MODEL_043bc66cb0074c0daee59a4688c7fd37",
       "tabbable": null,
       "tooltip": null,
       "value": " 16/16 [00:02&lt;00:00,  7.91it/s]"
      }
     },
     "e1d6da6b9bd74cac8cd67c80e0588564": {
      "model_module": "@jupyter-widgets/controls",
      "model_module_version": "2.0.0",
      "model_name": "FloatProgressModel",
      "state": {
       "_dom_classes": [],
       "_model_module": "@jupyter-widgets/controls",
       "_model_module_version": "2.0.0",
       "_model_name": "FloatProgressModel",
       "_view_count": null,
       "_view_module": "@jupyter-widgets/controls",
       "_view_module_version": "2.0.0",
       "_view_name": "ProgressView",
       "bar_style": "",
       "description": "",
       "description_allow_html": false,
       "layout": "IPY_MODEL_e4ad7a4d15aa485e8352737d537769d4",
       "max": 16.0,
       "min": 0.0,
       "orientation": "horizontal",
       "style": "IPY_MODEL_093f9d07d19244e88aafa55751c23220",
       "tabbable": null,
       "tooltip": null,
       "value": 16.0
      }
     },
     "e26f41761dc2405598352d3186eec1c9": {
      "model_module": "@jupyter-widgets/controls",
      "model_module_version": "2.0.0",
      "model_name": "HTMLStyleModel",
      "state": {
       "_model_module": "@jupyter-widgets/controls",
       "_model_module_version": "2.0.0",
       "_model_name": "HTMLStyleModel",
       "_view_count": null,
       "_view_module": "@jupyter-widgets/base",
       "_view_module_version": "2.0.0",
       "_view_name": "StyleView",
       "background": null,
       "description_width": "",
       "font_size": null,
       "text_color": null
      }
     },
     "e3d49d3c110f480abf7bee66db36f45f": {
      "model_module": "@jupyter-widgets/controls",
      "model_module_version": "2.0.0",
      "model_name": "ProgressStyleModel",
      "state": {
       "_model_module": "@jupyter-widgets/controls",
       "_model_module_version": "2.0.0",
       "_model_name": "ProgressStyleModel",
       "_view_count": null,
       "_view_module": "@jupyter-widgets/base",
       "_view_module_version": "2.0.0",
       "_view_name": "StyleView",
       "bar_color": null,
       "description_width": ""
      }
     },
     "e4ad7a4d15aa485e8352737d537769d4": {
      "model_module": "@jupyter-widgets/base",
      "model_module_version": "2.0.0",
      "model_name": "LayoutModel",
      "state": {
       "_model_module": "@jupyter-widgets/base",
       "_model_module_version": "2.0.0",
       "_model_name": "LayoutModel",
       "_view_count": null,
       "_view_module": "@jupyter-widgets/base",
       "_view_module_version": "2.0.0",
       "_view_name": "LayoutView",
       "align_content": null,
       "align_items": null,
       "align_self": null,
       "border_bottom": null,
       "border_left": null,
       "border_right": null,
       "border_top": null,
       "bottom": null,
       "display": null,
       "flex": "2",
       "flex_flow": null,
       "grid_area": null,
       "grid_auto_columns": null,
       "grid_auto_flow": null,
       "grid_auto_rows": null,
       "grid_column": null,
       "grid_gap": null,
       "grid_row": null,
       "grid_template_areas": null,
       "grid_template_columns": null,
       "grid_template_rows": null,
       "height": null,
       "justify_content": null,
       "justify_items": null,
       "left": null,
       "margin": null,
       "max_height": null,
       "max_width": null,
       "min_height": null,
       "min_width": null,
       "object_fit": null,
       "object_position": null,
       "order": null,
       "overflow": null,
       "padding": null,
       "right": null,
       "top": null,
       "visibility": null,
       "width": null
      }
     },
     "e6a0fa14d47a40e8a726d31124ae354f": {
      "model_module": "@jupyter-widgets/controls",
      "model_module_version": "2.0.0",
      "model_name": "HTMLModel",
      "state": {
       "_dom_classes": [],
       "_model_module": "@jupyter-widgets/controls",
       "_model_module_version": "2.0.0",
       "_model_name": "HTMLModel",
       "_view_count": null,
       "_view_module": "@jupyter-widgets/controls",
       "_view_module_version": "2.0.0",
       "_view_name": "HTMLView",
       "description": "",
       "description_allow_html": false,
       "layout": "IPY_MODEL_302283057f434a2683b62b8ef80a360c",
       "placeholder": "​",
       "style": "IPY_MODEL_e26f41761dc2405598352d3186eec1c9",
       "tabbable": null,
       "tooltip": null,
       "value": "Validation DataLoader 0: 100%"
      }
     },
     "e7d3d8b83f864c5282c033334e87b402": {
      "model_module": "@jupyter-widgets/controls",
      "model_module_version": "2.0.0",
      "model_name": "HTMLModel",
      "state": {
       "_dom_classes": [],
       "_model_module": "@jupyter-widgets/controls",
       "_model_module_version": "2.0.0",
       "_model_name": "HTMLModel",
       "_view_count": null,
       "_view_module": "@jupyter-widgets/controls",
       "_view_module_version": "2.0.0",
       "_view_name": "HTMLView",
       "description": "",
       "description_allow_html": false,
       "layout": "IPY_MODEL_b6f92683962a4dfbb4fc228b86a258d3",
       "placeholder": "​",
       "style": "IPY_MODEL_85948031f9554ec4a104660500b7dbde",
       "tabbable": null,
       "tooltip": null,
       "value": "Validation DataLoader 0: 100%"
      }
     },
     "e9ab9f912ce34040af8f444e279d148e": {
      "model_module": "@jupyter-widgets/base",
      "model_module_version": "2.0.0",
      "model_name": "LayoutModel",
      "state": {
       "_model_module": "@jupyter-widgets/base",
       "_model_module_version": "2.0.0",
       "_model_name": "LayoutModel",
       "_view_count": null,
       "_view_module": "@jupyter-widgets/base",
       "_view_module_version": "2.0.0",
       "_view_name": "LayoutView",
       "align_content": null,
       "align_items": null,
       "align_self": null,
       "border_bottom": null,
       "border_left": null,
       "border_right": null,
       "border_top": null,
       "bottom": null,
       "display": null,
       "flex": "2",
       "flex_flow": null,
       "grid_area": null,
       "grid_auto_columns": null,
       "grid_auto_flow": null,
       "grid_auto_rows": null,
       "grid_column": null,
       "grid_gap": null,
       "grid_row": null,
       "grid_template_areas": null,
       "grid_template_columns": null,
       "grid_template_rows": null,
       "height": null,
       "justify_content": null,
       "justify_items": null,
       "left": null,
       "margin": null,
       "max_height": null,
       "max_width": null,
       "min_height": null,
       "min_width": null,
       "object_fit": null,
       "object_position": null,
       "order": null,
       "overflow": null,
       "padding": null,
       "right": null,
       "top": null,
       "visibility": null,
       "width": null
      }
     },
     "ece675b5b5064e43b621f6532e691f5e": {
      "model_module": "@jupyter-widgets/controls",
      "model_module_version": "2.0.0",
      "model_name": "HTMLModel",
      "state": {
       "_dom_classes": [],
       "_model_module": "@jupyter-widgets/controls",
       "_model_module_version": "2.0.0",
       "_model_name": "HTMLModel",
       "_view_count": null,
       "_view_module": "@jupyter-widgets/controls",
       "_view_module_version": "2.0.0",
       "_view_name": "HTMLView",
       "description": "",
       "description_allow_html": false,
       "layout": "IPY_MODEL_293d54e1b73242219e53b7306f1ec4af",
       "placeholder": "​",
       "style": "IPY_MODEL_967779fb63c34e58b41f7684deac5b15",
       "tabbable": null,
       "tooltip": null,
       "value": " 16/16 [00:02&lt;00:00,  7.93it/s]"
      }
     },
     "ed3e133fc59345009bea5d6ecdc2e450": {
      "model_module": "@jupyter-widgets/base",
      "model_module_version": "2.0.0",
      "model_name": "LayoutModel",
      "state": {
       "_model_module": "@jupyter-widgets/base",
       "_model_module_version": "2.0.0",
       "_model_name": "LayoutModel",
       "_view_count": null,
       "_view_module": "@jupyter-widgets/base",
       "_view_module_version": "2.0.0",
       "_view_name": "LayoutView",
       "align_content": null,
       "align_items": null,
       "align_self": null,
       "border_bottom": null,
       "border_left": null,
       "border_right": null,
       "border_top": null,
       "bottom": null,
       "display": null,
       "flex": "2",
       "flex_flow": null,
       "grid_area": null,
       "grid_auto_columns": null,
       "grid_auto_flow": null,
       "grid_auto_rows": null,
       "grid_column": null,
       "grid_gap": null,
       "grid_row": null,
       "grid_template_areas": null,
       "grid_template_columns": null,
       "grid_template_rows": null,
       "height": null,
       "justify_content": null,
       "justify_items": null,
       "left": null,
       "margin": null,
       "max_height": null,
       "max_width": null,
       "min_height": null,
       "min_width": null,
       "object_fit": null,
       "object_position": null,
       "order": null,
       "overflow": null,
       "padding": null,
       "right": null,
       "top": null,
       "visibility": null,
       "width": null
      }
     },
     "ee1cc02d20b74e23af98e55ced2957cd": {
      "model_module": "@jupyter-widgets/controls",
      "model_module_version": "2.0.0",
      "model_name": "HTMLModel",
      "state": {
       "_dom_classes": [],
       "_model_module": "@jupyter-widgets/controls",
       "_model_module_version": "2.0.0",
       "_model_name": "HTMLModel",
       "_view_count": null,
       "_view_module": "@jupyter-widgets/controls",
       "_view_module_version": "2.0.0",
       "_view_name": "HTMLView",
       "description": "",
       "description_allow_html": false,
       "layout": "IPY_MODEL_abd12b575d4c4e289a327bd5a2997bba",
       "placeholder": "​",
       "style": "IPY_MODEL_95aa61ba0acf4609a131b8613e777fb9",
       "tabbable": null,
       "tooltip": null,
       "value": " 16/16 [00:01&lt;00:00,  8.02it/s]"
      }
     },
     "eeae8b1305ee411c9a7e8a7f6e26a36d": {
      "model_module": "@jupyter-widgets/base",
      "model_module_version": "2.0.0",
      "model_name": "LayoutModel",
      "state": {
       "_model_module": "@jupyter-widgets/base",
       "_model_module_version": "2.0.0",
       "_model_name": "LayoutModel",
       "_view_count": null,
       "_view_module": "@jupyter-widgets/base",
       "_view_module_version": "2.0.0",
       "_view_name": "LayoutView",
       "align_content": null,
       "align_items": null,
       "align_self": null,
       "border_bottom": null,
       "border_left": null,
       "border_right": null,
       "border_top": null,
       "bottom": null,
       "display": "inline-flex",
       "flex": null,
       "flex_flow": "row wrap",
       "grid_area": null,
       "grid_auto_columns": null,
       "grid_auto_flow": null,
       "grid_auto_rows": null,
       "grid_column": null,
       "grid_gap": null,
       "grid_row": null,
       "grid_template_areas": null,
       "grid_template_columns": null,
       "grid_template_rows": null,
       "height": null,
       "justify_content": null,
       "justify_items": null,
       "left": null,
       "margin": null,
       "max_height": null,
       "max_width": null,
       "min_height": null,
       "min_width": null,
       "object_fit": null,
       "object_position": null,
       "order": null,
       "overflow": null,
       "padding": null,
       "right": null,
       "top": null,
       "visibility": "hidden",
       "width": "100%"
      }
     },
     "ef1f54b110ad4cb79a7551f37649d6dc": {
      "model_module": "@jupyter-widgets/base",
      "model_module_version": "2.0.0",
      "model_name": "LayoutModel",
      "state": {
       "_model_module": "@jupyter-widgets/base",
       "_model_module_version": "2.0.0",
       "_model_name": "LayoutModel",
       "_view_count": null,
       "_view_module": "@jupyter-widgets/base",
       "_view_module_version": "2.0.0",
       "_view_name": "LayoutView",
       "align_content": null,
       "align_items": null,
       "align_self": null,
       "border_bottom": null,
       "border_left": null,
       "border_right": null,
       "border_top": null,
       "bottom": null,
       "display": null,
       "flex": null,
       "flex_flow": null,
       "grid_area": null,
       "grid_auto_columns": null,
       "grid_auto_flow": null,
       "grid_auto_rows": null,
       "grid_column": null,
       "grid_gap": null,
       "grid_row": null,
       "grid_template_areas": null,
       "grid_template_columns": null,
       "grid_template_rows": null,
       "height": null,
       "justify_content": null,
       "justify_items": null,
       "left": null,
       "margin": null,
       "max_height": null,
       "max_width": null,
       "min_height": null,
       "min_width": null,
       "object_fit": null,
       "object_position": null,
       "order": null,
       "overflow": null,
       "padding": null,
       "right": null,
       "top": null,
       "visibility": null,
       "width": null
      }
     },
     "ef3406e7094a403c8ab6d2fc24baa451": {
      "model_module": "@jupyter-widgets/controls",
      "model_module_version": "2.0.0",
      "model_name": "HTMLModel",
      "state": {
       "_dom_classes": [],
       "_model_module": "@jupyter-widgets/controls",
       "_model_module_version": "2.0.0",
       "_model_name": "HTMLModel",
       "_view_count": null,
       "_view_module": "@jupyter-widgets/controls",
       "_view_module_version": "2.0.0",
       "_view_name": "HTMLView",
       "description": "",
       "description_allow_html": false,
       "layout": "IPY_MODEL_fe8d7196e72c45e88633e1d4fefc7d93",
       "placeholder": "​",
       "style": "IPY_MODEL_135038ec1a644c6f941cbad41945e37b",
       "tabbable": null,
       "tooltip": null,
       "value": " 16/16 [00:02&lt;00:00,  7.96it/s]"
      }
     },
     "ef64f374461147e2b55433de8fb1d529": {
      "model_module": "@jupyter-widgets/controls",
      "model_module_version": "2.0.0",
      "model_name": "HTMLModel",
      "state": {
       "_dom_classes": [],
       "_model_module": "@jupyter-widgets/controls",
       "_model_module_version": "2.0.0",
       "_model_name": "HTMLModel",
       "_view_count": null,
       "_view_module": "@jupyter-widgets/controls",
       "_view_module_version": "2.0.0",
       "_view_name": "HTMLView",
       "description": "",
       "description_allow_html": false,
       "layout": "IPY_MODEL_ef1f54b110ad4cb79a7551f37649d6dc",
       "placeholder": "​",
       "style": "IPY_MODEL_93bb92d6ab824da49c8c6f8ef859593c",
       "tabbable": null,
       "tooltip": null,
       "value": " 16/16 [00:01&lt;00:00,  8.63it/s]"
      }
     },
     "f1f87db4c7c44b83ba4d0ca664cab0ec": {
      "model_module": "@jupyter-widgets/base",
      "model_module_version": "2.0.0",
      "model_name": "LayoutModel",
      "state": {
       "_model_module": "@jupyter-widgets/base",
       "_model_module_version": "2.0.0",
       "_model_name": "LayoutModel",
       "_view_count": null,
       "_view_module": "@jupyter-widgets/base",
       "_view_module_version": "2.0.0",
       "_view_name": "LayoutView",
       "align_content": null,
       "align_items": null,
       "align_self": null,
       "border_bottom": null,
       "border_left": null,
       "border_right": null,
       "border_top": null,
       "bottom": null,
       "display": null,
       "flex": null,
       "flex_flow": null,
       "grid_area": null,
       "grid_auto_columns": null,
       "grid_auto_flow": null,
       "grid_auto_rows": null,
       "grid_column": null,
       "grid_gap": null,
       "grid_row": null,
       "grid_template_areas": null,
       "grid_template_columns": null,
       "grid_template_rows": null,
       "height": null,
       "justify_content": null,
       "justify_items": null,
       "left": null,
       "margin": null,
       "max_height": null,
       "max_width": null,
       "min_height": null,
       "min_width": null,
       "object_fit": null,
       "object_position": null,
       "order": null,
       "overflow": null,
       "padding": null,
       "right": null,
       "top": null,
       "visibility": null,
       "width": null
      }
     },
     "f3ecf14b185246ab942fbd6eec4077a1": {
      "model_module": "@jupyter-widgets/base",
      "model_module_version": "2.0.0",
      "model_name": "LayoutModel",
      "state": {
       "_model_module": "@jupyter-widgets/base",
       "_model_module_version": "2.0.0",
       "_model_name": "LayoutModel",
       "_view_count": null,
       "_view_module": "@jupyter-widgets/base",
       "_view_module_version": "2.0.0",
       "_view_name": "LayoutView",
       "align_content": null,
       "align_items": null,
       "align_self": null,
       "border_bottom": null,
       "border_left": null,
       "border_right": null,
       "border_top": null,
       "bottom": null,
       "display": null,
       "flex": "2",
       "flex_flow": null,
       "grid_area": null,
       "grid_auto_columns": null,
       "grid_auto_flow": null,
       "grid_auto_rows": null,
       "grid_column": null,
       "grid_gap": null,
       "grid_row": null,
       "grid_template_areas": null,
       "grid_template_columns": null,
       "grid_template_rows": null,
       "height": null,
       "justify_content": null,
       "justify_items": null,
       "left": null,
       "margin": null,
       "max_height": null,
       "max_width": null,
       "min_height": null,
       "min_width": null,
       "object_fit": null,
       "object_position": null,
       "order": null,
       "overflow": null,
       "padding": null,
       "right": null,
       "top": null,
       "visibility": null,
       "width": null
      }
     },
     "fbbd6649571846498e3e7124d8c6d0a8": {
      "model_module": "@jupyter-widgets/controls",
      "model_module_version": "2.0.0",
      "model_name": "ProgressStyleModel",
      "state": {
       "_model_module": "@jupyter-widgets/controls",
       "_model_module_version": "2.0.0",
       "_model_name": "ProgressStyleModel",
       "_view_count": null,
       "_view_module": "@jupyter-widgets/base",
       "_view_module_version": "2.0.0",
       "_view_name": "StyleView",
       "bar_color": null,
       "description_width": ""
      }
     },
     "fd215a3314a343e0b85576f77bba8ebd": {
      "model_module": "@jupyter-widgets/base",
      "model_module_version": "2.0.0",
      "model_name": "LayoutModel",
      "state": {
       "_model_module": "@jupyter-widgets/base",
       "_model_module_version": "2.0.0",
       "_model_name": "LayoutModel",
       "_view_count": null,
       "_view_module": "@jupyter-widgets/base",
       "_view_module_version": "2.0.0",
       "_view_name": "LayoutView",
       "align_content": null,
       "align_items": null,
       "align_self": null,
       "border_bottom": null,
       "border_left": null,
       "border_right": null,
       "border_top": null,
       "bottom": null,
       "display": null,
       "flex": null,
       "flex_flow": null,
       "grid_area": null,
       "grid_auto_columns": null,
       "grid_auto_flow": null,
       "grid_auto_rows": null,
       "grid_column": null,
       "grid_gap": null,
       "grid_row": null,
       "grid_template_areas": null,
       "grid_template_columns": null,
       "grid_template_rows": null,
       "height": null,
       "justify_content": null,
       "justify_items": null,
       "left": null,
       "margin": null,
       "max_height": null,
       "max_width": null,
       "min_height": null,
       "min_width": null,
       "object_fit": null,
       "object_position": null,
       "order": null,
       "overflow": null,
       "padding": null,
       "right": null,
       "top": null,
       "visibility": null,
       "width": null
      }
     },
     "fe8d7196e72c45e88633e1d4fefc7d93": {
      "model_module": "@jupyter-widgets/base",
      "model_module_version": "2.0.0",
      "model_name": "LayoutModel",
      "state": {
       "_model_module": "@jupyter-widgets/base",
       "_model_module_version": "2.0.0",
       "_model_name": "LayoutModel",
       "_view_count": null,
       "_view_module": "@jupyter-widgets/base",
       "_view_module_version": "2.0.0",
       "_view_name": "LayoutView",
       "align_content": null,
       "align_items": null,
       "align_self": null,
       "border_bottom": null,
       "border_left": null,
       "border_right": null,
       "border_top": null,
       "bottom": null,
       "display": null,
       "flex": null,
       "flex_flow": null,
       "grid_area": null,
       "grid_auto_columns": null,
       "grid_auto_flow": null,
       "grid_auto_rows": null,
       "grid_column": null,
       "grid_gap": null,
       "grid_row": null,
       "grid_template_areas": null,
       "grid_template_columns": null,
       "grid_template_rows": null,
       "height": null,
       "justify_content": null,
       "justify_items": null,
       "left": null,
       "margin": null,
       "max_height": null,
       "max_width": null,
       "min_height": null,
       "min_width": null,
       "object_fit": null,
       "object_position": null,
       "order": null,
       "overflow": null,
       "padding": null,
       "right": null,
       "top": null,
       "visibility": null,
       "width": null
      }
     },
     "ffd51d6dd1974b0ca73723a23c040e0e": {
      "model_module": "@jupyter-widgets/base",
      "model_module_version": "2.0.0",
      "model_name": "LayoutModel",
      "state": {
       "_model_module": "@jupyter-widgets/base",
       "_model_module_version": "2.0.0",
       "_model_name": "LayoutModel",
       "_view_count": null,
       "_view_module": "@jupyter-widgets/base",
       "_view_module_version": "2.0.0",
       "_view_name": "LayoutView",
       "align_content": null,
       "align_items": null,
       "align_self": null,
       "border_bottom": null,
       "border_left": null,
       "border_right": null,
       "border_top": null,
       "bottom": null,
       "display": null,
       "flex": null,
       "flex_flow": null,
       "grid_area": null,
       "grid_auto_columns": null,
       "grid_auto_flow": null,
       "grid_auto_rows": null,
       "grid_column": null,
       "grid_gap": null,
       "grid_row": null,
       "grid_template_areas": null,
       "grid_template_columns": null,
       "grid_template_rows": null,
       "height": null,
       "justify_content": null,
       "justify_items": null,
       "left": null,
       "margin": null,
       "max_height": null,
       "max_width": null,
       "min_height": null,
       "min_width": null,
       "object_fit": null,
       "object_position": null,
       "order": null,
       "overflow": null,
       "padding": null,
       "right": null,
       "top": null,
       "visibility": null,
       "width": null
      }
     }
    },
    "version_major": 2,
    "version_minor": 0
   }
  }
 },
 "nbformat": 4,
 "nbformat_minor": 5
}
