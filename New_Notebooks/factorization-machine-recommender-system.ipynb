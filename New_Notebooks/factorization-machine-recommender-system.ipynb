{
 "cells": [
  {
   "cell_type": "code",
   "execution_count": 1,
   "id": "5194f47c",
   "metadata": {
    "_cell_guid": "b1076dfc-b9ad-4769-8c92-a6c4dae69d19",
    "_uuid": "8f2839f25d086af736a60e9eeb907d3b93b6e0e5",
    "execution": {
     "iopub.execute_input": "2025-05-08T03:56:14.575740Z",
     "iopub.status.busy": "2025-05-08T03:56:14.575364Z",
     "iopub.status.idle": "2025-05-08T03:56:16.285537Z",
     "shell.execute_reply": "2025-05-08T03:56:16.284580Z"
    },
    "papermill": {
     "duration": 1.728412,
     "end_time": "2025-05-08T03:56:16.287034",
     "exception": false,
     "start_time": "2025-05-08T03:56:14.558622",
     "status": "completed"
    },
    "tags": []
   },
   "outputs": [
    {
     "name": "stdout",
     "output_type": "stream",
     "text": [
      "/kaggle/input/imdb-dataset/movies.csv\n",
      "/kaggle/input/imdb-dataset/ratings.csv\n",
      "/kaggle/input/imdb-dataset/users.csv\n",
      "/kaggle/input/imdb-dataset/reviews.csv\n"
     ]
    }
   ],
   "source": [
    "# This Python 3 environment comes with many helpful analytics libraries installed\n",
    "# It is defined by the kaggle/python Docker image: https://github.com/kaggle/docker-python\n",
    "# For example, here's several helpful packages to load\n",
    "\n",
    "import numpy as np # linear algebra\n",
    "import pandas as pd # data processing, CSV file I/O (e.g. pd.read_csv)\n",
    "\n",
    "# Input data files are available in the read-only \"../input/\" directory\n",
    "# For example, running this (by clicking run or pressing Shift+Enter) will list all files under the input directory\n",
    "\n",
    "import os\n",
    "for dirname, _, filenames in os.walk('/kaggle/input'):\n",
    "    for filename in filenames:\n",
    "        print(os.path.join(dirname, filename))\n",
    "\n",
    "# You can write up to 20GB to the current directory (/kaggle/working/) that gets preserved as output when you create a version using \"Save & Run All\" \n",
    "# You can also write temporary files to /kaggle/temp/, but they won't be saved outside of the current session"
   ]
  },
  {
   "cell_type": "markdown",
   "id": "656e31eb",
   "metadata": {
    "papermill": {
     "duration": 0.014518,
     "end_time": "2025-05-08T03:56:16.316628",
     "exception": false,
     "start_time": "2025-05-08T03:56:16.302110",
     "status": "completed"
    },
    "tags": []
   },
   "source": [
    "<h1> Factorization Machine Recommender System <h1>"
   ]
  },
  {
   "cell_type": "markdown",
   "id": "a56b08da",
   "metadata": {
    "papermill": {
     "duration": 0.01464,
     "end_time": "2025-05-08T03:56:16.345698",
     "exception": false,
     "start_time": "2025-05-08T03:56:16.331058",
     "status": "completed"
    },
    "tags": []
   },
   "source": [
    "Import lib"
   ]
  },
  {
   "cell_type": "code",
   "execution_count": 2,
   "id": "56d121be",
   "metadata": {
    "execution": {
     "iopub.execute_input": "2025-05-08T03:56:16.375572Z",
     "iopub.status.busy": "2025-05-08T03:56:16.375140Z",
     "iopub.status.idle": "2025-05-08T03:56:18.245178Z",
     "shell.execute_reply": "2025-05-08T03:56:18.244458Z"
    },
    "papermill": {
     "duration": 1.886696,
     "end_time": "2025-05-08T03:56:18.246763",
     "exception": false,
     "start_time": "2025-05-08T03:56:16.360067",
     "status": "completed"
    },
    "tags": []
   },
   "outputs": [],
   "source": [
    "import pandas as pd\n",
    "import seaborn as sns\n",
    "import matplotlib.pyplot as plt\n",
    "from sklearn.preprocessing import MultiLabelBinarizer\n",
    "from collections import Counter\n"
   ]
  },
  {
   "cell_type": "markdown",
   "id": "b5542989",
   "metadata": {
    "papermill": {
     "duration": 0.013706,
     "end_time": "2025-05-08T03:56:18.275026",
     "exception": false,
     "start_time": "2025-05-08T03:56:18.261320",
     "status": "completed"
    },
    "tags": []
   },
   "source": [
    "# 1. Read Dataset"
   ]
  },
  {
   "cell_type": "code",
   "execution_count": 3,
   "id": "64cbfca6",
   "metadata": {
    "execution": {
     "iopub.execute_input": "2025-05-08T03:56:18.304392Z",
     "iopub.status.busy": "2025-05-08T03:56:18.303508Z",
     "iopub.status.idle": "2025-05-08T03:56:18.407676Z",
     "shell.execute_reply": "2025-05-08T03:56:18.406811Z"
    },
    "papermill": {
     "duration": 0.120208,
     "end_time": "2025-05-08T03:56:18.409090",
     "exception": false,
     "start_time": "2025-05-08T03:56:18.288882",
     "status": "completed"
    },
    "tags": []
   },
   "outputs": [
    {
     "data": {
      "text/html": [
       "<div>\n",
       "<style scoped>\n",
       "    .dataframe tbody tr th:only-of-type {\n",
       "        vertical-align: middle;\n",
       "    }\n",
       "\n",
       "    .dataframe tbody tr th {\n",
       "        vertical-align: top;\n",
       "    }\n",
       "\n",
       "    .dataframe thead th {\n",
       "        text-align: right;\n",
       "    }\n",
       "</style>\n",
       "<table border=\"1\" class=\"dataframe\">\n",
       "  <thead>\n",
       "    <tr style=\"text-align: right;\">\n",
       "      <th></th>\n",
       "      <th>ID</th>\n",
       "      <th>Title</th>\n",
       "      <th>Genres</th>\n",
       "      <th>Rating</th>\n",
       "      <th>Year</th>\n",
       "      <th>Numrate</th>\n",
       "      <th>Runtime</th>\n",
       "      <th>Image</th>\n",
       "      <th>Directors</th>\n",
       "      <th>Writers</th>\n",
       "      <th>Stars</th>\n",
       "    </tr>\n",
       "  </thead>\n",
       "  <tbody>\n",
       "    <tr>\n",
       "      <th>0</th>\n",
       "      <td>tt0283530</td>\n",
       "      <td>The Emperor's Club</td>\n",
       "      <td>Drama</td>\n",
       "      <td>6.9</td>\n",
       "      <td>2002</td>\n",
       "      <td>18K</td>\n",
       "      <td>109</td>\n",
       "      <td>https://m.media-amazon.com/images/M/MV5BZmNlNz...</td>\n",
       "      <td>Michael Hoffman</td>\n",
       "      <td>Ethan Canin, Neil Tolkin</td>\n",
       "      <td>Kevin Kline, Emile Hirsch, Joel Gretsch</td>\n",
       "    </tr>\n",
       "    <tr>\n",
       "      <th>1</th>\n",
       "      <td>tt6859762</td>\n",
       "      <td>The Little Stranger</td>\n",
       "      <td>Drama, Horror, Mystery</td>\n",
       "      <td>5.5</td>\n",
       "      <td>2018</td>\n",
       "      <td>11K</td>\n",
       "      <td>111</td>\n",
       "      <td>https://m.media-amazon.com/images/M/MV5BMTYyNz...</td>\n",
       "      <td>Lenny Abrahamson</td>\n",
       "      <td>Lucinda Coxon, Sarah Waters</td>\n",
       "      <td>Domhnall Gleeson, Will Poulter, Ruth Wilson</td>\n",
       "    </tr>\n",
       "    <tr>\n",
       "      <th>2</th>\n",
       "      <td>tt1196204</td>\n",
       "      <td>Cemetery Junction</td>\n",
       "      <td>Comedy, Drama</td>\n",
       "      <td>6.8</td>\n",
       "      <td>2010</td>\n",
       "      <td>24K</td>\n",
       "      <td>95</td>\n",
       "      <td>https://m.media-amazon.com/images/M/MV5BMTQ1Mj...</td>\n",
       "      <td>Ricky Gervais, Stephen Merchant</td>\n",
       "      <td>Ricky Gervais, Stephen Merchant</td>\n",
       "      <td>Christian Cooke, Felicity Jones, Tom Hughes</td>\n",
       "    </tr>\n",
       "    <tr>\n",
       "      <th>3</th>\n",
       "      <td>tt3463106</td>\n",
       "      <td>The Cured</td>\n",
       "      <td>Zombie Horror, Drama, Horror, Sci-Fi, Thriller</td>\n",
       "      <td>5.6</td>\n",
       "      <td>2017</td>\n",
       "      <td>9.8K</td>\n",
       "      <td>95</td>\n",
       "      <td>https://m.media-amazon.com/images/M/MV5BMmIwOD...</td>\n",
       "      <td>David Freyne</td>\n",
       "      <td>David Freyne</td>\n",
       "      <td>Elliot Page, Sam Keeley, Tom Vaughan-Lawlor</td>\n",
       "    </tr>\n",
       "    <tr>\n",
       "      <th>4</th>\n",
       "      <td>tt1023490</td>\n",
       "      <td>Il Divo</td>\n",
       "      <td>Biography, Drama</td>\n",
       "      <td>7.2</td>\n",
       "      <td>2008</td>\n",
       "      <td>20K</td>\n",
       "      <td>110</td>\n",
       "      <td>https://m.media-amazon.com/images/M/MV5BZTJhZT...</td>\n",
       "      <td>Paolo Sorrentino</td>\n",
       "      <td>Paolo Sorrentino</td>\n",
       "      <td>Toni Servillo, Anna Bonaiuto, Giulio Bosetti</td>\n",
       "    </tr>\n",
       "  </tbody>\n",
       "</table>\n",
       "</div>"
      ],
      "text/plain": [
       "          ID                Title  \\\n",
       "0  tt0283530   The Emperor's Club   \n",
       "1  tt6859762  The Little Stranger   \n",
       "2  tt1196204    Cemetery Junction   \n",
       "3  tt3463106            The Cured   \n",
       "4  tt1023490              Il Divo   \n",
       "\n",
       "                                           Genres  Rating  Year Numrate  \\\n",
       "0                                           Drama     6.9  2002     18K   \n",
       "1                          Drama, Horror, Mystery     5.5  2018     11K   \n",
       "2                                   Comedy, Drama     6.8  2010     24K   \n",
       "3  Zombie Horror, Drama, Horror, Sci-Fi, Thriller     5.6  2017    9.8K   \n",
       "4                                Biography, Drama     7.2  2008     20K   \n",
       "\n",
       "   Runtime                                              Image  \\\n",
       "0      109  https://m.media-amazon.com/images/M/MV5BZmNlNz...   \n",
       "1      111  https://m.media-amazon.com/images/M/MV5BMTYyNz...   \n",
       "2       95  https://m.media-amazon.com/images/M/MV5BMTQ1Mj...   \n",
       "3       95  https://m.media-amazon.com/images/M/MV5BMmIwOD...   \n",
       "4      110  https://m.media-amazon.com/images/M/MV5BZTJhZT...   \n",
       "\n",
       "                         Directors                          Writers  \\\n",
       "0                  Michael Hoffman         Ethan Canin, Neil Tolkin   \n",
       "1                 Lenny Abrahamson      Lucinda Coxon, Sarah Waters   \n",
       "2  Ricky Gervais, Stephen Merchant  Ricky Gervais, Stephen Merchant   \n",
       "3                     David Freyne                     David Freyne   \n",
       "4                 Paolo Sorrentino                 Paolo Sorrentino   \n",
       "\n",
       "                                          Stars  \n",
       "0       Kevin Kline, Emile Hirsch, Joel Gretsch  \n",
       "1   Domhnall Gleeson, Will Poulter, Ruth Wilson  \n",
       "2   Christian Cooke, Felicity Jones, Tom Hughes  \n",
       "3   Elliot Page, Sam Keeley, Tom Vaughan-Lawlor  \n",
       "4  Toni Servillo, Anna Bonaiuto, Giulio Bosetti  "
      ]
     },
     "execution_count": 3,
     "metadata": {},
     "output_type": "execute_result"
    }
   ],
   "source": [
    "df_movies = pd.read_csv('/kaggle/input/imdb-dataset/movies.csv')\n",
    "df_movies.head()"
   ]
  },
  {
   "cell_type": "code",
   "execution_count": 4,
   "id": "bfee1487",
   "metadata": {
    "execution": {
     "iopub.execute_input": "2025-05-08T03:56:18.438877Z",
     "iopub.status.busy": "2025-05-08T03:56:18.438546Z",
     "iopub.status.idle": "2025-05-08T03:56:18.661335Z",
     "shell.execute_reply": "2025-05-08T03:56:18.660355Z"
    },
    "papermill": {
     "duration": 0.239397,
     "end_time": "2025-05-08T03:56:18.662955",
     "exception": false,
     "start_time": "2025-05-08T03:56:18.423558",
     "status": "completed"
    },
    "tags": []
   },
   "outputs": [
    {
     "data": {
      "text/html": [
       "<div>\n",
       "<style scoped>\n",
       "    .dataframe tbody tr th:only-of-type {\n",
       "        vertical-align: middle;\n",
       "    }\n",
       "\n",
       "    .dataframe tbody tr th {\n",
       "        vertical-align: top;\n",
       "    }\n",
       "\n",
       "    .dataframe thead th {\n",
       "        text-align: right;\n",
       "    }\n",
       "</style>\n",
       "<table border=\"1\" class=\"dataframe\">\n",
       "  <thead>\n",
       "    <tr style=\"text-align: right;\">\n",
       "      <th></th>\n",
       "      <th>MovieID</th>\n",
       "      <th>Rating</th>\n",
       "      <th>Username</th>\n",
       "      <th>CommentDate</th>\n",
       "    </tr>\n",
       "  </thead>\n",
       "  <tbody>\n",
       "    <tr>\n",
       "      <th>0</th>\n",
       "      <td>tt0283530</td>\n",
       "      <td>7</td>\n",
       "      <td>CuriosityKilledShawn</td>\n",
       "      <td>Aug 14, 2005</td>\n",
       "    </tr>\n",
       "    <tr>\n",
       "      <th>1</th>\n",
       "      <td>tt0283530</td>\n",
       "      <td>7</td>\n",
       "      <td>ma-cortes</td>\n",
       "      <td>Jul 12, 2005</td>\n",
       "    </tr>\n",
       "    <tr>\n",
       "      <th>2</th>\n",
       "      <td>tt0283530</td>\n",
       "      <td>8</td>\n",
       "      <td>redkiwi</td>\n",
       "      <td>Dec 9, 2002</td>\n",
       "    </tr>\n",
       "    <tr>\n",
       "      <th>3</th>\n",
       "      <td>tt0283530</td>\n",
       "      <td>9</td>\n",
       "      <td>KUAlum26</td>\n",
       "      <td>Mar 20, 2006</td>\n",
       "    </tr>\n",
       "    <tr>\n",
       "      <th>4</th>\n",
       "      <td>tt0283530</td>\n",
       "      <td>10</td>\n",
       "      <td>au_law2001</td>\n",
       "      <td>Jan 23, 2005</td>\n",
       "    </tr>\n",
       "  </tbody>\n",
       "</table>\n",
       "</div>"
      ],
      "text/plain": [
       "     MovieID  Rating              Username   CommentDate\n",
       "0  tt0283530       7  CuriosityKilledShawn  Aug 14, 2005\n",
       "1  tt0283530       7             ma-cortes  Jul 12, 2005\n",
       "2  tt0283530       8               redkiwi   Dec 9, 2002\n",
       "3  tt0283530       9              KUAlum26  Mar 20, 2006\n",
       "4  tt0283530      10            au_law2001  Jan 23, 2005"
      ]
     },
     "execution_count": 4,
     "metadata": {},
     "output_type": "execute_result"
    }
   ],
   "source": [
    "df_reviews = pd.read_csv('/kaggle/input/imdb-dataset/reviews.csv')\n",
    "df_reviews.head()"
   ]
  },
  {
   "cell_type": "code",
   "execution_count": 5,
   "id": "24013cf2",
   "metadata": {
    "execution": {
     "iopub.execute_input": "2025-05-08T03:56:18.757617Z",
     "iopub.status.busy": "2025-05-08T03:56:18.756904Z",
     "iopub.status.idle": "2025-05-08T03:56:20.344094Z",
     "shell.execute_reply": "2025-05-08T03:56:20.343286Z"
    },
    "papermill": {
     "duration": 1.66656,
     "end_time": "2025-05-08T03:56:20.345241",
     "exception": false,
     "start_time": "2025-05-08T03:56:18.678681",
     "status": "completed"
    },
    "tags": []
   },
   "outputs": [
    {
     "data": {
      "text/html": [
       "<div>\n",
       "<style scoped>\n",
       "    .dataframe tbody tr th:only-of-type {\n",
       "        vertical-align: middle;\n",
       "    }\n",
       "\n",
       "    .dataframe tbody tr th {\n",
       "        vertical-align: top;\n",
       "    }\n",
       "\n",
       "    .dataframe thead th {\n",
       "        text-align: right;\n",
       "    }\n",
       "</style>\n",
       "<table border=\"1\" class=\"dataframe\">\n",
       "  <thead>\n",
       "    <tr style=\"text-align: right;\">\n",
       "      <th></th>\n",
       "      <th>MovieID</th>\n",
       "      <th>Rating</th>\n",
       "      <th>Username</th>\n",
       "      <th>CommentDate</th>\n",
       "    </tr>\n",
       "  </thead>\n",
       "  <tbody>\n",
       "    <tr>\n",
       "      <th>0</th>\n",
       "      <td>tt2096673</td>\n",
       "      <td>10.0</td>\n",
       "      <td>bretttaylor-04022</td>\n",
       "      <td>Rated on Jun 10, 2017</td>\n",
       "    </tr>\n",
       "    <tr>\n",
       "      <th>1</th>\n",
       "      <td>tt0434409</td>\n",
       "      <td>8.0</td>\n",
       "      <td>bretttaylor-04022</td>\n",
       "      <td>Rated on Jun 10, 2017</td>\n",
       "    </tr>\n",
       "    <tr>\n",
       "      <th>2</th>\n",
       "      <td>tt1205489</td>\n",
       "      <td>9.0</td>\n",
       "      <td>bretttaylor-04022</td>\n",
       "      <td>Rated on Jun 10, 2017</td>\n",
       "    </tr>\n",
       "    <tr>\n",
       "      <th>3</th>\n",
       "      <td>tt0266543</td>\n",
       "      <td>8.0</td>\n",
       "      <td>bretttaylor-04022</td>\n",
       "      <td>Rated on Jun 10, 2017</td>\n",
       "    </tr>\n",
       "    <tr>\n",
       "      <th>4</th>\n",
       "      <td>tt0758758</td>\n",
       "      <td>8.0</td>\n",
       "      <td>bretttaylor-04022</td>\n",
       "      <td>Rated on Jun 10, 2017</td>\n",
       "    </tr>\n",
       "  </tbody>\n",
       "</table>\n",
       "</div>"
      ],
      "text/plain": [
       "     MovieID  Rating           Username            CommentDate\n",
       "0  tt2096673    10.0  bretttaylor-04022  Rated on Jun 10, 2017\n",
       "1  tt0434409     8.0  bretttaylor-04022  Rated on Jun 10, 2017\n",
       "2  tt1205489     9.0  bretttaylor-04022  Rated on Jun 10, 2017\n",
       "3  tt0266543     8.0  bretttaylor-04022  Rated on Jun 10, 2017\n",
       "4  tt0758758     8.0  bretttaylor-04022  Rated on Jun 10, 2017"
      ]
     },
     "execution_count": 5,
     "metadata": {},
     "output_type": "execute_result"
    }
   ],
   "source": [
    "df_ratings = pd.read_csv('/kaggle/input/imdb-dataset/ratings.csv')\n",
    "df_ratings.head()"
   ]
  },
  {
   "cell_type": "markdown",
   "id": "48529076",
   "metadata": {
    "papermill": {
     "duration": 0.01445,
     "end_time": "2025-05-08T03:56:20.375843",
     "exception": false,
     "start_time": "2025-05-08T03:56:20.361393",
     "status": "completed"
    },
    "tags": []
   },
   "source": [
    "# 2. Exploring Data"
   ]
  },
  {
   "cell_type": "markdown",
   "id": "1c21eb16",
   "metadata": {
    "papermill": {
     "duration": 0.014752,
     "end_time": "2025-05-08T03:56:20.405344",
     "exception": false,
     "start_time": "2025-05-08T03:56:20.390592",
     "status": "completed"
    },
    "tags": []
   },
   "source": [
    "## 2.1 Drop duplicates"
   ]
  },
  {
   "cell_type": "code",
   "execution_count": 6,
   "id": "90a5fe56",
   "metadata": {
    "execution": {
     "iopub.execute_input": "2025-05-08T03:56:20.436748Z",
     "iopub.status.busy": "2025-05-08T03:56:20.436461Z",
     "iopub.status.idle": "2025-05-08T03:56:21.020312Z",
     "shell.execute_reply": "2025-05-08T03:56:21.019562Z"
    },
    "papermill": {
     "duration": 0.601713,
     "end_time": "2025-05-08T03:56:21.021819",
     "exception": false,
     "start_time": "2025-05-08T03:56:20.420106",
     "status": "completed"
    },
    "tags": []
   },
   "outputs": [],
   "source": [
    "df_movies.drop_duplicates(inplace=True)\n",
    "df_reviews.drop_duplicates(inplace=True)\n",
    "df_ratings.drop_duplicates(inplace=True)"
   ]
  },
  {
   "cell_type": "markdown",
   "id": "a7f6abb9",
   "metadata": {
    "papermill": {
     "duration": 0.01457,
     "end_time": "2025-05-08T03:56:21.051306",
     "exception": false,
     "start_time": "2025-05-08T03:56:21.036736",
     "status": "completed"
    },
    "tags": []
   },
   "source": [
    "## 2.2 Describe Data and Handling Missing Values"
   ]
  },
  {
   "cell_type": "markdown",
   "id": "1ca9b416",
   "metadata": {
    "papermill": {
     "duration": 0.014704,
     "end_time": "2025-05-08T03:56:21.080926",
     "exception": false,
     "start_time": "2025-05-08T03:56:21.066222",
     "status": "completed"
    },
    "tags": []
   },
   "source": [
    "**MOVIES**"
   ]
  },
  {
   "cell_type": "code",
   "execution_count": 7,
   "id": "c696a079",
   "metadata": {
    "execution": {
     "iopub.execute_input": "2025-05-08T03:56:21.111947Z",
     "iopub.status.busy": "2025-05-08T03:56:21.111308Z",
     "iopub.status.idle": "2025-05-08T03:56:21.129028Z",
     "shell.execute_reply": "2025-05-08T03:56:21.128239Z"
    },
    "papermill": {
     "duration": 0.034468,
     "end_time": "2025-05-08T03:56:21.130234",
     "exception": false,
     "start_time": "2025-05-08T03:56:21.095766",
     "status": "completed"
    },
    "tags": []
   },
   "outputs": [
    {
     "data": {
      "text/html": [
       "<div>\n",
       "<style scoped>\n",
       "    .dataframe tbody tr th:only-of-type {\n",
       "        vertical-align: middle;\n",
       "    }\n",
       "\n",
       "    .dataframe tbody tr th {\n",
       "        vertical-align: top;\n",
       "    }\n",
       "\n",
       "    .dataframe thead th {\n",
       "        text-align: right;\n",
       "    }\n",
       "</style>\n",
       "<table border=\"1\" class=\"dataframe\">\n",
       "  <thead>\n",
       "    <tr style=\"text-align: right;\">\n",
       "      <th></th>\n",
       "      <th>Rating</th>\n",
       "      <th>Year</th>\n",
       "      <th>Runtime</th>\n",
       "    </tr>\n",
       "  </thead>\n",
       "  <tbody>\n",
       "    <tr>\n",
       "      <th>count</th>\n",
       "      <td>6675.000000</td>\n",
       "      <td>6675.000000</td>\n",
       "      <td>6675.000000</td>\n",
       "    </tr>\n",
       "    <tr>\n",
       "      <th>mean</th>\n",
       "      <td>6.348899</td>\n",
       "      <td>2013.149363</td>\n",
       "      <td>107.705768</td>\n",
       "    </tr>\n",
       "    <tr>\n",
       "      <th>std</th>\n",
       "      <td>0.973587</td>\n",
       "      <td>6.789507</td>\n",
       "      <td>19.327470</td>\n",
       "    </tr>\n",
       "    <tr>\n",
       "      <th>min</th>\n",
       "      <td>1.200000</td>\n",
       "      <td>2000.000000</td>\n",
       "      <td>47.000000</td>\n",
       "    </tr>\n",
       "    <tr>\n",
       "      <th>25%</th>\n",
       "      <td>5.700000</td>\n",
       "      <td>2008.000000</td>\n",
       "      <td>94.000000</td>\n",
       "    </tr>\n",
       "    <tr>\n",
       "      <th>50%</th>\n",
       "      <td>6.400000</td>\n",
       "      <td>2014.000000</td>\n",
       "      <td>104.000000</td>\n",
       "    </tr>\n",
       "    <tr>\n",
       "      <th>75%</th>\n",
       "      <td>7.000000</td>\n",
       "      <td>2019.000000</td>\n",
       "      <td>117.000000</td>\n",
       "    </tr>\n",
       "    <tr>\n",
       "      <th>max</th>\n",
       "      <td>9.000000</td>\n",
       "      <td>2024.000000</td>\n",
       "      <td>467.000000</td>\n",
       "    </tr>\n",
       "  </tbody>\n",
       "</table>\n",
       "</div>"
      ],
      "text/plain": [
       "            Rating         Year      Runtime\n",
       "count  6675.000000  6675.000000  6675.000000\n",
       "mean      6.348899  2013.149363   107.705768\n",
       "std       0.973587     6.789507    19.327470\n",
       "min       1.200000  2000.000000    47.000000\n",
       "25%       5.700000  2008.000000    94.000000\n",
       "50%       6.400000  2014.000000   104.000000\n",
       "75%       7.000000  2019.000000   117.000000\n",
       "max       9.000000  2024.000000   467.000000"
      ]
     },
     "execution_count": 7,
     "metadata": {},
     "output_type": "execute_result"
    }
   ],
   "source": [
    "df_movies.describe()"
   ]
  },
  {
   "cell_type": "code",
   "execution_count": 8,
   "id": "2167e6b1",
   "metadata": {
    "execution": {
     "iopub.execute_input": "2025-05-08T03:56:21.162741Z",
     "iopub.status.busy": "2025-05-08T03:56:21.162100Z",
     "iopub.status.idle": "2025-05-08T03:56:21.185669Z",
     "shell.execute_reply": "2025-05-08T03:56:21.184702Z"
    },
    "papermill": {
     "duration": 0.041222,
     "end_time": "2025-05-08T03:56:21.186944",
     "exception": false,
     "start_time": "2025-05-08T03:56:21.145722",
     "status": "completed"
    },
    "tags": []
   },
   "outputs": [
    {
     "name": "stdout",
     "output_type": "stream",
     "text": [
      "<class 'pandas.core.frame.DataFrame'>\n",
      "RangeIndex: 6675 entries, 0 to 6674\n",
      "Data columns (total 11 columns):\n",
      " #   Column     Non-Null Count  Dtype  \n",
      "---  ------     --------------  -----  \n",
      " 0   ID         6675 non-null   object \n",
      " 1   Title      6675 non-null   object \n",
      " 2   Genres     6675 non-null   object \n",
      " 3   Rating     6675 non-null   float64\n",
      " 4   Year       6675 non-null   int64  \n",
      " 5   Numrate    6675 non-null   object \n",
      " 6   Runtime    6675 non-null   int64  \n",
      " 7   Image      6675 non-null   object \n",
      " 8   Directors  6675 non-null   object \n",
      " 9   Writers    6674 non-null   object \n",
      " 10  Stars      6619 non-null   object \n",
      "dtypes: float64(1), int64(2), object(8)\n",
      "memory usage: 573.8+ KB\n"
     ]
    }
   ],
   "source": [
    "df_movies.info()"
   ]
  },
  {
   "cell_type": "markdown",
   "id": "afba0116",
   "metadata": {
    "papermill": {
     "duration": 0.015015,
     "end_time": "2025-05-08T03:56:21.217517",
     "exception": false,
     "start_time": "2025-05-08T03:56:21.202502",
     "status": "completed"
    },
    "tags": []
   },
   "source": [
    "Fill nan value on columns (Directors, Writers, Stars) by ''"
   ]
  },
  {
   "cell_type": "code",
   "execution_count": 9,
   "id": "5f611a78",
   "metadata": {
    "execution": {
     "iopub.execute_input": "2025-05-08T03:56:21.248786Z",
     "iopub.status.busy": "2025-05-08T03:56:21.248488Z",
     "iopub.status.idle": "2025-05-08T03:56:21.259834Z",
     "shell.execute_reply": "2025-05-08T03:56:21.258970Z"
    },
    "papermill": {
     "duration": 0.028418,
     "end_time": "2025-05-08T03:56:21.261141",
     "exception": false,
     "start_time": "2025-05-08T03:56:21.232723",
     "status": "completed"
    },
    "tags": []
   },
   "outputs": [],
   "source": [
    "df_movies.fillna(value = '',inplace = True)"
   ]
  },
  {
   "cell_type": "markdown",
   "id": "b77fb696",
   "metadata": {
    "papermill": {
     "duration": 0.0153,
     "end_time": "2025-05-08T03:56:21.292151",
     "exception": false,
     "start_time": "2025-05-08T03:56:21.276851",
     "status": "completed"
    },
    "tags": []
   },
   "source": [
    "**REVIEWS**"
   ]
  },
  {
   "cell_type": "code",
   "execution_count": 10,
   "id": "b3bec2e9",
   "metadata": {
    "execution": {
     "iopub.execute_input": "2025-05-08T03:56:21.324785Z",
     "iopub.status.busy": "2025-05-08T03:56:21.323791Z",
     "iopub.status.idle": "2025-05-08T03:56:21.339235Z",
     "shell.execute_reply": "2025-05-08T03:56:21.338477Z"
    },
    "papermill": {
     "duration": 0.033644,
     "end_time": "2025-05-08T03:56:21.340491",
     "exception": false,
     "start_time": "2025-05-08T03:56:21.306847",
     "status": "completed"
    },
    "tags": []
   },
   "outputs": [
    {
     "data": {
      "text/html": [
       "<div>\n",
       "<style scoped>\n",
       "    .dataframe tbody tr th:only-of-type {\n",
       "        vertical-align: middle;\n",
       "    }\n",
       "\n",
       "    .dataframe tbody tr th {\n",
       "        vertical-align: top;\n",
       "    }\n",
       "\n",
       "    .dataframe thead th {\n",
       "        text-align: right;\n",
       "    }\n",
       "</style>\n",
       "<table border=\"1\" class=\"dataframe\">\n",
       "  <thead>\n",
       "    <tr style=\"text-align: right;\">\n",
       "      <th></th>\n",
       "      <th>Rating</th>\n",
       "    </tr>\n",
       "  </thead>\n",
       "  <tbody>\n",
       "    <tr>\n",
       "      <th>count</th>\n",
       "      <td>190643.000000</td>\n",
       "    </tr>\n",
       "    <tr>\n",
       "      <th>mean</th>\n",
       "      <td>6.137986</td>\n",
       "    </tr>\n",
       "    <tr>\n",
       "      <th>std</th>\n",
       "      <td>2.570391</td>\n",
       "    </tr>\n",
       "    <tr>\n",
       "      <th>min</th>\n",
       "      <td>1.000000</td>\n",
       "    </tr>\n",
       "    <tr>\n",
       "      <th>25%</th>\n",
       "      <td>4.000000</td>\n",
       "    </tr>\n",
       "    <tr>\n",
       "      <th>50%</th>\n",
       "      <td>7.000000</td>\n",
       "    </tr>\n",
       "    <tr>\n",
       "      <th>75%</th>\n",
       "      <td>8.000000</td>\n",
       "    </tr>\n",
       "    <tr>\n",
       "      <th>max</th>\n",
       "      <td>10.000000</td>\n",
       "    </tr>\n",
       "  </tbody>\n",
       "</table>\n",
       "</div>"
      ],
      "text/plain": [
       "              Rating\n",
       "count  190643.000000\n",
       "mean        6.137986\n",
       "std         2.570391\n",
       "min         1.000000\n",
       "25%         4.000000\n",
       "50%         7.000000\n",
       "75%         8.000000\n",
       "max        10.000000"
      ]
     },
     "execution_count": 10,
     "metadata": {},
     "output_type": "execute_result"
    }
   ],
   "source": [
    "df_reviews.describe()"
   ]
  },
  {
   "cell_type": "code",
   "execution_count": 11,
   "id": "73c72f20",
   "metadata": {
    "execution": {
     "iopub.execute_input": "2025-05-08T03:56:21.371973Z",
     "iopub.status.busy": "2025-05-08T03:56:21.371676Z",
     "iopub.status.idle": "2025-05-08T03:56:21.411542Z",
     "shell.execute_reply": "2025-05-08T03:56:21.410580Z"
    },
    "papermill": {
     "duration": 0.057344,
     "end_time": "2025-05-08T03:56:21.413003",
     "exception": false,
     "start_time": "2025-05-08T03:56:21.355659",
     "status": "completed"
    },
    "tags": []
   },
   "outputs": [
    {
     "name": "stdout",
     "output_type": "stream",
     "text": [
      "<class 'pandas.core.frame.DataFrame'>\n",
      "RangeIndex: 190643 entries, 0 to 190642\n",
      "Data columns (total 4 columns):\n",
      " #   Column       Non-Null Count   Dtype \n",
      "---  ------       --------------   ----- \n",
      " 0   MovieID      190643 non-null  object\n",
      " 1   Rating       190643 non-null  int64 \n",
      " 2   Username     190643 non-null  object\n",
      " 3   CommentDate  190643 non-null  object\n",
      "dtypes: int64(1), object(3)\n",
      "memory usage: 5.8+ MB\n"
     ]
    }
   ],
   "source": [
    "df_reviews.info()"
   ]
  },
  {
   "cell_type": "markdown",
   "id": "7b783777",
   "metadata": {
    "papermill": {
     "duration": 0.014852,
     "end_time": "2025-05-08T03:56:21.443914",
     "exception": false,
     "start_time": "2025-05-08T03:56:21.429062",
     "status": "completed"
    },
    "tags": []
   },
   "source": [
    "Convert columns CommentDate"
   ]
  },
  {
   "cell_type": "code",
   "execution_count": 12,
   "id": "94d00016",
   "metadata": {
    "execution": {
     "iopub.execute_input": "2025-05-08T03:56:21.475700Z",
     "iopub.status.busy": "2025-05-08T03:56:21.474952Z",
     "iopub.status.idle": "2025-05-08T03:56:22.005844Z",
     "shell.execute_reply": "2025-05-08T03:56:22.005048Z"
    },
    "papermill": {
     "duration": 0.548323,
     "end_time": "2025-05-08T03:56:22.007291",
     "exception": false,
     "start_time": "2025-05-08T03:56:21.458968",
     "status": "completed"
    },
    "tags": []
   },
   "outputs": [
    {
     "data": {
      "text/html": [
       "<div>\n",
       "<style scoped>\n",
       "    .dataframe tbody tr th:only-of-type {\n",
       "        vertical-align: middle;\n",
       "    }\n",
       "\n",
       "    .dataframe tbody tr th {\n",
       "        vertical-align: top;\n",
       "    }\n",
       "\n",
       "    .dataframe thead th {\n",
       "        text-align: right;\n",
       "    }\n",
       "</style>\n",
       "<table border=\"1\" class=\"dataframe\">\n",
       "  <thead>\n",
       "    <tr style=\"text-align: right;\">\n",
       "      <th></th>\n",
       "      <th>MovieID</th>\n",
       "      <th>Rating</th>\n",
       "      <th>Username</th>\n",
       "      <th>CommentDate</th>\n",
       "    </tr>\n",
       "  </thead>\n",
       "  <tbody>\n",
       "    <tr>\n",
       "      <th>0</th>\n",
       "      <td>tt0283530</td>\n",
       "      <td>7</td>\n",
       "      <td>CuriosityKilledShawn</td>\n",
       "      <td>2005-08-14</td>\n",
       "    </tr>\n",
       "    <tr>\n",
       "      <th>1</th>\n",
       "      <td>tt0283530</td>\n",
       "      <td>7</td>\n",
       "      <td>ma-cortes</td>\n",
       "      <td>2005-07-12</td>\n",
       "    </tr>\n",
       "    <tr>\n",
       "      <th>2</th>\n",
       "      <td>tt0283530</td>\n",
       "      <td>8</td>\n",
       "      <td>redkiwi</td>\n",
       "      <td>2002-12-09</td>\n",
       "    </tr>\n",
       "    <tr>\n",
       "      <th>3</th>\n",
       "      <td>tt0283530</td>\n",
       "      <td>9</td>\n",
       "      <td>KUAlum26</td>\n",
       "      <td>2006-03-20</td>\n",
       "    </tr>\n",
       "    <tr>\n",
       "      <th>4</th>\n",
       "      <td>tt0283530</td>\n",
       "      <td>10</td>\n",
       "      <td>au_law2001</td>\n",
       "      <td>2005-01-23</td>\n",
       "    </tr>\n",
       "  </tbody>\n",
       "</table>\n",
       "</div>"
      ],
      "text/plain": [
       "     MovieID  Rating              Username CommentDate\n",
       "0  tt0283530       7  CuriosityKilledShawn  2005-08-14\n",
       "1  tt0283530       7             ma-cortes  2005-07-12\n",
       "2  tt0283530       8               redkiwi  2002-12-09\n",
       "3  tt0283530       9              KUAlum26  2006-03-20\n",
       "4  tt0283530      10            au_law2001  2005-01-23"
      ]
     },
     "execution_count": 12,
     "metadata": {},
     "output_type": "execute_result"
    }
   ],
   "source": [
    "df_reviews['CommentDate'] = pd.to_datetime(df_reviews['CommentDate'])\n",
    "df_reviews.head()"
   ]
  },
  {
   "cell_type": "markdown",
   "id": "c6a11799",
   "metadata": {
    "papermill": {
     "duration": 0.014608,
     "end_time": "2025-05-08T03:56:22.038468",
     "exception": false,
     "start_time": "2025-05-08T03:56:22.023860",
     "status": "completed"
    },
    "tags": []
   },
   "source": [
    "**RATINGS**"
   ]
  },
  {
   "cell_type": "code",
   "execution_count": 13,
   "id": "ec313b37",
   "metadata": {
    "execution": {
     "iopub.execute_input": "2025-05-08T03:56:22.068870Z",
     "iopub.status.busy": "2025-05-08T03:56:22.068613Z",
     "iopub.status.idle": "2025-05-08T03:56:22.157212Z",
     "shell.execute_reply": "2025-05-08T03:56:22.156508Z"
    },
    "papermill": {
     "duration": 0.105348,
     "end_time": "2025-05-08T03:56:22.158527",
     "exception": false,
     "start_time": "2025-05-08T03:56:22.053179",
     "status": "completed"
    },
    "tags": []
   },
   "outputs": [
    {
     "data": {
      "text/html": [
       "<div>\n",
       "<style scoped>\n",
       "    .dataframe tbody tr th:only-of-type {\n",
       "        vertical-align: middle;\n",
       "    }\n",
       "\n",
       "    .dataframe tbody tr th {\n",
       "        vertical-align: top;\n",
       "    }\n",
       "\n",
       "    .dataframe thead th {\n",
       "        text-align: right;\n",
       "    }\n",
       "</style>\n",
       "<table border=\"1\" class=\"dataframe\">\n",
       "  <thead>\n",
       "    <tr style=\"text-align: right;\">\n",
       "      <th></th>\n",
       "      <th>Rating</th>\n",
       "    </tr>\n",
       "  </thead>\n",
       "  <tbody>\n",
       "    <tr>\n",
       "      <th>count</th>\n",
       "      <td>1.380601e+06</td>\n",
       "    </tr>\n",
       "    <tr>\n",
       "      <th>mean</th>\n",
       "      <td>6.396743e+00</td>\n",
       "    </tr>\n",
       "    <tr>\n",
       "      <th>std</th>\n",
       "      <td>2.124442e+00</td>\n",
       "    </tr>\n",
       "    <tr>\n",
       "      <th>min</th>\n",
       "      <td>1.000000e+00</td>\n",
       "    </tr>\n",
       "    <tr>\n",
       "      <th>25%</th>\n",
       "      <td>5.000000e+00</td>\n",
       "    </tr>\n",
       "    <tr>\n",
       "      <th>50%</th>\n",
       "      <td>7.000000e+00</td>\n",
       "    </tr>\n",
       "    <tr>\n",
       "      <th>75%</th>\n",
       "      <td>8.000000e+00</td>\n",
       "    </tr>\n",
       "    <tr>\n",
       "      <th>max</th>\n",
       "      <td>1.000000e+01</td>\n",
       "    </tr>\n",
       "  </tbody>\n",
       "</table>\n",
       "</div>"
      ],
      "text/plain": [
       "             Rating\n",
       "count  1.380601e+06\n",
       "mean   6.396743e+00\n",
       "std    2.124442e+00\n",
       "min    1.000000e+00\n",
       "25%    5.000000e+00\n",
       "50%    7.000000e+00\n",
       "75%    8.000000e+00\n",
       "max    1.000000e+01"
      ]
     },
     "execution_count": 13,
     "metadata": {},
     "output_type": "execute_result"
    }
   ],
   "source": [
    "df_ratings.describe()"
   ]
  },
  {
   "cell_type": "code",
   "execution_count": 14,
   "id": "8b73cca9",
   "metadata": {
    "execution": {
     "iopub.execute_input": "2025-05-08T03:56:22.190819Z",
     "iopub.status.busy": "2025-05-08T03:56:22.190534Z",
     "iopub.status.idle": "2025-05-08T03:56:22.397801Z",
     "shell.execute_reply": "2025-05-08T03:56:22.396888Z"
    },
    "papermill": {
     "duration": 0.225079,
     "end_time": "2025-05-08T03:56:22.399132",
     "exception": false,
     "start_time": "2025-05-08T03:56:22.174053",
     "status": "completed"
    },
    "tags": []
   },
   "outputs": [
    {
     "name": "stdout",
     "output_type": "stream",
     "text": [
      "<class 'pandas.core.frame.DataFrame'>\n",
      "RangeIndex: 1380657 entries, 0 to 1380656\n",
      "Data columns (total 4 columns):\n",
      " #   Column       Non-Null Count    Dtype  \n",
      "---  ------       --------------    -----  \n",
      " 0   MovieID      1380657 non-null  object \n",
      " 1   Rating       1380601 non-null  float64\n",
      " 2   Username     1380657 non-null  object \n",
      " 3   CommentDate  1380601 non-null  object \n",
      "dtypes: float64(1), object(3)\n",
      "memory usage: 42.1+ MB\n"
     ]
    }
   ],
   "source": [
    "df_ratings.info()"
   ]
  },
  {
   "cell_type": "markdown",
   "id": "74efe3ce",
   "metadata": {
    "papermill": {
     "duration": 0.015027,
     "end_time": "2025-05-08T03:56:22.429602",
     "exception": false,
     "start_time": "2025-05-08T03:56:22.414575",
     "status": "completed"
    },
    "tags": []
   },
   "source": [
    "Drop NaN value in columns: MovieID, Rating, Username"
   ]
  },
  {
   "cell_type": "code",
   "execution_count": 15,
   "id": "ddccc95b",
   "metadata": {
    "execution": {
     "iopub.execute_input": "2025-05-08T03:56:22.461238Z",
     "iopub.status.busy": "2025-05-08T03:56:22.460955Z",
     "iopub.status.idle": "2025-05-08T03:56:22.803396Z",
     "shell.execute_reply": "2025-05-08T03:56:22.802500Z"
    },
    "papermill": {
     "duration": 0.360113,
     "end_time": "2025-05-08T03:56:22.804997",
     "exception": false,
     "start_time": "2025-05-08T03:56:22.444884",
     "status": "completed"
    },
    "tags": []
   },
   "outputs": [],
   "source": [
    "df_ratings.dropna(subset=['Username', 'Rating', 'MovieID'], inplace = True)\n",
    "df_ratings['CommentDate'] = df_ratings['CommentDate'].fillna('Rated on Jun 1, 2000')"
   ]
  },
  {
   "cell_type": "markdown",
   "id": "b02defb1",
   "metadata": {
    "papermill": {
     "duration": 0.014983,
     "end_time": "2025-05-08T03:56:22.835545",
     "exception": false,
     "start_time": "2025-05-08T03:56:22.820562",
     "status": "completed"
    },
    "tags": []
   },
   "source": [
    "Convert Column CommentDate "
   ]
  },
  {
   "cell_type": "code",
   "execution_count": 16,
   "id": "f6ebe0dc",
   "metadata": {
    "execution": {
     "iopub.execute_input": "2025-05-08T03:56:22.866946Z",
     "iopub.status.busy": "2025-05-08T03:56:22.866161Z",
     "iopub.status.idle": "2025-05-08T03:56:23.554214Z",
     "shell.execute_reply": "2025-05-08T03:56:23.553493Z"
    },
    "papermill": {
     "duration": 0.705008,
     "end_time": "2025-05-08T03:56:23.555604",
     "exception": false,
     "start_time": "2025-05-08T03:56:22.850596",
     "status": "completed"
    },
    "tags": []
   },
   "outputs": [
    {
     "data": {
      "text/html": [
       "<div>\n",
       "<style scoped>\n",
       "    .dataframe tbody tr th:only-of-type {\n",
       "        vertical-align: middle;\n",
       "    }\n",
       "\n",
       "    .dataframe tbody tr th {\n",
       "        vertical-align: top;\n",
       "    }\n",
       "\n",
       "    .dataframe thead th {\n",
       "        text-align: right;\n",
       "    }\n",
       "</style>\n",
       "<table border=\"1\" class=\"dataframe\">\n",
       "  <thead>\n",
       "    <tr style=\"text-align: right;\">\n",
       "      <th></th>\n",
       "      <th>MovieID</th>\n",
       "      <th>Rating</th>\n",
       "      <th>Username</th>\n",
       "      <th>CommentDate</th>\n",
       "    </tr>\n",
       "  </thead>\n",
       "  <tbody>\n",
       "    <tr>\n",
       "      <th>0</th>\n",
       "      <td>tt2096673</td>\n",
       "      <td>10.0</td>\n",
       "      <td>bretttaylor-04022</td>\n",
       "      <td>2017-06-10</td>\n",
       "    </tr>\n",
       "    <tr>\n",
       "      <th>1</th>\n",
       "      <td>tt0434409</td>\n",
       "      <td>8.0</td>\n",
       "      <td>bretttaylor-04022</td>\n",
       "      <td>2017-06-10</td>\n",
       "    </tr>\n",
       "    <tr>\n",
       "      <th>2</th>\n",
       "      <td>tt1205489</td>\n",
       "      <td>9.0</td>\n",
       "      <td>bretttaylor-04022</td>\n",
       "      <td>2017-06-10</td>\n",
       "    </tr>\n",
       "    <tr>\n",
       "      <th>3</th>\n",
       "      <td>tt0266543</td>\n",
       "      <td>8.0</td>\n",
       "      <td>bretttaylor-04022</td>\n",
       "      <td>2017-06-10</td>\n",
       "    </tr>\n",
       "    <tr>\n",
       "      <th>4</th>\n",
       "      <td>tt0758758</td>\n",
       "      <td>8.0</td>\n",
       "      <td>bretttaylor-04022</td>\n",
       "      <td>2017-06-10</td>\n",
       "    </tr>\n",
       "  </tbody>\n",
       "</table>\n",
       "</div>"
      ],
      "text/plain": [
       "     MovieID  Rating           Username CommentDate\n",
       "0  tt2096673    10.0  bretttaylor-04022  2017-06-10\n",
       "1  tt0434409     8.0  bretttaylor-04022  2017-06-10\n",
       "2  tt1205489     9.0  bretttaylor-04022  2017-06-10\n",
       "3  tt0266543     8.0  bretttaylor-04022  2017-06-10\n",
       "4  tt0758758     8.0  bretttaylor-04022  2017-06-10"
      ]
     },
     "execution_count": 16,
     "metadata": {},
     "output_type": "execute_result"
    }
   ],
   "source": [
    "df_ratings['CommentDate'] = df_ratings['CommentDate'].str.replace(\"Rated on \", \"\", regex=False)\n",
    "df_ratings['CommentDate'] = pd.to_datetime(df_ratings['CommentDate'])\n",
    "df_ratings.head()"
   ]
  },
  {
   "cell_type": "markdown",
   "id": "f69774ff",
   "metadata": {
    "papermill": {
     "duration": 0.014968,
     "end_time": "2025-05-08T03:56:23.587326",
     "exception": false,
     "start_time": "2025-05-08T03:56:23.572358",
     "status": "completed"
    },
    "tags": []
   },
   "source": [
    "## 2.2 Merge Reviews and Ratings"
   ]
  },
  {
   "cell_type": "markdown",
   "id": "7d754d48",
   "metadata": {
    "papermill": {
     "duration": 0.015037,
     "end_time": "2025-05-08T03:56:23.617858",
     "exception": false,
     "start_time": "2025-05-08T03:56:23.602821",
     "status": "completed"
    },
    "tags": []
   },
   "source": [
    "Filter ratings and reviews"
   ]
  },
  {
   "cell_type": "code",
   "execution_count": 17,
   "id": "d35c7ae0",
   "metadata": {
    "execution": {
     "iopub.execute_input": "2025-05-08T03:56:23.649261Z",
     "iopub.status.busy": "2025-05-08T03:56:23.648615Z",
     "iopub.status.idle": "2025-05-08T03:56:23.778060Z",
     "shell.execute_reply": "2025-05-08T03:56:23.777222Z"
    },
    "papermill": {
     "duration": 0.146811,
     "end_time": "2025-05-08T03:56:23.779512",
     "exception": false,
     "start_time": "2025-05-08T03:56:23.632701",
     "status": "completed"
    },
    "tags": []
   },
   "outputs": [
    {
     "name": "stdout",
     "output_type": "stream",
     "text": [
      "190643 1130658\n"
     ]
    }
   ],
   "source": [
    "movieIDs = df_movies['ID']\n",
    "df_reviews =  df_reviews[df_reviews['MovieID'].isin(movieIDs)]\n",
    "df_ratings =  df_ratings[df_ratings['MovieID'].isin(movieIDs)]\n",
    "print(df_reviews.shape[0], df_ratings.shape[0])"
   ]
  },
  {
   "cell_type": "markdown",
   "id": "3e3ce7b9",
   "metadata": {
    "papermill": {
     "duration": 0.016288,
     "end_time": "2025-05-08T03:56:23.811887",
     "exception": false,
     "start_time": "2025-05-08T03:56:23.795599",
     "status": "completed"
    },
    "tags": []
   },
   "source": [
    "Merge"
   ]
  },
  {
   "cell_type": "code",
   "execution_count": 18,
   "id": "ccdc3012",
   "metadata": {
    "execution": {
     "iopub.execute_input": "2025-05-08T03:56:23.846685Z",
     "iopub.status.busy": "2025-05-08T03:56:23.846088Z",
     "iopub.status.idle": "2025-05-08T03:56:24.269546Z",
     "shell.execute_reply": "2025-05-08T03:56:24.268543Z"
    },
    "papermill": {
     "duration": 0.442441,
     "end_time": "2025-05-08T03:56:24.271023",
     "exception": false,
     "start_time": "2025-05-08T03:56:23.828582",
     "status": "completed"
    },
    "tags": []
   },
   "outputs": [
    {
     "name": "stdout",
     "output_type": "stream",
     "text": [
      "           MovieID  Rating              Username CommentDate\n",
      "0        tt0283530     7.0  CuriosityKilledShawn  2005-08-14\n",
      "1        tt0283530     7.0             ma-cortes  2005-07-12\n",
      "2        tt0283530     8.0               redkiwi  2002-12-09\n",
      "3        tt0283530     9.0              KUAlum26  2006-03-20\n",
      "4        tt0283530    10.0            au_law2001  2005-01-23\n",
      "...            ...     ...                   ...         ...\n",
      "1321296  tt1821549     9.0              seaview1  2014-03-01\n",
      "1321297  tt0790636     9.0              seaview1  2014-03-01\n",
      "1321298  tt2431286     9.0              seaview1  2014-03-01\n",
      "1321299  tt1843866     9.0              seaview1  2014-04-18\n",
      "1321300  tt1877832     9.0              seaview1  2014-06-12\n",
      "\n",
      "[1269661 rows x 4 columns]\n"
     ]
    }
   ],
   "source": [
    "ratings = pd.concat([df_reviews, df_ratings], ignore_index = True)\n",
    "ratings.drop_duplicates(subset=['Username', 'MovieID'], inplace = True)\n",
    "print(ratings)"
   ]
  },
  {
   "cell_type": "code",
   "execution_count": 19,
   "id": "54019c73",
   "metadata": {
    "execution": {
     "iopub.execute_input": "2025-05-08T03:56:24.307340Z",
     "iopub.status.busy": "2025-05-08T03:56:24.307083Z",
     "iopub.status.idle": "2025-05-08T03:56:24.368080Z",
     "shell.execute_reply": "2025-05-08T03:56:24.367236Z"
    },
    "papermill": {
     "duration": 0.079099,
     "end_time": "2025-05-08T03:56:24.369231",
     "exception": false,
     "start_time": "2025-05-08T03:56:24.290132",
     "status": "completed"
    },
    "tags": []
   },
   "outputs": [
    {
     "name": "stdout",
     "output_type": "stream",
     "text": [
      "Total Users: 14148\n",
      "Total Movies: 6675\n",
      "Total Ratings: 1269661\n"
     ]
    }
   ],
   "source": [
    "numUser = ratings['Username'].copy()\n",
    "numUser.drop_duplicates(inplace = True)\n",
    "print(\"Total Users:\", numUser.shape[0])\n",
    "print(\"Total Movies:\", df_movies.shape[0])\n",
    "print(\"Total Ratings:\", ratings.shape[0])"
   ]
  },
  {
   "cell_type": "markdown",
   "id": "0fa10345",
   "metadata": {
    "papermill": {
     "duration": 0.015663,
     "end_time": "2025-05-08T03:56:24.401688",
     "exception": false,
     "start_time": "2025-05-08T03:56:24.386025",
     "status": "completed"
    },
    "tags": []
   },
   "source": [
    "## 2.3 Statistical Analysis and Preprocesing Data"
   ]
  },
  {
   "cell_type": "markdown",
   "id": "a6ff9b17",
   "metadata": {
    "papermill": {
     "duration": 0.015893,
     "end_time": "2025-05-08T03:56:24.433570",
     "exception": false,
     "start_time": "2025-05-08T03:56:24.417677",
     "status": "completed"
    },
    "tags": []
   },
   "source": [
    "### 2.3.0 Ratings"
   ]
  },
  {
   "cell_type": "code",
   "execution_count": 20,
   "id": "21672b67",
   "metadata": {
    "execution": {
     "iopub.execute_input": "2025-05-08T03:56:24.465830Z",
     "iopub.status.busy": "2025-05-08T03:56:24.465140Z",
     "iopub.status.idle": "2025-05-08T03:56:24.733714Z",
     "shell.execute_reply": "2025-05-08T03:56:24.733001Z"
    },
    "papermill": {
     "duration": 0.286164,
     "end_time": "2025-05-08T03:56:24.735154",
     "exception": false,
     "start_time": "2025-05-08T03:56:24.448990",
     "status": "completed"
    },
    "tags": []
   },
   "outputs": [
    {
     "data": {
      "image/png": "[encoded data removed]",
      "text/plain": [
       "<Figure size 640x480 with 1 Axes>"
      ]
     },
     "metadata": {},
     "output_type": "display_data"
    }
   ],
   "source": [
    "plt.hist(ratings['Rating'], bins=10, color='skyblue', edgecolor='black')\n",
    "plt.title('Distribution of Movie Ratings')\n",
    "plt.xlabel('Rating')\n",
    "plt.ylabel('Frequency')\n",
    "plt.show()"
   ]
  },
  {
   "cell_type": "code",
   "execution_count": 21,
   "id": "3016db80",
   "metadata": {
    "execution": {
     "iopub.execute_input": "2025-05-08T03:56:24.770606Z",
     "iopub.status.busy": "2025-05-08T03:56:24.769962Z",
     "iopub.status.idle": "2025-05-08T03:56:25.183935Z",
     "shell.execute_reply": "2025-05-08T03:56:25.183152Z"
    },
    "papermill": {
     "duration": 0.433963,
     "end_time": "2025-05-08T03:56:25.185371",
     "exception": false,
     "start_time": "2025-05-08T03:56:24.751408",
     "status": "completed"
    },
    "tags": []
   },
   "outputs": [
    {
     "data": {
      "image/png": "[encoded data removed]",
      "text/plain": [
       "<Figure size 1000x600 with 1 Axes>"
      ]
     },
     "metadata": {},
     "output_type": "display_data"
    }
   ],
   "source": [
    "ratings['Year'] = ratings['CommentDate'].dt.to_period('Y')\n",
    "comments_over_time = ratings.groupby('Year').size()\n",
    "\n",
    "comments_over_time.plot(kind='bar', color='orange', figsize=(10, 6))\n",
    "plt.title('Number of Comments Over Time')\n",
    "plt.xlabel('Year')\n",
    "plt.ylabel('Number of Comments')\n",
    "plt.show()"
   ]
  },
  {
   "cell_type": "code",
   "execution_count": 22,
   "id": "adc5c395",
   "metadata": {
    "execution": {
     "iopub.execute_input": "2025-05-08T03:56:25.220722Z",
     "iopub.status.busy": "2025-05-08T03:56:25.220384Z",
     "iopub.status.idle": "2025-05-08T03:56:25.255019Z",
     "shell.execute_reply": "2025-05-08T03:56:25.254320Z"
    },
    "papermill": {
     "duration": 0.053766,
     "end_time": "2025-05-08T03:56:25.256585",
     "exception": false,
     "start_time": "2025-05-08T03:56:25.202819",
     "status": "completed"
    },
    "tags": []
   },
   "outputs": [
    {
     "data": {
      "text/plain": [
       "count                          1269661\n",
       "mean     2017-01-19 18:09:38.847424768\n",
       "min                1970-01-01 00:00:00\n",
       "25%                2013-10-09 00:00:00\n",
       "50%                2017-09-28 00:00:00\n",
       "75%                2020-12-23 00:00:00\n",
       "max                2025-04-07 00:00:00\n",
       "Name: CommentDate, dtype: object"
      ]
     },
     "execution_count": 22,
     "metadata": {},
     "output_type": "execute_result"
    }
   ],
   "source": [
    "ratings['CommentDate'].describe()"
   ]
  },
  {
   "cell_type": "code",
   "execution_count": 23,
   "id": "8e75d54d",
   "metadata": {
    "execution": {
     "iopub.execute_input": "2025-05-08T03:56:25.293591Z",
     "iopub.status.busy": "2025-05-08T03:56:25.293242Z",
     "iopub.status.idle": "2025-05-08T03:56:28.895303Z",
     "shell.execute_reply": "2025-05-08T03:56:28.894687Z"
    },
    "papermill": {
     "duration": 3.621373,
     "end_time": "2025-05-08T03:56:28.896840",
     "exception": false,
     "start_time": "2025-05-08T03:56:25.275467",
     "status": "completed"
    },
    "tags": []
   },
   "outputs": [],
   "source": [
    "ratings['CommentDate'] = ratings['CommentDate'].apply(lambda x: \n",
    "    pd.Timestamp('2000-01-01') if x.year < 2000 \n",
    "    else pd.Timestamp('2024-12-31') if x.year > 2024 \n",
    "    else x\n",
    ")"
   ]
  },
  {
   "cell_type": "code",
   "execution_count": 24,
   "id": "e7cf5223",
   "metadata": {
    "execution": {
     "iopub.execute_input": "2025-05-08T03:56:28.932021Z",
     "iopub.status.busy": "2025-05-08T03:56:28.931725Z",
     "iopub.status.idle": "2025-05-08T03:56:29.264850Z",
     "shell.execute_reply": "2025-05-08T03:56:29.264161Z"
    },
    "papermill": {
     "duration": 0.35219,
     "end_time": "2025-05-08T03:56:29.266291",
     "exception": false,
     "start_time": "2025-05-08T03:56:28.914101",
     "status": "completed"
    },
    "tags": []
   },
   "outputs": [
    {
     "data": {
      "image/png": "[encoded data removed]",
      "text/plain": [
       "<Figure size 1000x600 with 1 Axes>"
      ]
     },
     "metadata": {},
     "output_type": "display_data"
    }
   ],
   "source": [
    "ratings['Year'] = ratings['CommentDate'].dt.to_period('Y')\n",
    "comments_over_time = ratings.groupby('Year').size()\n",
    "\n",
    "comments_over_time.plot(kind='bar', color='orange', figsize=(10, 6))\n",
    "plt.title('Number of Comments Over Time')\n",
    "plt.xlabel('Year')\n",
    "plt.ylabel('Number of Comments')\n",
    "plt.show()"
   ]
  },
  {
   "cell_type": "markdown",
   "id": "04727ffc",
   "metadata": {
    "papermill": {
     "duration": 0.016585,
     "end_time": "2025-05-08T03:56:29.300925",
     "exception": false,
     "start_time": "2025-05-08T03:56:29.284340",
     "status": "completed"
    },
    "tags": []
   },
   "source": [
    "### 2.3.1 Users "
   ]
  },
  {
   "cell_type": "code",
   "execution_count": 25,
   "id": "e5273c48",
   "metadata": {
    "execution": {
     "iopub.execute_input": "2025-05-08T03:56:29.335492Z",
     "iopub.status.busy": "2025-05-08T03:56:29.335174Z",
     "iopub.status.idle": "2025-05-08T03:56:29.403673Z",
     "shell.execute_reply": "2025-05-08T03:56:29.402656Z"
    },
    "papermill": {
     "duration": 0.087568,
     "end_time": "2025-05-08T03:56:29.405092",
     "exception": false,
     "start_time": "2025-05-08T03:56:29.317524",
     "status": "completed"
    },
    "tags": []
   },
   "outputs": [
    {
     "name": "stdout",
     "output_type": "stream",
     "text": [
      "['CuriosityKilledShawn', 'ma-cortes', 'redkiwi', 'KUAlum26', 'au_law2001', 'August1991', 'helpless_dancer', 'FilmOtaku', 'ferguson-6', 'Beachbum2018']\n"
     ]
    }
   ],
   "source": [
    "list_usernames = ratings[\"Username\"].unique().tolist()\n",
    "print(list_usernames[:10])"
   ]
  },
  {
   "cell_type": "markdown",
   "id": "93b1cb54",
   "metadata": {
    "papermill": {
     "duration": 0.01801,
     "end_time": "2025-05-08T03:56:29.440509",
     "exception": false,
     "start_time": "2025-05-08T03:56:29.422499",
     "status": "completed"
    },
    "tags": []
   },
   "source": [
    "Visual Gender"
   ]
  },
  {
   "cell_type": "markdown",
   "id": "020c3dfa",
   "metadata": {
    "papermill": {
     "duration": 0.016815,
     "end_time": "2025-05-08T03:56:29.475172",
     "exception": false,
     "start_time": "2025-05-08T03:56:29.458357",
     "status": "completed"
    },
    "tags": []
   },
   "source": [
    "1: Male, 0: Female"
   ]
  },
  {
   "cell_type": "code",
   "execution_count": 26,
   "id": "66571dcb",
   "metadata": {
    "execution": {
     "iopub.execute_input": "2025-05-08T03:56:29.511217Z",
     "iopub.status.busy": "2025-05-08T03:56:29.510938Z",
     "iopub.status.idle": "2025-05-08T03:56:29.522905Z",
     "shell.execute_reply": "2025-05-08T03:56:29.522243Z"
    },
    "papermill": {
     "duration": 0.031781,
     "end_time": "2025-05-08T03:56:29.524153",
     "exception": false,
     "start_time": "2025-05-08T03:56:29.492372",
     "status": "completed"
    },
    "tags": []
   },
   "outputs": [
    {
     "data": {
      "text/html": [
       "<div>\n",
       "<style scoped>\n",
       "    .dataframe tbody tr th:only-of-type {\n",
       "        vertical-align: middle;\n",
       "    }\n",
       "\n",
       "    .dataframe tbody tr th {\n",
       "        vertical-align: top;\n",
       "    }\n",
       "\n",
       "    .dataframe thead th {\n",
       "        text-align: right;\n",
       "    }\n",
       "</style>\n",
       "<table border=\"1\" class=\"dataframe\">\n",
       "  <thead>\n",
       "    <tr style=\"text-align: right;\">\n",
       "      <th></th>\n",
       "      <th>Username</th>\n",
       "      <th>Gender</th>\n",
       "    </tr>\n",
       "  </thead>\n",
       "  <tbody>\n",
       "    <tr>\n",
       "      <th>0</th>\n",
       "      <td>CuriosityKilledShawn</td>\n",
       "      <td>Male</td>\n",
       "    </tr>\n",
       "    <tr>\n",
       "      <th>1</th>\n",
       "      <td>ma-cortes</td>\n",
       "      <td>Female</td>\n",
       "    </tr>\n",
       "    <tr>\n",
       "      <th>2</th>\n",
       "      <td>redkiwi</td>\n",
       "      <td>Female</td>\n",
       "    </tr>\n",
       "    <tr>\n",
       "      <th>3</th>\n",
       "      <td>KUAlum26</td>\n",
       "      <td>Male</td>\n",
       "    </tr>\n",
       "    <tr>\n",
       "      <th>4</th>\n",
       "      <td>au_law2001</td>\n",
       "      <td>Male</td>\n",
       "    </tr>\n",
       "    <tr>\n",
       "      <th>...</th>\n",
       "      <td>...</td>\n",
       "      <td>...</td>\n",
       "    </tr>\n",
       "    <tr>\n",
       "      <th>14143</th>\n",
       "      <td>briner8397</td>\n",
       "      <td>Male</td>\n",
       "    </tr>\n",
       "    <tr>\n",
       "      <th>14144</th>\n",
       "      <td>TeenVamp</td>\n",
       "      <td>Male</td>\n",
       "    </tr>\n",
       "    <tr>\n",
       "      <th>14145</th>\n",
       "      <td>mathomas-28053</td>\n",
       "      <td>Male</td>\n",
       "    </tr>\n",
       "    <tr>\n",
       "      <th>14146</th>\n",
       "      <td>WolfGoddess77</td>\n",
       "      <td>Male</td>\n",
       "    </tr>\n",
       "    <tr>\n",
       "      <th>14147</th>\n",
       "      <td>RHPSvegas</td>\n",
       "      <td>Male</td>\n",
       "    </tr>\n",
       "  </tbody>\n",
       "</table>\n",
       "<p>14148 rows × 2 columns</p>\n",
       "</div>"
      ],
      "text/plain": [
       "                   Username  Gender\n",
       "0      CuriosityKilledShawn    Male\n",
       "1                 ma-cortes  Female\n",
       "2                   redkiwi  Female\n",
       "3                  KUAlum26    Male\n",
       "4                au_law2001    Male\n",
       "...                     ...     ...\n",
       "14143            briner8397    Male\n",
       "14144              TeenVamp    Male\n",
       "14145        mathomas-28053    Male\n",
       "14146         WolfGoddess77    Male\n",
       "14147             RHPSvegas    Male\n",
       "\n",
       "[14148 rows x 2 columns]"
      ]
     },
     "execution_count": 26,
     "metadata": {},
     "output_type": "execute_result"
    }
   ],
   "source": [
    "user_df = pd.DataFrame(list_usernames, columns=[\"Username\"])\n",
    "np.random.seed(42)\n",
    "user_df[\"Gender\"] = np.random.choice([\"Male\", \"Female\"], size=len(user_df), p=[0.7, 0.3])\n",
    "user_df"
   ]
  },
  {
   "cell_type": "markdown",
   "id": "a36b69ba",
   "metadata": {
    "papermill": {
     "duration": 0.016664,
     "end_time": "2025-05-08T03:56:29.558526",
     "exception": false,
     "start_time": "2025-05-08T03:56:29.541862",
     "status": "completed"
    },
    "tags": []
   },
   "source": [
    "Visual Age"
   ]
  },
  {
   "cell_type": "markdown",
   "id": "cf2fa628",
   "metadata": {
    "papermill": {
     "duration": 0.016517,
     "end_time": "2025-05-08T03:56:29.591959",
     "exception": false,
     "start_time": "2025-05-08T03:56:29.575442",
     "status": "completed"
    },
    "tags": []
   },
   "source": [
    "* 1:  \"Under 18\"\n",
    "* 18:  \"18-24\"\n",
    "* 25:  \"25-34\"\n",
    "* 35:  \"35-44\"\n",
    "* 45:  \"45-49\"\n",
    "* 50:  \"50-55\"\n",
    "* 56:  \"56+\""
   ]
  },
  {
   "cell_type": "code",
   "execution_count": 27,
   "id": "2fe6d0bb",
   "metadata": {
    "execution": {
     "iopub.execute_input": "2025-05-08T03:56:29.628761Z",
     "iopub.status.busy": "2025-05-08T03:56:29.628111Z",
     "iopub.status.idle": "2025-05-08T03:56:29.638550Z",
     "shell.execute_reply": "2025-05-08T03:56:29.637623Z"
    },
    "papermill": {
     "duration": 0.030582,
     "end_time": "2025-05-08T03:56:29.639827",
     "exception": false,
     "start_time": "2025-05-08T03:56:29.609245",
     "status": "completed"
    },
    "tags": []
   },
   "outputs": [
    {
     "name": "stdout",
     "output_type": "stream",
     "text": [
      "                   Username  Gender  Age\n",
      "0      CuriosityKilledShawn    Male   25\n",
      "1                 ma-cortes  Female   56\n",
      "2                   redkiwi  Female   35\n",
      "3                  KUAlum26    Male   35\n",
      "4                au_law2001    Male   18\n",
      "...                     ...     ...  ...\n",
      "14143            briner8397    Male   25\n",
      "14144              TeenVamp    Male   25\n",
      "14145        mathomas-28053    Male   35\n",
      "14146         WolfGoddess77    Male   35\n",
      "14147             RHPSvegas    Male   25\n",
      "\n",
      "[14148 rows x 3 columns]\n",
      "\n",
      "Age Proportions (%):\n",
      " Age\n",
      "25    35.100368\n",
      "35    19.402036\n",
      "18    18.688154\n",
      "45     8.785694\n",
      "50     8.078880\n",
      "56     6.325982\n",
      "1      3.618886\n",
      "Name: proportion, dtype: float64\n"
     ]
    }
   ],
   "source": [
    "age_values = [ 1, 18, 25, 35, 45, 50, 56]\n",
    "age_probs  = [ 222, 1103, 2096, 1193,  550,  496,  380]\n",
    "age_probs = [p / sum(age_probs) for p in age_probs]  # chuyển về tỷ lệ\n",
    "\n",
    "# Random tuổi theo phân phối\n",
    "np.random.seed(42)\n",
    "user_df['Age'] = np.random.choice(age_values, size=len(user_df), p=age_probs)\n",
    "\n",
    "print(user_df)\n",
    "age_proportions = user_df['Age'].value_counts(normalize=True) * 100\n",
    "print(\"\\nAge Proportions (%):\\n\", age_proportions)"
   ]
  },
  {
   "cell_type": "markdown",
   "id": "4acde9f6",
   "metadata": {
    "papermill": {
     "duration": 0.018641,
     "end_time": "2025-05-08T03:56:29.676924",
     "exception": false,
     "start_time": "2025-05-08T03:56:29.658283",
     "status": "completed"
    },
    "tags": []
   },
   "source": [
    "Visual Occupation"
   ]
  },
  {
   "cell_type": "markdown",
   "id": "5caa7467",
   "metadata": {
    "papermill": {
     "duration": 0.0181,
     "end_time": "2025-05-08T03:56:29.713694",
     "exception": false,
     "start_time": "2025-05-08T03:56:29.695594",
     "status": "completed"
    },
    "tags": []
   },
   "source": [
    "*  0:  \"other\" or not specified\n",
    "*  1:  \"academic/educator\"\n",
    "*  2:  \"artist\"\n",
    "*  3:  \"clerical/admin\"\n",
    "*  4:  \"college/grad student\"\n",
    "*  5:  \"customer service\"\n",
    "*  6:  \"doctor/health care\"\n",
    "*  7:  \"executive/managerial\"\n",
    "*  8:  \"farmer\"\n",
    "*  9:  \"homemaker\"\n",
    "* 10:  \"K-12 student\"\n",
    "* 11:  \"lawyer\"\n",
    "* 12:  \"programmer\"\n",
    "* 13:  \"retired\"\n",
    "* 14:  \"sales/marketing\"\n",
    "* 15:  \"scientist\"\n",
    "* 16:  \"self-employed\"\n",
    "* 17:  \"technician/engineer\"\n",
    "* 18:  \"tradesman/craftsman\"\n",
    "* 19:  \"unemployed\"\n",
    "* 20:  \"writer\""
   ]
  },
  {
   "cell_type": "code",
   "execution_count": 28,
   "id": "aa3d5b02",
   "metadata": {
    "execution": {
     "iopub.execute_input": "2025-05-08T03:56:29.751418Z",
     "iopub.status.busy": "2025-05-08T03:56:29.750778Z",
     "iopub.status.idle": "2025-05-08T03:56:29.774593Z",
     "shell.execute_reply": "2025-05-08T03:56:29.773365Z"
    },
    "papermill": {
     "duration": 0.044666,
     "end_time": "2025-05-08T03:56:29.776520",
     "exception": false,
     "start_time": "2025-05-08T03:56:29.731854",
     "status": "completed"
    },
    "tags": []
   },
   "outputs": [
    {
     "name": "stdout",
     "output_type": "stream",
     "text": [
      "\n",
      "Occupation Proportions (%):\n",
      " Occupation\n",
      "4     12.750919\n",
      "0     11.923947\n",
      "7     11.301951\n",
      "1      8.630195\n",
      "17     8.616059\n",
      "12     6.516822\n",
      "14     4.891151\n",
      "20     4.580153\n",
      "2      4.283291\n",
      "6      3.845066\n",
      "16     3.830930\n",
      "10     3.102912\n",
      "3      2.876732\n",
      "13     2.431439\n",
      "15     2.254736\n",
      "5      2.007351\n",
      "11     1.865988\n",
      "9      1.653944\n",
      "19     1.208651\n",
      "18     1.109697\n",
      "8      0.318066\n",
      "Name: proportion, dtype: float64\n",
      "               Username  Gender  Age  Occupation\n",
      "0  CuriosityKilledShawn    Male   25          16\n",
      "1             ma-cortes  Female   56          15\n",
      "2               redkiwi  Female   35          12\n",
      "3              KUAlum26    Male   35           3\n",
      "4            au_law2001    Male   18           0\n"
     ]
    }
   ],
   "source": [
    "np.random.seed(42)\n",
    "\n",
    "user_df['Occupation'] = -1\n",
    "\n",
    "age_distribution = {\n",
    "    '<18': {10: 163, 0: 27, 19: 12, 1: 4, 2: 3, 4: 3, 17: 2, 14: 2, 7: 2, 8: 1, 13: 1, 12: 1, 11: 1}, \n",
    "    '18-56': {4: 756, 0: 651, 7: 638, 17: 478, 1: 469, 12: 380, 14: 285, 20: 270, 2: 252, 16: 217, 6: 215, 3: 161, 15: 137, 11: 122, 5: 111, 9: 88, 18: 67, 19: 58, 13: 39, 10: 31, 8: 13}, \n",
    "    '>56': {13: 102, 1: 55, 7: 39, 0: 33, 16: 24, 17: 22, 6: 21, 14: 15, 3: 12, 2: 12, 20: 11, 12: 7, 15: 7, 11: 6, 9: 4, 18: 3, 8: 3, 19: 2, 5: 1, 10: 1}\n",
    "}\n",
    "\n",
    "\n",
    "\n",
    "\n",
    "\n",
    "under18_probs = np.array(list(age_distribution[\"<18\"].values()))\n",
    "under18_probs = under18_probs / under18_probs.sum()\n",
    "\n",
    "over56_probs = np.array(list(age_distribution[\">56\"].values()))\n",
    "over56_probs = over56_probs / over56_probs.sum()\n",
    "\n",
    "age18_56_probs = np.array(list(age_distribution[\"18-56\"].values()))\n",
    "age18_56_probs = age18_56_probs / age18_56_probs.sum()\n",
    "\n",
    "\n",
    "\n",
    "# <18\n",
    "age_under18_idx = user_df[user_df['Age'] == 1].index\n",
    "under18_choices = list(age_distribution[\"<18\"].keys())\n",
    "user_df.loc[age_under18_idx, 'Occupation'] = np.random.choice(\n",
    "    under18_choices, size=len(age_under18_idx), p=under18_probs\n",
    ")\n",
    "\n",
    "\n",
    "\n",
    "\n",
    "# 56+\n",
    "age_over56_idx = user_df[user_df['Age'] == 56].index\n",
    "over56_choices = list(age_distribution[\">56\"].keys())\n",
    "user_df.loc[age_over56_idx, 'Occupation'] = np.random.choice(\n",
    "    over56_choices, size=len(age_over56_idx), p=over56_probs\n",
    ")\n",
    "\n",
    "\n",
    "\n",
    "#18-56\n",
    "age_18_56_idx = user_df[user_df['Age'].isin([18, 25, 35, 45, 50])].index\n",
    "age18_56_choices = list(age_distribution[\"18-56\"].keys())\n",
    "user_df.loc[age_18_56_idx, 'Occupation'] = np.random.choice(\n",
    "    age18_56_choices, size=len(age_18_56_idx), p=age18_56_probs\n",
    ")\n",
    "\n",
    "# Calculate occupation proportions\n",
    "occupation_proportions = user_df['Occupation'].value_counts(normalize=True) * 100\n",
    "print(\"\\nOccupation Proportions (%):\\n\", occupation_proportions)\n",
    "print(user_df.head())"
   ]
  },
  {
   "cell_type": "code",
   "execution_count": 29,
   "id": "70cf4156",
   "metadata": {
    "execution": {
     "iopub.execute_input": "2025-05-08T03:56:29.815893Z",
     "iopub.status.busy": "2025-05-08T03:56:29.815053Z",
     "iopub.status.idle": "2025-05-08T03:56:30.014020Z",
     "shell.execute_reply": "2025-05-08T03:56:30.013014Z"
    },
    "papermill": {
     "duration": 0.219571,
     "end_time": "2025-05-08T03:56:30.015555",
     "exception": false,
     "start_time": "2025-05-08T03:56:29.795984",
     "status": "completed"
    },
    "tags": []
   },
   "outputs": [
    {
     "name": "stdout",
     "output_type": "stream",
     "text": [
      "test index:  0\n",
      "numuser:  14148\n",
      "Example for briner8397:  [14143, 14149, 14152, 14158]\n"
     ]
    }
   ],
   "source": [
    "user_index_by_username = {username: idx for idx, username in enumerate(list_usernames)}\n",
    "print(\"test index: \", user_index_by_username['CuriosityKilledShawn'])\n",
    "gender_index_by_name = {\"Female\":0, \"Male\": 1}\n",
    "age_index_by_name = {1: 0, 18: 1, 25: 2, 35:3, 45: 4, 50: 5, 56:6}\n",
    "occupations = list(range(21))\n",
    "occupation_index_by_name = {name: index for index, name in enumerate(occupations)}\n",
    "\n",
    "num_users = len(list_usernames)\n",
    "print(\"numuser: \",num_users)\n",
    "gender_offset = num_users\n",
    "age_offset = gender_offset + len(gender_index_by_name)\n",
    "occupation_offset = age_offset + len(age_index_by_name)\n",
    "\n",
    "user_features = []\n",
    "\n",
    "for index in range(num_users):\n",
    "    gender_index = gender_index_by_name[user_df[\"Gender\"][index]] + gender_offset\n",
    "    age_index = age_index_by_name[user_df[\"Age\"][index]] + age_offset\n",
    "    occupation_index = user_df[\"Occupation\"][index] + occupation_offset\n",
    "    user_features.append([index, gender_index, age_index, occupation_index])\n",
    "\n",
    "\n",
    "print(\"Example for briner8397: \", user_features[user_index_by_username[\"briner8397\"]])"
   ]
  },
  {
   "cell_type": "markdown",
   "id": "d3c647f6",
   "metadata": {
    "papermill": {
     "duration": 0.017942,
     "end_time": "2025-05-08T03:56:30.052774",
     "exception": false,
     "start_time": "2025-05-08T03:56:30.034832",
     "status": "completed"
    },
    "tags": []
   },
   "source": [
    "### 2.3.2 Movies"
   ]
  },
  {
   "cell_type": "code",
   "execution_count": 30,
   "id": "a50125c9",
   "metadata": {
    "execution": {
     "iopub.execute_input": "2025-05-08T03:56:30.091090Z",
     "iopub.status.busy": "2025-05-08T03:56:30.090316Z",
     "iopub.status.idle": "2025-05-08T03:56:30.095866Z",
     "shell.execute_reply": "2025-05-08T03:56:30.095153Z"
    },
    "papermill": {
     "duration": 0.025987,
     "end_time": "2025-05-08T03:56:30.097092",
     "exception": false,
     "start_time": "2025-05-08T03:56:30.071105",
     "status": "completed"
    },
    "tags": []
   },
   "outputs": [
    {
     "data": {
      "text/plain": [
       "Index(['ID', 'Title', 'Genres', 'Rating', 'Year', 'Numrate', 'Runtime',\n",
       "       'Image', 'Directors', 'Writers', 'Stars'],\n",
       "      dtype='object')"
      ]
     },
     "execution_count": 30,
     "metadata": {},
     "output_type": "execute_result"
    }
   ],
   "source": [
    "df_movies.columns"
   ]
  },
  {
   "cell_type": "markdown",
   "id": "0bebabb7",
   "metadata": {
    "papermill": {
     "duration": 0.018056,
     "end_time": "2025-05-08T03:56:30.134027",
     "exception": false,
     "start_time": "2025-05-08T03:56:30.115971",
     "status": "completed"
    },
    "tags": []
   },
   "source": [
    "Drop unneeded columns"
   ]
  },
  {
   "cell_type": "code",
   "execution_count": 31,
   "id": "9dd69093",
   "metadata": {
    "execution": {
     "iopub.execute_input": "2025-05-08T03:56:30.171085Z",
     "iopub.status.busy": "2025-05-08T03:56:30.170806Z",
     "iopub.status.idle": "2025-05-08T03:56:30.182029Z",
     "shell.execute_reply": "2025-05-08T03:56:30.181305Z"
    },
    "papermill": {
     "duration": 0.031274,
     "end_time": "2025-05-08T03:56:30.183505",
     "exception": false,
     "start_time": "2025-05-08T03:56:30.152231",
     "status": "completed"
    },
    "tags": []
   },
   "outputs": [
    {
     "data": {
      "text/html": [
       "<div>\n",
       "<style scoped>\n",
       "    .dataframe tbody tr th:only-of-type {\n",
       "        vertical-align: middle;\n",
       "    }\n",
       "\n",
       "    .dataframe tbody tr th {\n",
       "        vertical-align: top;\n",
       "    }\n",
       "\n",
       "    .dataframe thead th {\n",
       "        text-align: right;\n",
       "    }\n",
       "</style>\n",
       "<table border=\"1\" class=\"dataframe\">\n",
       "  <thead>\n",
       "    <tr style=\"text-align: right;\">\n",
       "      <th></th>\n",
       "      <th>ID</th>\n",
       "      <th>Genres</th>\n",
       "      <th>Year</th>\n",
       "      <th>Runtime</th>\n",
       "      <th>Directors</th>\n",
       "      <th>Writers</th>\n",
       "      <th>Stars</th>\n",
       "    </tr>\n",
       "  </thead>\n",
       "  <tbody>\n",
       "    <tr>\n",
       "      <th>0</th>\n",
       "      <td>tt0283530</td>\n",
       "      <td>Drama</td>\n",
       "      <td>2002</td>\n",
       "      <td>109</td>\n",
       "      <td>Michael Hoffman</td>\n",
       "      <td>Ethan Canin, Neil Tolkin</td>\n",
       "      <td>Kevin Kline, Emile Hirsch, Joel Gretsch</td>\n",
       "    </tr>\n",
       "  </tbody>\n",
       "</table>\n",
       "</div>"
      ],
      "text/plain": [
       "          ID Genres  Year  Runtime        Directors                   Writers  \\\n",
       "0  tt0283530  Drama  2002      109  Michael Hoffman  Ethan Canin, Neil Tolkin   \n",
       "\n",
       "                                     Stars  \n",
       "0  Kevin Kline, Emile Hirsch, Joel Gretsch  "
      ]
     },
     "execution_count": 31,
     "metadata": {},
     "output_type": "execute_result"
    }
   ],
   "source": [
    "df_movies = df_movies.drop(['Title', 'Rating', 'Image', 'Numrate'], axis = 1)\n",
    "df_movies.head(1)"
   ]
  },
  {
   "cell_type": "code",
   "execution_count": 32,
   "id": "a6dc00fb",
   "metadata": {
    "execution": {
     "iopub.execute_input": "2025-05-08T03:56:30.224230Z",
     "iopub.status.busy": "2025-05-08T03:56:30.223413Z",
     "iopub.status.idle": "2025-05-08T03:56:30.230335Z",
     "shell.execute_reply": "2025-05-08T03:56:30.229478Z"
    },
    "papermill": {
     "duration": 0.028707,
     "end_time": "2025-05-08T03:56:30.231669",
     "exception": false,
     "start_time": "2025-05-08T03:56:30.202962",
     "status": "completed"
    },
    "tags": []
   },
   "outputs": [
    {
     "name": "stdout",
     "output_type": "stream",
     "text": [
      "Ví dụ ánh xạ MovieID với index: 0\n"
     ]
    }
   ],
   "source": [
    "movie_index_by_id = {movie_id: idx for idx, movie_id in enumerate(df_movies['ID'])}\n",
    "\n",
    "print(\"Ví dụ ánh xạ MovieID với index:\", movie_index_by_id['tt0283530'])"
   ]
  },
  {
   "cell_type": "markdown",
   "id": "6217e3c9",
   "metadata": {
    "papermill": {
     "duration": 0.019272,
     "end_time": "2025-05-08T03:56:30.270874",
     "exception": false,
     "start_time": "2025-05-08T03:56:30.251602",
     "status": "completed"
    },
    "tags": []
   },
   "source": [
    "**Genres**"
   ]
  },
  {
   "cell_type": "markdown",
   "id": "8c4c228b",
   "metadata": {
    "papermill": {
     "duration": 0.018364,
     "end_time": "2025-05-08T03:56:30.308097",
     "exception": false,
     "start_time": "2025-05-08T03:56:30.289733",
     "status": "completed"
    },
    "tags": []
   },
   "source": [
    "Clean and Onehot encoding"
   ]
  },
  {
   "cell_type": "code",
   "execution_count": 33,
   "id": "d4a50d19",
   "metadata": {
    "execution": {
     "iopub.execute_input": "2025-05-08T03:56:30.345496Z",
     "iopub.status.busy": "2025-05-08T03:56:30.345185Z",
     "iopub.status.idle": "2025-05-08T03:56:30.365301Z",
     "shell.execute_reply": "2025-05-08T03:56:30.364576Z"
    },
    "papermill": {
     "duration": 0.040479,
     "end_time": "2025-05-08T03:56:30.366605",
     "exception": false,
     "start_time": "2025-05-08T03:56:30.326126",
     "status": "completed"
    },
    "tags": []
   },
   "outputs": [
    {
     "data": {
      "text/plain": [
       "0                                               [drama]\n",
       "1                              [drama, horror, mystery]\n",
       "2                                       [comedy, drama]\n",
       "3      [zombie horror, drama, horror, sci-fi, thriller]\n",
       "4                                    [biography, drama]\n",
       "                            ...                        \n",
       "95    [psychological thriller, road trip, drama, mys...\n",
       "96                   [slasher horror, horror, thriller]\n",
       "97    [coming-of-age, feel-good romance, comedy, dra...\n",
       "98                 [coming-of-age, period drama, drama]\n",
       "99                                    [comedy, romance]\n",
       "Name: Genres, Length: 100, dtype: object"
      ]
     },
     "execution_count": 33,
     "metadata": {},
     "output_type": "execute_result"
    }
   ],
   "source": [
    "df_movies['Genres'] = df_movies['Genres'].apply(lambda x: [g.strip().lower() for g in x.split(',')])\n",
    "df_movies['Genres'].head(100)"
   ]
  },
  {
   "cell_type": "code",
   "execution_count": 34,
   "id": "d07be7bc",
   "metadata": {
    "execution": {
     "iopub.execute_input": "2025-05-08T03:56:30.406303Z",
     "iopub.status.busy": "2025-05-08T03:56:30.405999Z",
     "iopub.status.idle": "2025-05-08T03:56:30.421148Z",
     "shell.execute_reply": "2025-05-08T03:56:30.420469Z"
    },
    "papermill": {
     "duration": 0.03689,
     "end_time": "2025-05-08T03:56:30.422459",
     "exception": false,
     "start_time": "2025-05-08T03:56:30.385569",
     "status": "completed"
    },
    "tags": []
   },
   "outputs": [
    {
     "data": {
      "text/plain": [
       "183"
      ]
     },
     "execution_count": 34,
     "metadata": {},
     "output_type": "execute_result"
    }
   ],
   "source": [
    "genre_counter = Counter()\n",
    "for genre_list in df_movies['Genres']:\n",
    "    for genre in genre_list:\n",
    "        genre_counter[genre] += 1\n",
    "len(genre_counter)"
   ]
  },
  {
   "cell_type": "code",
   "execution_count": 35,
   "id": "22a053fb",
   "metadata": {
    "execution": {
     "iopub.execute_input": "2025-05-08T03:56:30.461733Z",
     "iopub.status.busy": "2025-05-08T03:56:30.461389Z",
     "iopub.status.idle": "2025-05-08T03:56:30.466415Z",
     "shell.execute_reply": "2025-05-08T03:56:30.465579Z"
    },
    "papermill": {
     "duration": 0.025578,
     "end_time": "2025-05-08T03:56:30.467765",
     "exception": false,
     "start_time": "2025-05-08T03:56:30.442187",
     "status": "completed"
    },
    "tags": []
   },
   "outputs": [
    {
     "name": "stdout",
     "output_type": "stream",
     "text": [
      "Thể loại hiếm: {'classical western', 'iyashikei', 'romantic epic', 'hard-boiled detective', 'news', 'soccer', 'shōnen', 'political documentary', 'shōjo', 'mountain adventure', 'cozy mystery', 'science & technology documentary', 'nature documentary', 'screwball comedy', 'holiday animation', 'travel documentary', 'rock musical', 'seinen', 'holiday family', 'slice of life', 'isekai', 'history documentary', 'motorsport', 'b-action', 'financial drama', 'werewolf horror', 'baseball', 'kung fu', 'mockumentary', 'boxing', 'samurai', 'body swap comedy', 'sports documentary', 'giallo', 'music documentary', 'contemporary western', 'sketch comedy', 'concert', 'witch horror', 'basketball', 'military documentary', 'wuxia', 'stand-up', 'mecha', 'water sport', 'bumbling detective', 'food documentary', 'extreme sport', 'western epic', 'korean drama', 'faith & spirituality documentary', 'medical drama'}\n"
     ]
    }
   ],
   "source": [
    "rare_genres = {genre for genre, count in genre_counter.items() if count < 20}\n",
    "print(\"Thể loại hiếm:\", rare_genres)"
   ]
  },
  {
   "cell_type": "code",
   "execution_count": 36,
   "id": "db3fcd8f",
   "metadata": {
    "execution": {
     "iopub.execute_input": "2025-05-08T03:56:30.506998Z",
     "iopub.status.busy": "2025-05-08T03:56:30.506696Z",
     "iopub.status.idle": "2025-05-08T03:56:30.525387Z",
     "shell.execute_reply": "2025-05-08T03:56:30.524490Z"
    },
    "papermill": {
     "duration": 0.040086,
     "end_time": "2025-05-08T03:56:30.526774",
     "exception": false,
     "start_time": "2025-05-08T03:56:30.486688",
     "status": "completed"
    },
    "tags": []
   },
   "outputs": [
    {
     "name": "stdout",
     "output_type": "stream",
     "text": [
      "0                                              [drama]\n",
      "1                             [drama, horror, mystery]\n",
      "2                                      [comedy, drama]\n",
      "3     [drama, horror, sci-fi, thriller, zombie horror]\n",
      "4                                   [biography, drama]\n",
      "5                                   [action, thriller]\n",
      "6    [crime, dark comedy, horror, psychological thr...\n",
      "7    [adventure, comedy, family, fantasy, road trip...\n",
      "8                   [comedy, romance, romantic comedy]\n",
      "9                                       [drama, music]\n",
      "Name: Genres, dtype: object\n"
     ]
    }
   ],
   "source": [
    "def replace_rare_genres(genre_list):\n",
    "    new_list = []\n",
    "    for genre in genre_list:\n",
    "        if genre in rare_genres: \n",
    "            new_list.append('other')\n",
    "        else:\n",
    "            new_list.append(genre)\n",
    "    return sorted(set(new_list))  # Loại bỏ trùng lặp và sắp xếp lại\n",
    "\n",
    "df_movies['Genres'] = df_movies['Genres'].apply(replace_rare_genres)\n",
    "print(df_movies['Genres'].head(10))"
   ]
  },
  {
   "cell_type": "code",
   "execution_count": 37,
   "id": "6b61271a",
   "metadata": {
    "execution": {
     "iopub.execute_input": "2025-05-08T03:56:30.566097Z",
     "iopub.status.busy": "2025-05-08T03:56:30.565810Z",
     "iopub.status.idle": "2025-05-08T03:56:30.573476Z",
     "shell.execute_reply": "2025-05-08T03:56:30.572657Z"
    },
    "papermill": {
     "duration": 0.028638,
     "end_time": "2025-05-08T03:56:30.574718",
     "exception": false,
     "start_time": "2025-05-08T03:56:30.546080",
     "status": "completed"
    },
    "tags": []
   },
   "outputs": [
    {
     "name": "stdout",
     "output_type": "stream",
     "text": [
      "Genre Index Mapping: {'action': 0, 'action epic': 1, 'adult animation': 2, 'adventure': 3, 'adventure epic': 4, 'alien invasion': 5, 'animal adventure': 6, 'animation': 7, 'anime': 8, 'artificial intelligence': 9, 'b-horror': 10, 'biography': 11, 'body horror': 12, 'buddy comedy': 13, 'buddy cop': 14, 'caper': 15, 'car action': 16, 'comedy': 17, 'coming-of-age': 18, 'computer animation': 19, 'conspiracy thriller': 20, 'cop drama': 21, 'costume drama': 22, 'crime': 23, 'crime documentary': 24, 'cyber thriller': 25, 'cyberpunk': 26, 'dark comedy': 27, 'dark fantasy': 28, 'dark romance': 29, 'desert adventure': 30, 'dinosaur adventure': 31, 'disaster': 32, 'docudrama': 33, 'documentary': 34, 'drama': 35, 'drug crime': 36, 'dystopian sci-fi': 37, 'epic': 38, 'erotic thriller': 39, 'fairy tale': 40, 'family': 41, 'fantasy': 42, 'fantasy epic': 43, 'farce': 44, 'feel-good romance': 45, 'folk horror': 46, 'football': 47, 'found footage horror': 48, 'gangster': 49, 'globetrotting adventure': 50, 'gun fu': 51, 'hand-drawn animation': 52, 'heist': 53, 'high-concept comedy': 54, 'historical epic': 55, 'history': 56, 'holiday': 57, 'holiday comedy': 58, 'holiday romance': 59, 'horror': 60, 'jukebox musical': 61, 'jungle adventure': 62, 'kaiju': 63, 'legal drama': 64, 'legal thriller': 65, 'martial arts': 66, 'monster horror': 67, 'music': 68, 'musical': 69, 'mystery': 70, 'one-person army action': 71, 'other': 72, 'parody': 73, 'period drama': 74, 'police procedural': 75, 'political drama': 76, 'political thriller': 77, 'pop musical': 78, 'prison drama': 79, 'psychological drama': 80, 'psychological horror': 81, 'psychological thriller': 82, 'quest': 83, 'quirky comedy': 84, 'raunchy comedy': 85, 'road trip': 86, 'romance': 87, 'romantic comedy': 88, 'satire': 89, 'sci-fi': 90, 'sci-fi epic': 91, 'sea adventure': 92, 'serial killer': 93, 'showbiz drama': 94, 'slapstick': 95, 'slasher horror': 96, 'space sci-fi': 97, 'splatter horror': 98, 'sport': 99, 'spy': 100, 'steampunk': 101, 'steamy romance': 102, 'stoner comedy': 103, 'stop motion animation': 104, 'superhero': 105, 'supernatural fantasy': 106, 'supernatural horror': 107, 'survival': 108, 'suspense mystery': 109, 'swashbuckler': 110, 'sword & sandal': 111, 'sword & sorcery': 112, 'teen adventure': 113, 'teen comedy': 114, 'teen drama': 115, 'teen fantasy': 116, 'teen horror': 117, 'teen romance': 118, 'thriller': 119, 'time travel': 120, 'tragedy': 121, 'tragic romance': 122, 'true crime': 123, 'urban adventure': 124, 'vampire horror': 125, 'war': 126, 'war epic': 127, 'western': 128, 'whodunnit': 129, 'workplace drama': 130, 'zombie horror': 131}\n"
     ]
    }
   ],
   "source": [
    "# Danh sách tất cả các thể loại duy nhất (bao gồm cả 'other')\n",
    "all_genres = set()\n",
    "for genre_list in df_movies['Genres']:\n",
    "    all_genres.update(genre_list)\n",
    "\n",
    "# Sắp xếp và tạo ra chỉ số cho từng thể loại\n",
    "genre_index_by_name = {genre: idx for idx, genre in enumerate(sorted(all_genres))}\n",
    "\n",
    "# In ra genre_index_by_name để kiểm tra\n",
    "print(\"Genre Index Mapping:\", genre_index_by_name)\n"
   ]
  },
  {
   "cell_type": "markdown",
   "id": "90b71f54",
   "metadata": {
    "papermill": {
     "duration": 0.01883,
     "end_time": "2025-05-08T03:56:30.612925",
     "exception": false,
     "start_time": "2025-05-08T03:56:30.594095",
     "status": "completed"
    },
    "tags": []
   },
   "source": [
    "**Year**"
   ]
  },
  {
   "cell_type": "code",
   "execution_count": 38,
   "id": "933b7f7f",
   "metadata": {
    "execution": {
     "iopub.execute_input": "2025-05-08T03:56:30.654797Z",
     "iopub.status.busy": "2025-05-08T03:56:30.653987Z",
     "iopub.status.idle": "2025-05-08T03:56:30.674188Z",
     "shell.execute_reply": "2025-05-08T03:56:30.673559Z"
    },
    "papermill": {
     "duration": 0.042297,
     "end_time": "2025-05-08T03:56:30.675419",
     "exception": false,
     "start_time": "2025-05-08T03:56:30.633122",
     "status": "completed"
    },
    "tags": []
   },
   "outputs": [
    {
     "name": "stdout",
     "output_type": "stream",
     "text": [
      "          ID  Year  Year_Group\n",
      "0  tt0283530  2002        2000\n",
      "1  tt6859762  2018        2015\n",
      "2  tt1196204  2010        2010\n",
      "3  tt3463106  2017        2015\n",
      "4  tt1023490  2008        2005\n",
      "5  tt1547234  2012        2010\n",
      "6  tt0804516  2007        2005\n",
      "7  tt0131704  2000        2000\n",
      "8  tt0261289  2002        2000\n",
      "9  tt0365957  2004        2000\n"
     ]
    },
    {
     "data": {
      "text/html": [
       "<div>\n",
       "<style scoped>\n",
       "    .dataframe tbody tr th:only-of-type {\n",
       "        vertical-align: middle;\n",
       "    }\n",
       "\n",
       "    .dataframe tbody tr th {\n",
       "        vertical-align: top;\n",
       "    }\n",
       "\n",
       "    .dataframe thead th {\n",
       "        text-align: right;\n",
       "    }\n",
       "</style>\n",
       "<table border=\"1\" class=\"dataframe\">\n",
       "  <thead>\n",
       "    <tr style=\"text-align: right;\">\n",
       "      <th></th>\n",
       "      <th>ID</th>\n",
       "      <th>Genres</th>\n",
       "      <th>Runtime</th>\n",
       "      <th>Directors</th>\n",
       "      <th>Writers</th>\n",
       "      <th>Stars</th>\n",
       "      <th>Year_Group</th>\n",
       "    </tr>\n",
       "  </thead>\n",
       "  <tbody>\n",
       "    <tr>\n",
       "      <th>0</th>\n",
       "      <td>tt0283530</td>\n",
       "      <td>[drama]</td>\n",
       "      <td>109</td>\n",
       "      <td>Michael Hoffman</td>\n",
       "      <td>Ethan Canin, Neil Tolkin</td>\n",
       "      <td>Kevin Kline, Emile Hirsch, Joel Gretsch</td>\n",
       "      <td>2000</td>\n",
       "    </tr>\n",
       "  </tbody>\n",
       "</table>\n",
       "</div>"
      ],
      "text/plain": [
       "          ID   Genres  Runtime        Directors                   Writers  \\\n",
       "0  tt0283530  [drama]      109  Michael Hoffman  Ethan Canin, Neil Tolkin   \n",
       "\n",
       "                                     Stars  Year_Group  \n",
       "0  Kevin Kline, Emile Hirsch, Joel Gretsch        2000  "
      ]
     },
     "execution_count": 38,
     "metadata": {},
     "output_type": "execute_result"
    }
   ],
   "source": [
    "def group_years(year):\n",
    "    return (year // 5) * 5\n",
    "\n",
    "df_movies['Year_Group'] = df_movies['Year'].apply(group_years)\n",
    "\n",
    "print(df_movies[['ID', 'Year', 'Year_Group']].head(10))\n",
    "df_movies.drop(['Year'], axis = 1, inplace = True)\n",
    "df_movies.head(1)"
   ]
  },
  {
   "cell_type": "code",
   "execution_count": 39,
   "id": "38d766df",
   "metadata": {
    "execution": {
     "iopub.execute_input": "2025-05-08T03:56:30.716317Z",
     "iopub.status.busy": "2025-05-08T03:56:30.716019Z",
     "iopub.status.idle": "2025-05-08T03:56:30.722035Z",
     "shell.execute_reply": "2025-05-08T03:56:30.720991Z"
    },
    "papermill": {
     "duration": 0.028212,
     "end_time": "2025-05-08T03:56:30.723485",
     "exception": false,
     "start_time": "2025-05-08T03:56:30.695273",
     "status": "completed"
    },
    "tags": []
   },
   "outputs": [
    {
     "name": "stdout",
     "output_type": "stream",
     "text": [
      "Year Group Index Mapping: {2000: 0, 2005: 1, 2010: 2, 2015: 3, 2020: 4}\n"
     ]
    }
   ],
   "source": [
    "# Lấy tất cả các nhóm năm (Year_Group) duy nhất\n",
    "year_groups = df_movies['Year_Group'].unique()\n",
    "\n",
    "# Tạo từ điển ánh xạ từ nhóm năm sang chỉ số\n",
    "year_index_by_group = {year_group: idx for idx, year_group in enumerate(sorted(year_groups))}\n",
    "\n",
    "# In ra year_index_by_group để kiểm tra\n",
    "print(\"Year Group Index Mapping:\", year_index_by_group)"
   ]
  },
  {
   "cell_type": "markdown",
   "id": "86dae576",
   "metadata": {
    "papermill": {
     "duration": 0.020089,
     "end_time": "2025-05-08T03:56:30.764151",
     "exception": false,
     "start_time": "2025-05-08T03:56:30.744062",
     "status": "completed"
    },
    "tags": []
   },
   "source": [
    "**Runtime**"
   ]
  },
  {
   "cell_type": "code",
   "execution_count": 40,
   "id": "19dea13b",
   "metadata": {
    "execution": {
     "iopub.execute_input": "2025-05-08T03:56:30.803875Z",
     "iopub.status.busy": "2025-05-08T03:56:30.803228Z",
     "iopub.status.idle": "2025-05-08T03:56:31.115806Z",
     "shell.execute_reply": "2025-05-08T03:56:31.114973Z"
    },
    "papermill": {
     "duration": 0.333406,
     "end_time": "2025-05-08T03:56:31.117611",
     "exception": false,
     "start_time": "2025-05-08T03:56:30.784205",
     "status": "completed"
    },
    "tags": []
   },
   "outputs": [
    {
     "name": "stderr",
     "output_type": "stream",
     "text": [
      "/usr/local/lib/python3.11/dist-packages/seaborn/_oldcore.py:1119: FutureWarning: use_inf_as_na option is deprecated and will be removed in a future version. Convert inf values to NaN before operating instead.\n",
      "  with pd.option_context('mode.use_inf_as_na', True):\n"
     ]
    },
    {
     "data": {
      "image/png": "[encoded data removed]",
      "text/plain": [
       "<Figure size 1000x600 with 1 Axes>"
      ]
     },
     "metadata": {},
     "output_type": "display_data"
    }
   ],
   "source": [
    "plt.figure(figsize=(10, 6))\n",
    "sns.histplot(data=df_movies, x='Runtime', bins=30, kde=True, color='salmon')\n",
    "plt.title('Phân phối thời lượng phim')\n",
    "plt.xlabel('Thời lượng (phút)')\n",
    "plt.ylabel('Số lượng phim')\n",
    "plt.grid(True)\n",
    "plt.show()"
   ]
  },
  {
   "cell_type": "code",
   "execution_count": 41,
   "id": "d0d89e3c",
   "metadata": {
    "execution": {
     "iopub.execute_input": "2025-05-08T03:56:31.159506Z",
     "iopub.status.busy": "2025-05-08T03:56:31.158742Z",
     "iopub.status.idle": "2025-05-08T03:56:31.167791Z",
     "shell.execute_reply": "2025-05-08T03:56:31.167008Z"
    },
    "papermill": {
     "duration": 0.030855,
     "end_time": "2025-05-08T03:56:31.169065",
     "exception": false,
     "start_time": "2025-05-08T03:56:31.138210",
     "status": "completed"
    },
    "tags": []
   },
   "outputs": [
    {
     "data": {
      "text/plain": [
       "count    6675.000000\n",
       "mean      107.705768\n",
       "std        19.327470\n",
       "min        47.000000\n",
       "25%        94.000000\n",
       "50%       104.000000\n",
       "75%       117.000000\n",
       "max       467.000000\n",
       "Name: Runtime, dtype: float64"
      ]
     },
     "execution_count": 41,
     "metadata": {},
     "output_type": "execute_result"
    }
   ],
   "source": [
    "df_movies['Runtime'].describe()"
   ]
  },
  {
   "cell_type": "code",
   "execution_count": 42,
   "id": "a96d1b4c",
   "metadata": {
    "execution": {
     "iopub.execute_input": "2025-05-08T03:56:31.209744Z",
     "iopub.status.busy": "2025-05-08T03:56:31.209393Z",
     "iopub.status.idle": "2025-05-08T03:56:31.225684Z",
     "shell.execute_reply": "2025-05-08T03:56:31.224747Z"
    },
    "papermill": {
     "duration": 0.038351,
     "end_time": "2025-05-08T03:56:31.227037",
     "exception": false,
     "start_time": "2025-05-08T03:56:31.188686",
     "status": "completed"
    },
    "tags": []
   },
   "outputs": [
    {
     "data": {
      "text/html": [
       "<div>\n",
       "<style scoped>\n",
       "    .dataframe tbody tr th:only-of-type {\n",
       "        vertical-align: middle;\n",
       "    }\n",
       "\n",
       "    .dataframe tbody tr th {\n",
       "        vertical-align: top;\n",
       "    }\n",
       "\n",
       "    .dataframe thead th {\n",
       "        text-align: right;\n",
       "    }\n",
       "</style>\n",
       "<table border=\"1\" class=\"dataframe\">\n",
       "  <thead>\n",
       "    <tr style=\"text-align: right;\">\n",
       "      <th></th>\n",
       "      <th>ID</th>\n",
       "      <th>Genres</th>\n",
       "      <th>Directors</th>\n",
       "      <th>Writers</th>\n",
       "      <th>Stars</th>\n",
       "      <th>Year_Group</th>\n",
       "      <th>Runtime_group</th>\n",
       "    </tr>\n",
       "  </thead>\n",
       "  <tbody>\n",
       "    <tr>\n",
       "      <th>0</th>\n",
       "      <td>tt0283530</td>\n",
       "      <td>[drama]</td>\n",
       "      <td>Michael Hoffman</td>\n",
       "      <td>Ethan Canin, Neil Tolkin</td>\n",
       "      <td>Kevin Kline, Emile Hirsch, Joel Gretsch</td>\n",
       "      <td>2000</td>\n",
       "      <td>Standard</td>\n",
       "    </tr>\n",
       "    <tr>\n",
       "      <th>1</th>\n",
       "      <td>tt6859762</td>\n",
       "      <td>[drama, horror, mystery]</td>\n",
       "      <td>Lenny Abrahamson</td>\n",
       "      <td>Lucinda Coxon, Sarah Waters</td>\n",
       "      <td>Domhnall Gleeson, Will Poulter, Ruth Wilson</td>\n",
       "      <td>2015</td>\n",
       "      <td>Standard</td>\n",
       "    </tr>\n",
       "  </tbody>\n",
       "</table>\n",
       "</div>"
      ],
      "text/plain": [
       "          ID                    Genres         Directors  \\\n",
       "0  tt0283530                   [drama]   Michael Hoffman   \n",
       "1  tt6859762  [drama, horror, mystery]  Lenny Abrahamson   \n",
       "\n",
       "                       Writers                                        Stars  \\\n",
       "0     Ethan Canin, Neil Tolkin      Kevin Kline, Emile Hirsch, Joel Gretsch   \n",
       "1  Lucinda Coxon, Sarah Waters  Domhnall Gleeson, Will Poulter, Ruth Wilson   \n",
       "\n",
       "   Year_Group Runtime_group  \n",
       "0        2000      Standard  \n",
       "1        2015      Standard  "
      ]
     },
     "execution_count": 42,
     "metadata": {},
     "output_type": "execute_result"
    }
   ],
   "source": [
    "def group_runtime(runtime):\n",
    "    if runtime < 60:\n",
    "        return 'Very_Short'\n",
    "    elif runtime < 90:\n",
    "        return 'Short'\n",
    "    elif runtime < 120:\n",
    "        return 'Standard'\n",
    "    elif runtime < 150:\n",
    "        return 'Long'\n",
    "    else:\n",
    "        return 'Very_Long'\n",
    "\n",
    "df_movies['Runtime_group'] = df_movies['Runtime'].apply(group_runtime)\n",
    "df_movies.drop(['Runtime'], axis=1, inplace=True)\n",
    "df_movies.head(2)"
   ]
  },
  {
   "cell_type": "code",
   "execution_count": 43,
   "id": "9156d3b6",
   "metadata": {
    "execution": {
     "iopub.execute_input": "2025-05-08T03:56:31.271253Z",
     "iopub.status.busy": "2025-05-08T03:56:31.270536Z",
     "iopub.status.idle": "2025-05-08T03:56:31.276506Z",
     "shell.execute_reply": "2025-05-08T03:56:31.275674Z"
    },
    "papermill": {
     "duration": 0.029057,
     "end_time": "2025-05-08T03:56:31.277734",
     "exception": false,
     "start_time": "2025-05-08T03:56:31.248677",
     "status": "completed"
    },
    "tags": []
   },
   "outputs": [
    {
     "name": "stdout",
     "output_type": "stream",
     "text": [
      "Runtime Group Index Mapping: {'Long': 0, 'Short': 1, 'Standard': 2, 'Very_Long': 3, 'Very_Short': 4}\n"
     ]
    }
   ],
   "source": [
    "# Lấy tất cả các nhóm thời gian (Runtime_group) duy nhất\n",
    "runtime_groups = df_movies['Runtime_group'].unique()\n",
    "\n",
    "# Tạo từ điển ánh xạ từ nhóm thời gian sang chỉ số\n",
    "runtime_index_by_group = {runtime_group: idx for idx, runtime_group in enumerate(sorted(runtime_groups))}\n",
    "\n",
    "# In ra runtime_index_by_group để kiểm tra\n",
    "print(\"Runtime Group Index Mapping:\", runtime_index_by_group)"
   ]
  },
  {
   "cell_type": "markdown",
   "id": "2782f299",
   "metadata": {
    "papermill": {
     "duration": 0.020189,
     "end_time": "2025-05-08T03:56:31.318801",
     "exception": false,
     "start_time": "2025-05-08T03:56:31.298612",
     "status": "completed"
    },
    "tags": []
   },
   "source": [
    "**Directors**"
   ]
  },
  {
   "cell_type": "code",
   "execution_count": 44,
   "id": "64b05c90",
   "metadata": {
    "execution": {
     "iopub.execute_input": "2025-05-08T03:56:31.361085Z",
     "iopub.status.busy": "2025-05-08T03:56:31.360347Z",
     "iopub.status.idle": "2025-05-08T03:56:31.375796Z",
     "shell.execute_reply": "2025-05-08T03:56:31.374976Z"
    },
    "papermill": {
     "duration": 0.037658,
     "end_time": "2025-05-08T03:56:31.377030",
     "exception": false,
     "start_time": "2025-05-08T03:56:31.339372",
     "status": "completed"
    },
    "tags": []
   },
   "outputs": [
    {
     "data": {
      "text/plain": [
       "0                    [michael hoffman]\n",
       "1                   [lenny abrahamson]\n",
       "2    [ricky gervais, stephen merchant]\n",
       "3                       [david freyne]\n",
       "4                   [paolo sorrentino]\n",
       "Name: Directors, dtype: object"
      ]
     },
     "execution_count": 44,
     "metadata": {},
     "output_type": "execute_result"
    }
   ],
   "source": [
    "df_movies['Directors'] = df_movies['Directors'].apply(lambda x: [g.strip().lower() for g in x.split(',')])\n",
    "df_movies['Directors'].head(5)"
   ]
  },
  {
   "cell_type": "code",
   "execution_count": 45,
   "id": "b731b554",
   "metadata": {
    "execution": {
     "iopub.execute_input": "2025-05-08T03:56:31.421021Z",
     "iopub.status.busy": "2025-05-08T03:56:31.420547Z",
     "iopub.status.idle": "2025-05-08T03:56:31.430554Z",
     "shell.execute_reply": "2025-05-08T03:56:31.429744Z"
    },
    "papermill": {
     "duration": 0.03312,
     "end_time": "2025-05-08T03:56:31.431864",
     "exception": false,
     "start_time": "2025-05-08T03:56:31.398744",
     "status": "completed"
    },
    "tags": []
   },
   "outputs": [
    {
     "data": {
      "text/plain": [
       "3739"
      ]
     },
     "execution_count": 45,
     "metadata": {},
     "output_type": "execute_result"
    }
   ],
   "source": [
    "director_counter = Counter()\n",
    "for director_list in df_movies['Directors']:\n",
    "    for genre in director_list:\n",
    "        director_counter[genre] += 1\n",
    "len(director_counter)"
   ]
  },
  {
   "cell_type": "code",
   "execution_count": 46,
   "id": "41d5f12b",
   "metadata": {
    "execution": {
     "iopub.execute_input": "2025-05-08T03:56:31.474533Z",
     "iopub.status.busy": "2025-05-08T03:56:31.473771Z",
     "iopub.status.idle": "2025-05-08T03:56:31.479165Z",
     "shell.execute_reply": "2025-05-08T03:56:31.478442Z"
    },
    "papermill": {
     "duration": 0.028061,
     "end_time": "2025-05-08T03:56:31.480284",
     "exception": false,
     "start_time": "2025-05-08T03:56:31.452223",
     "status": "completed"
    },
    "tags": []
   },
   "outputs": [
    {
     "name": "stdout",
     "output_type": "stream",
     "text": [
      "Đạo diễn ít hơn 5 phim: 3439\n"
     ]
    }
   ],
   "source": [
    "rare_director = {genre for genre, count in director_counter.items() if count < 5}\n",
    "print(\"Đạo diễn ít hơn 5 phim:\", len(rare_director))"
   ]
  },
  {
   "cell_type": "code",
   "execution_count": 47,
   "id": "383853df",
   "metadata": {
    "execution": {
     "iopub.execute_input": "2025-05-08T03:56:31.521852Z",
     "iopub.status.busy": "2025-05-08T03:56:31.521205Z",
     "iopub.status.idle": "2025-05-08T03:56:31.534636Z",
     "shell.execute_reply": "2025-05-08T03:56:31.533639Z"
    },
    "papermill": {
     "duration": 0.035256,
     "end_time": "2025-05-08T03:56:31.535898",
     "exception": false,
     "start_time": "2025-05-08T03:56:31.500642",
     "status": "completed"
    },
    "tags": []
   },
   "outputs": [
    {
     "name": "stdout",
     "output_type": "stream",
     "text": [
      "0               [other]\n",
      "1               [other]\n",
      "2               [other]\n",
      "3               [other]\n",
      "4    [paolo sorrentino]\n",
      "5         [david koepp]\n",
      "6               [other]\n",
      "7               [other]\n",
      "8               [other]\n",
      "9               [other]\n",
      "Name: Directors, dtype: object\n"
     ]
    }
   ],
   "source": [
    "def replace_rare_director(director_list):\n",
    "    new_list = []\n",
    "    for genre in director_list:\n",
    "        if genre in rare_director: \n",
    "            new_list.append('other')\n",
    "        else:\n",
    "            new_list.append(genre)\n",
    "    return sorted(set(new_list))  # Loại bỏ trùng lặp và sắp xếp lại\n",
    "\n",
    "df_movies['Directors'] = df_movies['Directors'].apply(replace_rare_director)\n",
    "print(df_movies['Directors'].head(10))"
   ]
  },
  {
   "cell_type": "code",
   "execution_count": 48,
   "id": "be68abd0",
   "metadata": {
    "execution": {
     "iopub.execute_input": "2025-05-08T03:56:31.579122Z",
     "iopub.status.busy": "2025-05-08T03:56:31.578841Z",
     "iopub.status.idle": "2025-05-08T03:56:31.586001Z",
     "shell.execute_reply": "2025-05-08T03:56:31.585111Z"
    },
    "papermill": {
     "duration": 0.029509,
     "end_time": "2025-05-08T03:56:31.587305",
     "exception": false,
     "start_time": "2025-05-08T03:56:31.557796",
     "status": "completed"
    },
    "tags": []
   },
   "outputs": [
    {
     "name": "stdout",
     "output_type": "stream",
     "text": [
      "Director Index Mapping: {'aaron seltzer': 0, 'adam green': 1, 'adam mckay': 2, 'adam shankman': 3, 'adam wingard': 4, 'alejandro g. iñárritu': 5, 'alexander payne': 6, 'alexandre aja': 7, 'andrew erwin': 8, 'andrew fleming': 9, 'andrew niccol': 10, 'andrzej bartkowiak': 11, 'andy fickman': 12, 'andy tennant': 13, 'ang lee': 14, 'anne fletcher': 15, 'anthony russo': 16, 'antoine fuqua': 17, 'anurag kashyap': 18, 'ariel schulman': 19, 'asghar farhadi': 20, 'atom egoyan': 21, 'barry levinson': 22, 'barry sonnenfeld': 23, 'ben affleck': 24, 'ben falcone': 25, 'ben wheatley': 26, 'bill condon': 27, 'bobby farrelly': 28, 'bong joon ho': 29, 'brad anderson': 30, 'brad peyton': 31, 'brett ratner': 32, 'brian de palma': 33, 'brian robbins': 34, 'brian taylor': 35, 'bryan singer': 36, 'cameron crowe': 37, 'carlos saldanha': 38, 'catherine hardwicke': 39, 'charles stone iii': 40, 'chris columbus': 41, 'chris renaud': 42, 'chris sanders': 43, 'chris weitz': 44, 'christopher nolan': 45, 'christopher smith': 46, 'clint eastwood': 47, 'conrad vernon': 48, 'craig gillespie': 49, 'curtis hanson': 50, 'd.j. caruso': 51, 'danny boyle': 52, 'darren aronofsky': 53, 'darren lynn bousman': 54, 'david ayer': 55, 'david bruckner': 56, 'david cronenberg': 57, 'david fincher': 58, 'david frankel': 59, 'david gordon green': 60, 'david koepp': 61, 'david leitch': 62, 'david lowery': 63, 'david mackenzie': 64, 'david o. russell': 65, 'david twohy': 66, 'david yates': 67, 'denis villeneuve': 68, 'dennis dugan': 69, 'dito montiel': 70, 'don hall': 71, 'donald petrie': 72, 'doug liman': 73, 'drake doremus': 74, 'edgar wright': 75, 'edward zwick': 76, 'eli roth': 77, 'ernie barbarash': 78, 'ethan coen': 79, 'f. gary gray': 80, 'francis lawrence': 81, 'frank coraci': 82, 'françois ozon': 83, 'garry marshall': 84, 'gavin hood': 85, \"gavin o'connor\": 86, 'george clooney': 87, 'george miller': 88, 'george tillman jr.': 89, 'gil kenan': 90, 'gina prince-bythewood': 91, 'gore verbinski': 92, 'greg mclean': 93, 'greg mottola': 94, 'guillermo del toro': 95, 'gurinder chadha': 96, 'gus van sant': 97, 'guy ritchie': 98, 'harald zwart': 99, 'hayao miyazaki': 100, 'henry joost': 101, 'hirokazu koreeda': 102, 'isabel coixet': 103, 'j.a. bayona': 104, 'j.j. abrams': 105, 'jacques audiard': 106, 'jake kasdan': 107, 'james gray': 108, 'james gunn': 109, 'james mangold': 110, 'james wan': 111, 'jason friedberg': 112, 'jason reitman': 113, 'jaume collet-serra': 114, 'jay chandrasekhar': 115, 'jay roach': 116, 'jean-françois richet': 117, 'jeff wadlow': 118, 'jim jarmusch': 119, 'jim sheridan': 120, 'joachim rønning': 121, 'joe carnahan': 122, 'joe johnston': 123, 'joe russo': 124, 'joe wright': 125, 'joel coen': 126, 'joel schumacher': 127, 'johannes roberts': 128, 'john crowley': 129, 'john lee hancock': 130, 'john madden': 131, 'john singleton': 132, 'john stockwell': 133, 'john whitesell': 134, 'john woo': 135, 'jon erwin': 136, 'jon favreau': 137, 'jon m. chu': 138, 'jonathan levine': 139, 'jonathan liebesman': 140, 'joseph kosinski': 141, 'justin kurzel': 142, 'justin lin': 143, 'karan johar': 144, 'kelly asbury': 145, 'kenneth branagh': 146, 'kevin macdonald': 147, 'kevin smith': 148, 'lana wachowski': 149, 'larry charles': 150, 'lars von trier': 151, 'lasse hallström': 152, 'lee daniels': 153, 'lilly wachowski': 154, 'louis leterrier': 155, 'luc besson': 156, 'luca guadagnino': 157, 'm. night shyamalan': 158, 'm.j. bassett': 159, 'malcolm d. lee': 160, 'mamoru hosoda': 161, 'marc forster': 162, 'marc webb': 163, 'marcus nispel': 164, 'mark neveldine': 165, 'mark steven johnson': 166, 'mark waters': 167, 'martin campbell': 168, 'martin scorsese': 169, 'matt bettinelli-olpin': 170, 'matt reeves': 171, 'matteo garrone': 172, 'matthew vaughn': 173, 'mcg': 174, 'michael apted': 175, 'michael bay': 176, 'michael dowse': 177, 'michael haneke': 178, 'michael mann': 179, 'michael showalter': 180, 'michael winterbottom': 181, 'michel gondry': 182, 'miguel arteta': 183, 'mikael håfström': 184, 'mike flanagan': 185, 'mike mitchell': 186, 'mike newell': 187, 'nancy meyers': 188, 'neil burger': 189, 'neil jordan': 190, 'neil labute': 191, 'neil marshall': 192, 'neill blomkamp': 193, 'nicholas stoller': 194, 'nick cassavetes': 195, 'nicolas winding refn': 196, 'niki caro': 197, 'nimród antal': 198, 'noah baumbach': 199, 'oliver stone': 200, 'olivier assayas': 201, 'other': 202, 'pablo larraín': 203, 'paco plaza': 204, 'paolo sorrentino': 205, 'park chan-wook': 206, 'paul feig': 207, 'paul greengrass': 208, 'paul mcguigan': 209, 'paul schrader': 210, 'paul thomas anderson': 211, 'paul w.s. anderson': 212, 'paul weitz': 213, 'pedro almodóvar': 214, 'peter berg': 215, 'peter chelsom': 216, 'peter farrelly': 217, 'peter jackson': 218, 'peter segal': 219, 'peyton reed': 220, 'phillip noyce': 221, 'pierre morel': 222, 'quentin tarantino': 223, 'raja gosnell': 224, 'rajkumar hirani': 225, 'rawson marshall thurber': 226, 'renny harlin': 227, 'rian johnson': 228, 'ric roman waugh': 229, 'richard eyre': 230, 'richard lagravenese': 231, 'richard linklater': 232, 'ridley scott': 233, 'rob cohen': 234, 'rob letterman': 235, 'rob marshall': 236, 'rob minkoff': 237, 'rob reiner': 238, 'rob zombie': 239, 'robert luketic': 240, 'robert rodriguez': 241, 'robert schwentke': 242, 'robert zemeckis': 243, 'rod lurie': 244, 'rodrigo garcía': 245, 'roger donaldson': 246, 'roger kumble': 247, 'roger michell': 248, 'roland emmerich': 249, 'roman polanski': 250, 'ron howard': 251, 'ruben fleischer': 252, 'ryûhei kitamura': 253, 'sam mendes': 254, 'sam raimi': 255, 'scott cooper': 256, 'scott derrickson': 257, 'sean anders': 258, 'sean baker': 259, 'sean mcnamara': 260, 'shawn levy': 261, 'simon curtis': 262, 'simon west': 263, 'sofia coppola': 264, 'spike lee': 265, 'stephen frears': 266, 'stephen herek': 267, 'steve carr': 268, 'steve mcqueen': 269, 'steven brill': 270, 'steven soderbergh': 271, 'steven spielberg': 272, 'susanne bier': 273, 'taika waititi': 274, 'takashi miike': 275, 'tarsem singh': 276, 'tate taylor': 277, 'terrence malick': 278, 'ti west': 279, 'tim burton': 280, 'tim hill': 281, 'tim story': 282, 'todd haynes': 283, 'todd phillips': 284, 'tom mccarthy': 285, 'tom mcgrath': 286, 'tom tykwer': 287, 'tony scott': 288, 'tyler gillett': 289, 'tyler perry': 290, 'uwe boll': 291, 'werner herzog': 292, 'wes anderson': 293, 'will gluck': 294, 'wim wenders': 295, 'woody allen': 296, 'xavier dolan': 297, 'xavier gens': 298, 'yorgos lanthimos': 299, 'zack snyder': 300}\n"
     ]
    }
   ],
   "source": [
    "# Lấy tất cả các đạo diễn duy nhất\n",
    "directors = df_movies['Directors'].explode().unique()\n",
    "\n",
    "# Tạo từ điển ánh xạ đạo diễn thành chỉ số\n",
    "director_index_by_name = {director: idx for idx, director in enumerate(sorted(directors))}\n",
    "\n",
    "# In ra ánh xạ đạo diễn thành chỉ số\n",
    "print(\"Director Index Mapping:\", director_index_by_name)\n"
   ]
  },
  {
   "cell_type": "markdown",
   "id": "f4002286",
   "metadata": {
    "papermill": {
     "duration": 0.02071,
     "end_time": "2025-05-08T03:56:31.629452",
     "exception": false,
     "start_time": "2025-05-08T03:56:31.608742",
     "status": "completed"
    },
    "tags": []
   },
   "source": [
    "writers"
   ]
  },
  {
   "cell_type": "code",
   "execution_count": 49,
   "id": "97945bae",
   "metadata": {
    "execution": {
     "iopub.execute_input": "2025-05-08T03:56:31.672967Z",
     "iopub.status.busy": "2025-05-08T03:56:31.672638Z",
     "iopub.status.idle": "2025-05-08T03:56:31.688450Z",
     "shell.execute_reply": "2025-05-08T03:56:31.687751Z"
    },
    "papermill": {
     "duration": 0.039125,
     "end_time": "2025-05-08T03:56:31.689738",
     "exception": false,
     "start_time": "2025-05-08T03:56:31.650613",
     "status": "completed"
    },
    "tags": []
   },
   "outputs": [
    {
     "data": {
      "text/plain": [
       "0           [ethan canin, neil tolkin]\n",
       "1        [lucinda coxon, sarah waters]\n",
       "2    [ricky gervais, stephen merchant]\n",
       "3                       [david freyne]\n",
       "4                   [paolo sorrentino]\n",
       "Name: Writers, dtype: object"
      ]
     },
     "execution_count": 49,
     "metadata": {},
     "output_type": "execute_result"
    }
   ],
   "source": [
    "df_movies['Writers'] = df_movies['Writers'].apply(lambda x: [g.strip().lower() for g in x.split(',')])\n",
    "df_movies['Writers'].head(5)"
   ]
  },
  {
   "cell_type": "code",
   "execution_count": 50,
   "id": "74749438",
   "metadata": {
    "execution": {
     "iopub.execute_input": "2025-05-08T03:56:31.733419Z",
     "iopub.status.busy": "2025-05-08T03:56:31.733144Z",
     "iopub.status.idle": "2025-05-08T03:56:31.746375Z",
     "shell.execute_reply": "2025-05-08T03:56:31.745749Z"
    },
    "papermill": {
     "duration": 0.036362,
     "end_time": "2025-05-08T03:56:31.747538",
     "exception": false,
     "start_time": "2025-05-08T03:56:31.711176",
     "status": "completed"
    },
    "tags": []
   },
   "outputs": [
    {
     "data": {
      "text/plain": [
       "8124"
      ]
     },
     "execution_count": 50,
     "metadata": {},
     "output_type": "execute_result"
    }
   ],
   "source": [
    "writer_counter = Counter()\n",
    "for writer_list in df_movies['Writers']:\n",
    "    for genre in writer_list:\n",
    "        writer_counter[genre] += 1\n",
    "len(writer_counter)"
   ]
  },
  {
   "cell_type": "code",
   "execution_count": 51,
   "id": "7795c848",
   "metadata": {
    "execution": {
     "iopub.execute_input": "2025-05-08T03:56:31.792030Z",
     "iopub.status.busy": "2025-05-08T03:56:31.791732Z",
     "iopub.status.idle": "2025-05-08T03:56:31.797478Z",
     "shell.execute_reply": "2025-05-08T03:56:31.796514Z"
    },
    "papermill": {
     "duration": 0.029901,
     "end_time": "2025-05-08T03:56:31.798799",
     "exception": false,
     "start_time": "2025-05-08T03:56:31.768898",
     "status": "completed"
    },
    "tags": []
   },
   "outputs": [
    {
     "name": "stdout",
     "output_type": "stream",
     "text": [
      "Writers ít hơn 5 phim: 7724\n"
     ]
    }
   ],
   "source": [
    "rare_writer = {genre for genre, count in writer_counter.items() if count < 5}\n",
    "print(\"Writers ít hơn 5 phim:\", len(rare_writer))"
   ]
  },
  {
   "cell_type": "code",
   "execution_count": 52,
   "id": "02c37c98",
   "metadata": {
    "execution": {
     "iopub.execute_input": "2025-05-08T03:56:31.842325Z",
     "iopub.status.busy": "2025-05-08T03:56:31.842035Z",
     "iopub.status.idle": "2025-05-08T03:56:31.857009Z",
     "shell.execute_reply": "2025-05-08T03:56:31.856057Z"
    },
    "papermill": {
     "duration": 0.038451,
     "end_time": "2025-05-08T03:56:31.858368",
     "exception": false,
     "start_time": "2025-05-08T03:56:31.819917",
     "status": "completed"
    },
    "tags": []
   },
   "outputs": [
    {
     "name": "stdout",
     "output_type": "stream",
     "text": [
      "0                      [other]\n",
      "1                      [other]\n",
      "2                      [other]\n",
      "3                      [other]\n",
      "4           [paolo sorrentino]\n",
      "5         [david koepp, other]\n",
      "6                      [other]\n",
      "7    [kenneth lonergan, other]\n",
      "8        [jay scherick, other]\n",
      "9                      [other]\n",
      "Name: Writers, dtype: object\n"
     ]
    }
   ],
   "source": [
    "def replace_rare_writer(writer_list):\n",
    "    new_list = []\n",
    "    for genre in writer_list:\n",
    "        if genre in rare_writer: \n",
    "            new_list.append('other')\n",
    "        else:\n",
    "            new_list.append(genre)\n",
    "    return sorted(set(new_list))  # Loại bỏ trùng lặp và sắp xếp lại\n",
    "\n",
    "df_movies['Writers'] = df_movies['Writers'].apply(replace_rare_writer)\n",
    "print(df_movies['Writers'].head(10))"
   ]
  },
  {
   "cell_type": "code",
   "execution_count": 53,
   "id": "ba035df5",
   "metadata": {
    "execution": {
     "iopub.execute_input": "2025-05-08T03:56:31.902496Z",
     "iopub.status.busy": "2025-05-08T03:56:31.901891Z",
     "iopub.status.idle": "2025-05-08T03:56:31.909376Z",
     "shell.execute_reply": "2025-05-08T03:56:31.908392Z"
    },
    "papermill": {
     "duration": 0.030055,
     "end_time": "2025-05-08T03:56:31.910714",
     "exception": false,
     "start_time": "2025-05-08T03:56:31.880659",
     "status": "completed"
    },
    "tags": []
   },
   "outputs": [
    {
     "name": "stdout",
     "output_type": "stream",
     "text": [
      "writer Index Mapping: {'aaron seltzer': 0, 'aaron sorkin': 1, 'abby kohn': 2, 'abhijat joshi': 3, 'adam cooper': 4, 'adam green': 5, 'adam mckay': 6, 'adam sandler': 7, 'aditya chopra': 8, 'akiva goldsman': 9, 'alan b. mcelroy': 10, 'alejandro amenábar': 11, 'alejandro g. iñárritu': 12, 'alex garland': 13, 'alex kurtzman': 14, 'alexander payne': 15, 'alfred gough': 16, 'aline brosh mckenna': 17, 'allan loeb': 18, 'amanda silver': 19, 'anders thomas jensen': 20, 'andrea berloff': 21, 'andrew davies': 22, 'andrew lanham': 23, 'andrew niccol': 24, 'andrew stanton': 25, 'anna waterhouse': 26, 'anurag kashyap': 27, 'arash amel': 28, 'art marcum': 29, 'asghar farhadi': 30, 'audrey wells': 31, 'bill collage': 32, 'billy ray': 33, 'boaz yakin': 34, 'bob kane': 35, 'bobby farrelly': 36, 'bong joon ho': 37, 'brad anderson': 38, 'brad copeland': 39, 'brian duffield': 40, 'brian helgeland': 41, 'brian koppelman': 42, 'brian lynch': 43, 'brian taylor': 44, 'bryan bertino': 45, 'bryan woods': 46, 'c. robert cargill': 47, 'cameron crowe': 48, 'carey w. hayes': 49, 'cary solomon': 50, 'chad hayes': 51, 'chad law': 52, 'charles dickens': 53, 'charles leavitt': 54, 'charles randolph': 55, 'charlie kaufman': 56, 'chris mckenna': 57, 'chris morgan': 58, 'chris sparling': 59, 'chris weitz': 60, 'christopher hampton': 61, 'christopher landon': 62, 'christopher markus': 63, 'christopher mcquarrie': 64, 'christopher nolan': 65, 'christopher smith': 66, 'chuck konzelman': 67, 'cinco paul': 68, 'cormac wibberley': 69, 'craig mazin': 70, 'céline sciamma': 71, 'damien chazelle': 72, 'damon lindelof': 73, 'dan fogelman': 74, 'dan gilroy': 75, \"dan o'bannon\": 76, 'dana fox': 77, 'danny mcbride': 78, 'dario argento': 79, 'darren lemke': 80, 'dave callaham': 81, 'david ayer': 82, 'david benioff': 83, 'david birke': 84, 'david koepp': 85, 'david leslie johnson-mcgoldrick': 86, 'david levien': 87, 'david lindsay-abaire': 88, 'david loughery': 89, 'david lowery': 90, 'david magee': 91, 'david michôd': 92, 'david s. goyer': 93, 'david scarpa': 94, 'david twohy': 95, 'dean georgaris': 96, 'debra hill': 97, 'dennis lehane': 98, 'derek connolly': 99, 'derek haas': 100, 'derek kolstad': 101, 'destin daniel cretton': 102, 'dr. seuss': 103, 'drake doremus': 104, 'duane adler': 105, 'ed decter': 106, 'ed solomon': 107, 'edgar wright': 108, 'efthimis filippou': 109, 'ehren kruger': 110, 'eli roth': 111, 'emma thompson': 112, 'eric heisserer': 113, 'eric roth': 114, 'erich hoeber': 115, 'erin cressida wilson': 116, 'eskil vogt': 117, 'etan cohen': 118, 'ethan coen': 119, 'evan daugherty': 120, 'evan goldberg': 121, 'evan spiliotopoulos': 122, 'farhan akhtar': 123, 'fran walsh': 124, 'frank cottrell boyce': 125, 'frank miller': 126, 'françois ozon': 127, 'fred wolf': 128, 'gary dauberman': 129, 'gary scott thompson': 130, 'george a. romero': 131, 'george gallo': 132, 'george miller': 133, 'george nolfi': 134, 'glen morgan': 135, 'glenn berger': 136, 'glenn ficarra': 137, 'gregory poirier': 138, 'greta gerwig': 139, 'guillermo del toro': 140, 'gurinder chadha': 141, 'guy ritchie': 142, 'hayao miyazaki': 143, 'hirokazu koreeda': 144, 'hossein amini': 145, 'j. david stem': 146, 'j. mills goodloe': 147, 'j.j. abrams': 148, 'j.k. rowling': 149, 'jack thorne': 150, 'jacques audiard': 151, 'james demonaco': 152, 'james gray': 153, 'james gunn': 154, 'james schamus': 155, 'james vanderbilt': 156, 'james wan': 157, 'james watkins': 158, 'jane austen': 159, 'jane goldman': 160, 'jason friedberg': 161, 'jason fuchs': 162, 'jason hall': 163, 'jason reitman': 164, 'jason segel': 165, 'jay scherick': 166, 'jeff buhler': 167, 'jeff nathanson': 168, 'jeff pinkner': 169, 'jeff wadlow': 170, 'jeffrey reddick': 171, 'jeremy brock': 172, 'jerry siegel': 173, 'jez butterworth': 174, 'jim jarmusch': 175, 'jim strouse': 176, 'jim thomas': 177, 'joe carnahan': 178, 'joe shrapnel': 179, 'joel coen': 180, 'johannes roberts': 181, 'john august': 182, 'john brancato': 183, 'john carpenter': 184, 'john collee': 185, 'john fusco': 186, 'john gatins': 187, 'john hamburg': 188, 'john hodge': 189, 'john j. strauss': 190, 'john krasinski': 191, 'john lasseter': 192, 'john lee hancock': 193, 'john logan': 194, 'john morris': 195, 'john requa': 196, 'john-henry butterworth': 197, 'jon croker': 198, 'jon erwin': 199, 'jon hoeber': 200, 'jon lucas': 201, 'jon spaihts': 202, 'jonathan aibel': 203, 'jonathan bernstein': 204, 'jonathan goldstein': 205, 'jonathan nolan': 206, 'jordan peele': 207, 'jorge guerricaechevarría': 208, 'josh stolberg': 209, 'joss whedon': 210, 'judd apatow': 211, 'julian fellowes': 212, 'juliet snowden': 213, 'karen mccullah': 214, 'karey kirkpatrick': 215, 'kay cannon': 216, 'kelly marcel': 217, 'ken daurio': 218, 'kenneth lonergan': 219, 'kenya barris': 220, 'kevin smith': 221, 'kevin williamson': 222, 'kirsten smith': 223, 'kurt johnstad': 224, 'kurt wimmer': 225, 'laeta kalogridis': 226, 'lana wachowski': 227, 'larry karaszewski': 228, 'lars von trier': 229, 'lee hall': 230, 'leigh whannell': 231, 'leslie dixon': 232, 'lewis colick': 233, 'linda woolverton': 234, 'luc besson': 235, 'm. night shyamalan': 236, 'marc silverstein': 237, 'marcus dunstan': 238, 'marianne wibberley': 239, 'mark boal': 240, 'mark bomback': 241, 'mark burton': 242, 'mark duplass': 243, 'mark l. smith': 244, 'mark millar': 245, 'mark neveldine': 246, 'marlon wayans': 247, 'matt holloway': 248, 'matt johnson': 249, 'matt lieberman': 250, 'matt manfredi': 251, 'matthew michael carnahan': 252, 'matthew vaughn': 253, 'max landis': 254, 'melissa rosenberg': 255, 'michael arndt': 256, 'michael bacall': 257, 'michael brandt': 258, 'michael dougherty': 259, 'michael green': 260, 'michael h. weber': 261, 'michael haneke': 262, 'michael petroni': 263, 'mike flanagan': 264, 'mike white': 265, 'nathan parker': 266, 'neil marshall': 267, 'nicholas sparks': 268, 'nicholas stoller': 269, 'nick hornby': 270, 'nick schenk': 271, 'nicole holofcener': 272, 'nikolaj arcel': 273, 'niranjan iyengar': 274, 'noah baumbach': 275, 'ol parker': 276, 'oren moverman': 277, 'oren peli': 278, 'oren uziel': 279, 'other': 280, 'paolo sorrentino': 281, 'park chan-wook': 282, 'park hoon-jung': 283, 'patricia highsmith': 284, 'patrick melton': 285, 'paul haggis': 286, 'paul king': 287, 'paul mayeda berges': 288, 'paul thomas anderson': 289, 'paul w.s. anderson': 290, 'paul wernick': 291, 'pedro almodóvar': 292, 'pete docter': 293, 'peter craig': 294, 'peter farrelly': 295, 'peter gaulke': 296, 'peter jackson': 297, 'peter morgan': 298, 'peter straughan': 299, 'phil hay': 300, 'phil johnston': 301, 'philippa boyens': 302, 'quentin tarantino': 303, 'rajkumar hirani': 304, 'rebecca miller': 305, 'rhett reese': 306, 'rian johnson': 307, 'richard curtis': 308, \"richard d'ovidio\": 309, 'richard lagravenese': 310, 'richard linklater': 311, 'richard wenk': 312, 'rick jaffa': 313, 'ritesh shah': 314, 'roald dahl': 315, 'rob zombie': 316, 'robert ben garant': 317, 'robert mark kamen': 318, 'robert rodriguez': 319, 'robert zemeckis': 320, 'roberto orci': 321, 'roman coppola': 322, 'ronald harwood': 323, 'ronald shusett': 324, 'rowan joffe': 325, 'ryan coogler': 326, 'ryan engle': 327, 'sacha baron cohen': 328, 'scot armstrong': 329, 'scott alexander': 330, 'scott beck': 331, 'scott cooper': 332, 'scott derrickson': 333, 'scott frank': 334, 'scott moore': 335, 'scott neustadter': 336, 'scott rosenberg': 337, 'scott z. burns': 338, 'sean anders': 339, 'sean baker': 340, 'sebastian gutierrez': 341, 'seth rogen': 342, 'shawn wayans': 343, 'shay hatten': 344, 'simon barrett': 345, 'simon beaufoy': 346, 'simon kinberg': 347, 'skip woods': 348, 'sofia coppola': 349, 'stan lee': 350, 'stephen gaghan': 351, 'stephen king': 352, 'stephen mcfeely': 353, 'stephenie meyer': 354, 'steve conrad': 355, 'steve kloves': 356, 'steve koren': 357, 'steve oedekerk': 358, 'steven knight': 359, 'steven zaillian': 360, 'stuart beattie': 361, 'susannah grant': 362, 'susanne bier': 363, 'suzanne collins': 364, 'sylvester stallone': 365, 't.s. nowlin': 366, 'tai-lee chan': 367, 'taika waititi': 368, 'taylor sheridan': 369, 'ted elliott': 370, 'terrence malick': 371, 'terry rossio': 372, 'thomas bidegain': 373, 'thomas lennon': 374, 'ti west': 375, 'tim herlihy': 376, 'timothy dowling': 377, 'todd phillips': 378, 'tom mccarthy': 379, 'tony gilroy': 380, 'tracy oliver': 381, 'tyler perry': 382, 'uwe boll': 383, 'veronika franz': 384, 'werner herzog': 385, 'wes anderson': 386, 'wes craven': 387, 'will ferrell': 388, 'will fetters': 389, 'will gluck': 390, 'william davies': 391, 'william monahan': 392, 'william nicholson': 393, 'william shakespeare': 394, 'woody allen': 395, 'xavier dolan': 396, 'yorgos lanthimos': 397, 'zach baylin': 398, 'zack snyder': 399, 'zak penn': 400}\n"
     ]
    }
   ],
   "source": [
    "writers = df_movies['Writers'].explode().unique()\n",
    "\n",
    "writer_index_by_name = {writer: idx for idx, writer in enumerate(sorted(writers))}\n",
    "\n",
    "print(\"writer Index Mapping:\", writer_index_by_name)\n"
   ]
  },
  {
   "cell_type": "markdown",
   "id": "924d7599",
   "metadata": {
    "papermill": {
     "duration": 0.020567,
     "end_time": "2025-05-08T03:56:31.952579",
     "exception": false,
     "start_time": "2025-05-08T03:56:31.932012",
     "status": "completed"
    },
    "tags": []
   },
   "source": [
    "Stars"
   ]
  },
  {
   "cell_type": "code",
   "execution_count": 54,
   "id": "6effc367",
   "metadata": {
    "execution": {
     "iopub.execute_input": "2025-05-08T03:56:31.995483Z",
     "iopub.status.busy": "2025-05-08T03:56:31.994821Z",
     "iopub.status.idle": "2025-05-08T03:56:32.029011Z",
     "shell.execute_reply": "2025-05-08T03:56:32.028112Z"
    },
    "papermill": {
     "duration": 0.056924,
     "end_time": "2025-05-08T03:56:32.030517",
     "exception": false,
     "start_time": "2025-05-08T03:56:31.973593",
     "status": "completed"
    },
    "tags": []
   },
   "outputs": [
    {
     "name": "stdout",
     "output_type": "stream",
     "text": [
      "8070\n",
      "Stars ít hơn 10 phim: 7667\n",
      "0                             [emile hirsch, other]\n",
      "1                         [domhnall gleeson, other]\n",
      "2                           [felicity jones, other]\n",
      "3                              [elliot page, other]\n",
      "4                                           [other]\n",
      "5    [joseph gordon-levitt, michael shannon, other]\n",
      "6                                           [other]\n",
      "7             [other, piper perabo, robert de niro]\n",
      "8                                           [other]\n",
      "9                                           [other]\n",
      "Name: Stars, dtype: object\n"
     ]
    }
   ],
   "source": [
    "df_movies['Stars'] = df_movies['Stars'].apply(lambda x: [g.strip().lower() for g in x.split(',')])\n",
    "df_movies['Stars'].head(5)\n",
    "\n",
    "star_counter = Counter()\n",
    "for star_list in df_movies['Stars']:\n",
    "    for genre in star_list:\n",
    "        star_counter[genre] += 1\n",
    "print(len(star_counter))\n",
    "\n",
    "rare_star = {genre for genre, count in star_counter.items() if count < 10}\n",
    "print(\"Stars ít hơn 10 phim:\", len(rare_star))\n",
    "\n",
    "def replace_rare_star(star_list):\n",
    "    new_list = []\n",
    "    for genre in star_list:\n",
    "        if genre in rare_star: \n",
    "            new_list.append('other')\n",
    "        else:\n",
    "            new_list.append(genre)\n",
    "    return sorted(set(new_list))  # Loại bỏ trùng lặp và sắp xếp lại\n",
    "\n",
    "df_movies['Stars'] = df_movies['Stars'].apply(replace_rare_star)\n",
    "print(df_movies['Stars'].head(10))"
   ]
  },
  {
   "cell_type": "code",
   "execution_count": 55,
   "id": "79a1e072",
   "metadata": {
    "execution": {
     "iopub.execute_input": "2025-05-08T03:56:32.072725Z",
     "iopub.status.busy": "2025-05-08T03:56:32.072133Z",
     "iopub.status.idle": "2025-05-08T03:56:32.080022Z",
     "shell.execute_reply": "2025-05-08T03:56:32.079161Z"
    },
    "papermill": {
     "duration": 0.030127,
     "end_time": "2025-05-08T03:56:32.081341",
     "exception": false,
     "start_time": "2025-05-08T03:56:32.051214",
     "status": "completed"
    },
    "tags": []
   },
   "outputs": [
    {
     "name": "stdout",
     "output_type": "stream",
     "text": [
      "star Index Mapping: {'': 0, 'aamir khan': 1, 'aaron eckhart': 2, 'aaron taylor-johnson': 3, 'abbie cornish': 4, 'abigail breslin': 5, 'adam driver': 6, 'adam sandler': 7, 'adrien brody': 8, 'akshay kumar': 9, 'al pacino': 10, 'alec baldwin': 11, 'alexander skarsgård': 12, 'alexandra daddario': 13, 'alicia vikander': 14, 'amanda seyfried': 15, 'amy adams': 16, 'amy smart': 17, 'ana de armas': 18, 'andrew garfield': 19, 'andy samberg': 20, 'angelina jolie': 21, 'anna faris': 22, 'anna kendrick': 23, 'anne hathaway': 24, 'annette bening': 25, 'anthony hopkins': 26, 'anthony mackie': 27, 'anton yelchin': 28, 'antonio banderas': 29, 'anya taylor-joy': 30, 'armie hammer': 31, 'arnold schwarzenegger': 32, 'ashley judd': 33, 'ashton kutcher': 34, 'ben affleck': 35, 'ben foster': 36, 'ben kingsley': 37, 'ben stiller': 38, 'benedict cumberbatch': 39, 'benicio del toro': 40, 'bill murray': 41, 'bill nighy': 42, 'billy bob thornton': 43, 'blake lively': 44, 'brad pitt': 45, 'bradley cooper': 46, 'brendan fraser': 47, 'brendan gleeson': 48, 'brian cox': 49, 'brie larson': 50, 'brittany snow': 51, 'bruce willis': 52, 'bryan cranston': 53, 'cameron diaz': 54, 'carey mulligan': 55, 'carla gugino': 56, 'casey affleck': 57, 'cate blanchett': 58, 'catherine keener': 59, 'channing tatum': 60, 'charlie hunnam': 61, 'charlize theron': 62, 'charlotte gainsbourg': 63, 'chiwetel ejiofor': 64, 'chloë grace moretz': 65, 'chris evans': 66, 'chris hemsworth': 67, 'chris pine': 68, 'chris pratt': 69, 'chris rock': 70, 'christian bale': 71, 'christopher plummer': 72, 'christopher walken': 73, 'cillian murphy': 74, 'clive owen': 75, 'colin farrell': 76, 'colin firth': 77, 'cuba gooding jr.': 78, 'dakota fanning': 79, 'dakota johnson': 80, 'dan stevens': 81, 'daniel brühl': 82, 'daniel craig': 83, 'daniel radcliffe': 84, 'dave bautista': 85, 'david oyelowo': 86, 'deepika padukone': 87, 'dennis quaid': 88, 'denzel washington': 89, 'dev patel': 90, 'diane keaton': 91, 'diane kruger': 92, 'diane lane': 93, 'djimon hounsou': 94, 'domhnall gleeson': 95, 'don cheadle': 96, 'donald sutherland': 97, 'donnie yen': 98, 'drew barrymore': 99, 'dwayne johnson': 100, 'ed harris': 101, 'ed helms': 102, 'eddie murphy': 103, 'eddie redmayne': 104, 'edgar ramírez': 105, 'edward norton': 106, 'elijah wood': 107, 'elisabeth moss': 108, 'elizabeth banks': 109, 'elizabeth olsen': 110, 'elle fanning': 111, 'elliot page': 112, 'emile hirsch': 113, 'emily blunt': 114, 'emily mortimer': 115, 'emily watson': 116, 'emma roberts': 117, 'emma stone': 118, 'emma thompson': 119, 'emma watson': 120, 'eric bana': 121, 'ethan hawke': 122, 'eva green': 123, 'evan rachel wood': 124, 'ewan mcgregor': 125, 'famke janssen': 126, 'felicity jones': 127, 'forest whitaker': 128, 'frances mcdormand': 129, 'frank grillo': 130, 'freddie highmore': 131, 'gabrielle union': 132, 'gael garcía bernal': 133, 'gary oldman': 134, 'gemma arterton': 135, 'geoffrey rush': 136, 'george clooney': 137, 'gerard butler': 138, 'glenn close': 139, 'greg kinnear': 140, 'gugu mbatha-raw': 141, 'guy pearce': 142, 'gwyneth paltrow': 143, 'halle berry': 144, 'harrison ford': 145, 'hayden christensen': 146, 'helen hunt': 147, 'helen mirren': 148, 'helena bonham carter': 149, 'henry cavill': 150, 'hilary swank': 151, 'hugh jackman': 152, 'ian mckellen': 153, 'ice cube': 154, 'idris elba': 155, 'isla fisher': 156, 'j.k. simmons': 157, 'jack black': 158, 'jackie chan': 159, 'jake gyllenhaal': 160, 'james franco': 161, 'james marsden': 162, 'james mcavoy': 163, 'jamie bell': 164, 'jamie dornan': 165, 'jamie foxx': 166, 'jared leto': 167, 'jason bateman': 168, 'jason momoa': 169, 'jason segel': 170, 'jason statham': 171, 'jason sudeikis': 172, 'javier bardem': 173, 'jay baruchel': 174, 'jean reno': 175, 'jean-claude van damme': 176, 'jeff bridges': 177, 'jennifer aniston': 178, 'jennifer connelly': 179, 'jennifer garner': 180, 'jennifer jason leigh': 181, 'jennifer lawrence': 182, 'jennifer lopez': 183, 'jeremy renner': 184, 'jesse eisenberg': 185, 'jessica alba': 186, 'jessica biel': 187, 'jessica chastain': 188, 'jet li': 189, 'jim carrey': 190, 'jim caviezel': 191, 'jim sturgess': 192, 'joaquin phoenix': 193, 'jodie foster': 194, 'joel edgerton': 195, 'joey king': 196, 'john c. reilly': 197, 'john cena': 198, 'john cusack': 199, 'john goodman': 200, 'john leguizamo': 201, 'john malkovich': 202, 'john travolta': 203, 'johnny depp': 204, 'jonah hill': 205, 'joseph gordon-levitt': 206, 'josh brolin': 207, 'josh duhamel': 208, 'josh hartnett': 209, 'josh hutcherson': 210, 'jude law': 211, 'judi dench': 212, 'julia roberts': 213, 'julia stiles': 214, 'julianne moore': 215, 'juliette binoche': 216, 'justin long': 217, 'justin timberlake': 218, 'karl urban': 219, 'kate beckinsale': 220, 'kate bosworth': 221, 'kate hudson': 222, 'kate winslet': 223, 'katherine heigl': 224, 'kathy bates': 225, 'keanu reeves': 226, 'keira knightley': 227, 'kevin costner': 228, 'kevin hart': 229, 'kevin james': 230, 'kevin spacey': 231, 'kiefer sutherland': 232, 'kirsten dunst': 233, 'kristen bell': 234, 'kristen stewart': 235, 'kristen wiig': 236, 'kristin scott thomas': 237, 'kurt russell': 238, 'laura dern': 239, 'laura linney': 240, 'laurence fishburne': 241, 'lena headey': 242, 'leonardo dicaprio': 243, 'leslie bibb': 244, 'liam hemsworth': 245, 'liam neeson': 246, 'liev schreiber': 247, 'lily collins': 248, 'logan lerman': 249, 'lucy liu': 250, 'luke wilson': 251, 'mads mikkelsen': 252, 'maggie smith': 253, 'malin akerman': 254, 'margot robbie': 255, 'maria bello': 256, 'marion cotillard': 257, 'marisa tomei': 258, 'mark ruffalo': 259, 'mark strong': 260, 'mark wahlberg': 261, 'martin freeman': 262, 'martin lawrence': 263, 'mary elizabeth winstead': 264, 'matt damon': 265, 'matthew goode': 266, 'matthew mcconaughey': 267, 'megan fox': 268, 'mel gibson': 269, 'melissa mccarthy': 270, 'meryl streep': 271, 'mia wasikowska': 272, 'michael b. jordan': 273, 'michael caine': 274, 'michael douglas': 275, 'michael fassbender': 276, 'michael keaton': 277, 'michael peña': 278, 'michael shannon': 279, 'michael sheen': 280, 'michelle monaghan': 281, 'michelle rodriguez': 282, 'michelle williams': 283, 'mickey rourke': 284, 'mila kunis': 285, 'miles teller': 286, 'milla jovovich': 287, 'morgan freeman': 288, 'mélanie laurent': 289, 'naomi watts': 290, 'natalie portman': 291, 'nicholas hoult': 292, 'nicolas cage': 293, 'nicole kidman': 294, 'noomi rapace': 295, 'octavia spencer': 296, 'olga kurylenko': 297, 'olivia wilde': 298, 'orlando bloom': 299, 'oscar isaac': 300, 'other': 301, 'owen wilson': 302, 'patricia clarkson': 303, 'patrick wilson': 304, 'paul bettany': 305, 'paul giamatti': 306, 'paul rudd': 307, 'paul walker': 308, 'penélope cruz': 309, 'peter dinklage': 310, 'peter sarsgaard': 311, 'philip seymour hoffman': 312, 'pierce brosnan': 313, 'piper perabo': 314, 'rachel mcadams': 315, 'rachel weisz': 316, 'ralph fiennes': 317, 'ranbir kapoor': 318, 'ray stevenson': 319, 'rebecca hall': 320, 'reese witherspoon': 321, 'regina hall': 322, 'renée zellweger': 323, 'richard gere': 324, 'richard jenkins': 325, 'robert de niro': 326, 'robert downey jr.': 327, 'robert pattinson': 328, 'robert redford': 329, 'robin williams': 330, 'robin wright': 331, 'ron perlman': 332, 'rooney mara': 333, 'rosamund pike': 334, 'rosario dawson': 335, 'rose byrne': 336, 'rupert friend': 337, 'russell crowe': 338, 'ryan gosling': 339, 'ryan reynolds': 340, 'salma hayek': 341, 'sam rockwell': 342, 'sam worthington': 343, 'samuel l. jackson': 344, 'sandra bullock': 345, 'saoirse ronan': 346, 'scarlett johansson': 347, 'sean bean': 348, 'sean penn': 349, 'seann william scott': 350, 'selena gomez': 351, 'seth rogen': 352, 'shah rukh khan': 353, 'shailene woodley': 354, 'sharlto copley': 355, 'shia labeouf': 356, 'sienna miller': 357, 'sigourney weaver': 358, 'simon pegg': 359, 'stanley tucci': 360, 'stellan skarsgård': 361, 'steve carell': 362, 'steve coogan': 363, 'steve martin': 364, 'steve zahn': 365, 'susan sarandon': 366, 'sylvester stallone': 367, 'taraji p. henson': 368, 'taron egerton': 369, 'tessa thompson': 370, 'thandiwe newton': 371, 'theo james': 372, 'thomas jane': 373, 'tilda swinton': 374, 'tim robbins': 375, 'tim roth': 376, 'timothy olyphant': 377, 'timothy spall': 378, 'tom cruise': 379, 'tom hanks': 380, 'tom hardy': 381, 'tom holland': 382, 'tom wilkinson': 383, 'tommy lee jones': 384, 'toni collette': 385, 'tye sheridan': 386, 'tyler perry': 387, 'uma thurman': 388, 'vanessa hudgens': 389, 'vera farmiga': 390, 'viggo mortensen': 391, 'vin diesel': 392, 'vince vaughn': 393, 'vincent cassel': 394, 'ving rhames': 395, 'viola davis': 396, 'will ferrell': 397, 'will smith': 398, 'willem dafoe': 399, 'woody harrelson': 400, 'zac efron': 401, 'zach galifianakis': 402, 'zoe saldaña': 403}\n"
     ]
    }
   ],
   "source": [
    "stars = df_movies['Stars'].explode().unique()\n",
    "star_index_by_name = {star: idx for idx, star in enumerate(sorted(stars))}\n",
    "print(\"star Index Mapping:\", star_index_by_name)"
   ]
  },
  {
   "cell_type": "code",
   "execution_count": 56,
   "id": "7d7e3584",
   "metadata": {
    "execution": {
     "iopub.execute_input": "2025-05-08T03:56:32.125461Z",
     "iopub.status.busy": "2025-05-08T03:56:32.124762Z",
     "iopub.status.idle": "2025-05-08T03:56:32.138698Z",
     "shell.execute_reply": "2025-05-08T03:56:32.137966Z"
    },
    "papermill": {
     "duration": 0.037353,
     "end_time": "2025-05-08T03:56:32.139945",
     "exception": false,
     "start_time": "2025-05-08T03:56:32.102592",
     "status": "completed"
    },
    "tags": []
   },
   "outputs": [
    {
     "data": {
      "text/html": [
       "<div>\n",
       "<style scoped>\n",
       "    .dataframe tbody tr th:only-of-type {\n",
       "        vertical-align: middle;\n",
       "    }\n",
       "\n",
       "    .dataframe tbody tr th {\n",
       "        vertical-align: top;\n",
       "    }\n",
       "\n",
       "    .dataframe thead th {\n",
       "        text-align: right;\n",
       "    }\n",
       "</style>\n",
       "<table border=\"1\" class=\"dataframe\">\n",
       "  <thead>\n",
       "    <tr style=\"text-align: right;\">\n",
       "      <th></th>\n",
       "      <th>ID</th>\n",
       "      <th>Genres</th>\n",
       "      <th>Directors</th>\n",
       "      <th>Writers</th>\n",
       "      <th>Stars</th>\n",
       "      <th>Year_Group</th>\n",
       "      <th>Runtime_group</th>\n",
       "    </tr>\n",
       "  </thead>\n",
       "  <tbody>\n",
       "    <tr>\n",
       "      <th>0</th>\n",
       "      <td>tt0283530</td>\n",
       "      <td>[drama]</td>\n",
       "      <td>[other]</td>\n",
       "      <td>[other]</td>\n",
       "      <td>[emile hirsch, other]</td>\n",
       "      <td>2000</td>\n",
       "      <td>Standard</td>\n",
       "    </tr>\n",
       "    <tr>\n",
       "      <th>1</th>\n",
       "      <td>tt6859762</td>\n",
       "      <td>[drama, horror, mystery]</td>\n",
       "      <td>[other]</td>\n",
       "      <td>[other]</td>\n",
       "      <td>[domhnall gleeson, other]</td>\n",
       "      <td>2015</td>\n",
       "      <td>Standard</td>\n",
       "    </tr>\n",
       "    <tr>\n",
       "      <th>2</th>\n",
       "      <td>tt1196204</td>\n",
       "      <td>[comedy, drama]</td>\n",
       "      <td>[other]</td>\n",
       "      <td>[other]</td>\n",
       "      <td>[felicity jones, other]</td>\n",
       "      <td>2010</td>\n",
       "      <td>Standard</td>\n",
       "    </tr>\n",
       "    <tr>\n",
       "      <th>3</th>\n",
       "      <td>tt3463106</td>\n",
       "      <td>[drama, horror, sci-fi, thriller, zombie horror]</td>\n",
       "      <td>[other]</td>\n",
       "      <td>[other]</td>\n",
       "      <td>[elliot page, other]</td>\n",
       "      <td>2015</td>\n",
       "      <td>Standard</td>\n",
       "    </tr>\n",
       "    <tr>\n",
       "      <th>4</th>\n",
       "      <td>tt1023490</td>\n",
       "      <td>[biography, drama]</td>\n",
       "      <td>[paolo sorrentino]</td>\n",
       "      <td>[paolo sorrentino]</td>\n",
       "      <td>[other]</td>\n",
       "      <td>2005</td>\n",
       "      <td>Standard</td>\n",
       "    </tr>\n",
       "  </tbody>\n",
       "</table>\n",
       "</div>"
      ],
      "text/plain": [
       "          ID                                            Genres  \\\n",
       "0  tt0283530                                           [drama]   \n",
       "1  tt6859762                          [drama, horror, mystery]   \n",
       "2  tt1196204                                   [comedy, drama]   \n",
       "3  tt3463106  [drama, horror, sci-fi, thriller, zombie horror]   \n",
       "4  tt1023490                                [biography, drama]   \n",
       "\n",
       "            Directors             Writers                      Stars  \\\n",
       "0             [other]             [other]      [emile hirsch, other]   \n",
       "1             [other]             [other]  [domhnall gleeson, other]   \n",
       "2             [other]             [other]    [felicity jones, other]   \n",
       "3             [other]             [other]       [elliot page, other]   \n",
       "4  [paolo sorrentino]  [paolo sorrentino]                    [other]   \n",
       "\n",
       "   Year_Group Runtime_group  \n",
       "0        2000      Standard  \n",
       "1        2015      Standard  \n",
       "2        2010      Standard  \n",
       "3        2015      Standard  \n",
       "4        2005      Standard  "
      ]
     },
     "execution_count": 56,
     "metadata": {},
     "output_type": "execute_result"
    }
   ],
   "source": [
    "df_movies.head()"
   ]
  },
  {
   "cell_type": "markdown",
   "id": "3d7e80ff",
   "metadata": {
    "papermill": {
     "duration": 0.021726,
     "end_time": "2025-05-08T03:56:32.183275",
     "exception": false,
     "start_time": "2025-05-08T03:56:32.161549",
     "status": "completed"
    },
    "tags": []
   },
   "source": [
    "Tạo offset cho ánh xạ"
   ]
  },
  {
   "cell_type": "code",
   "execution_count": 57,
   "id": "8ac27bf1",
   "metadata": {
    "execution": {
     "iopub.execute_input": "2025-05-08T03:56:32.228857Z",
     "iopub.status.busy": "2025-05-08T03:56:32.228245Z",
     "iopub.status.idle": "2025-05-08T03:56:32.233596Z",
     "shell.execute_reply": "2025-05-08T03:56:32.232672Z"
    },
    "papermill": {
     "duration": 0.030213,
     "end_time": "2025-05-08T03:56:32.235118",
     "exception": false,
     "start_time": "2025-05-08T03:56:32.204905",
     "status": "completed"
    },
    "tags": []
   },
   "outputs": [],
   "source": [
    "num_movies = len(df_movies)\n",
    "movie_offset = occupation_offset + len(occupation_index_by_name)\n",
    "\n",
    "\n",
    "genre_offset     = movie_offset + num_movies\n",
    "year_offset      = genre_offset + len(genre_index_by_name)\n",
    "runtime_offset   = year_offset + len(year_index_by_group)\n",
    "director_offset  = runtime_offset + len(runtime_index_by_group)\n",
    "writer_offset    = director_offset + len(director_index_by_name)\n",
    "star_offset      = writer_offset + len(writer_index_by_name)"
   ]
  },
  {
   "cell_type": "code",
   "execution_count": 58,
   "id": "24c0f924",
   "metadata": {
    "execution": {
     "iopub.execute_input": "2025-05-08T03:56:32.281414Z",
     "iopub.status.busy": "2025-05-08T03:56:32.280766Z",
     "iopub.status.idle": "2025-05-08T03:56:32.642276Z",
     "shell.execute_reply": "2025-05-08T03:56:32.641466Z"
    },
    "papermill": {
     "duration": 0.385863,
     "end_time": "2025-05-08T03:56:32.643468",
     "exception": false,
     "start_time": "2025-05-08T03:56:32.257605",
     "status": "completed"
    },
    "tags": []
   },
   "outputs": [
    {
     "name": "stdout",
     "output_type": "stream",
     "text": [
      "Example for the first movie: [14178, 20888, 20985, 20992, 21197, 21576, 21810, 21998]\n"
     ]
    }
   ],
   "source": [
    "movie_features = []\n",
    "\n",
    "for i, row in df_movies.iterrows():\n",
    "    features = []\n",
    "\n",
    "    # Movie ID (duy nhất cho mỗi movie)\n",
    "    features.append(movie_offset + i)\n",
    "\n",
    "    # Genres\n",
    "    for genre in row['Genres']:\n",
    "        features.append(genre_index_by_name[genre] + genre_offset)\n",
    "\n",
    "    # Year group\n",
    "    features.append(year_index_by_group[row['Year_Group']] + year_offset)\n",
    "\n",
    "    # Runtime group\n",
    "    features.append(runtime_index_by_group[row['Runtime_group']] + runtime_offset)\n",
    "\n",
    "    # Directors\n",
    "    for director in row['Directors']:\n",
    "        features.append(director_index_by_name[director] + director_offset)\n",
    "\n",
    "    # Writers\n",
    "    for writer in row['Writers']:\n",
    "        features.append(writer_index_by_name[writer] + writer_offset)\n",
    "\n",
    "    # Stars\n",
    "    for star in row['Stars']:\n",
    "        features.append(star_index_by_name[star] + star_offset)\n",
    "\n",
    "    movie_features.append(features)\n",
    "    \n",
    "print(\"Example for the first movie:\", movie_features[0])"
   ]
  },
  {
   "cell_type": "code",
   "execution_count": 59,
   "id": "8bab578f",
   "metadata": {
    "execution": {
     "iopub.execute_input": "2025-05-08T03:56:32.685155Z",
     "iopub.status.busy": "2025-05-08T03:56:32.684890Z",
     "iopub.status.idle": "2025-05-08T03:56:32.689297Z",
     "shell.execute_reply": "2025-05-08T03:56:32.688464Z"
    },
    "papermill": {
     "duration": 0.026406,
     "end_time": "2025-05-08T03:56:32.690368",
     "exception": false,
     "start_time": "2025-05-08T03:56:32.663962",
     "status": "completed"
    },
    "tags": []
   },
   "outputs": [
    {
     "name": "stdout",
     "output_type": "stream",
     "text": [
      "total input: 22101\n"
     ]
    }
   ],
   "source": [
    "total_inputs = (\n",
    "    star_offset + len(star_index_by_name)\n",
    ")\n",
    "print(\"total input:\", total_inputs)\n"
   ]
  },
  {
   "cell_type": "markdown",
   "id": "0cf92af8",
   "metadata": {
    "papermill": {
     "duration": 0.02181,
     "end_time": "2025-05-08T03:56:32.733579",
     "exception": false,
     "start_time": "2025-05-08T03:56:32.711769",
     "status": "completed"
    },
    "tags": []
   },
   "source": [
    "## 2.4 Data Preparation"
   ]
  },
  {
   "cell_type": "markdown",
   "id": "f7e61c71",
   "metadata": {
    "papermill": {
     "duration": 0.02035,
     "end_time": "2025-05-08T03:56:32.774797",
     "exception": false,
     "start_time": "2025-05-08T03:56:32.754447",
     "status": "completed"
    },
    "tags": []
   },
   "source": [
    "### 2.4.1 Encoding Username, MovieID"
   ]
  },
  {
   "cell_type": "code",
   "execution_count": 60,
   "id": "15c2a36a",
   "metadata": {
    "execution": {
     "iopub.execute_input": "2025-05-08T03:56:32.820004Z",
     "iopub.status.busy": "2025-05-08T03:56:32.819261Z",
     "iopub.status.idle": "2025-05-08T03:56:36.867761Z",
     "shell.execute_reply": "2025-05-08T03:56:36.866834Z"
    },
    "papermill": {
     "duration": 4.072165,
     "end_time": "2025-05-08T03:56:36.869368",
     "exception": false,
     "start_time": "2025-05-08T03:56:32.797203",
     "status": "completed"
    },
    "tags": []
   },
   "outputs": [],
   "source": [
    "from typing import List\n",
    "\n",
    "import pandas as pd\n",
    "import torch\n",
    "from torch.utils.data import Dataset\n",
    "from torch.utils.data import DataLoader\n",
    "from collections import defaultdict\n",
    "import heapq"
   ]
  },
  {
   "cell_type": "code",
   "execution_count": 61,
   "id": "57b7be10",
   "metadata": {
    "execution": {
     "iopub.execute_input": "2025-05-08T03:56:36.914077Z",
     "iopub.status.busy": "2025-05-08T03:56:36.913628Z",
     "iopub.status.idle": "2025-05-08T03:56:36.921725Z",
     "shell.execute_reply": "2025-05-08T03:56:36.921062Z"
    },
    "papermill": {
     "duration": 0.031312,
     "end_time": "2025-05-08T03:56:36.922829",
     "exception": false,
     "start_time": "2025-05-08T03:56:36.891517",
     "status": "completed"
    },
    "tags": []
   },
   "outputs": [],
   "source": [
    "class MovieRecommenderDataset(Dataset):\n",
    "    def __init__(self, ratings_df, movie_features, user_features, user_index_by_username, movie_index_by_id):\n",
    "        self.ratings_df = ratings_df\n",
    "        self.movie_features = movie_features\n",
    "        self.user_features = user_features\n",
    "        self.user_index_by_username = user_index_by_username\n",
    "        self.movie_index_by_id = movie_index_by_id\n",
    "        \n",
    "    def __len__(self):\n",
    "        return len(self.ratings_df)\n",
    "    \n",
    "    def __getitem__(self, index):\n",
    "        username = self.ratings_df[\"Username\"].iloc[index]\n",
    "        movie_id = self.ratings_df[\"MovieID\"].iloc[index]\n",
    "        rating = self.ratings_df[\"Rating\"].iloc[index]\n",
    "        \n",
    "        # Get user index\n",
    "        user_index = self.user_index_by_username.get(username, 0)\n",
    "        \n",
    "        # Get movie features\n",
    "        movie_idx = self.movie_index_by_id.get(movie_id, 0)\n",
    "        features = self.user_features[user_index] + self.movie_features[movie_idx]\n",
    "        \n",
    "        return torch.tensor(features, dtype=torch.long), torch.tensor(rating, dtype=torch.float)\n",
    "\n",
    "from functools import partial\n",
    "def collate_fn(batch, num_inputs):\n",
    "    features, ratings = zip(*batch)\n",
    "    \n",
    "    # Find the maximum length of features\n",
    "    max_len = max(len(f) for f in features)\n",
    "    \n",
    "    # Pad features to the same length\n",
    "    padded_features = []\n",
    "    for f in features:\n",
    "        #num_inputs là giá trị đặc biệt bảo sung vào\n",
    "        padded = torch.cat([f, torch.full((max_len - len(f),), num_inputs, dtype=torch.long)])\n",
    "        padded_features.append(padded)\n",
    "    \n",
    "    # Stack tensors\n",
    "    features_tensor = torch.stack(padded_features)\n",
    "    ratings_tensor = torch.stack(ratings)\n",
    "    \n",
    "    return features_tensor, ratings_tensor"
   ]
  },
  {
   "cell_type": "markdown",
   "id": "953095a0",
   "metadata": {
    "papermill": {
     "duration": 0.020056,
     "end_time": "2025-05-08T03:56:36.963990",
     "exception": false,
     "start_time": "2025-05-08T03:56:36.943934",
     "status": "completed"
    },
    "tags": []
   },
   "source": [
    "### 2.4.2 Split train/test: Leave-One-Out Split (LOO) (last one ratings for each user)"
   ]
  },
  {
   "cell_type": "code",
   "execution_count": 62,
   "id": "41f046fb",
   "metadata": {
    "execution": {
     "iopub.execute_input": "2025-05-08T03:56:37.006886Z",
     "iopub.status.busy": "2025-05-08T03:56:37.006592Z",
     "iopub.status.idle": "2025-05-08T03:56:37.266930Z",
     "shell.execute_reply": "2025-05-08T03:56:37.266138Z"
    },
    "papermill": {
     "duration": 0.283692,
     "end_time": "2025-05-08T03:56:37.268389",
     "exception": false,
     "start_time": "2025-05-08T03:56:36.984697",
     "status": "completed"
    },
    "tags": []
   },
   "outputs": [],
   "source": [
    "ratings['CommentDate'] = pd.to_datetime(ratings['CommentDate'])\n",
    "ratings = ratings.sort_values(by=['Username', 'CommentDate'])"
   ]
  },
  {
   "cell_type": "code",
   "execution_count": 63,
   "id": "0264d4ba",
   "metadata": {
    "execution": {
     "iopub.execute_input": "2025-05-08T03:56:37.314100Z",
     "iopub.status.busy": "2025-05-08T03:56:37.313807Z",
     "iopub.status.idle": "2025-05-08T03:56:41.707030Z",
     "shell.execute_reply": "2025-05-08T03:56:41.706263Z"
    },
    "papermill": {
     "duration": 4.417993,
     "end_time": "2025-05-08T03:56:41.708546",
     "exception": false,
     "start_time": "2025-05-08T03:56:37.290553",
     "status": "completed"
    },
    "tags": []
   },
   "outputs": [],
   "source": [
    "train_val_rows = []\n",
    "test_rows = []\n",
    "\n",
    "for user_id, group in ratings.groupby('Username'):\n",
    "    if len(group) >= 2:\n",
    "        test_rows.append(group.iloc[-1])\n",
    "        train_val_rows.append(group.iloc[:-1])\n",
    "    else:\n",
    "        train_val_rows.append(group)\n",
    "\n",
    "df_train_val = pd.concat(train_val_rows)\n",
    "df_test = pd.DataFrame(test_rows)"
   ]
  },
  {
   "cell_type": "code",
   "execution_count": 64,
   "id": "bdd6dc08",
   "metadata": {
    "execution": {
     "iopub.execute_input": "2025-05-08T03:56:41.752404Z",
     "iopub.status.busy": "2025-05-08T03:56:41.751738Z",
     "iopub.status.idle": "2025-05-08T03:56:41.756173Z",
     "shell.execute_reply": "2025-05-08T03:56:41.755328Z"
    },
    "papermill": {
     "duration": 0.027388,
     "end_time": "2025-05-08T03:56:41.757285",
     "exception": false,
     "start_time": "2025-05-08T03:56:41.729897",
     "status": "completed"
    },
    "tags": []
   },
   "outputs": [
    {
     "name": "stdout",
     "output_type": "stream",
     "text": [
      "Train size: (1255513, 5)\n",
      "Test size: (14148, 5)\n"
     ]
    }
   ],
   "source": [
    "print(\"Train size:\", df_train_val.shape)\n",
    "print(\"Test size:\", df_test.shape)"
   ]
  },
  {
   "cell_type": "code",
   "execution_count": 65,
   "id": "1556187b",
   "metadata": {
    "execution": {
     "iopub.execute_input": "2025-05-08T03:56:41.802826Z",
     "iopub.status.busy": "2025-05-08T03:56:41.802195Z",
     "iopub.status.idle": "2025-05-08T03:56:42.116277Z",
     "shell.execute_reply": "2025-05-08T03:56:42.115219Z"
    },
    "papermill": {
     "duration": 0.338778,
     "end_time": "2025-05-08T03:56:42.117931",
     "exception": false,
     "start_time": "2025-05-08T03:56:41.779153",
     "status": "completed"
    },
    "tags": []
   },
   "outputs": [
    {
     "name": "stdout",
     "output_type": "stream",
     "text": [
      "Train: 1129961\n",
      "Validation: 125552\n",
      "Test: 14148\n"
     ]
    }
   ],
   "source": [
    "from sklearn.model_selection import train_test_split\n",
    "\n",
    "df_train, df_val = train_test_split(df_train_val, test_size=0.1, random_state=42)\n",
    "\n",
    "print(\"Train:\", len(df_train))\n",
    "print(\"Validation:\", len(df_val))\n",
    "print(\"Test:\", len(df_test))\n"
   ]
  },
  {
   "cell_type": "markdown",
   "id": "9ecef575",
   "metadata": {
    "papermill": {
     "duration": 0.022659,
     "end_time": "2025-05-08T03:56:42.163904",
     "exception": false,
     "start_time": "2025-05-08T03:56:42.141245",
     "status": "completed"
    },
    "tags": []
   },
   "source": [
    "# 3.Model"
   ]
  },
  {
   "cell_type": "code",
   "execution_count": 66,
   "id": "d36c546e",
   "metadata": {
    "execution": {
     "iopub.execute_input": "2025-05-08T03:56:42.207169Z",
     "iopub.status.busy": "2025-05-08T03:56:42.206878Z",
     "iopub.status.idle": "2025-05-08T03:56:52.634031Z",
     "shell.execute_reply": "2025-05-08T03:56:52.633323Z"
    },
    "papermill": {
     "duration": 10.450751,
     "end_time": "2025-05-08T03:56:52.635423",
     "exception": false,
     "start_time": "2025-05-08T03:56:42.184672",
     "status": "completed"
    },
    "tags": []
   },
   "outputs": [],
   "source": [
    "import torch.nn as nn\n",
    "import torch.nn.functional as F\n",
    "import pandas as pd\n",
    "import numpy as np\n",
    "from torch.utils.data import Dataset, DataLoader\n",
    "import pytorch_lightning as pl\n",
    "from pytorch_lightning.loggers import TensorBoardLogger\n",
    "from pytorch_lightning.callbacks import EarlyStopping, ModelCheckpoint, LearningRateMonitor, LearningRateFinder\n",
    "from collections import defaultdict\n",
    "import heapq"
   ]
  },
  {
   "cell_type": "markdown",
   "id": "1277c75c",
   "metadata": {
    "papermill": {
     "duration": 0.020055,
     "end_time": "2025-05-08T03:56:52.676514",
     "exception": false,
     "start_time": "2025-05-08T03:56:52.656459",
     "status": "completed"
    },
    "tags": []
   },
   "source": [
    "Xây dựng mô hình factorization dựa trên công thức\n",
    "$$\n",
    "\\hat{y} = w_0 + \\sum_{i=1}^{n} w_i x_i + \\sum_{i=1}^{n} \\sum_{j=i+1}^{n} \\langle v_i, v_j \\rangle x_i x_j\n",
    "$$\n"
   ]
  },
  {
   "cell_type": "code",
   "execution_count": 67,
   "id": "fc9e2ed2",
   "metadata": {
    "execution": {
     "iopub.execute_input": "2025-05-08T03:56:52.719270Z",
     "iopub.status.busy": "2025-05-08T03:56:52.718832Z",
     "iopub.status.idle": "2025-05-08T03:56:52.734616Z",
     "shell.execute_reply": "2025-05-08T03:56:52.733734Z"
    },
    "papermill": {
     "duration": 0.03945,
     "end_time": "2025-05-08T03:56:52.735995",
     "exception": false,
     "start_time": "2025-05-08T03:56:52.696545",
     "status": "completed"
    },
    "tags": []
   },
   "outputs": [],
   "source": [
    "class FactorizationMachine(pl.LightningModule):\n",
    "    def __init__(self, num_inputs, embedding_dim, lr=5e-4, weight_decay=5e-5, dropout_rate=0.2):\n",
    "        super(FactorizationMachine, self).__init__()\n",
    "        self.save_hyperparameters()\n",
    "        \n",
    "        self.rating_mean = (10 + 1) / 2\n",
    "        self.rating_range = (10 - 1) / 2\n",
    "        \n",
    "        # Ma trận V\n",
    "        self.embedding = nn.Embedding(num_inputs + 1, embedding_dim, padding_idx= num_inputs)\n",
    "        \n",
    "        # bias w\n",
    "        self.linear = nn.Embedding(num_inputs + 1, 1, padding_idx= num_inputs)\n",
    "        \n",
    "        # Global bias w0\n",
    "        self.bias = nn.Parameter(torch.zeros(1))\n",
    "\n",
    "        self.dropout = nn.Dropout(p=dropout_rate)\n",
    "        self._init_weights()\n",
    "        \n",
    "    def _init_weights(self):\n",
    "        nn.init.xavier_normal_(self.embedding.weight.data, gain=1.0)\n",
    "        nn.init.xavier_normal_(self.linear.weight.data, gain=1.0)\n",
    "        nn.init.normal_(self.bias.data, mean=0.0, std=0.01)\n",
    "        \n",
    "    def forward(self, x):\n",
    "        mask = (x != self.embedding.padding_idx).unsqueeze(-1)\n",
    "\n",
    "        # Bias cho từng feature: w_i * x_i\n",
    "        linear_part = self.linear(x).sum(dim=1).squeeze(-1)  # Thêm squeeze(-1) để chuyển từ [batch, 1] -> [batch]  \n",
    "\n",
    "        # Ma trận V\n",
    "        embed_x = self.embedding(x)  \n",
    "        \n",
    "        # Tính theo công thức  \n",
    "        sum_of_embed = embed_x.sum(dim=1) \n",
    "        square_of_sum = sum_of_embed.pow(2) \n",
    "        \n",
    "        sum_of_square = embed_x.pow(2).sum(dim=1) \n",
    "        \n",
    "        # Phần cuối trong công thức\n",
    "        interactions = 0.5 * (square_of_sum - sum_of_square).sum(dim=1)\n",
    "        \n",
    "        # Tổng tất cả\n",
    "        predictions = self.bias + linear_part + interactions\n",
    "        \n",
    "        return predictions\n",
    "    \n",
    "    def predict_rating(self, username, movie_id, user_index_by_username, movie_index_by_id, movie_features, user_features):\n",
    "\n",
    "        self.eval()  \n",
    "        with torch.no_grad():\n",
    "            user_index = user_index_by_username.get(username, 0)\n",
    "            movie_idx = movie_index_by_id.get(movie_id, 0)\n",
    "\n",
    "            features = user_features[user_index] + movie_features[movie_idx]\n",
    "            features_tensor = torch.tensor([features], dtype=torch.long)\n",
    "\n",
    "            normalized_pred = self(features_tensor)\n",
    "            original_pred = normalized_pred * self.rating_range + self.rating_mean\n",
    "            return torch.clip(original_pred, min=1, max=10).item()\n",
    "    \n",
    "    def recommend_top_k(self, username, movie_features, user_features, user_index_by_username, k=10, exclude_movie_indices=None):\n",
    "\n",
    "        self.eval() \n",
    "        if exclude_movie_indices is None:\n",
    "            exclude_movie_indices = set()\n",
    "            \n",
    "        predictions = []\n",
    "        \n",
    "        with torch.no_grad():\n",
    "            user_index = user_index_by_username.get(username, 0)\n",
    "            \n",
    "            for movie_idx in range(len(movie_features)):\n",
    "                if movie_idx in exclude_movie_indices:\n",
    "                    continue\n",
    "                \n",
    "                features = user_features[user_index] + movie_features[movie_idx]\n",
    "                features_tensor = torch.tensor([features], dtype=torch.long)\n",
    "                \n",
    "                normalized_pred = self(features_tensor)\n",
    "                original_pred = normalized_pred * self.rating_range + self.rating_mean\n",
    "                \n",
    "                predictions.append((movie_idx, original_pred.item()))\n",
    "        \n",
    "        return sorted(predictions, key=lambda x: x[1], reverse=True)[:k]\n",
    "    \n",
    "   \n",
    "     \n",
    "    def training_step(self, batch, batch_idx):\n",
    "        inputs, ratings = batch\n",
    "        \n",
    "        # Normalize ratings to centered range\n",
    "        normalized_ratings = (ratings - self.rating_mean) / self.rating_range\n",
    "        \n",
    "        predicted_ratings = self(inputs)\n",
    "        loss = F.mse_loss(predicted_ratings, normalized_ratings)\n",
    "        self.log(\"train_loss\", loss)\n",
    "        return loss\n",
    "    \n",
    "    def validation_step(self, batch, batch_idx):\n",
    "        inputs, ratings = batch\n",
    "        \n",
    "        # Normalize ratings to centered range\n",
    "        normalized_ratings = (ratings - self.rating_mean) / self.rating_range\n",
    "        \n",
    "        predicted_ratings = self(inputs)\n",
    "        loss = F.mse_loss(predicted_ratings, normalized_ratings)\n",
    "        \n",
    "        # Calculate RMSE on original scale\n",
    "        pred_original = predicted_ratings * self.rating_range + self.rating_mean\n",
    "        rmse = torch.sqrt(F.mse_loss(pred_original, ratings))\n",
    "        \n",
    "        self.log(\"val_loss\", loss)\n",
    "        self.log(\"val_rmse\", rmse)\n",
    "        return loss\n",
    "    \n",
    "    def configure_optimizers(self):\n",
    "        return torch.optim.Adam(\n",
    "            self.parameters(), \n",
    "            lr=self.hparams.lr, \n",
    "            weight_decay=self.hparams.weight_decay\n",
    "        )\n",
    "\n",
    "    def on_validation_epoch_end(self):\n",
    "        train_loss = self.trainer.callback_metrics.get(\"train_loss\")\n",
    "        val_loss = self.trainer.callback_metrics.get(\"val_loss\")\n",
    "        val_rmse = self.trainer.callback_metrics.get(\"val_rmse\")\n",
    "        \n",
    "        train_loss_str = f\"{train_loss:.4f}\" if train_loss is not None else \"N/A\"\n",
    "        val_loss_str = f\"{val_loss:.4f}\" if val_loss is not None else \"N/A\"\n",
    "        val_rmse_str = f\"{val_rmse:.4f}\" if val_rmse is not None else \"N/A\"\n",
    "        \n",
    "        print(f\"Epoch {self.current_epoch}: Train Loss: {train_loss_str}, Val Loss: {val_loss_str}, Val RMSE: {val_rmse_str}\")"
   ]
  },
  {
   "cell_type": "code",
   "execution_count": 68,
   "id": "15fd602a",
   "metadata": {
    "execution": {
     "iopub.execute_input": "2025-05-08T03:56:52.780294Z",
     "iopub.status.busy": "2025-05-08T03:56:52.780018Z",
     "iopub.status.idle": "2025-05-08T03:56:52.787170Z",
     "shell.execute_reply": "2025-05-08T03:56:52.786460Z"
    },
    "papermill": {
     "duration": 0.030634,
     "end_time": "2025-05-08T03:56:52.788290",
     "exception": false,
     "start_time": "2025-05-08T03:56:52.757656",
     "status": "completed"
    },
    "tags": []
   },
   "outputs": [],
   "source": [
    "# Training function\n",
    "def train_factorization_machine_model(\n",
    "    train_df,\n",
    "    val_df,\n",
    "    movie_features,\n",
    "    user_features,\n",
    "    user_index_by_username,\n",
    "    movie_index_by_id,\n",
    "    num_inputs,\n",
    "    embedding_dim=64,\n",
    "    batch_size=1024,\n",
    "    max_epochs=20,\n",
    "    learning_rate= 0.0005,\n",
    "    weight_decay=1e-5,\n",
    "    dropout_rate=0.02\n",
    "):\n",
    "\n",
    "    train_dataset = MovieRecommenderDataset(train_df, movie_features, user_features, user_index_by_username, movie_index_by_id)\n",
    "    val_dataset = MovieRecommenderDataset(val_df, movie_features, user_features, user_index_by_username, movie_index_by_id)\n",
    "    \n",
    "    num_workers = 4\n",
    "    \n",
    "    train_dataloader = DataLoader(\n",
    "        train_dataset,\n",
    "        batch_size=batch_size, \n",
    "        shuffle=True,\n",
    "        num_workers=num_workers,\n",
    "        collate_fn=partial(collate_fn, num_inputs=num_inputs)\n",
    "    )\n",
    "    \n",
    "    val_dataloader = DataLoader(\n",
    "        val_dataset,\n",
    "        batch_size=batch_size,\n",
    "        shuffle=False,\n",
    "        num_workers=num_workers,\n",
    "        collate_fn=partial(collate_fn, num_inputs=num_inputs)\n",
    "    )\n",
    "    \n",
    "    # Create model\n",
    "    model = FactorizationMachine(\n",
    "        num_inputs=num_inputs,\n",
    "        embedding_dim=embedding_dim,\n",
    "        lr=learning_rate,\n",
    "        weight_decay=weight_decay,\n",
    "        dropout_rate=dropout_rate\n",
    "    )\n",
    "    \n",
    "    logger = TensorBoardLogger(\n",
    "        \"fm_logs\",\n",
    "        name=f\"lr{learning_rate}_wd{weight_decay}_emb{embedding_dim}_b{batch_size}\"\n",
    "    )\n",
    "    \n",
    "    early_stop_callback = EarlyStopping(\n",
    "        monitor=\"val_loss\",\n",
    "        patience=5,\n",
    "        verbose=True,\n",
    "        mode=\"min\"\n",
    "    )\n",
    "\n",
    "    checkpoint_callback = ModelCheckpoint(\n",
    "        monitor=\"val_loss\",\n",
    "        dirpath=\"checkpoints/\",\n",
    "        filename=\"fm-best-{epoch:02d}-{val_loss:.4f}\",\n",
    "        save_top_k=1,\n",
    "        mode=\"min\"\n",
    "    )\n",
    "    \n",
    "    lr_monitor = LearningRateMonitor(logging_interval='epoch')\n",
    "\n",
    "    trainer = pl.Trainer(\n",
    "        max_epochs=max_epochs,\n",
    "        logger=logger,\n",
    "        accelerator=\"auto\",\n",
    "        devices=1,\n",
    "        callbacks=[early_stop_callback, checkpoint_callback, lr_monitor],\n",
    "        precision=\"16-mixed\"\n",
    "    )\n",
    "    \n",
    "    # Train model\n",
    "    trainer.fit(model, train_dataloader, val_dataloader)\n",
    "    \n",
    "    return model"
   ]
  },
  {
   "cell_type": "code",
   "execution_count": 69,
   "id": "894a3e8b",
   "metadata": {
    "execution": {
     "iopub.execute_input": "2025-05-08T03:56:52.830091Z",
     "iopub.status.busy": "2025-05-08T03:56:52.829539Z",
     "iopub.status.idle": "2025-05-08T03:56:52.834090Z",
     "shell.execute_reply": "2025-05-08T03:56:52.833488Z"
    },
    "papermill": {
     "duration": 0.026236,
     "end_time": "2025-05-08T03:56:52.835301",
     "exception": false,
     "start_time": "2025-05-08T03:56:52.809065",
     "status": "completed"
    },
    "tags": []
   },
   "outputs": [],
   "source": [
    "def generate_recommendations(\n",
    "    model,\n",
    "    username,\n",
    "    movie_features,\n",
    "    user_features,\n",
    "    user_index_by_username,\n",
    "    k=10,\n",
    "    user_rated_movies=None\n",
    "):\n",
    "    if user_rated_movies is None or username not in user_rated_movies:\n",
    "        exclude_indices = set()\n",
    "    else:\n",
    "        exclude_indices = user_rated_movies[username]\n",
    "    \n",
    "    recommendations = model.recommend_top_k(\n",
    "        username,\n",
    "        movie_features,\n",
    "        user_features,\n",
    "        user_index_by_username,\n",
    "        k=k,\n",
    "        exclude_movie_indices=exclude_indices\n",
    "    )\n",
    "    return recommendations"
   ]
  },
  {
   "cell_type": "code",
   "execution_count": 70,
   "id": "9e137f4d",
   "metadata": {
    "execution": {
     "iopub.execute_input": "2025-05-08T03:56:52.881733Z",
     "iopub.status.busy": "2025-05-08T03:56:52.881409Z",
     "iopub.status.idle": "2025-05-08T03:56:52.888277Z",
     "shell.execute_reply": "2025-05-08T03:56:52.887698Z"
    },
    "papermill": {
     "duration": 0.031216,
     "end_time": "2025-05-08T03:56:52.889300",
     "exception": false,
     "start_time": "2025-05-08T03:56:52.858084",
     "status": "completed"
    },
    "tags": []
   },
   "outputs": [],
   "source": [
    "def test_model_performance(model, test_df, movie_features, user_features, user_index_by_username, movie_index_by_id, num_inputs, batch_size=128):\n",
    "    model.eval()\n",
    "    \n",
    "    test_dataset = MovieRecommenderDataset(df_test, movie_features, user_features, user_index_by_username, movie_index_by_id)\n",
    "    \n",
    "    test_dataloader = DataLoader(\n",
    "        test_dataset,\n",
    "        batch_size=batch_size,\n",
    "        shuffle=False,\n",
    "        num_workers=4,\n",
    "        collate_fn=partial(collate_fn, num_inputs=num_inputs)\n",
    "    )\n",
    "    \n",
    "    total_samples = 0\n",
    "    sum_rmse = 0.0\n",
    "    sum_mae = 0.0\n",
    "    \n",
    "    # Thực hiện dự đoán và tính metric\n",
    "    device = next(model.parameters()).device  # Lấy device của model\n",
    "    \n",
    "    with torch.no_grad():\n",
    "        for inputs, ratings in test_dataloader:\n",
    "            inputs = inputs.to(device)\n",
    "            ratings = ratings.to(device)\n",
    "            \n",
    "            # Dự đoán và chuyển về thang điểm gốc\n",
    "            normalized_preds = model(inputs)\n",
    "            predicted_ratings = normalized_preds * model.rating_range + model.rating_mean\n",
    "            \n",
    "            # Tính RMSE và MAE\n",
    "            batch_rmse = torch.sqrt(F.mse_loss(predicted_ratings, ratings))\n",
    "            batch_mae = F.l1_loss(predicted_ratings, ratings)\n",
    "            \n",
    "            batch_size = ratings.size(0)\n",
    "            sum_rmse += batch_rmse.item() * batch_size\n",
    "            sum_mae += batch_mae.item() * batch_size\n",
    "            total_samples += batch_size\n",
    "    \n",
    "    avg_rmse = sum_rmse / total_samples\n",
    "    avg_mae = sum_mae / total_samples\n",
    "    \n",
    "    print(f\"Test Results on {total_samples} samples:\")\n",
    "    print(f\"RMSE: {avg_rmse:.4f}\")\n",
    "    print(f\"MAE: {avg_mae:.4f}\")\n",
    "    \n",
    "    return {\n",
    "        'rmse': avg_rmse,\n",
    "        'mae': avg_mae,\n",
    "        'num_samples': total_samples\n",
    "    }"
   ]
  },
  {
   "cell_type": "markdown",
   "id": "036ddb8a",
   "metadata": {
    "papermill": {
     "duration": 0.020415,
     "end_time": "2025-05-08T03:56:52.931290",
     "exception": false,
     "start_time": "2025-05-08T03:56:52.910875",
     "status": "completed"
    },
    "tags": []
   },
   "source": [
    "# 4. Train and eval"
   ]
  },
  {
   "cell_type": "code",
   "execution_count": 71,
   "id": "8fb27c2d",
   "metadata": {
    "execution": {
     "iopub.execute_input": "2025-05-08T03:56:52.973355Z",
     "iopub.status.busy": "2025-05-08T03:56:52.973076Z",
     "iopub.status.idle": "2025-05-08T04:04:48.346130Z",
     "shell.execute_reply": "2025-05-08T04:04:48.345388Z"
    },
    "papermill": {
     "duration": 475.395697,
     "end_time": "2025-05-08T04:04:48.347741",
     "exception": false,
     "start_time": "2025-05-08T03:56:52.952044",
     "status": "completed"
    },
    "tags": []
   },
   "outputs": [
    {
     "name": "stderr",
     "output_type": "stream",
     "text": [
      "2025-05-08 03:56:55.484997: E external/local_xla/xla/stream_executor/cuda/cuda_fft.cc:477] Unable to register cuFFT factory: Attempting to register factory for plugin cuFFT when one has already been registered\n",
      "WARNING: All log messages before absl::InitializeLog() is called are written to STDERR\n",
      "E0000 00:00:1746676615.709248      19 cuda_dnn.cc:8310] Unable to register cuDNN factory: Attempting to register factory for plugin cuDNN when one has already been registered\n",
      "E0000 00:00:1746676615.775259      19 cuda_blas.cc:1418] Unable to register cuBLAS factory: Attempting to register factory for plugin cuBLAS when one has already been registered\n"
     ]
    },
    {
     "data": {
      "application/vnd.jupyter.widget-view+json": {
       "model_id": "7118150a63804406bd8ffee802fa794c",
       "version_major": 2,
       "version_minor": 0
      },
      "text/plain": [
       "Sanity Checking: |          | 0/? [00:00<?, ?it/s]"
      ]
     },
     "metadata": {},
     "output_type": "display_data"
    },
    {
     "name": "stdout",
     "output_type": "stream",
     "text": [
      "Epoch 0: Train Loss: N/A, Val Loss: 9.1271, Val RMSE: 13.5948\n"
     ]
    },
    {
     "data": {
      "application/vnd.jupyter.widget-view+json": {
       "model_id": "f440c3dd561e438e927ce8b4b74f70e2",
       "version_major": 2,
       "version_minor": 0
      },
      "text/plain": [
       "Training: |          | 0/? [00:00<?, ?it/s]"
      ]
     },
     "metadata": {},
     "output_type": "display_data"
    },
    {
     "data": {
      "application/vnd.jupyter.widget-view+json": {
       "model_id": "6589573c089347b0a68dd438cdb6fae6",
       "version_major": 2,
       "version_minor": 0
      },
      "text/plain": [
       "Validation: |          | 0/? [00:00<?, ?it/s]"
      ]
     },
     "metadata": {},
     "output_type": "display_data"
    },
    {
     "name": "stdout",
     "output_type": "stream",
     "text": [
      "Epoch 0: Train Loss: 0.1484, Val Loss: 0.1502, Val RMSE: 1.7437\n"
     ]
    },
    {
     "data": {
      "application/vnd.jupyter.widget-view+json": {
       "model_id": "856eaea043c44cf4a7e705b0a4ad2aa7",
       "version_major": 2,
       "version_minor": 0
      },
      "text/plain": [
       "Validation: |          | 0/? [00:00<?, ?it/s]"
      ]
     },
     "metadata": {},
     "output_type": "display_data"
    },
    {
     "name": "stdout",
     "output_type": "stream",
     "text": [
      "Epoch 1: Train Loss: 0.1429, Val Loss: 0.1440, Val RMSE: 1.7074\n"
     ]
    },
    {
     "data": {
      "application/vnd.jupyter.widget-view+json": {
       "model_id": "f149766cf1d241e789a9cc6f03ee218c",
       "version_major": 2,
       "version_minor": 0
      },
      "text/plain": [
       "Validation: |          | 0/? [00:00<?, ?it/s]"
      ]
     },
     "metadata": {},
     "output_type": "display_data"
    },
    {
     "name": "stdout",
     "output_type": "stream",
     "text": [
      "Epoch 2: Train Loss: 0.1288, Val Loss: 0.1387, Val RMSE: 1.6757\n"
     ]
    },
    {
     "data": {
      "application/vnd.jupyter.widget-view+json": {
       "model_id": "118871b6c5424448bce4d519dddbb8a2",
       "version_major": 2,
       "version_minor": 0
      },
      "text/plain": [
       "Validation: |          | 0/? [00:00<?, ?it/s]"
      ]
     },
     "metadata": {},
     "output_type": "display_data"
    },
    {
     "name": "stdout",
     "output_type": "stream",
     "text": [
      "Epoch 3: Train Loss: 0.1201, Val Loss: 0.1351, Val RMSE: 1.6542\n"
     ]
    },
    {
     "data": {
      "application/vnd.jupyter.widget-view+json": {
       "model_id": "a6532914eed244fd89cb30040467704d",
       "version_major": 2,
       "version_minor": 0
      },
      "text/plain": [
       "Validation: |          | 0/? [00:00<?, ?it/s]"
      ]
     },
     "metadata": {},
     "output_type": "display_data"
    },
    {
     "name": "stdout",
     "output_type": "stream",
     "text": [
      "Epoch 4: Train Loss: 0.1168, Val Loss: 0.1331, Val RMSE: 1.6416\n"
     ]
    },
    {
     "data": {
      "application/vnd.jupyter.widget-view+json": {
       "model_id": "9014755855bb442090b468665501bfba",
       "version_major": 2,
       "version_minor": 0
      },
      "text/plain": [
       "Validation: |          | 0/? [00:00<?, ?it/s]"
      ]
     },
     "metadata": {},
     "output_type": "display_data"
    },
    {
     "name": "stdout",
     "output_type": "stream",
     "text": [
      "Epoch 5: Train Loss: 0.1102, Val Loss: 0.1322, Val RMSE: 1.6359\n"
     ]
    },
    {
     "data": {
      "application/vnd.jupyter.widget-view+json": {
       "model_id": "a1333d161b6a44de939d586fa336c167",
       "version_major": 2,
       "version_minor": 0
      },
      "text/plain": [
       "Validation: |          | 0/? [00:00<?, ?it/s]"
      ]
     },
     "metadata": {},
     "output_type": "display_data"
    },
    {
     "name": "stdout",
     "output_type": "stream",
     "text": [
      "Epoch 6: Train Loss: 0.1039, Val Loss: 0.1314, Val RMSE: 1.6311\n"
     ]
    },
    {
     "data": {
      "application/vnd.jupyter.widget-view+json": {
       "model_id": "eddafe42ef3146debedb1a431f018e25",
       "version_major": 2,
       "version_minor": 0
      },
      "text/plain": [
       "Validation: |          | 0/? [00:00<?, ?it/s]"
      ]
     },
     "metadata": {},
     "output_type": "display_data"
    },
    {
     "name": "stdout",
     "output_type": "stream",
     "text": [
      "Epoch 7: Train Loss: 0.0973, Val Loss: 0.1314, Val RMSE: 1.6314\n"
     ]
    },
    {
     "data": {
      "application/vnd.jupyter.widget-view+json": {
       "model_id": "6b15d46af9d34f55b082d512558d6a4c",
       "version_major": 2,
       "version_minor": 0
      },
      "text/plain": [
       "Validation: |          | 0/? [00:00<?, ?it/s]"
      ]
     },
     "metadata": {},
     "output_type": "display_data"
    },
    {
     "name": "stdout",
     "output_type": "stream",
     "text": [
      "Epoch 8: Train Loss: 0.0931, Val Loss: 0.1318, Val RMSE: 1.6334\n"
     ]
    },
    {
     "data": {
      "application/vnd.jupyter.widget-view+json": {
       "model_id": "644b26d50841461fb2ffc8393c119816",
       "version_major": 2,
       "version_minor": 0
      },
      "text/plain": [
       "Validation: |          | 0/? [00:00<?, ?it/s]"
      ]
     },
     "metadata": {},
     "output_type": "display_data"
    },
    {
     "name": "stdout",
     "output_type": "stream",
     "text": [
      "Epoch 9: Train Loss: 0.0890, Val Loss: 0.1323, Val RMSE: 1.6368\n"
     ]
    },
    {
     "data": {
      "application/vnd.jupyter.widget-view+json": {
       "model_id": "d328d7390c4c4018b60d8ffc174667db",
       "version_major": 2,
       "version_minor": 0
      },
      "text/plain": [
       "Validation: |          | 0/? [00:00<?, ?it/s]"
      ]
     },
     "metadata": {},
     "output_type": "display_data"
    },
    {
     "name": "stdout",
     "output_type": "stream",
     "text": [
      "Epoch 10: Train Loss: 0.0852, Val Loss: 0.1331, Val RMSE: 1.6415\n"
     ]
    },
    {
     "data": {
      "application/vnd.jupyter.widget-view+json": {
       "model_id": "78214cbbb42f472db35eb7c00057b9a1",
       "version_major": 2,
       "version_minor": 0
      },
      "text/plain": [
       "Validation: |          | 0/? [00:00<?, ?it/s]"
      ]
     },
     "metadata": {},
     "output_type": "display_data"
    },
    {
     "name": "stdout",
     "output_type": "stream",
     "text": [
      "Epoch 11: Train Loss: 0.0753, Val Loss: 0.1336, Val RMSE: 1.6449\n"
     ]
    }
   ],
   "source": [
    "model = train_factorization_machine_model(\n",
    "        train_df=df_train,\n",
    "        val_df=df_val,\n",
    "        movie_features=movie_features,\n",
    "        user_features = user_features,\n",
    "        user_index_by_username=user_index_by_username,\n",
    "        movie_index_by_id = movie_index_by_id,\n",
    "        num_inputs=total_inputs,\n",
    "        embedding_dim=1000,  \n",
    "        # batch_size=4096, \n",
    "        batch_size = 8192 ,\n",
    "        max_epochs=100       \n",
    "    )"
   ]
  },
  {
   "cell_type": "code",
   "execution_count": 72,
   "id": "f4dde595",
   "metadata": {
    "execution": {
     "iopub.execute_input": "2025-05-08T04:04:48.394928Z",
     "iopub.status.busy": "2025-05-08T04:04:48.394617Z",
     "iopub.status.idle": "2025-05-08T04:04:49.691691Z",
     "shell.execute_reply": "2025-05-08T04:04:49.690717Z"
    },
    "papermill": {
     "duration": 1.321311,
     "end_time": "2025-05-08T04:04:49.693055",
     "exception": false,
     "start_time": "2025-05-08T04:04:48.371744",
     "status": "completed"
    },
    "tags": []
   },
   "outputs": [
    {
     "name": "stdout",
     "output_type": "stream",
     "text": [
      "Test Results on 14148 samples:\n",
      "RMSE: 2.3736\n",
      "MAE: 1.8750\n"
     ]
    }
   ],
   "source": [
    "test_metrics = test_model_performance(\n",
    "    model=model,\n",
    "    test_df=df_test,\n",
    "    movie_features=movie_features,\n",
    "    user_features=user_features,\n",
    "    user_index_by_username=user_index_by_username,\n",
    "    movie_index_by_id=movie_index_by_id,\n",
    "    num_inputs=total_inputs,\n",
    "    batch_size=128\n",
    ")"
   ]
  },
  {
   "cell_type": "code",
   "execution_count": 73,
   "id": "3668ae5a",
   "metadata": {
    "execution": {
     "iopub.execute_input": "2025-05-08T04:04:49.741454Z",
     "iopub.status.busy": "2025-05-08T04:04:49.741089Z",
     "iopub.status.idle": "2025-05-08T04:04:49.752375Z",
     "shell.execute_reply": "2025-05-08T04:04:49.751538Z"
    },
    "papermill": {
     "duration": 0.036454,
     "end_time": "2025-05-08T04:04:49.753555",
     "exception": false,
     "start_time": "2025-05-08T04:04:49.717101",
     "status": "completed"
    },
    "tags": []
   },
   "outputs": [
    {
     "name": "stdout",
     "output_type": "stream",
     "text": [
      "Dự đoán người dùng bretttaylor-04022 sẽ đánh giá phim tt0434409: 7.55/10\n"
     ]
    }
   ],
   "source": [
    "#Test dự đoán\n",
    "username = \"bretttaylor-04022\"\n",
    "movie_id = 'tt0434409'  # Thay bằng ID phim thực tế\n",
    "\n",
    "predicted_rating = model.predict_rating(\n",
    "    username=username,\n",
    "    movie_id=movie_id,\n",
    "    user_index_by_username=user_index_by_username,\n",
    "    movie_index_by_id=movie_index_by_id,\n",
    "    movie_features=movie_features,\n",
    "    user_features=user_features\n",
    ")\n",
    "\n",
    "print(f\"Dự đoán người dùng {username} sẽ đánh giá phim {movie_id}: {predicted_rating:.2f}/10\")"
   ]
  },
  {
   "cell_type": "code",
   "execution_count": 74,
   "id": "d1f0795c",
   "metadata": {
    "execution": {
     "iopub.execute_input": "2025-05-08T04:04:49.803145Z",
     "iopub.status.busy": "2025-05-08T04:04:49.802827Z",
     "iopub.status.idle": "2025-05-08T04:04:52.603402Z",
     "shell.execute_reply": "2025-05-08T04:04:52.602418Z"
    },
    "papermill": {
     "duration": 2.827415,
     "end_time": "2025-05-08T04:04:52.604879",
     "exception": false,
     "start_time": "2025-05-08T04:04:49.777464",
     "status": "completed"
    },
    "tags": []
   },
   "outputs": [
    {
     "name": "stdout",
     "output_type": "stream",
     "text": [
      "Top 10 phim được gợi ý cho người dùng Libretio:\n",
      "1. Movie ID: 3693 - Điểm dự đoán: 7.63/10\n",
      "2. Movie ID: 2127 - Điểm dự đoán: 7.63/10\n",
      "3. Movie ID: 179 - Điểm dự đoán: 7.60/10\n",
      "4. Movie ID: 1524 - Điểm dự đoán: 7.55/10\n",
      "5. Movie ID: 2555 - Điểm dự đoán: 7.35/10\n",
      "6. Movie ID: 1379 - Điểm dự đoán: 7.35/10\n",
      "7. Movie ID: 1245 - Điểm dự đoán: 7.29/10\n",
      "8. Movie ID: 2904 - Điểm dự đoán: 7.27/10\n",
      "9. Movie ID: 3336 - Điểm dự đoán: 7.26/10\n",
      "10. Movie ID: 2916 - Điểm dự đoán: 7.23/10\n",
      "Top 10 phim được gợi ý cho người dùng bretttaylor-04022:\n",
      "1. Movie ID: 2745 - Điểm dự đoán: 9.97/10\n",
      "2. Movie ID: 5998 - Điểm dự đoán: 9.90/10\n",
      "3. Movie ID: 2333 - Điểm dự đoán: 9.76/10\n",
      "4. Movie ID: 3693 - Điểm dự đoán: 9.71/10\n",
      "5. Movie ID: 3179 - Điểm dự đoán: 9.70/10\n",
      "6. Movie ID: 1524 - Điểm dự đoán: 9.64/10\n",
      "7. Movie ID: 2115 - Điểm dự đoán: 9.59/10\n",
      "8. Movie ID: 3015 - Điểm dự đoán: 9.58/10\n",
      "9. Movie ID: 5057 - Điểm dự đoán: 9.55/10\n",
      "10. Movie ID: 1986 - Điểm dự đoán: 9.51/10\n"
     ]
    }
   ],
   "source": [
    "username = \"Libretio\" \n",
    "\n",
    "recommended_movies = generate_recommendations(\n",
    "    model=model,\n",
    "    username=username,\n",
    "    movie_features=movie_features,\n",
    "    user_features=user_features,\n",
    "    user_index_by_username=user_index_by_username,\n",
    "    k=10,\n",
    "    # user_rated_movies=user_rated_movies  # Bỏ qua nếu không có\n",
    ")\n",
    "\n",
    "print(f\"Top 10 phim được gợi ý cho người dùng {username}:\")\n",
    "for i, (movie_idx, rating) in enumerate(recommended_movies, 1):\n",
    "    movie_title = f\"Movie ID: {movie_idx}\"\n",
    "    \n",
    "    print(f\"{i}. {movie_title} - Điểm dự đoán: {rating:.2f}/10\")\n",
    "\n",
    "\n",
    "\n",
    "username = \"bretttaylor-04022\" \n",
    "\n",
    "recommended_movies = generate_recommendations(\n",
    "    model=model,\n",
    "    username=username,\n",
    "    movie_features=movie_features,\n",
    "    user_features=user_features,\n",
    "    user_index_by_username=user_index_by_username,\n",
    "    k=10,\n",
    "    # user_rated_movies=user_rated_movies  # Bỏ qua nếu không có\n",
    ")\n",
    "\n",
    "print(f\"Top 10 phim được gợi ý cho người dùng {username}:\")\n",
    "for i, (movie_idx, rating) in enumerate(recommended_movies, 1):\n",
    "    movie_title = f\"Movie ID: {movie_idx}\"\n",
    "    \n",
    "    print(f\"{i}. {movie_title} - Điểm dự đoán: {rating:.2f}/10\")"
   ]
  },
  {
   "cell_type": "code",
   "execution_count": 75,
   "id": "9e4e1a96",
   "metadata": {
    "execution": {
     "iopub.execute_input": "2025-05-08T04:04:52.654116Z",
     "iopub.status.busy": "2025-05-08T04:04:52.653278Z",
     "iopub.status.idle": "2025-05-08T04:04:52.747640Z",
     "shell.execute_reply": "2025-05-08T04:04:52.746604Z"
    },
    "papermill": {
     "duration": 0.120342,
     "end_time": "2025-05-08T04:04:52.749032",
     "exception": false,
     "start_time": "2025-05-08T04:04:52.628690",
     "status": "completed"
    },
    "scrolled": true,
    "tags": []
   },
   "outputs": [
    {
     "name": "stdout",
     "output_type": "stream",
     "text": [
      "007Waffles - tt31022050: pred: 4.96/10  real: 1.0\n",
      "04GreatFlick - tt15671028: pred: 6.48/10  real: 7.0\n",
      "0Tolerence - tt12838766: pred: 5.51/10  real: 2.0\n",
      "0w0 - tt15314262: pred: 6.05/10  real: 5.0\n",
      "108YearsOld - tt12800524: pred: 2.86/10  real: 2.0\n",
      "109YearsOld - tt13405778: pred: 1.00/10  real: 1.0\n",
      "11ovz11 - tt12838766: pred: 6.89/10  real: 6.0\n",
      "121mcv - tt17526714: pred: 6.15/10  real: 7.0\n",
      "12NiuNiu6 - tt13429870: pred: 8.30/10  real: 10.0\n",
      "13Funbags - tt2318527: pred: 4.23/10  real: 10.0\n",
      "18Buddha - tt9471678: pred: 7.71/10  real: 4.0\n",
      "1930s_Time_Machine - tt12789558: pred: 8.09/10  real: 7.0\n",
      "1bilbo - tt1856101: pred: 5.27/10  real: 1.0\n",
      "1ifemare - tt12838766: pred: 6.56/10  real: 6.0\n",
      "2001ASOfan - tt4558376: pred: 5.31/10  real: 7.0\n",
      "210west - tt5040012: pred: 4.78/10  real: 4.0\n",
      "235SCOPE - tt2771200: pred: 6.57/10  real: 6.0\n",
      "2BoZozz5178 - tt1780798: pred: 5.97/10  real: 8.0\n",
      "2Pass_Time - tt19862722: pred: 7.19/10  real: 10.0\n",
      "2TRASH2 - tt1517268: pred: 8.49/10  real: 10.0\n",
      "2Yung4This - tt23558280: pred: 5.52/10  real: 1.0\n",
      "3-D - tt0356634: pred: 4.70/10  real: 1.0\n",
      "3xHCCH - tt3915174: pred: 7.98/10  real: 8.0\n",
      "4u4o - tt8110640: pred: 5.17/10  real: 2.0\n",
      "50fiftillidideeBrain - tt0382932: pred: 9.22/10  real: 8.0\n",
      "5h4d0w - tt1984153: pred: 5.68/10  real: 4.0\n",
      "661jda - tt0424205: pred: 5.52/10  real: 8.0\n",
      "80sHorror - tt23289160: pred: 7.38/10  real: 1.0\n",
      "98nurdinm-1 - tt1321870: pred: 5.82/10  real: 7.0\n",
      "=G= - tt3833480: pred: 6.28/10  real: 6.0\n",
      "A-Shekhar - tt1849718: pred: 8.41/10  real: 9.0\n",
      "A24Score - tt31122323: pred: 4.31/10  real: 8.0\n",
      "A7medSalah - tt9224104: pred: 4.43/10  real: 5.0\n",
      "ABSenior - tt13751694: pred: 8.34/10  real: 10.0\n",
      "ACA13 - tt1020773: pred: 3.98/10  real: 2.0\n",
      "ACollegeStudent - tt18259086: pred: 5.57/10  real: 7.0\n",
      "ADHDBB - tt28015403: pred: 6.00/10  real: 9.0\n",
      "AEBarschall - tt1381404: pred: 7.34/10  real: 10.0\n",
      "AGood - tt27145269: pred: 5.98/10  real: 8.0\n",
      "AGuyNamedJake - tt7126948: pred: 3.42/10  real: 1.0\n",
      "AHOLDER-1 - tt0407887: pred: 7.31/10  real: 9.0\n",
      "AIANDAS - tt15671028: pred: 4.38/10  real: 4.0\n",
      "AIOS-Reviews - tt8291806: pred: 9.06/10  real: 9.0\n",
      "AJ108 - tt5352846: pred: 4.21/10  real: 8.0\n",
      "AJ4F - tt1235448: pred: 5.03/10  real: 5.0\n",
      "AJ9441 - tt5040012: pred: 5.51/10  real: 7.0\n",
      "AJ_McAninch - tt17505010: pred: 7.42/10  real: 6.0\n",
      "AJ_Nel - tt28015403: pred: 8.33/10  real: 8.0\n",
      "AJ_is_Awesomness - tt0962726: pred: 4.12/10  real: 9.0\n",
      "AJx91 - tt17526714: pred: 5.10/10  real: 6.0\n",
      "AKRob3 - tt15083184: pred: 5.86/10  real: 9.0\n",
      "AKS-6 - tt0380366: pred: 6.45/10  real: 8.0\n",
      "ALIENIGHTMARE - tt7527682: pred: 4.82/10  real: 3.0\n",
      "AMOGHREVIEWS - tt12735488: pred: 5.74/10  real: 10.0\n",
      "ARTaylor - tt18259086: pred: 7.84/10  real: 8.0\n",
      "ASouthernHorrorFan - tt1843303: pred: 5.63/10  real: 6.0\n",
      "ASuiGeneris - tt1298644: pred: 4.12/10  real: 6.0\n",
      "AZINDN - tt0462335: pred: 4.63/10  real: 4.0\n",
      "A_Boydude_Reviews - tt8790086: pred: 4.64/10  real: 8.0\n",
      "A_Different_Drummer - tt3501112: pred: 7.40/10  real: 7.0\n",
      "A_FORTY_SEVEN - tt13818368: pred: 4.75/10  real: 8.0\n",
      "A_Kind_Of_CineMagic - tt1185834: pred: 3.02/10  real: 8.0\n",
      "A_Llama_Drama - tt8160834: pred: 5.23/10  real: 3.0\n",
      "A_Random_Guy_22 - tt0864835: pred: 5.63/10  real: 7.0\n",
      "A_Roode - tt0831887: pred: 5.88/10  real: 6.0\n",
      "Aam_Aadmi - tt0405508: pred: 5.04/10  real: 6.0\n",
      "Aaron1375 - tt21307994: pred: 3.69/10  real: 5.0\n",
      "AaronCapenBanner - tt4913966: pred: 4.53/10  real: 6.0\n",
      "AaronRush9 - tt22890246: pred: 6.95/10  real: 4.0\n",
      "Abbark - tt3661298: pred: 8.27/10  real: 3.0\n",
      "Abby-9 - tt0467110: pred: 5.63/10  real: 10.0\n",
      "Abby_qadir - tt29268110: pred: 6.51/10  real: 8.0\n",
      "Abdo0079 - tt4218696: pred: 6.75/10  real: 9.0\n",
      "Abdulxoxo - tt4266638: pred: 7.38/10  real: 7.0\n",
      "Abfabbb - tt17526714: pred: 5.75/10  real: 7.0\n",
      "AbhiMathews - tt0278504: pred: 6.00/10  real: 5.0\n",
      "AbhiSh4ke - tt6277462: pred: 4.34/10  real: 6.0\n",
      "Abhinav009 - tt2388771: pred: 6.56/10  real: 9.0\n",
      "Abir-Xtreme - tt2263944: pred: 5.74/10  real: 8.0\n",
      "Abominog - tt1258197: pred: 5.92/10  real: 5.0\n",
      "AbraxisDragon - tt12749596: pred: 6.52/10  real: 8.0\n",
      "AbyGayle-23652 - tt6198946: pred: 6.70/10  real: 5.0\n",
      "Ac1975 - tt8790086: pred: 4.92/10  real: 1.0\n",
      "Acolin_f - tt1045778: pred: 3.57/10  real: 5.0\n",
      "Action-Reviews - tt15314262: pred: 6.88/10  real: 7.0\n",
      "ActionMovieDude - tt1517268: pred: 5.13/10  real: 1.0\n",
      "Adam_venedam - tt1666185: pred: 5.06/10  real: 2.0\n",
      "Adamanthe - tt28249919: pred: 6.04/10  real: 7.0\n",
      "Adams5905 - tt7873348: pred: 4.02/10  real: 1.0\n",
      "Adeeb-ghazal - tt28015403: pred: 6.84/10  real: 7.0\n",
      "Adorable - tt1375666: pred: 7.13/10  real: 4.0\n",
      "AdrenalinDragon - tt28249919: pred: 4.42/10  real: 6.0\n",
      "Adrian232 - tt2592614: pred: 5.32/10  real: 3.0\n",
      "AdrianOlonan - tt1951264: pred: 8.67/10  real: 10.0\n",
      "AdrienneGrayceMusic - tt10665342: pred: 5.49/10  real: 1.0\n",
      "AdultAudienceMember - tt9411972: pred: 5.21/10  real: 10.0\n",
      "Advocate1 - tt11225626: pred: 7.59/10  real: 8.0\n",
      "AfricanBro - tt26625693: pred: 5.78/10  real: 7.0\n",
      "AfroPixFlix - tt1772424: pred: 5.40/10  real: 6.0\n"
     ]
    }
   ],
   "source": [
    "i = 1\n",
    "for index, row in df_test.iterrows():\n",
    "    \n",
    "    username = row['Username']\n",
    "    movie_id = row['MovieID']\n",
    "    rating = row['Rating']\n",
    "    predicted_rating = model.predict_rating(\n",
    "        username=username,\n",
    "        movie_id=movie_id,\n",
    "        user_index_by_username=user_index_by_username,\n",
    "        movie_index_by_id=movie_index_by_id,\n",
    "        movie_features=movie_features,\n",
    "        user_features=user_features\n",
    "    )\n",
    "    \n",
    "    print(f\"{username} - {movie_id}: pred: {predicted_rating:.2f}/10  real: {rating}\")\n",
    "    i+=1\n",
    "    if i >99:\n",
    "        break"
   ]
  },
  {
   "cell_type": "markdown",
   "id": "faf1e8b0",
   "metadata": {
    "papermill": {
     "duration": 0.022596,
     "end_time": "2025-05-08T04:04:52.797576",
     "exception": false,
     "start_time": "2025-05-08T04:04:52.774980",
     "status": "completed"
    },
    "tags": []
   },
   "source": [
    "# 5. Save Model"
   ]
  },
  {
   "cell_type": "code",
   "execution_count": 76,
   "id": "db739271",
   "metadata": {
    "execution": {
     "iopub.execute_input": "2025-05-08T04:04:52.843698Z",
     "iopub.status.busy": "2025-05-08T04:04:52.842904Z",
     "iopub.status.idle": "2025-05-08T04:04:52.951909Z",
     "shell.execute_reply": "2025-05-08T04:04:52.951009Z"
    },
    "papermill": {
     "duration": 0.133582,
     "end_time": "2025-05-08T04:04:52.953400",
     "exception": false,
     "start_time": "2025-05-08T04:04:52.819818",
     "status": "completed"
    },
    "tags": []
   },
   "outputs": [],
   "source": [
    "torch.save(model.state_dict(), \"factorization_machine.pt\")"
   ]
  },
  {
   "cell_type": "code",
   "execution_count": 77,
   "id": "38222944",
   "metadata": {
    "execution": {
     "iopub.execute_input": "2025-05-08T04:04:53.002282Z",
     "iopub.status.busy": "2025-05-08T04:04:53.001976Z",
     "iopub.status.idle": "2025-05-08T04:04:57.450436Z",
     "shell.execute_reply": "2025-05-08T04:04:57.449821Z"
    },
    "papermill": {
     "duration": 4.474386,
     "end_time": "2025-05-08T04:04:57.451968",
     "exception": false,
     "start_time": "2025-05-08T04:04:52.977582",
     "status": "completed"
    },
    "tags": []
   },
   "outputs": [],
   "source": [
    "ratings.to_csv('ratings.csv', index=False)\n",
    "movies = pd.read_csv('/kaggle/input/imdb-dataset/movies.csv')\n",
    "movies.to_csv('movies.csv', index=False)\n",
    "user_df.to_csv('users.csv', index=False)"
   ]
  },
  {
   "cell_type": "code",
   "execution_count": 78,
   "id": "66f52f5e",
   "metadata": {
    "execution": {
     "iopub.execute_input": "2025-05-08T04:04:57.500838Z",
     "iopub.status.busy": "2025-05-08T04:04:57.500508Z",
     "iopub.status.idle": "2025-05-08T04:04:57.547841Z",
     "shell.execute_reply": "2025-05-08T04:04:57.547163Z"
    },
    "papermill": {
     "duration": 0.073762,
     "end_time": "2025-05-08T04:04:57.549376",
     "exception": false,
     "start_time": "2025-05-08T04:04:57.475614",
     "status": "completed"
    },
    "tags": []
   },
   "outputs": [],
   "source": [
    "import pickle\n",
    "\n",
    "data = {\n",
    "        \"movie_features\": movie_features,\n",
    "        \"user_features\" : user_features,\n",
    "        \"user_index_by_username\": user_index_by_username,\n",
    "        \"movie_index_by_id\": movie_index_by_id,\n",
    "        \"num_inputs\": model.hparams.num_inputs,\n",
    "        \"embedding_dim\": model.hparams.embedding_dim,\n",
    "        \"learning_rate\": model.hparams.lr,\n",
    "        \"weight_decay\": model.hparams.weight_decay,\n",
    "        \"dropout_rate\": model.hparams.dropout_rate\n",
    "    }\n",
    "    \n",
    "with open('support_data.pkl', \"wb\") as f:\n",
    "    pickle.dump(data, f)"
   ]
  }
 ],
 "metadata": {
  "kaggle": {
   "accelerator": "gpu",
   "dataSources": [
    {
     "datasetId": 7050373,
     "sourceId": 11347405,
     "sourceType": "datasetVersion"
    }
   ],
   "dockerImageVersionId": 31012,
   "isGpuEnabled": true,
   "isInternetEnabled": true,
   "language": "python",
   "sourceType": "notebook"
  },
  "kernelspec": {
   "display_name": "Python 3",
   "language": "python",
   "name": "python3"
  },
  "language_info": {
   "codemirror_mode": {
    "name": "ipython",
    "version": 3
   },
   "file_extension": ".py",
   "mimetype": "text/x-python",
   "name": "python",
   "nbconvert_exporter": "python",
   "pygments_lexer": "ipython3",
   "version": "3.11.11"
  },
  "papermill": {
   "default_parameters": {},
   "duration": 530.983351,
   "end_time": "2025-05-08T04:05:00.952328",
   "environment_variables": {},
   "exception": null,
   "input_path": "__notebook__.ipynb",
   "output_path": "__notebook__.ipynb",
   "parameters": {},
   "start_time": "2025-05-08T03:56:09.968977",
   "version": "2.6.0"
  },
  "widgets": {
   "application/vnd.jupyter.widget-state+json": {
    "state": {
     "0241e65aa753403aa6a6f907188563bd": {
      "model_module": "@jupyter-widgets/controls",
      "model_module_version": "2.0.0",
      "model_name": "HTMLStyleModel",
      "state": {
       "_model_module": "@jupyter-widgets/controls",
       "_model_module_version": "2.0.0",
       "_model_name": "HTMLStyleModel",
       "_view_count": null,
       "_view_module": "@jupyter-widgets/base",
       "_view_module_version": "2.0.0",
       "_view_name": "StyleView",
       "background": null,
       "description_width": "",
       "font_size": null,
       "text_color": null
      }
     },
     "0797d037067a45c9a277234a12bc7749": {
      "model_module": "@jupyter-widgets/base",
      "model_module_version": "2.0.0",
      "model_name": "LayoutModel",
      "state": {
       "_model_module": "@jupyter-widgets/base",
       "_model_module_version": "2.0.0",
       "_model_name": "LayoutModel",
       "_view_count": null,
       "_view_module": "@jupyter-widgets/base",
       "_view_module_version": "2.0.0",
       "_view_name": "LayoutView",
       "align_content": null,
       "align_items": null,
       "align_self": null,
       "border_bottom": null,
       "border_left": null,
       "border_right": null,
       "border_top": null,
       "bottom": null,
       "display": "inline-flex",
       "flex": null,
       "flex_flow": "row wrap",
       "grid_area": null,
       "grid_auto_columns": null,
       "grid_auto_flow": null,
       "grid_auto_rows": null,
       "grid_column": null,
       "grid_gap": null,
       "grid_row": null,
       "grid_template_areas": null,
       "grid_template_columns": null,
       "grid_template_rows": null,
       "height": null,
       "justify_content": null,
       "justify_items": null,
       "left": null,
       "margin": null,
       "max_height": null,
       "max_width": null,
       "min_height": null,
       "min_width": null,
       "object_fit": null,
       "object_position": null,
       "order": null,
       "overflow": null,
       "padding": null,
       "right": null,
       "top": null,
       "visibility": "hidden",
       "width": "100%"
      }
     },
     "07c17e268d56470aa1789bc5f3734714": {
      "model_module": "@jupyter-widgets/controls",
      "model_module_version": "2.0.0",
      "model_name": "HTMLStyleModel",
      "state": {
       "_model_module": "@jupyter-widgets/controls",
       "_model_module_version": "2.0.0",
       "_model_name": "HTMLStyleModel",
       "_view_count": null,
       "_view_module": "@jupyter-widgets/base",
       "_view_module_version": "2.0.0",
       "_view_name": "StyleView",
       "background": null,
       "description_width": "",
       "font_size": null,
       "text_color": null
      }
     },
     "07dd499e174a4bbb86a931e69452d534": {
      "model_module": "@jupyter-widgets/controls",
      "model_module_version": "2.0.0",
      "model_name": "HTMLModel",
      "state": {
       "_dom_classes": [],
       "_model_module": "@jupyter-widgets/controls",
       "_model_module_version": "2.0.0",
       "_model_name": "HTMLModel",
       "_view_count": null,
       "_view_module": "@jupyter-widgets/controls",
       "_view_module_version": "2.0.0",
       "_view_name": "HTMLView",
       "description": "",
       "description_allow_html": false,
       "layout": "IPY_MODEL_7211e4d49e7542fca839b4774874d288",
       "placeholder": "​",
       "style": "IPY_MODEL_787525db282e43f986fa98a43850344c",
       "tabbable": null,
       "tooltip": null,
       "value": " 138/138 [00:37&lt;00:00,  3.66it/s, v_num=0]"
      }
     },
     "0ac0268c616043799e3216d9c322edd8": {
      "model_module": "@jupyter-widgets/base",
      "model_module_version": "2.0.0",
      "model_name": "LayoutModel",
      "state": {
       "_model_module": "@jupyter-widgets/base",
       "_model_module_version": "2.0.0",
       "_model_name": "LayoutModel",
       "_view_count": null,
       "_view_module": "@jupyter-widgets/base",
       "_view_module_version": "2.0.0",
       "_view_name": "LayoutView",
       "align_content": null,
       "align_items": null,
       "align_self": null,
       "border_bottom": null,
       "border_left": null,
       "border_right": null,
       "border_top": null,
       "bottom": null,
       "display": "inline-flex",
       "flex": null,
       "flex_flow": "row wrap",
       "grid_area": null,
       "grid_auto_columns": null,
       "grid_auto_flow": null,
       "grid_auto_rows": null,
       "grid_column": null,
       "grid_gap": null,
       "grid_row": null,
       "grid_template_areas": null,
       "grid_template_columns": null,
       "grid_template_rows": null,
       "height": null,
       "justify_content": null,
       "justify_items": null,
       "left": null,
       "margin": null,
       "max_height": null,
       "max_width": null,
       "min_height": null,
       "min_width": null,
       "object_fit": null,
       "object_position": null,
       "order": null,
       "overflow": null,
       "padding": null,
       "right": null,
       "top": null,
       "visibility": "hidden",
       "width": "100%"
      }
     },
     "0d2e47eb7ea04caeaba232e391262592": {
      "model_module": "@jupyter-widgets/controls",
      "model_module_version": "2.0.0",
      "model_name": "HTMLModel",
      "state": {
       "_dom_classes": [],
       "_model_module": "@jupyter-widgets/controls",
       "_model_module_version": "2.0.0",
       "_model_name": "HTMLModel",
       "_view_count": null,
       "_view_module": "@jupyter-widgets/controls",
       "_view_module_version": "2.0.0",
       "_view_name": "HTMLView",
       "description": "",
       "description_allow_html": false,
       "layout": "IPY_MODEL_f45f3b9b1bdc4fcd9bfa7871c942246e",
       "placeholder": "​",
       "style": "IPY_MODEL_62a27e51b8c44e098b3e3fd50ce03d30",
       "tabbable": null,
       "tooltip": null,
       "value": "Validation DataLoader 0: 100%"
      }
     },
     "118871b6c5424448bce4d519dddbb8a2": {
      "model_module": "@jupyter-widgets/controls",
      "model_module_version": "2.0.0",
      "model_name": "HBoxModel",
      "state": {
       "_dom_classes": [],
       "_model_module": "@jupyter-widgets/controls",
       "_model_module_version": "2.0.0",
       "_model_name": "HBoxModel",
       "_view_count": null,
       "_view_module": "@jupyter-widgets/controls",
       "_view_module_version": "2.0.0",
       "_view_name": "HBoxView",
       "box_style": "",
       "children": [
        "IPY_MODEL_f1f2c172c3734ef7a0aa01156c72b519",
        "IPY_MODEL_85d3b5a5e25d46898995576735f518ff",
        "IPY_MODEL_7f2e93d4cfc44d1a9f7026488d774988"
       ],
       "layout": "IPY_MODEL_50dbef0d1b86462099790071ee94611c",
       "tabbable": null,
       "tooltip": null
      }
     },
     "118f83f083d742f1a48bda103d6b430a": {
      "model_module": "@jupyter-widgets/base",
      "model_module_version": "2.0.0",
      "model_name": "LayoutModel",
      "state": {
       "_model_module": "@jupyter-widgets/base",
       "_model_module_version": "2.0.0",
       "_model_name": "LayoutModel",
       "_view_count": null,
       "_view_module": "@jupyter-widgets/base",
       "_view_module_version": "2.0.0",
       "_view_name": "LayoutView",
       "align_content": null,
       "align_items": null,
       "align_self": null,
       "border_bottom": null,
       "border_left": null,
       "border_right": null,
       "border_top": null,
       "bottom": null,
       "display": null,
       "flex": null,
       "flex_flow": null,
       "grid_area": null,
       "grid_auto_columns": null,
       "grid_auto_flow": null,
       "grid_auto_rows": null,
       "grid_column": null,
       "grid_gap": null,
       "grid_row": null,
       "grid_template_areas": null,
       "grid_template_columns": null,
       "grid_template_rows": null,
       "height": null,
       "justify_content": null,
       "justify_items": null,
       "left": null,
       "margin": null,
       "max_height": null,
       "max_width": null,
       "min_height": null,
       "min_width": null,
       "object_fit": null,
       "object_position": null,
       "order": null,
       "overflow": null,
       "padding": null,
       "right": null,
       "top": null,
       "visibility": null,
       "width": null
      }
     },
     "12dfc11a51344186871d995b40172a13": {
      "model_module": "@jupyter-widgets/base",
      "model_module_version": "2.0.0",
      "model_name": "LayoutModel",
      "state": {
       "_model_module": "@jupyter-widgets/base",
       "_model_module_version": "2.0.0",
       "_model_name": "LayoutModel",
       "_view_count": null,
       "_view_module": "@jupyter-widgets/base",
       "_view_module_version": "2.0.0",
       "_view_name": "LayoutView",
       "align_content": null,
       "align_items": null,
       "align_self": null,
       "border_bottom": null,
       "border_left": null,
       "border_right": null,
       "border_top": null,
       "bottom": null,
       "display": null,
       "flex": null,
       "flex_flow": null,
       "grid_area": null,
       "grid_auto_columns": null,
       "grid_auto_flow": null,
       "grid_auto_rows": null,
       "grid_column": null,
       "grid_gap": null,
       "grid_row": null,
       "grid_template_areas": null,
       "grid_template_columns": null,
       "grid_template_rows": null,
       "height": null,
       "justify_content": null,
       "justify_items": null,
       "left": null,
       "margin": null,
       "max_height": null,
       "max_width": null,
       "min_height": null,
       "min_width": null,
       "object_fit": null,
       "object_position": null,
       "order": null,
       "overflow": null,
       "padding": null,
       "right": null,
       "top": null,
       "visibility": null,
       "width": null
      }
     },
     "136ce4bab858429a87a5cdd861be65f0": {
      "model_module": "@jupyter-widgets/controls",
      "model_module_version": "2.0.0",
      "model_name": "FloatProgressModel",
      "state": {
       "_dom_classes": [],
       "_model_module": "@jupyter-widgets/controls",
       "_model_module_version": "2.0.0",
       "_model_name": "FloatProgressModel",
       "_view_count": null,
       "_view_module": "@jupyter-widgets/controls",
       "_view_module_version": "2.0.0",
       "_view_name": "ProgressView",
       "bar_style": "",
       "description": "",
       "description_allow_html": false,
       "layout": "IPY_MODEL_b7de3882b165444d935300427f3e0bda",
       "max": 16.0,
       "min": 0.0,
       "orientation": "horizontal",
       "style": "IPY_MODEL_66512389a6b24e9ba7bc3137608461c5",
       "tabbable": null,
       "tooltip": null,
       "value": 16.0
      }
     },
     "14645632354e4254b2915a3224fea778": {
      "model_module": "@jupyter-widgets/base",
      "model_module_version": "2.0.0",
      "model_name": "LayoutModel",
      "state": {
       "_model_module": "@jupyter-widgets/base",
       "_model_module_version": "2.0.0",
       "_model_name": "LayoutModel",
       "_view_count": null,
       "_view_module": "@jupyter-widgets/base",
       "_view_module_version": "2.0.0",
       "_view_name": "LayoutView",
       "align_content": null,
       "align_items": null,
       "align_self": null,
       "border_bottom": null,
       "border_left": null,
       "border_right": null,
       "border_top": null,
       "bottom": null,
       "display": null,
       "flex": null,
       "flex_flow": null,
       "grid_area": null,
       "grid_auto_columns": null,
       "grid_auto_flow": null,
       "grid_auto_rows": null,
       "grid_column": null,
       "grid_gap": null,
       "grid_row": null,
       "grid_template_areas": null,
       "grid_template_columns": null,
       "grid_template_rows": null,
       "height": null,
       "justify_content": null,
       "justify_items": null,
       "left": null,
       "margin": null,
       "max_height": null,
       "max_width": null,
       "min_height": null,
       "min_width": null,
       "object_fit": null,
       "object_position": null,
       "order": null,
       "overflow": null,
       "padding": null,
       "right": null,
       "top": null,
       "visibility": null,
       "width": null
      }
     },
     "183a2a298d2342348d2b7392d65a79f1": {
      "model_module": "@jupyter-widgets/controls",
      "model_module_version": "2.0.0",
      "model_name": "HTMLStyleModel",
      "state": {
       "_model_module": "@jupyter-widgets/controls",
       "_model_module_version": "2.0.0",
       "_model_name": "HTMLStyleModel",
       "_view_count": null,
       "_view_module": "@jupyter-widgets/base",
       "_view_module_version": "2.0.0",
       "_view_name": "StyleView",
       "background": null,
       "description_width": "",
       "font_size": null,
       "text_color": null
      }
     },
     "1b66bf6865e64c31942d1be783cc7e8a": {
      "model_module": "@jupyter-widgets/base",
      "model_module_version": "2.0.0",
      "model_name": "LayoutModel",
      "state": {
       "_model_module": "@jupyter-widgets/base",
       "_model_module_version": "2.0.0",
       "_model_name": "LayoutModel",
       "_view_count": null,
       "_view_module": "@jupyter-widgets/base",
       "_view_module_version": "2.0.0",
       "_view_name": "LayoutView",
       "align_content": null,
       "align_items": null,
       "align_self": null,
       "border_bottom": null,
       "border_left": null,
       "border_right": null,
       "border_top": null,
       "bottom": null,
       "display": null,
       "flex": null,
       "flex_flow": null,
       "grid_area": null,
       "grid_auto_columns": null,
       "grid_auto_flow": null,
       "grid_auto_rows": null,
       "grid_column": null,
       "grid_gap": null,
       "grid_row": null,
       "grid_template_areas": null,
       "grid_template_columns": null,
       "grid_template_rows": null,
       "height": null,
       "justify_content": null,
       "justify_items": null,
       "left": null,
       "margin": null,
       "max_height": null,
       "max_width": null,
       "min_height": null,
       "min_width": null,
       "object_fit": null,
       "object_position": null,
       "order": null,
       "overflow": null,
       "padding": null,
       "right": null,
       "top": null,
       "visibility": null,
       "width": null
      }
     },
     "1fee1d87cf6047499a698687bfb5c577": {
      "model_module": "@jupyter-widgets/controls",
      "model_module_version": "2.0.0",
      "model_name": "HTMLStyleModel",
      "state": {
       "_model_module": "@jupyter-widgets/controls",
       "_model_module_version": "2.0.0",
       "_model_name": "HTMLStyleModel",
       "_view_count": null,
       "_view_module": "@jupyter-widgets/base",
       "_view_module_version": "2.0.0",
       "_view_name": "StyleView",
       "background": null,
       "description_width": "",
       "font_size": null,
       "text_color": null
      }
     },
     "23ad36820de84da9b17a4364e84be47a": {
      "model_module": "@jupyter-widgets/base",
      "model_module_version": "2.0.0",
      "model_name": "LayoutModel",
      "state": {
       "_model_module": "@jupyter-widgets/base",
       "_model_module_version": "2.0.0",
       "_model_name": "LayoutModel",
       "_view_count": null,
       "_view_module": "@jupyter-widgets/base",
       "_view_module_version": "2.0.0",
       "_view_name": "LayoutView",
       "align_content": null,
       "align_items": null,
       "align_self": null,
       "border_bottom": null,
       "border_left": null,
       "border_right": null,
       "border_top": null,
       "bottom": null,
       "display": "inline-flex",
       "flex": null,
       "flex_flow": "row wrap",
       "grid_area": null,
       "grid_auto_columns": null,
       "grid_auto_flow": null,
       "grid_auto_rows": null,
       "grid_column": null,
       "grid_gap": null,
       "grid_row": null,
       "grid_template_areas": null,
       "grid_template_columns": null,
       "grid_template_rows": null,
       "height": null,
       "justify_content": null,
       "justify_items": null,
       "left": null,
       "margin": null,
       "max_height": null,
       "max_width": null,
       "min_height": null,
       "min_width": null,
       "object_fit": null,
       "object_position": null,
       "order": null,
       "overflow": null,
       "padding": null,
       "right": null,
       "top": null,
       "visibility": "hidden",
       "width": "100%"
      }
     },
     "23bc07f82ede42999ac68b87329e4932": {
      "model_module": "@jupyter-widgets/controls",
      "model_module_version": "2.0.0",
      "model_name": "ProgressStyleModel",
      "state": {
       "_model_module": "@jupyter-widgets/controls",
       "_model_module_version": "2.0.0",
       "_model_name": "ProgressStyleModel",
       "_view_count": null,
       "_view_module": "@jupyter-widgets/base",
       "_view_module_version": "2.0.0",
       "_view_name": "StyleView",
       "bar_color": null,
       "description_width": ""
      }
     },
     "267d12cba5b94b38afa08c9494480806": {
      "model_module": "@jupyter-widgets/controls",
      "model_module_version": "2.0.0",
      "model_name": "HTMLModel",
      "state": {
       "_dom_classes": [],
       "_model_module": "@jupyter-widgets/controls",
       "_model_module_version": "2.0.0",
       "_model_name": "HTMLModel",
       "_view_count": null,
       "_view_module": "@jupyter-widgets/controls",
       "_view_module_version": "2.0.0",
       "_view_name": "HTMLView",
       "description": "",
       "description_allow_html": false,
       "layout": "IPY_MODEL_1b66bf6865e64c31942d1be783cc7e8a",
       "placeholder": "​",
       "style": "IPY_MODEL_42630c5ef4834bb0848b4f869dbb9ea9",
       "tabbable": null,
       "tooltip": null,
       "value": " 16/16 [00:02&lt;00:00,  6.84it/s]"
      }
     },
     "29080a565890468fb3cf74a656eec68c": {
      "model_module": "@jupyter-widgets/controls",
      "model_module_version": "2.0.0",
      "model_name": "HTMLModel",
      "state": {
       "_dom_classes": [],
       "_model_module": "@jupyter-widgets/controls",
       "_model_module_version": "2.0.0",
       "_model_name": "HTMLModel",
       "_view_count": null,
       "_view_module": "@jupyter-widgets/controls",
       "_view_module_version": "2.0.0",
       "_view_name": "HTMLView",
       "description": "",
       "description_allow_html": false,
       "layout": "IPY_MODEL_875a714158f84aefafa0dea969ff972b",
       "placeholder": "​",
       "style": "IPY_MODEL_5a639e9c9e2b47899b1d18d8b435ffaf",
       "tabbable": null,
       "tooltip": null,
       "value": "Epoch 11: 100%"
      }
     },
     "2a372c476812493ebf28c2a52131ab1d": {
      "model_module": "@jupyter-widgets/base",
      "model_module_version": "2.0.0",
      "model_name": "LayoutModel",
      "state": {
       "_model_module": "@jupyter-widgets/base",
       "_model_module_version": "2.0.0",
       "_model_name": "LayoutModel",
       "_view_count": null,
       "_view_module": "@jupyter-widgets/base",
       "_view_module_version": "2.0.0",
       "_view_name": "LayoutView",
       "align_content": null,
       "align_items": null,
       "align_self": null,
       "border_bottom": null,
       "border_left": null,
       "border_right": null,
       "border_top": null,
       "bottom": null,
       "display": null,
       "flex": null,
       "flex_flow": null,
       "grid_area": null,
       "grid_auto_columns": null,
       "grid_auto_flow": null,
       "grid_auto_rows": null,
       "grid_column": null,
       "grid_gap": null,
       "grid_row": null,
       "grid_template_areas": null,
       "grid_template_columns": null,
       "grid_template_rows": null,
       "height": null,
       "justify_content": null,
       "justify_items": null,
       "left": null,
       "margin": null,
       "max_height": null,
       "max_width": null,
       "min_height": null,
       "min_width": null,
       "object_fit": null,
       "object_position": null,
       "order": null,
       "overflow": null,
       "padding": null,
       "right": null,
       "top": null,
       "visibility": null,
       "width": null
      }
     },
     "32259ebd683b4aa1a4f20db5f2687c6b": {
      "model_module": "@jupyter-widgets/controls",
      "model_module_version": "2.0.0",
      "model_name": "ProgressStyleModel",
      "state": {
       "_model_module": "@jupyter-widgets/controls",
       "_model_module_version": "2.0.0",
       "_model_name": "ProgressStyleModel",
       "_view_count": null,
       "_view_module": "@jupyter-widgets/base",
       "_view_module_version": "2.0.0",
       "_view_name": "StyleView",
       "bar_color": null,
       "description_width": ""
      }
     },
     "33c7567cf70a4d269f51d311ce86701b": {
      "model_module": "@jupyter-widgets/controls",
      "model_module_version": "2.0.0",
      "model_name": "HTMLModel",
      "state": {
       "_dom_classes": [],
       "_model_module": "@jupyter-widgets/controls",
       "_model_module_version": "2.0.0",
       "_model_name": "HTMLModel",
       "_view_count": null,
       "_view_module": "@jupyter-widgets/controls",
       "_view_module_version": "2.0.0",
       "_view_name": "HTMLView",
       "description": "",
       "description_allow_html": false,
       "layout": "IPY_MODEL_b5831a0c1c14402d8680fed4b4003e38",
       "placeholder": "​",
       "style": "IPY_MODEL_1fee1d87cf6047499a698687bfb5c577",
       "tabbable": null,
       "tooltip": null,
       "value": " 16/16 [00:02&lt;00:00,  7.16it/s]"
      }
     },
     "35f381c70f044285aff61f11232ad9e0": {
      "model_module": "@jupyter-widgets/controls",
      "model_module_version": "2.0.0",
      "model_name": "ProgressStyleModel",
      "state": {
       "_model_module": "@jupyter-widgets/controls",
       "_model_module_version": "2.0.0",
       "_model_name": "ProgressStyleModel",
       "_view_count": null,
       "_view_module": "@jupyter-widgets/base",
       "_view_module_version": "2.0.0",
       "_view_name": "StyleView",
       "bar_color": null,
       "description_width": ""
      }
     },
     "375d62e8a9c54a3fbd2e6b05456dfc9f": {
      "model_module": "@jupyter-widgets/controls",
      "model_module_version": "2.0.0",
      "model_name": "HTMLStyleModel",
      "state": {
       "_model_module": "@jupyter-widgets/controls",
       "_model_module_version": "2.0.0",
       "_model_name": "HTMLStyleModel",
       "_view_count": null,
       "_view_module": "@jupyter-widgets/base",
       "_view_module_version": "2.0.0",
       "_view_name": "StyleView",
       "background": null,
       "description_width": "",
       "font_size": null,
       "text_color": null
      }
     },
     "37cc0411862e4169925beef4c2255a9d": {
      "model_module": "@jupyter-widgets/base",
      "model_module_version": "2.0.0",
      "model_name": "LayoutModel",
      "state": {
       "_model_module": "@jupyter-widgets/base",
       "_model_module_version": "2.0.0",
       "_model_name": "LayoutModel",
       "_view_count": null,
       "_view_module": "@jupyter-widgets/base",
       "_view_module_version": "2.0.0",
       "_view_name": "LayoutView",
       "align_content": null,
       "align_items": null,
       "align_self": null,
       "border_bottom": null,
       "border_left": null,
       "border_right": null,
       "border_top": null,
       "bottom": null,
       "display": null,
       "flex": null,
       "flex_flow": null,
       "grid_area": null,
       "grid_auto_columns": null,
       "grid_auto_flow": null,
       "grid_auto_rows": null,
       "grid_column": null,
       "grid_gap": null,
       "grid_row": null,
       "grid_template_areas": null,
       "grid_template_columns": null,
       "grid_template_rows": null,
       "height": null,
       "justify_content": null,
       "justify_items": null,
       "left": null,
       "margin": null,
       "max_height": null,
       "max_width": null,
       "min_height": null,
       "min_width": null,
       "object_fit": null,
       "object_position": null,
       "order": null,
       "overflow": null,
       "padding": null,
       "right": null,
       "top": null,
       "visibility": null,
       "width": null
      }
     },
     "39cd43aebf824f53a4c5e2df496ef70a": {
      "model_module": "@jupyter-widgets/controls",
      "model_module_version": "2.0.0",
      "model_name": "HTMLStyleModel",
      "state": {
       "_model_module": "@jupyter-widgets/controls",
       "_model_module_version": "2.0.0",
       "_model_name": "HTMLStyleModel",
       "_view_count": null,
       "_view_module": "@jupyter-widgets/base",
       "_view_module_version": "2.0.0",
       "_view_name": "StyleView",
       "background": null,
       "description_width": "",
       "font_size": null,
       "text_color": null
      }
     },
     "3ecc66081b834083b9c17f6a4e2597d8": {
      "model_module": "@jupyter-widgets/controls",
      "model_module_version": "2.0.0",
      "model_name": "HTMLModel",
      "state": {
       "_dom_classes": [],
       "_model_module": "@jupyter-widgets/controls",
       "_model_module_version": "2.0.0",
       "_model_name": "HTMLModel",
       "_view_count": null,
       "_view_module": "@jupyter-widgets/controls",
       "_view_module_version": "2.0.0",
       "_view_name": "HTMLView",
       "description": "",
       "description_allow_html": false,
       "layout": "IPY_MODEL_e78281d6943b46259c11b731a8489eec",
       "placeholder": "​",
       "style": "IPY_MODEL_d81592ebcc6c4726ba50f593dfb33823",
       "tabbable": null,
       "tooltip": null,
       "value": "Validation DataLoader 0: 100%"
      }
     },
     "3f09215e912448b9858bfa9efe1b76bd": {
      "model_module": "@jupyter-widgets/controls",
      "model_module_version": "2.0.0",
      "model_name": "FloatProgressModel",
      "state": {
       "_dom_classes": [],
       "_model_module": "@jupyter-widgets/controls",
       "_model_module_version": "2.0.0",
       "_model_name": "FloatProgressModel",
       "_view_count": null,
       "_view_module": "@jupyter-widgets/controls",
       "_view_module_version": "2.0.0",
       "_view_name": "ProgressView",
       "bar_style": "",
       "description": "",
       "description_allow_html": false,
       "layout": "IPY_MODEL_eb5b4c6963eb4c27be93d1086debfe06",
       "max": 16.0,
       "min": 0.0,
       "orientation": "horizontal",
       "style": "IPY_MODEL_32259ebd683b4aa1a4f20db5f2687c6b",
       "tabbable": null,
       "tooltip": null,
       "value": 16.0
      }
     },
     "3fb850c634bf460c91b764c13badb0b5": {
      "model_module": "@jupyter-widgets/base",
      "model_module_version": "2.0.0",
      "model_name": "LayoutModel",
      "state": {
       "_model_module": "@jupyter-widgets/base",
       "_model_module_version": "2.0.0",
       "_model_name": "LayoutModel",
       "_view_count": null,
       "_view_module": "@jupyter-widgets/base",
       "_view_module_version": "2.0.0",
       "_view_name": "LayoutView",
       "align_content": null,
       "align_items": null,
       "align_self": null,
       "border_bottom": null,
       "border_left": null,
       "border_right": null,
       "border_top": null,
       "bottom": null,
       "display": null,
       "flex": null,
       "flex_flow": null,
       "grid_area": null,
       "grid_auto_columns": null,
       "grid_auto_flow": null,
       "grid_auto_rows": null,
       "grid_column": null,
       "grid_gap": null,
       "grid_row": null,
       "grid_template_areas": null,
       "grid_template_columns": null,
       "grid_template_rows": null,
       "height": null,
       "justify_content": null,
       "justify_items": null,
       "left": null,
       "margin": null,
       "max_height": null,
       "max_width": null,
       "min_height": null,
       "min_width": null,
       "object_fit": null,
       "object_position": null,
       "order": null,
       "overflow": null,
       "padding": null,
       "right": null,
       "top": null,
       "visibility": null,
       "width": null
      }
     },
     "4008a68b138548cb9b3dc54a8722d62e": {
      "model_module": "@jupyter-widgets/controls",
      "model_module_version": "2.0.0",
      "model_name": "HTMLModel",
      "state": {
       "_dom_classes": [],
       "_model_module": "@jupyter-widgets/controls",
       "_model_module_version": "2.0.0",
       "_model_name": "HTMLModel",
       "_view_count": null,
       "_view_module": "@jupyter-widgets/controls",
       "_view_module_version": "2.0.0",
       "_view_name": "HTMLView",
       "description": "",
       "description_allow_html": false,
       "layout": "IPY_MODEL_8094baa430534f9789544d5e95e5e204",
       "placeholder": "​",
       "style": "IPY_MODEL_8cba8f75f8c04afdb6cc96074d917ed8",
       "tabbable": null,
       "tooltip": null,
       "value": "Validation DataLoader 0: 100%"
      }
     },
     "40ab077f8f354ad9a5d7b752215cce48": {
      "model_module": "@jupyter-widgets/base",
      "model_module_version": "2.0.0",
      "model_name": "LayoutModel",
      "state": {
       "_model_module": "@jupyter-widgets/base",
       "_model_module_version": "2.0.0",
       "_model_name": "LayoutModel",
       "_view_count": null,
       "_view_module": "@jupyter-widgets/base",
       "_view_module_version": "2.0.0",
       "_view_name": "LayoutView",
       "align_content": null,
       "align_items": null,
       "align_self": null,
       "border_bottom": null,
       "border_left": null,
       "border_right": null,
       "border_top": null,
       "bottom": null,
       "display": null,
       "flex": "2",
       "flex_flow": null,
       "grid_area": null,
       "grid_auto_columns": null,
       "grid_auto_flow": null,
       "grid_auto_rows": null,
       "grid_column": null,
       "grid_gap": null,
       "grid_row": null,
       "grid_template_areas": null,
       "grid_template_columns": null,
       "grid_template_rows": null,
       "height": null,
       "justify_content": null,
       "justify_items": null,
       "left": null,
       "margin": null,
       "max_height": null,
       "max_width": null,
       "min_height": null,
       "min_width": null,
       "object_fit": null,
       "object_position": null,
       "order": null,
       "overflow": null,
       "padding": null,
       "right": null,
       "top": null,
       "visibility": null,
       "width": null
      }
     },
     "42630c5ef4834bb0848b4f869dbb9ea9": {
      "model_module": "@jupyter-widgets/controls",
      "model_module_version": "2.0.0",
      "model_name": "HTMLStyleModel",
      "state": {
       "_model_module": "@jupyter-widgets/controls",
       "_model_module_version": "2.0.0",
       "_model_name": "HTMLStyleModel",
       "_view_count": null,
       "_view_module": "@jupyter-widgets/base",
       "_view_module_version": "2.0.0",
       "_view_name": "StyleView",
       "background": null,
       "description_width": "",
       "font_size": null,
       "text_color": null
      }
     },
     "44029504c0fe400b9a9b12e34da909c1": {
      "model_module": "@jupyter-widgets/base",
      "model_module_version": "2.0.0",
      "model_name": "LayoutModel",
      "state": {
       "_model_module": "@jupyter-widgets/base",
       "_model_module_version": "2.0.0",
       "_model_name": "LayoutModel",
       "_view_count": null,
       "_view_module": "@jupyter-widgets/base",
       "_view_module_version": "2.0.0",
       "_view_name": "LayoutView",
       "align_content": null,
       "align_items": null,
       "align_self": null,
       "border_bottom": null,
       "border_left": null,
       "border_right": null,
       "border_top": null,
       "bottom": null,
       "display": null,
       "flex": null,
       "flex_flow": null,
       "grid_area": null,
       "grid_auto_columns": null,
       "grid_auto_flow": null,
       "grid_auto_rows": null,
       "grid_column": null,
       "grid_gap": null,
       "grid_row": null,
       "grid_template_areas": null,
       "grid_template_columns": null,
       "grid_template_rows": null,
       "height": null,
       "justify_content": null,
       "justify_items": null,
       "left": null,
       "margin": null,
       "max_height": null,
       "max_width": null,
       "min_height": null,
       "min_width": null,
       "object_fit": null,
       "object_position": null,
       "order": null,
       "overflow": null,
       "padding": null,
       "right": null,
       "top": null,
       "visibility": null,
       "width": null
      }
     },
     "44317c3904a941d2b117d6fe227a3ffb": {
      "model_module": "@jupyter-widgets/controls",
      "model_module_version": "2.0.0",
      "model_name": "HTMLStyleModel",
      "state": {
       "_model_module": "@jupyter-widgets/controls",
       "_model_module_version": "2.0.0",
       "_model_name": "HTMLStyleModel",
       "_view_count": null,
       "_view_module": "@jupyter-widgets/base",
       "_view_module_version": "2.0.0",
       "_view_name": "StyleView",
       "background": null,
       "description_width": "",
       "font_size": null,
       "text_color": null
      }
     },
     "453fd3f60bf74db7b27b6f97df0b27eb": {
      "model_module": "@jupyter-widgets/controls",
      "model_module_version": "2.0.0",
      "model_name": "HTMLStyleModel",
      "state": {
       "_model_module": "@jupyter-widgets/controls",
       "_model_module_version": "2.0.0",
       "_model_name": "HTMLStyleModel",
       "_view_count": null,
       "_view_module": "@jupyter-widgets/base",
       "_view_module_version": "2.0.0",
       "_view_name": "StyleView",
       "background": null,
       "description_width": "",
       "font_size": null,
       "text_color": null
      }
     },
     "474cd3f5593c441fa33f89d00b31e286": {
      "model_module": "@jupyter-widgets/controls",
      "model_module_version": "2.0.0",
      "model_name": "HTMLModel",
      "state": {
       "_dom_classes": [],
       "_model_module": "@jupyter-widgets/controls",
       "_model_module_version": "2.0.0",
       "_model_name": "HTMLModel",
       "_view_count": null,
       "_view_module": "@jupyter-widgets/controls",
       "_view_module_version": "2.0.0",
       "_view_name": "HTMLView",
       "description": "",
       "description_allow_html": false,
       "layout": "IPY_MODEL_e007a13c827c49ec9cbac098195759d1",
       "placeholder": "​",
       "style": "IPY_MODEL_8554546d88f34b0792672db96f4b904b",
       "tabbable": null,
       "tooltip": null,
       "value": " 16/16 [00:02&lt;00:00,  7.37it/s]"
      }
     },
     "47e0724a61bd404d81f9684a1ff4966b": {
      "model_module": "@jupyter-widgets/base",
      "model_module_version": "2.0.0",
      "model_name": "LayoutModel",
      "state": {
       "_model_module": "@jupyter-widgets/base",
       "_model_module_version": "2.0.0",
       "_model_name": "LayoutModel",
       "_view_count": null,
       "_view_module": "@jupyter-widgets/base",
       "_view_module_version": "2.0.0",
       "_view_name": "LayoutView",
       "align_content": null,
       "align_items": null,
       "align_self": null,
       "border_bottom": null,
       "border_left": null,
       "border_right": null,
       "border_top": null,
       "bottom": null,
       "display": null,
       "flex": null,
       "flex_flow": null,
       "grid_area": null,
       "grid_auto_columns": null,
       "grid_auto_flow": null,
       "grid_auto_rows": null,
       "grid_column": null,
       "grid_gap": null,
       "grid_row": null,
       "grid_template_areas": null,
       "grid_template_columns": null,
       "grid_template_rows": null,
       "height": null,
       "justify_content": null,
       "justify_items": null,
       "left": null,
       "margin": null,
       "max_height": null,
       "max_width": null,
       "min_height": null,
       "min_width": null,
       "object_fit": null,
       "object_position": null,
       "order": null,
       "overflow": null,
       "padding": null,
       "right": null,
       "top": null,
       "visibility": null,
       "width": null
      }
     },
     "47f6774ae6c04f02a9eb69ab49367e5c": {
      "model_module": "@jupyter-widgets/base",
      "model_module_version": "2.0.0",
      "model_name": "LayoutModel",
      "state": {
       "_model_module": "@jupyter-widgets/base",
       "_model_module_version": "2.0.0",
       "_model_name": "LayoutModel",
       "_view_count": null,
       "_view_module": "@jupyter-widgets/base",
       "_view_module_version": "2.0.0",
       "_view_name": "LayoutView",
       "align_content": null,
       "align_items": null,
       "align_self": null,
       "border_bottom": null,
       "border_left": null,
       "border_right": null,
       "border_top": null,
       "bottom": null,
       "display": "inline-flex",
       "flex": null,
       "flex_flow": "row wrap",
       "grid_area": null,
       "grid_auto_columns": null,
       "grid_auto_flow": null,
       "grid_auto_rows": null,
       "grid_column": null,
       "grid_gap": null,
       "grid_row": null,
       "grid_template_areas": null,
       "grid_template_columns": null,
       "grid_template_rows": null,
       "height": null,
       "justify_content": null,
       "justify_items": null,
       "left": null,
       "margin": null,
       "max_height": null,
       "max_width": null,
       "min_height": null,
       "min_width": null,
       "object_fit": null,
       "object_position": null,
       "order": null,
       "overflow": null,
       "padding": null,
       "right": null,
       "top": null,
       "visibility": "hidden",
       "width": "100%"
      }
     },
     "4a03b92a830b4e53b7d8063708ea9e65": {
      "model_module": "@jupyter-widgets/controls",
      "model_module_version": "2.0.0",
      "model_name": "ProgressStyleModel",
      "state": {
       "_model_module": "@jupyter-widgets/controls",
       "_model_module_version": "2.0.0",
       "_model_name": "ProgressStyleModel",
       "_view_count": null,
       "_view_module": "@jupyter-widgets/base",
       "_view_module_version": "2.0.0",
       "_view_name": "StyleView",
       "bar_color": null,
       "description_width": ""
      }
     },
     "4c41692b2e8d4b9da966d6162da76692": {
      "model_module": "@jupyter-widgets/controls",
      "model_module_version": "2.0.0",
      "model_name": "HTMLModel",
      "state": {
       "_dom_classes": [],
       "_model_module": "@jupyter-widgets/controls",
       "_model_module_version": "2.0.0",
       "_model_name": "HTMLModel",
       "_view_count": null,
       "_view_module": "@jupyter-widgets/controls",
       "_view_module_version": "2.0.0",
       "_view_name": "HTMLView",
       "description": "",
       "description_allow_html": false,
       "layout": "IPY_MODEL_b7b3c8ce6f43423d977aa24136fb6063",
       "placeholder": "​",
       "style": "IPY_MODEL_39cd43aebf824f53a4c5e2df496ef70a",
       "tabbable": null,
       "tooltip": null,
       "value": "Sanity Checking DataLoader 0: 100%"
      }
     },
     "5035fb49945b4481967c0973c1008566": {
      "model_module": "@jupyter-widgets/base",
      "model_module_version": "2.0.0",
      "model_name": "LayoutModel",
      "state": {
       "_model_module": "@jupyter-widgets/base",
       "_model_module_version": "2.0.0",
       "_model_name": "LayoutModel",
       "_view_count": null,
       "_view_module": "@jupyter-widgets/base",
       "_view_module_version": "2.0.0",
       "_view_name": "LayoutView",
       "align_content": null,
       "align_items": null,
       "align_self": null,
       "border_bottom": null,
       "border_left": null,
       "border_right": null,
       "border_top": null,
       "bottom": null,
       "display": null,
       "flex": "2",
       "flex_flow": null,
       "grid_area": null,
       "grid_auto_columns": null,
       "grid_auto_flow": null,
       "grid_auto_rows": null,
       "grid_column": null,
       "grid_gap": null,
       "grid_row": null,
       "grid_template_areas": null,
       "grid_template_columns": null,
       "grid_template_rows": null,
       "height": null,
       "justify_content": null,
       "justify_items": null,
       "left": null,
       "margin": null,
       "max_height": null,
       "max_width": null,
       "min_height": null,
       "min_width": null,
       "object_fit": null,
       "object_position": null,
       "order": null,
       "overflow": null,
       "padding": null,
       "right": null,
       "top": null,
       "visibility": null,
       "width": null
      }
     },
     "50dbef0d1b86462099790071ee94611c": {
      "model_module": "@jupyter-widgets/base",
      "model_module_version": "2.0.0",
      "model_name": "LayoutModel",
      "state": {
       "_model_module": "@jupyter-widgets/base",
       "_model_module_version": "2.0.0",
       "_model_name": "LayoutModel",
       "_view_count": null,
       "_view_module": "@jupyter-widgets/base",
       "_view_module_version": "2.0.0",
       "_view_name": "LayoutView",
       "align_content": null,
       "align_items": null,
       "align_self": null,
       "border_bottom": null,
       "border_left": null,
       "border_right": null,
       "border_top": null,
       "bottom": null,
       "display": "inline-flex",
       "flex": null,
       "flex_flow": "row wrap",
       "grid_area": null,
       "grid_auto_columns": null,
       "grid_auto_flow": null,
       "grid_auto_rows": null,
       "grid_column": null,
       "grid_gap": null,
       "grid_row": null,
       "grid_template_areas": null,
       "grid_template_columns": null,
       "grid_template_rows": null,
       "height": null,
       "justify_content": null,
       "justify_items": null,
       "left": null,
       "margin": null,
       "max_height": null,
       "max_width": null,
       "min_height": null,
       "min_width": null,
       "object_fit": null,
       "object_position": null,
       "order": null,
       "overflow": null,
       "padding": null,
       "right": null,
       "top": null,
       "visibility": "hidden",
       "width": "100%"
      }
     },
     "512c3412fe344ed6a2ce19710f0a2314": {
      "model_module": "@jupyter-widgets/base",
      "model_module_version": "2.0.0",
      "model_name": "LayoutModel",
      "state": {
       "_model_module": "@jupyter-widgets/base",
       "_model_module_version": "2.0.0",
       "_model_name": "LayoutModel",
       "_view_count": null,
       "_view_module": "@jupyter-widgets/base",
       "_view_module_version": "2.0.0",
       "_view_name": "LayoutView",
       "align_content": null,
       "align_items": null,
       "align_self": null,
       "border_bottom": null,
       "border_left": null,
       "border_right": null,
       "border_top": null,
       "bottom": null,
       "display": null,
       "flex": "2",
       "flex_flow": null,
       "grid_area": null,
       "grid_auto_columns": null,
       "grid_auto_flow": null,
       "grid_auto_rows": null,
       "grid_column": null,
       "grid_gap": null,
       "grid_row": null,
       "grid_template_areas": null,
       "grid_template_columns": null,
       "grid_template_rows": null,
       "height": null,
       "justify_content": null,
       "justify_items": null,
       "left": null,
       "margin": null,
       "max_height": null,
       "max_width": null,
       "min_height": null,
       "min_width": null,
       "object_fit": null,
       "object_position": null,
       "order": null,
       "overflow": null,
       "padding": null,
       "right": null,
       "top": null,
       "visibility": null,
       "width": null
      }
     },
     "52333f6bd4094f51ab59143c6d90773f": {
      "model_module": "@jupyter-widgets/controls",
      "model_module_version": "2.0.0",
      "model_name": "HTMLModel",
      "state": {
       "_dom_classes": [],
       "_model_module": "@jupyter-widgets/controls",
       "_model_module_version": "2.0.0",
       "_model_name": "HTMLModel",
       "_view_count": null,
       "_view_module": "@jupyter-widgets/controls",
       "_view_module_version": "2.0.0",
       "_view_name": "HTMLView",
       "description": "",
       "description_allow_html": false,
       "layout": "IPY_MODEL_118f83f083d742f1a48bda103d6b430a",
       "placeholder": "​",
       "style": "IPY_MODEL_375d62e8a9c54a3fbd2e6b05456dfc9f",
       "tabbable": null,
       "tooltip": null,
       "value": " 16/16 [00:02&lt;00:00,  6.87it/s]"
      }
     },
     "57a4ab8261de42bb91de9743b96ef7e1": {
      "model_module": "@jupyter-widgets/base",
      "model_module_version": "2.0.0",
      "model_name": "LayoutModel",
      "state": {
       "_model_module": "@jupyter-widgets/base",
       "_model_module_version": "2.0.0",
       "_model_name": "LayoutModel",
       "_view_count": null,
       "_view_module": "@jupyter-widgets/base",
       "_view_module_version": "2.0.0",
       "_view_name": "LayoutView",
       "align_content": null,
       "align_items": null,
       "align_self": null,
       "border_bottom": null,
       "border_left": null,
       "border_right": null,
       "border_top": null,
       "bottom": null,
       "display": null,
       "flex": null,
       "flex_flow": null,
       "grid_area": null,
       "grid_auto_columns": null,
       "grid_auto_flow": null,
       "grid_auto_rows": null,
       "grid_column": null,
       "grid_gap": null,
       "grid_row": null,
       "grid_template_areas": null,
       "grid_template_columns": null,
       "grid_template_rows": null,
       "height": null,
       "justify_content": null,
       "justify_items": null,
       "left": null,
       "margin": null,
       "max_height": null,
       "max_width": null,
       "min_height": null,
       "min_width": null,
       "object_fit": null,
       "object_position": null,
       "order": null,
       "overflow": null,
       "padding": null,
       "right": null,
       "top": null,
       "visibility": null,
       "width": null
      }
     },
     "5a639e9c9e2b47899b1d18d8b435ffaf": {
      "model_module": "@jupyter-widgets/controls",
      "model_module_version": "2.0.0",
      "model_name": "HTMLStyleModel",
      "state": {
       "_model_module": "@jupyter-widgets/controls",
       "_model_module_version": "2.0.0",
       "_model_name": "HTMLStyleModel",
       "_view_count": null,
       "_view_module": "@jupyter-widgets/base",
       "_view_module_version": "2.0.0",
       "_view_name": "StyleView",
       "background": null,
       "description_width": "",
       "font_size": null,
       "text_color": null
      }
     },
     "5dfd7643373f4cfe9543870174d3e343": {
      "model_module": "@jupyter-widgets/controls",
      "model_module_version": "2.0.0",
      "model_name": "HTMLModel",
      "state": {
       "_dom_classes": [],
       "_model_module": "@jupyter-widgets/controls",
       "_model_module_version": "2.0.0",
       "_model_name": "HTMLModel",
       "_view_count": null,
       "_view_module": "@jupyter-widgets/controls",
       "_view_module_version": "2.0.0",
       "_view_name": "HTMLView",
       "description": "",
       "description_allow_html": false,
       "layout": "IPY_MODEL_cbe78d0258a042be9bd2a9651164621b",
       "placeholder": "​",
       "style": "IPY_MODEL_f983143f252b4f60a0f8acdc5e8bec80",
       "tabbable": null,
       "tooltip": null,
       "value": "Validation DataLoader 0: 100%"
      }
     },
     "5e8b61d0003e46c1ab2311323ae4b492": {
      "model_module": "@jupyter-widgets/controls",
      "model_module_version": "2.0.0",
      "model_name": "HTMLModel",
      "state": {
       "_dom_classes": [],
       "_model_module": "@jupyter-widgets/controls",
       "_model_module_version": "2.0.0",
       "_model_name": "HTMLModel",
       "_view_count": null,
       "_view_module": "@jupyter-widgets/controls",
       "_view_module_version": "2.0.0",
       "_view_name": "HTMLView",
       "description": "",
       "description_allow_html": false,
       "layout": "IPY_MODEL_37cc0411862e4169925beef4c2255a9d",
       "placeholder": "​",
       "style": "IPY_MODEL_e6dce49751b84454a2be0d3c4ed7e859",
       "tabbable": null,
       "tooltip": null,
       "value": " 2/2 [00:00&lt;00:00,  2.91it/s]"
      }
     },
     "5f184c821045406ea584de9fcd9b44ed": {
      "model_module": "@jupyter-widgets/base",
      "model_module_version": "2.0.0",
      "model_name": "LayoutModel",
      "state": {
       "_model_module": "@jupyter-widgets/base",
       "_model_module_version": "2.0.0",
       "_model_name": "LayoutModel",
       "_view_count": null,
       "_view_module": "@jupyter-widgets/base",
       "_view_module_version": "2.0.0",
       "_view_name": "LayoutView",
       "align_content": null,
       "align_items": null,
       "align_self": null,
       "border_bottom": null,
       "border_left": null,
       "border_right": null,
       "border_top": null,
       "bottom": null,
       "display": null,
       "flex": null,
       "flex_flow": null,
       "grid_area": null,
       "grid_auto_columns": null,
       "grid_auto_flow": null,
       "grid_auto_rows": null,
       "grid_column": null,
       "grid_gap": null,
       "grid_row": null,
       "grid_template_areas": null,
       "grid_template_columns": null,
       "grid_template_rows": null,
       "height": null,
       "justify_content": null,
       "justify_items": null,
       "left": null,
       "margin": null,
       "max_height": null,
       "max_width": null,
       "min_height": null,
       "min_width": null,
       "object_fit": null,
       "object_position": null,
       "order": null,
       "overflow": null,
       "padding": null,
       "right": null,
       "top": null,
       "visibility": null,
       "width": null
      }
     },
     "6087779d11b641e28cc901a46226ea34": {
      "model_module": "@jupyter-widgets/base",
      "model_module_version": "2.0.0",
      "model_name": "LayoutModel",
      "state": {
       "_model_module": "@jupyter-widgets/base",
       "_model_module_version": "2.0.0",
       "_model_name": "LayoutModel",
       "_view_count": null,
       "_view_module": "@jupyter-widgets/base",
       "_view_module_version": "2.0.0",
       "_view_name": "LayoutView",
       "align_content": null,
       "align_items": null,
       "align_self": null,
       "border_bottom": null,
       "border_left": null,
       "border_right": null,
       "border_top": null,
       "bottom": null,
       "display": null,
       "flex": "2",
       "flex_flow": null,
       "grid_area": null,
       "grid_auto_columns": null,
       "grid_auto_flow": null,
       "grid_auto_rows": null,
       "grid_column": null,
       "grid_gap": null,
       "grid_row": null,
       "grid_template_areas": null,
       "grid_template_columns": null,
       "grid_template_rows": null,
       "height": null,
       "justify_content": null,
       "justify_items": null,
       "left": null,
       "margin": null,
       "max_height": null,
       "max_width": null,
       "min_height": null,
       "min_width": null,
       "object_fit": null,
       "object_position": null,
       "order": null,
       "overflow": null,
       "padding": null,
       "right": null,
       "top": null,
       "visibility": null,
       "width": null
      }
     },
     "6240cb3f81624c0386008e1497817652": {
      "model_module": "@jupyter-widgets/controls",
      "model_module_version": "2.0.0",
      "model_name": "HTMLStyleModel",
      "state": {
       "_model_module": "@jupyter-widgets/controls",
       "_model_module_version": "2.0.0",
       "_model_name": "HTMLStyleModel",
       "_view_count": null,
       "_view_module": "@jupyter-widgets/base",
       "_view_module_version": "2.0.0",
       "_view_name": "StyleView",
       "background": null,
       "description_width": "",
       "font_size": null,
       "text_color": null
      }
     },
     "6254a1a3e5dc4859aae08cc415291cae": {
      "model_module": "@jupyter-widgets/controls",
      "model_module_version": "2.0.0",
      "model_name": "HTMLStyleModel",
      "state": {
       "_model_module": "@jupyter-widgets/controls",
       "_model_module_version": "2.0.0",
       "_model_name": "HTMLStyleModel",
       "_view_count": null,
       "_view_module": "@jupyter-widgets/base",
       "_view_module_version": "2.0.0",
       "_view_name": "StyleView",
       "background": null,
       "description_width": "",
       "font_size": null,
       "text_color": null
      }
     },
     "62a27e51b8c44e098b3e3fd50ce03d30": {
      "model_module": "@jupyter-widgets/controls",
      "model_module_version": "2.0.0",
      "model_name": "HTMLStyleModel",
      "state": {
       "_model_module": "@jupyter-widgets/controls",
       "_model_module_version": "2.0.0",
       "_model_name": "HTMLStyleModel",
       "_view_count": null,
       "_view_module": "@jupyter-widgets/base",
       "_view_module_version": "2.0.0",
       "_view_name": "StyleView",
       "background": null,
       "description_width": "",
       "font_size": null,
       "text_color": null
      }
     },
     "634be5134206409e88628d68b54a5a2e": {
      "model_module": "@jupyter-widgets/base",
      "model_module_version": "2.0.0",
      "model_name": "LayoutModel",
      "state": {
       "_model_module": "@jupyter-widgets/base",
       "_model_module_version": "2.0.0",
       "_model_name": "LayoutModel",
       "_view_count": null,
       "_view_module": "@jupyter-widgets/base",
       "_view_module_version": "2.0.0",
       "_view_name": "LayoutView",
       "align_content": null,
       "align_items": null,
       "align_self": null,
       "border_bottom": null,
       "border_left": null,
       "border_right": null,
       "border_top": null,
       "bottom": null,
       "display": null,
       "flex": null,
       "flex_flow": null,
       "grid_area": null,
       "grid_auto_columns": null,
       "grid_auto_flow": null,
       "grid_auto_rows": null,
       "grid_column": null,
       "grid_gap": null,
       "grid_row": null,
       "grid_template_areas": null,
       "grid_template_columns": null,
       "grid_template_rows": null,
       "height": null,
       "justify_content": null,
       "justify_items": null,
       "left": null,
       "margin": null,
       "max_height": null,
       "max_width": null,
       "min_height": null,
       "min_width": null,
       "object_fit": null,
       "object_position": null,
       "order": null,
       "overflow": null,
       "padding": null,
       "right": null,
       "top": null,
       "visibility": null,
       "width": null
      }
     },
     "637ef01de0d84ecb99ea9c55dc521254": {
      "model_module": "@jupyter-widgets/base",
      "model_module_version": "2.0.0",
      "model_name": "LayoutModel",
      "state": {
       "_model_module": "@jupyter-widgets/base",
       "_model_module_version": "2.0.0",
       "_model_name": "LayoutModel",
       "_view_count": null,
       "_view_module": "@jupyter-widgets/base",
       "_view_module_version": "2.0.0",
       "_view_name": "LayoutView",
       "align_content": null,
       "align_items": null,
       "align_self": null,
       "border_bottom": null,
       "border_left": null,
       "border_right": null,
       "border_top": null,
       "bottom": null,
       "display": null,
       "flex": null,
       "flex_flow": null,
       "grid_area": null,
       "grid_auto_columns": null,
       "grid_auto_flow": null,
       "grid_auto_rows": null,
       "grid_column": null,
       "grid_gap": null,
       "grid_row": null,
       "grid_template_areas": null,
       "grid_template_columns": null,
       "grid_template_rows": null,
       "height": null,
       "justify_content": null,
       "justify_items": null,
       "left": null,
       "margin": null,
       "max_height": null,
       "max_width": null,
       "min_height": null,
       "min_width": null,
       "object_fit": null,
       "object_position": null,
       "order": null,
       "overflow": null,
       "padding": null,
       "right": null,
       "top": null,
       "visibility": null,
       "width": null
      }
     },
     "644b26d50841461fb2ffc8393c119816": {
      "model_module": "@jupyter-widgets/controls",
      "model_module_version": "2.0.0",
      "model_name": "HBoxModel",
      "state": {
       "_dom_classes": [],
       "_model_module": "@jupyter-widgets/controls",
       "_model_module_version": "2.0.0",
       "_model_name": "HBoxModel",
       "_view_count": null,
       "_view_module": "@jupyter-widgets/controls",
       "_view_module_version": "2.0.0",
       "_view_name": "HBoxView",
       "box_style": "",
       "children": [
        "IPY_MODEL_ca4f9a2ccdf142ada748bc333465893c",
        "IPY_MODEL_ef85f7235d5f4ab9adb66bc0576b404b",
        "IPY_MODEL_c6a89d4c74664bb4af15a53b025c2f1c"
       ],
       "layout": "IPY_MODEL_8c3936723e5b43798c86b29a28403078",
       "tabbable": null,
       "tooltip": null
      }
     },
     "6589573c089347b0a68dd438cdb6fae6": {
      "model_module": "@jupyter-widgets/controls",
      "model_module_version": "2.0.0",
      "model_name": "HBoxModel",
      "state": {
       "_dom_classes": [],
       "_model_module": "@jupyter-widgets/controls",
       "_model_module_version": "2.0.0",
       "_model_name": "HBoxModel",
       "_view_count": null,
       "_view_module": "@jupyter-widgets/controls",
       "_view_module_version": "2.0.0",
       "_view_name": "HBoxView",
       "box_style": "",
       "children": [
        "IPY_MODEL_bdfb880c74fe40379eadee36177a2835",
        "IPY_MODEL_a8619041b8564e3198515460bf5485bf",
        "IPY_MODEL_e2ad5d733df6423a99b07b08095d27ca"
       ],
       "layout": "IPY_MODEL_23ad36820de84da9b17a4364e84be47a",
       "tabbable": null,
       "tooltip": null
      }
     },
     "66512389a6b24e9ba7bc3137608461c5": {
      "model_module": "@jupyter-widgets/controls",
      "model_module_version": "2.0.0",
      "model_name": "ProgressStyleModel",
      "state": {
       "_model_module": "@jupyter-widgets/controls",
       "_model_module_version": "2.0.0",
       "_model_name": "ProgressStyleModel",
       "_view_count": null,
       "_view_module": "@jupyter-widgets/base",
       "_view_module_version": "2.0.0",
       "_view_name": "StyleView",
       "bar_color": null,
       "description_width": ""
      }
     },
     "67a78842b7aa4387bfa4cbb52d39aed9": {
      "model_module": "@jupyter-widgets/controls",
      "model_module_version": "2.0.0",
      "model_name": "HTMLModel",
      "state": {
       "_dom_classes": [],
       "_model_module": "@jupyter-widgets/controls",
       "_model_module_version": "2.0.0",
       "_model_name": "HTMLModel",
       "_view_count": null,
       "_view_module": "@jupyter-widgets/controls",
       "_view_module_version": "2.0.0",
       "_view_name": "HTMLView",
       "description": "",
       "description_allow_html": false,
       "layout": "IPY_MODEL_2a372c476812493ebf28c2a52131ab1d",
       "placeholder": "​",
       "style": "IPY_MODEL_9ac8330fa2b840b8b4fc4d4226d6c031",
       "tabbable": null,
       "tooltip": null,
       "value": " 16/16 [00:02&lt;00:00,  6.95it/s]"
      }
     },
     "68997dd5c359451e806c1bb865160d28": {
      "model_module": "@jupyter-widgets/controls",
      "model_module_version": "2.0.0",
      "model_name": "ProgressStyleModel",
      "state": {
       "_model_module": "@jupyter-widgets/controls",
       "_model_module_version": "2.0.0",
       "_model_name": "ProgressStyleModel",
       "_view_count": null,
       "_view_module": "@jupyter-widgets/base",
       "_view_module_version": "2.0.0",
       "_view_name": "StyleView",
       "bar_color": null,
       "description_width": ""
      }
     },
     "68afbf35889a485699bdc49697f0f5de": {
      "model_module": "@jupyter-widgets/controls",
      "model_module_version": "2.0.0",
      "model_name": "HTMLModel",
      "state": {
       "_dom_classes": [],
       "_model_module": "@jupyter-widgets/controls",
       "_model_module_version": "2.0.0",
       "_model_name": "HTMLModel",
       "_view_count": null,
       "_view_module": "@jupyter-widgets/controls",
       "_view_module_version": "2.0.0",
       "_view_name": "HTMLView",
       "description": "",
       "description_allow_html": false,
       "layout": "IPY_MODEL_637ef01de0d84ecb99ea9c55dc521254",
       "placeholder": "​",
       "style": "IPY_MODEL_453fd3f60bf74db7b27b6f97df0b27eb",
       "tabbable": null,
       "tooltip": null,
       "value": " 16/16 [00:02&lt;00:00,  7.13it/s]"
      }
     },
     "6b15d46af9d34f55b082d512558d6a4c": {
      "model_module": "@jupyter-widgets/controls",
      "model_module_version": "2.0.0",
      "model_name": "HBoxModel",
      "state": {
       "_dom_classes": [],
       "_model_module": "@jupyter-widgets/controls",
       "_model_module_version": "2.0.0",
       "_model_name": "HBoxModel",
       "_view_count": null,
       "_view_module": "@jupyter-widgets/controls",
       "_view_module_version": "2.0.0",
       "_view_name": "HBoxView",
       "box_style": "",
       "children": [
        "IPY_MODEL_72e6f85c4d9c4469987d6dd4566c059f",
        "IPY_MODEL_3f09215e912448b9858bfa9efe1b76bd",
        "IPY_MODEL_96c7229f63e746b084ef02d945ca3775"
       ],
       "layout": "IPY_MODEL_8950b681c8bc4da9bdb1bf622d55654f",
       "tabbable": null,
       "tooltip": null
      }
     },
     "6fa30a6c4ac8478e8d77f615b02c3771": {
      "model_module": "@jupyter-widgets/base",
      "model_module_version": "2.0.0",
      "model_name": "LayoutModel",
      "state": {
       "_model_module": "@jupyter-widgets/base",
       "_model_module_version": "2.0.0",
       "_model_name": "LayoutModel",
       "_view_count": null,
       "_view_module": "@jupyter-widgets/base",
       "_view_module_version": "2.0.0",
       "_view_name": "LayoutView",
       "align_content": null,
       "align_items": null,
       "align_self": null,
       "border_bottom": null,
       "border_left": null,
       "border_right": null,
       "border_top": null,
       "bottom": null,
       "display": null,
       "flex": "2",
       "flex_flow": null,
       "grid_area": null,
       "grid_auto_columns": null,
       "grid_auto_flow": null,
       "grid_auto_rows": null,
       "grid_column": null,
       "grid_gap": null,
       "grid_row": null,
       "grid_template_areas": null,
       "grid_template_columns": null,
       "grid_template_rows": null,
       "height": null,
       "justify_content": null,
       "justify_items": null,
       "left": null,
       "margin": null,
       "max_height": null,
       "max_width": null,
       "min_height": null,
       "min_width": null,
       "object_fit": null,
       "object_position": null,
       "order": null,
       "overflow": null,
       "padding": null,
       "right": null,
       "top": null,
       "visibility": null,
       "width": null
      }
     },
     "7118150a63804406bd8ffee802fa794c": {
      "model_module": "@jupyter-widgets/controls",
      "model_module_version": "2.0.0",
      "model_name": "HBoxModel",
      "state": {
       "_dom_classes": [],
       "_model_module": "@jupyter-widgets/controls",
       "_model_module_version": "2.0.0",
       "_model_name": "HBoxModel",
       "_view_count": null,
       "_view_module": "@jupyter-widgets/controls",
       "_view_module_version": "2.0.0",
       "_view_name": "HBoxView",
       "box_style": "",
       "children": [
        "IPY_MODEL_4c41692b2e8d4b9da966d6162da76692",
        "IPY_MODEL_92a4916454384618b5873ce5c54d38e8",
        "IPY_MODEL_5e8b61d0003e46c1ab2311323ae4b492"
       ],
       "layout": "IPY_MODEL_ae124bb0cb114ddd99c01092e84acf06",
       "tabbable": null,
       "tooltip": null
      }
     },
     "7211e4d49e7542fca839b4774874d288": {
      "model_module": "@jupyter-widgets/base",
      "model_module_version": "2.0.0",
      "model_name": "LayoutModel",
      "state": {
       "_model_module": "@jupyter-widgets/base",
       "_model_module_version": "2.0.0",
       "_model_name": "LayoutModel",
       "_view_count": null,
       "_view_module": "@jupyter-widgets/base",
       "_view_module_version": "2.0.0",
       "_view_name": "LayoutView",
       "align_content": null,
       "align_items": null,
       "align_self": null,
       "border_bottom": null,
       "border_left": null,
       "border_right": null,
       "border_top": null,
       "bottom": null,
       "display": null,
       "flex": null,
       "flex_flow": null,
       "grid_area": null,
       "grid_auto_columns": null,
       "grid_auto_flow": null,
       "grid_auto_rows": null,
       "grid_column": null,
       "grid_gap": null,
       "grid_row": null,
       "grid_template_areas": null,
       "grid_template_columns": null,
       "grid_template_rows": null,
       "height": null,
       "justify_content": null,
       "justify_items": null,
       "left": null,
       "margin": null,
       "max_height": null,
       "max_width": null,
       "min_height": null,
       "min_width": null,
       "object_fit": null,
       "object_position": null,
       "order": null,
       "overflow": null,
       "padding": null,
       "right": null,
       "top": null,
       "visibility": null,
       "width": null
      }
     },
     "72e6f85c4d9c4469987d6dd4566c059f": {
      "model_module": "@jupyter-widgets/controls",
      "model_module_version": "2.0.0",
      "model_name": "HTMLModel",
      "state": {
       "_dom_classes": [],
       "_model_module": "@jupyter-widgets/controls",
       "_model_module_version": "2.0.0",
       "_model_name": "HTMLModel",
       "_view_count": null,
       "_view_module": "@jupyter-widgets/controls",
       "_view_module_version": "2.0.0",
       "_view_name": "HTMLView",
       "description": "",
       "description_allow_html": false,
       "layout": "IPY_MODEL_ec9bf9f8e20e4759a1c29a88ad088550",
       "placeholder": "​",
       "style": "IPY_MODEL_d622c96c2e684a9aa3dcc84919dd41aa",
       "tabbable": null,
       "tooltip": null,
       "value": "Validation DataLoader 0: 100%"
      }
     },
     "75e7be34d56b47d0a4a7073c9d8388ad": {
      "model_module": "@jupyter-widgets/controls",
      "model_module_version": "2.0.0",
      "model_name": "FloatProgressModel",
      "state": {
       "_dom_classes": [],
       "_model_module": "@jupyter-widgets/controls",
       "_model_module_version": "2.0.0",
       "_model_name": "FloatProgressModel",
       "_view_count": null,
       "_view_module": "@jupyter-widgets/controls",
       "_view_module_version": "2.0.0",
       "_view_name": "ProgressView",
       "bar_style": "",
       "description": "",
       "description_allow_html": false,
       "layout": "IPY_MODEL_897109a6f69e4d06acf5a5a3089d5ec8",
       "max": 16.0,
       "min": 0.0,
       "orientation": "horizontal",
       "style": "IPY_MODEL_68997dd5c359451e806c1bb865160d28",
       "tabbable": null,
       "tooltip": null,
       "value": 16.0
      }
     },
     "78214cbbb42f472db35eb7c00057b9a1": {
      "model_module": "@jupyter-widgets/controls",
      "model_module_version": "2.0.0",
      "model_name": "HBoxModel",
      "state": {
       "_dom_classes": [],
       "_model_module": "@jupyter-widgets/controls",
       "_model_module_version": "2.0.0",
       "_model_name": "HBoxModel",
       "_view_count": null,
       "_view_module": "@jupyter-widgets/controls",
       "_view_module_version": "2.0.0",
       "_view_name": "HBoxView",
       "box_style": "",
       "children": [
        "IPY_MODEL_adfdf7d06f5749dd9f2082db4c4fca5d",
        "IPY_MODEL_e356b7ea29674e4ba99487f684c8e547",
        "IPY_MODEL_33c7567cf70a4d269f51d311ce86701b"
       ],
       "layout": "IPY_MODEL_7d883f34aebb4a06a9508fadbb11bfcd",
       "tabbable": null,
       "tooltip": null
      }
     },
     "787525db282e43f986fa98a43850344c": {
      "model_module": "@jupyter-widgets/controls",
      "model_module_version": "2.0.0",
      "model_name": "HTMLStyleModel",
      "state": {
       "_model_module": "@jupyter-widgets/controls",
       "_model_module_version": "2.0.0",
       "_model_name": "HTMLStyleModel",
       "_view_count": null,
       "_view_module": "@jupyter-widgets/base",
       "_view_module_version": "2.0.0",
       "_view_name": "StyleView",
       "background": null,
       "description_width": "",
       "font_size": null,
       "text_color": null
      }
     },
     "79b61756329a4d5d881c7d13fc2a15e1": {
      "model_module": "@jupyter-widgets/controls",
      "model_module_version": "2.0.0",
      "model_name": "HTMLModel",
      "state": {
       "_dom_classes": [],
       "_model_module": "@jupyter-widgets/controls",
       "_model_module_version": "2.0.0",
       "_model_name": "HTMLModel",
       "_view_count": null,
       "_view_module": "@jupyter-widgets/controls",
       "_view_module_version": "2.0.0",
       "_view_name": "HTMLView",
       "description": "",
       "description_allow_html": false,
       "layout": "IPY_MODEL_47e0724a61bd404d81f9684a1ff4966b",
       "placeholder": "​",
       "style": "IPY_MODEL_07c17e268d56470aa1789bc5f3734714",
       "tabbable": null,
       "tooltip": null,
       "value": "Validation DataLoader 0: 100%"
      }
     },
     "7d883f34aebb4a06a9508fadbb11bfcd": {
      "model_module": "@jupyter-widgets/base",
      "model_module_version": "2.0.0",
      "model_name": "LayoutModel",
      "state": {
       "_model_module": "@jupyter-widgets/base",
       "_model_module_version": "2.0.0",
       "_model_name": "LayoutModel",
       "_view_count": null,
       "_view_module": "@jupyter-widgets/base",
       "_view_module_version": "2.0.0",
       "_view_name": "LayoutView",
       "align_content": null,
       "align_items": null,
       "align_self": null,
       "border_bottom": null,
       "border_left": null,
       "border_right": null,
       "border_top": null,
       "bottom": null,
       "display": "inline-flex",
       "flex": null,
       "flex_flow": "row wrap",
       "grid_area": null,
       "grid_auto_columns": null,
       "grid_auto_flow": null,
       "grid_auto_rows": null,
       "grid_column": null,
       "grid_gap": null,
       "grid_row": null,
       "grid_template_areas": null,
       "grid_template_columns": null,
       "grid_template_rows": null,
       "height": null,
       "justify_content": null,
       "justify_items": null,
       "left": null,
       "margin": null,
       "max_height": null,
       "max_width": null,
       "min_height": null,
       "min_width": null,
       "object_fit": null,
       "object_position": null,
       "order": null,
       "overflow": null,
       "padding": null,
       "right": null,
       "top": null,
       "visibility": "hidden",
       "width": "100%"
      }
     },
     "7f2e93d4cfc44d1a9f7026488d774988": {
      "model_module": "@jupyter-widgets/controls",
      "model_module_version": "2.0.0",
      "model_name": "HTMLModel",
      "state": {
       "_dom_classes": [],
       "_model_module": "@jupyter-widgets/controls",
       "_model_module_version": "2.0.0",
       "_model_name": "HTMLModel",
       "_view_count": null,
       "_view_module": "@jupyter-widgets/controls",
       "_view_module_version": "2.0.0",
       "_view_name": "HTMLView",
       "description": "",
       "description_allow_html": false,
       "layout": "IPY_MODEL_634be5134206409e88628d68b54a5a2e",
       "placeholder": "​",
       "style": "IPY_MODEL_860d39dea774416384339fa1afdb1b90",
       "tabbable": null,
       "tooltip": null,
       "value": " 16/16 [00:02&lt;00:00,  6.69it/s]"
      }
     },
     "80036a508c4a4dec936c8a8901f2fddc": {
      "model_module": "@jupyter-widgets/base",
      "model_module_version": "2.0.0",
      "model_name": "LayoutModel",
      "state": {
       "_model_module": "@jupyter-widgets/base",
       "_model_module_version": "2.0.0",
       "_model_name": "LayoutModel",
       "_view_count": null,
       "_view_module": "@jupyter-widgets/base",
       "_view_module_version": "2.0.0",
       "_view_name": "LayoutView",
       "align_content": null,
       "align_items": null,
       "align_self": null,
       "border_bottom": null,
       "border_left": null,
       "border_right": null,
       "border_top": null,
       "bottom": null,
       "display": null,
       "flex": null,
       "flex_flow": null,
       "grid_area": null,
       "grid_auto_columns": null,
       "grid_auto_flow": null,
       "grid_auto_rows": null,
       "grid_column": null,
       "grid_gap": null,
       "grid_row": null,
       "grid_template_areas": null,
       "grid_template_columns": null,
       "grid_template_rows": null,
       "height": null,
       "justify_content": null,
       "justify_items": null,
       "left": null,
       "margin": null,
       "max_height": null,
       "max_width": null,
       "min_height": null,
       "min_width": null,
       "object_fit": null,
       "object_position": null,
       "order": null,
       "overflow": null,
       "padding": null,
       "right": null,
       "top": null,
       "visibility": null,
       "width": null
      }
     },
     "8094baa430534f9789544d5e95e5e204": {
      "model_module": "@jupyter-widgets/base",
      "model_module_version": "2.0.0",
      "model_name": "LayoutModel",
      "state": {
       "_model_module": "@jupyter-widgets/base",
       "_model_module_version": "2.0.0",
       "_model_name": "LayoutModel",
       "_view_count": null,
       "_view_module": "@jupyter-widgets/base",
       "_view_module_version": "2.0.0",
       "_view_name": "LayoutView",
       "align_content": null,
       "align_items": null,
       "align_self": null,
       "border_bottom": null,
       "border_left": null,
       "border_right": null,
       "border_top": null,
       "bottom": null,
       "display": null,
       "flex": null,
       "flex_flow": null,
       "grid_area": null,
       "grid_auto_columns": null,
       "grid_auto_flow": null,
       "grid_auto_rows": null,
       "grid_column": null,
       "grid_gap": null,
       "grid_row": null,
       "grid_template_areas": null,
       "grid_template_columns": null,
       "grid_template_rows": null,
       "height": null,
       "justify_content": null,
       "justify_items": null,
       "left": null,
       "margin": null,
       "max_height": null,
       "max_width": null,
       "min_height": null,
       "min_width": null,
       "object_fit": null,
       "object_position": null,
       "order": null,
       "overflow": null,
       "padding": null,
       "right": null,
       "top": null,
       "visibility": null,
       "width": null
      }
     },
     "82ff4167f1044e2c986413064cf37ca2": {
      "model_module": "@jupyter-widgets/base",
      "model_module_version": "2.0.0",
      "model_name": "LayoutModel",
      "state": {
       "_model_module": "@jupyter-widgets/base",
       "_model_module_version": "2.0.0",
       "_model_name": "LayoutModel",
       "_view_count": null,
       "_view_module": "@jupyter-widgets/base",
       "_view_module_version": "2.0.0",
       "_view_name": "LayoutView",
       "align_content": null,
       "align_items": null,
       "align_self": null,
       "border_bottom": null,
       "border_left": null,
       "border_right": null,
       "border_top": null,
       "bottom": null,
       "display": null,
       "flex": "2",
       "flex_flow": null,
       "grid_area": null,
       "grid_auto_columns": null,
       "grid_auto_flow": null,
       "grid_auto_rows": null,
       "grid_column": null,
       "grid_gap": null,
       "grid_row": null,
       "grid_template_areas": null,
       "grid_template_columns": null,
       "grid_template_rows": null,
       "height": null,
       "justify_content": null,
       "justify_items": null,
       "left": null,
       "margin": null,
       "max_height": null,
       "max_width": null,
       "min_height": null,
       "min_width": null,
       "object_fit": null,
       "object_position": null,
       "order": null,
       "overflow": null,
       "padding": null,
       "right": null,
       "top": null,
       "visibility": null,
       "width": null
      }
     },
     "84719bd4f67e4663985b37bbb4eb1587": {
      "model_module": "@jupyter-widgets/base",
      "model_module_version": "2.0.0",
      "model_name": "LayoutModel",
      "state": {
       "_model_module": "@jupyter-widgets/base",
       "_model_module_version": "2.0.0",
       "_model_name": "LayoutModel",
       "_view_count": null,
       "_view_module": "@jupyter-widgets/base",
       "_view_module_version": "2.0.0",
       "_view_name": "LayoutView",
       "align_content": null,
       "align_items": null,
       "align_self": null,
       "border_bottom": null,
       "border_left": null,
       "border_right": null,
       "border_top": null,
       "bottom": null,
       "display": null,
       "flex": "2",
       "flex_flow": null,
       "grid_area": null,
       "grid_auto_columns": null,
       "grid_auto_flow": null,
       "grid_auto_rows": null,
       "grid_column": null,
       "grid_gap": null,
       "grid_row": null,
       "grid_template_areas": null,
       "grid_template_columns": null,
       "grid_template_rows": null,
       "height": null,
       "justify_content": null,
       "justify_items": null,
       "left": null,
       "margin": null,
       "max_height": null,
       "max_width": null,
       "min_height": null,
       "min_width": null,
       "object_fit": null,
       "object_position": null,
       "order": null,
       "overflow": null,
       "padding": null,
       "right": null,
       "top": null,
       "visibility": null,
       "width": null
      }
     },
     "8554546d88f34b0792672db96f4b904b": {
      "model_module": "@jupyter-widgets/controls",
      "model_module_version": "2.0.0",
      "model_name": "HTMLStyleModel",
      "state": {
       "_model_module": "@jupyter-widgets/controls",
       "_model_module_version": "2.0.0",
       "_model_name": "HTMLStyleModel",
       "_view_count": null,
       "_view_module": "@jupyter-widgets/base",
       "_view_module_version": "2.0.0",
       "_view_name": "StyleView",
       "background": null,
       "description_width": "",
       "font_size": null,
       "text_color": null
      }
     },
     "856eaea043c44cf4a7e705b0a4ad2aa7": {
      "model_module": "@jupyter-widgets/controls",
      "model_module_version": "2.0.0",
      "model_name": "HBoxModel",
      "state": {
       "_dom_classes": [],
       "_model_module": "@jupyter-widgets/controls",
       "_model_module_version": "2.0.0",
       "_model_name": "HBoxModel",
       "_view_count": null,
       "_view_module": "@jupyter-widgets/controls",
       "_view_module_version": "2.0.0",
       "_view_name": "HBoxView",
       "box_style": "",
       "children": [
        "IPY_MODEL_3ecc66081b834083b9c17f6a4e2597d8",
        "IPY_MODEL_75e7be34d56b47d0a4a7073c9d8388ad",
        "IPY_MODEL_998a59871555482f8126b9ef5eaf64c3"
       ],
       "layout": "IPY_MODEL_47f6774ae6c04f02a9eb69ab49367e5c",
       "tabbable": null,
       "tooltip": null
      }
     },
     "85d3b5a5e25d46898995576735f518ff": {
      "model_module": "@jupyter-widgets/controls",
      "model_module_version": "2.0.0",
      "model_name": "FloatProgressModel",
      "state": {
       "_dom_classes": [],
       "_model_module": "@jupyter-widgets/controls",
       "_model_module_version": "2.0.0",
       "_model_name": "FloatProgressModel",
       "_view_count": null,
       "_view_module": "@jupyter-widgets/controls",
       "_view_module_version": "2.0.0",
       "_view_name": "ProgressView",
       "bar_style": "",
       "description": "",
       "description_allow_html": false,
       "layout": "IPY_MODEL_c40decc807e946688595633b028c7fb1",
       "max": 16.0,
       "min": 0.0,
       "orientation": "horizontal",
       "style": "IPY_MODEL_9485eb516d7f49829abba2b13cdba016",
       "tabbable": null,
       "tooltip": null,
       "value": 16.0
      }
     },
     "860d39dea774416384339fa1afdb1b90": {
      "model_module": "@jupyter-widgets/controls",
      "model_module_version": "2.0.0",
      "model_name": "HTMLStyleModel",
      "state": {
       "_model_module": "@jupyter-widgets/controls",
       "_model_module_version": "2.0.0",
       "_model_name": "HTMLStyleModel",
       "_view_count": null,
       "_view_module": "@jupyter-widgets/base",
       "_view_module_version": "2.0.0",
       "_view_name": "StyleView",
       "background": null,
       "description_width": "",
       "font_size": null,
       "text_color": null
      }
     },
     "86400232602c4d8696436e8e117ea457": {
      "model_module": "@jupyter-widgets/base",
      "model_module_version": "2.0.0",
      "model_name": "LayoutModel",
      "state": {
       "_model_module": "@jupyter-widgets/base",
       "_model_module_version": "2.0.0",
       "_model_name": "LayoutModel",
       "_view_count": null,
       "_view_module": "@jupyter-widgets/base",
       "_view_module_version": "2.0.0",
       "_view_name": "LayoutView",
       "align_content": null,
       "align_items": null,
       "align_self": null,
       "border_bottom": null,
       "border_left": null,
       "border_right": null,
       "border_top": null,
       "bottom": null,
       "display": null,
       "flex": null,
       "flex_flow": null,
       "grid_area": null,
       "grid_auto_columns": null,
       "grid_auto_flow": null,
       "grid_auto_rows": null,
       "grid_column": null,
       "grid_gap": null,
       "grid_row": null,
       "grid_template_areas": null,
       "grid_template_columns": null,
       "grid_template_rows": null,
       "height": null,
       "justify_content": null,
       "justify_items": null,
       "left": null,
       "margin": null,
       "max_height": null,
       "max_width": null,
       "min_height": null,
       "min_width": null,
       "object_fit": null,
       "object_position": null,
       "order": null,
       "overflow": null,
       "padding": null,
       "right": null,
       "top": null,
       "visibility": null,
       "width": null
      }
     },
     "875a714158f84aefafa0dea969ff972b": {
      "model_module": "@jupyter-widgets/base",
      "model_module_version": "2.0.0",
      "model_name": "LayoutModel",
      "state": {
       "_model_module": "@jupyter-widgets/base",
       "_model_module_version": "2.0.0",
       "_model_name": "LayoutModel",
       "_view_count": null,
       "_view_module": "@jupyter-widgets/base",
       "_view_module_version": "2.0.0",
       "_view_name": "LayoutView",
       "align_content": null,
       "align_items": null,
       "align_self": null,
       "border_bottom": null,
       "border_left": null,
       "border_right": null,
       "border_top": null,
       "bottom": null,
       "display": null,
       "flex": null,
       "flex_flow": null,
       "grid_area": null,
       "grid_auto_columns": null,
       "grid_auto_flow": null,
       "grid_auto_rows": null,
       "grid_column": null,
       "grid_gap": null,
       "grid_row": null,
       "grid_template_areas": null,
       "grid_template_columns": null,
       "grid_template_rows": null,
       "height": null,
       "justify_content": null,
       "justify_items": null,
       "left": null,
       "margin": null,
       "max_height": null,
       "max_width": null,
       "min_height": null,
       "min_width": null,
       "object_fit": null,
       "object_position": null,
       "order": null,
       "overflow": null,
       "padding": null,
       "right": null,
       "top": null,
       "visibility": null,
       "width": null
      }
     },
     "8950b681c8bc4da9bdb1bf622d55654f": {
      "model_module": "@jupyter-widgets/base",
      "model_module_version": "2.0.0",
      "model_name": "LayoutModel",
      "state": {
       "_model_module": "@jupyter-widgets/base",
       "_model_module_version": "2.0.0",
       "_model_name": "LayoutModel",
       "_view_count": null,
       "_view_module": "@jupyter-widgets/base",
       "_view_module_version": "2.0.0",
       "_view_name": "LayoutView",
       "align_content": null,
       "align_items": null,
       "align_self": null,
       "border_bottom": null,
       "border_left": null,
       "border_right": null,
       "border_top": null,
       "bottom": null,
       "display": "inline-flex",
       "flex": null,
       "flex_flow": "row wrap",
       "grid_area": null,
       "grid_auto_columns": null,
       "grid_auto_flow": null,
       "grid_auto_rows": null,
       "grid_column": null,
       "grid_gap": null,
       "grid_row": null,
       "grid_template_areas": null,
       "grid_template_columns": null,
       "grid_template_rows": null,
       "height": null,
       "justify_content": null,
       "justify_items": null,
       "left": null,
       "margin": null,
       "max_height": null,
       "max_width": null,
       "min_height": null,
       "min_width": null,
       "object_fit": null,
       "object_position": null,
       "order": null,
       "overflow": null,
       "padding": null,
       "right": null,
       "top": null,
       "visibility": "hidden",
       "width": "100%"
      }
     },
     "897109a6f69e4d06acf5a5a3089d5ec8": {
      "model_module": "@jupyter-widgets/base",
      "model_module_version": "2.0.0",
      "model_name": "LayoutModel",
      "state": {
       "_model_module": "@jupyter-widgets/base",
       "_model_module_version": "2.0.0",
       "_model_name": "LayoutModel",
       "_view_count": null,
       "_view_module": "@jupyter-widgets/base",
       "_view_module_version": "2.0.0",
       "_view_name": "LayoutView",
       "align_content": null,
       "align_items": null,
       "align_self": null,
       "border_bottom": null,
       "border_left": null,
       "border_right": null,
       "border_top": null,
       "bottom": null,
       "display": null,
       "flex": "2",
       "flex_flow": null,
       "grid_area": null,
       "grid_auto_columns": null,
       "grid_auto_flow": null,
       "grid_auto_rows": null,
       "grid_column": null,
       "grid_gap": null,
       "grid_row": null,
       "grid_template_areas": null,
       "grid_template_columns": null,
       "grid_template_rows": null,
       "height": null,
       "justify_content": null,
       "justify_items": null,
       "left": null,
       "margin": null,
       "max_height": null,
       "max_width": null,
       "min_height": null,
       "min_width": null,
       "object_fit": null,
       "object_position": null,
       "order": null,
       "overflow": null,
       "padding": null,
       "right": null,
       "top": null,
       "visibility": null,
       "width": null
      }
     },
     "8c3936723e5b43798c86b29a28403078": {
      "model_module": "@jupyter-widgets/base",
      "model_module_version": "2.0.0",
      "model_name": "LayoutModel",
      "state": {
       "_model_module": "@jupyter-widgets/base",
       "_model_module_version": "2.0.0",
       "_model_name": "LayoutModel",
       "_view_count": null,
       "_view_module": "@jupyter-widgets/base",
       "_view_module_version": "2.0.0",
       "_view_name": "LayoutView",
       "align_content": null,
       "align_items": null,
       "align_self": null,
       "border_bottom": null,
       "border_left": null,
       "border_right": null,
       "border_top": null,
       "bottom": null,
       "display": "inline-flex",
       "flex": null,
       "flex_flow": "row wrap",
       "grid_area": null,
       "grid_auto_columns": null,
       "grid_auto_flow": null,
       "grid_auto_rows": null,
       "grid_column": null,
       "grid_gap": null,
       "grid_row": null,
       "grid_template_areas": null,
       "grid_template_columns": null,
       "grid_template_rows": null,
       "height": null,
       "justify_content": null,
       "justify_items": null,
       "left": null,
       "margin": null,
       "max_height": null,
       "max_width": null,
       "min_height": null,
       "min_width": null,
       "object_fit": null,
       "object_position": null,
       "order": null,
       "overflow": null,
       "padding": null,
       "right": null,
       "top": null,
       "visibility": "hidden",
       "width": "100%"
      }
     },
     "8cab81419d8f4f529eb3ddf0334984e7": {
      "model_module": "@jupyter-widgets/base",
      "model_module_version": "2.0.0",
      "model_name": "LayoutModel",
      "state": {
       "_model_module": "@jupyter-widgets/base",
       "_model_module_version": "2.0.0",
       "_model_name": "LayoutModel",
       "_view_count": null,
       "_view_module": "@jupyter-widgets/base",
       "_view_module_version": "2.0.0",
       "_view_name": "LayoutView",
       "align_content": null,
       "align_items": null,
       "align_self": null,
       "border_bottom": null,
       "border_left": null,
       "border_right": null,
       "border_top": null,
       "bottom": null,
       "display": "inline-flex",
       "flex": null,
       "flex_flow": "row wrap",
       "grid_area": null,
       "grid_auto_columns": null,
       "grid_auto_flow": null,
       "grid_auto_rows": null,
       "grid_column": null,
       "grid_gap": null,
       "grid_row": null,
       "grid_template_areas": null,
       "grid_template_columns": null,
       "grid_template_rows": null,
       "height": null,
       "justify_content": null,
       "justify_items": null,
       "left": null,
       "margin": null,
       "max_height": null,
       "max_width": null,
       "min_height": null,
       "min_width": null,
       "object_fit": null,
       "object_position": null,
       "order": null,
       "overflow": null,
       "padding": null,
       "right": null,
       "top": null,
       "visibility": "hidden",
       "width": "100%"
      }
     },
     "8cba8f75f8c04afdb6cc96074d917ed8": {
      "model_module": "@jupyter-widgets/controls",
      "model_module_version": "2.0.0",
      "model_name": "HTMLStyleModel",
      "state": {
       "_model_module": "@jupyter-widgets/controls",
       "_model_module_version": "2.0.0",
       "_model_name": "HTMLStyleModel",
       "_view_count": null,
       "_view_module": "@jupyter-widgets/base",
       "_view_module_version": "2.0.0",
       "_view_name": "StyleView",
       "background": null,
       "description_width": "",
       "font_size": null,
       "text_color": null
      }
     },
     "8fcdb3b672f24928ad6fda9127da380c": {
      "model_module": "@jupyter-widgets/controls",
      "model_module_version": "2.0.0",
      "model_name": "HTMLModel",
      "state": {
       "_dom_classes": [],
       "_model_module": "@jupyter-widgets/controls",
       "_model_module_version": "2.0.0",
       "_model_name": "HTMLModel",
       "_view_count": null,
       "_view_module": "@jupyter-widgets/controls",
       "_view_module_version": "2.0.0",
       "_view_name": "HTMLView",
       "description": "",
       "description_allow_html": false,
       "layout": "IPY_MODEL_5f184c821045406ea584de9fcd9b44ed",
       "placeholder": "​",
       "style": "IPY_MODEL_44317c3904a941d2b117d6fe227a3ffb",
       "tabbable": null,
       "tooltip": null,
       "value": "Validation DataLoader 0: 100%"
      }
     },
     "9014755855bb442090b468665501bfba": {
      "model_module": "@jupyter-widgets/controls",
      "model_module_version": "2.0.0",
      "model_name": "HBoxModel",
      "state": {
       "_dom_classes": [],
       "_model_module": "@jupyter-widgets/controls",
       "_model_module_version": "2.0.0",
       "_model_name": "HBoxModel",
       "_view_count": null,
       "_view_module": "@jupyter-widgets/controls",
       "_view_module_version": "2.0.0",
       "_view_name": "HBoxView",
       "box_style": "",
       "children": [
        "IPY_MODEL_5dfd7643373f4cfe9543870174d3e343",
        "IPY_MODEL_a7d1a235886a4d679b659a3a58d883d2",
        "IPY_MODEL_267d12cba5b94b38afa08c9494480806"
       ],
       "layout": "IPY_MODEL_0ac0268c616043799e3216d9c322edd8",
       "tabbable": null,
       "tooltip": null
      }
     },
     "92a4916454384618b5873ce5c54d38e8": {
      "model_module": "@jupyter-widgets/controls",
      "model_module_version": "2.0.0",
      "model_name": "FloatProgressModel",
      "state": {
       "_dom_classes": [],
       "_model_module": "@jupyter-widgets/controls",
       "_model_module_version": "2.0.0",
       "_model_name": "FloatProgressModel",
       "_view_count": null,
       "_view_module": "@jupyter-widgets/controls",
       "_view_module_version": "2.0.0",
       "_view_name": "ProgressView",
       "bar_style": "",
       "description": "",
       "description_allow_html": false,
       "layout": "IPY_MODEL_40ab077f8f354ad9a5d7b752215cce48",
       "max": 2.0,
       "min": 0.0,
       "orientation": "horizontal",
       "style": "IPY_MODEL_e443cabaa990498ab7538cc625fb5a0a",
       "tabbable": null,
       "tooltip": null,
       "value": 2.0
      }
     },
     "9485eb516d7f49829abba2b13cdba016": {
      "model_module": "@jupyter-widgets/controls",
      "model_module_version": "2.0.0",
      "model_name": "ProgressStyleModel",
      "state": {
       "_model_module": "@jupyter-widgets/controls",
       "_model_module_version": "2.0.0",
       "_model_name": "ProgressStyleModel",
       "_view_count": null,
       "_view_module": "@jupyter-widgets/base",
       "_view_module_version": "2.0.0",
       "_view_name": "StyleView",
       "bar_color": null,
       "description_width": ""
      }
     },
     "96c7229f63e746b084ef02d945ca3775": {
      "model_module": "@jupyter-widgets/controls",
      "model_module_version": "2.0.0",
      "model_name": "HTMLModel",
      "state": {
       "_dom_classes": [],
       "_model_module": "@jupyter-widgets/controls",
       "_model_module_version": "2.0.0",
       "_model_name": "HTMLModel",
       "_view_count": null,
       "_view_module": "@jupyter-widgets/controls",
       "_view_module_version": "2.0.0",
       "_view_name": "HTMLView",
       "description": "",
       "description_allow_html": false,
       "layout": "IPY_MODEL_86400232602c4d8696436e8e117ea457",
       "placeholder": "​",
       "style": "IPY_MODEL_9f7613a517a347c8840af7eb6bcdaa4c",
       "tabbable": null,
       "tooltip": null,
       "value": " 16/16 [00:02&lt;00:00,  5.33it/s]"
      }
     },
     "96e8c2620faa471b9ab19a076b503291": {
      "model_module": "@jupyter-widgets/controls",
      "model_module_version": "2.0.0",
      "model_name": "FloatProgressModel",
      "state": {
       "_dom_classes": [],
       "_model_module": "@jupyter-widgets/controls",
       "_model_module_version": "2.0.0",
       "_model_name": "FloatProgressModel",
       "_view_count": null,
       "_view_module": "@jupyter-widgets/controls",
       "_view_module_version": "2.0.0",
       "_view_name": "ProgressView",
       "bar_style": "",
       "description": "",
       "description_allow_html": false,
       "layout": "IPY_MODEL_b8e3be3d4c194aefb5268b07202d0dfe",
       "max": 16.0,
       "min": 0.0,
       "orientation": "horizontal",
       "style": "IPY_MODEL_c324c5fbd57a4e37af5f2b2f83ff7ee1",
       "tabbable": null,
       "tooltip": null,
       "value": 16.0
      }
     },
     "998a59871555482f8126b9ef5eaf64c3": {
      "model_module": "@jupyter-widgets/controls",
      "model_module_version": "2.0.0",
      "model_name": "HTMLModel",
      "state": {
       "_dom_classes": [],
       "_model_module": "@jupyter-widgets/controls",
       "_model_module_version": "2.0.0",
       "_model_name": "HTMLModel",
       "_view_count": null,
       "_view_module": "@jupyter-widgets/controls",
       "_view_module_version": "2.0.0",
       "_view_name": "HTMLView",
       "description": "",
       "description_allow_html": false,
       "layout": "IPY_MODEL_fbac6829b0494e1a99614a9321a02be8",
       "placeholder": "​",
       "style": "IPY_MODEL_183a2a298d2342348d2b7392d65a79f1",
       "tabbable": null,
       "tooltip": null,
       "value": " 16/16 [00:02&lt;00:00,  6.44it/s]"
      }
     },
     "9ac8330fa2b840b8b4fc4d4226d6c031": {
      "model_module": "@jupyter-widgets/controls",
      "model_module_version": "2.0.0",
      "model_name": "HTMLStyleModel",
      "state": {
       "_model_module": "@jupyter-widgets/controls",
       "_model_module_version": "2.0.0",
       "_model_name": "HTMLStyleModel",
       "_view_count": null,
       "_view_module": "@jupyter-widgets/base",
       "_view_module_version": "2.0.0",
       "_view_name": "StyleView",
       "background": null,
       "description_width": "",
       "font_size": null,
       "text_color": null
      }
     },
     "9c85aed225bc4467802e75d6e46005bd": {
      "model_module": "@jupyter-widgets/controls",
      "model_module_version": "2.0.0",
      "model_name": "FloatProgressModel",
      "state": {
       "_dom_classes": [],
       "_model_module": "@jupyter-widgets/controls",
       "_model_module_version": "2.0.0",
       "_model_name": "FloatProgressModel",
       "_view_count": null,
       "_view_module": "@jupyter-widgets/controls",
       "_view_module_version": "2.0.0",
       "_view_name": "ProgressView",
       "bar_style": "",
       "description": "",
       "description_allow_html": false,
       "layout": "IPY_MODEL_82ff4167f1044e2c986413064cf37ca2",
       "max": 16.0,
       "min": 0.0,
       "orientation": "horizontal",
       "style": "IPY_MODEL_afa0e58f76254984ac0bd1fc4da760a2",
       "tabbable": null,
       "tooltip": null,
       "value": 16.0
      }
     },
     "9f7613a517a347c8840af7eb6bcdaa4c": {
      "model_module": "@jupyter-widgets/controls",
      "model_module_version": "2.0.0",
      "model_name": "HTMLStyleModel",
      "state": {
       "_model_module": "@jupyter-widgets/controls",
       "_model_module_version": "2.0.0",
       "_model_name": "HTMLStyleModel",
       "_view_count": null,
       "_view_module": "@jupyter-widgets/base",
       "_view_module_version": "2.0.0",
       "_view_name": "StyleView",
       "background": null,
       "description_width": "",
       "font_size": null,
       "text_color": null
      }
     },
     "a1333d161b6a44de939d586fa336c167": {
      "model_module": "@jupyter-widgets/controls",
      "model_module_version": "2.0.0",
      "model_name": "HBoxModel",
      "state": {
       "_dom_classes": [],
       "_model_module": "@jupyter-widgets/controls",
       "_model_module_version": "2.0.0",
       "_model_name": "HBoxModel",
       "_view_count": null,
       "_view_module": "@jupyter-widgets/controls",
       "_view_module_version": "2.0.0",
       "_view_name": "HBoxView",
       "box_style": "",
       "children": [
        "IPY_MODEL_4008a68b138548cb9b3dc54a8722d62e",
        "IPY_MODEL_e95a592987394646bc52ee3730f88a2e",
        "IPY_MODEL_474cd3f5593c441fa33f89d00b31e286"
       ],
       "layout": "IPY_MODEL_0797d037067a45c9a277234a12bc7749",
       "tabbable": null,
       "tooltip": null
      }
     },
     "a2ee920423e04b239fe16e395c3e4ac3": {
      "model_module": "@jupyter-widgets/base",
      "model_module_version": "2.0.0",
      "model_name": "LayoutModel",
      "state": {
       "_model_module": "@jupyter-widgets/base",
       "_model_module_version": "2.0.0",
       "_model_name": "LayoutModel",
       "_view_count": null,
       "_view_module": "@jupyter-widgets/base",
       "_view_module_version": "2.0.0",
       "_view_name": "LayoutView",
       "align_content": null,
       "align_items": null,
       "align_self": null,
       "border_bottom": null,
       "border_left": null,
       "border_right": null,
       "border_top": null,
       "bottom": null,
       "display": null,
       "flex": null,
       "flex_flow": null,
       "grid_area": null,
       "grid_auto_columns": null,
       "grid_auto_flow": null,
       "grid_auto_rows": null,
       "grid_column": null,
       "grid_gap": null,
       "grid_row": null,
       "grid_template_areas": null,
       "grid_template_columns": null,
       "grid_template_rows": null,
       "height": null,
       "justify_content": null,
       "justify_items": null,
       "left": null,
       "margin": null,
       "max_height": null,
       "max_width": null,
       "min_height": null,
       "min_width": null,
       "object_fit": null,
       "object_position": null,
       "order": null,
       "overflow": null,
       "padding": null,
       "right": null,
       "top": null,
       "visibility": null,
       "width": null
      }
     },
     "a3cc7d8caf5247f6b30b4b35a6d9663e": {
      "model_module": "@jupyter-widgets/controls",
      "model_module_version": "2.0.0",
      "model_name": "HTMLModel",
      "state": {
       "_dom_classes": [],
       "_model_module": "@jupyter-widgets/controls",
       "_model_module_version": "2.0.0",
       "_model_name": "HTMLModel",
       "_view_count": null,
       "_view_module": "@jupyter-widgets/controls",
       "_view_module_version": "2.0.0",
       "_view_name": "HTMLView",
       "description": "",
       "description_allow_html": false,
       "layout": "IPY_MODEL_3fb850c634bf460c91b764c13badb0b5",
       "placeholder": "​",
       "style": "IPY_MODEL_ec42657a4ed041b082fee208061df456",
       "tabbable": null,
       "tooltip": null,
       "value": " 16/16 [00:02&lt;00:00,  6.27it/s]"
      }
     },
     "a5f8473b4eb343edb2f33d34a33e0c7d": {
      "model_module": "@jupyter-widgets/controls",
      "model_module_version": "2.0.0",
      "model_name": "ProgressStyleModel",
      "state": {
       "_model_module": "@jupyter-widgets/controls",
       "_model_module_version": "2.0.0",
       "_model_name": "ProgressStyleModel",
       "_view_count": null,
       "_view_module": "@jupyter-widgets/base",
       "_view_module_version": "2.0.0",
       "_view_name": "StyleView",
       "bar_color": null,
       "description_width": ""
      }
     },
     "a6532914eed244fd89cb30040467704d": {
      "model_module": "@jupyter-widgets/controls",
      "model_module_version": "2.0.0",
      "model_name": "HBoxModel",
      "state": {
       "_dom_classes": [],
       "_model_module": "@jupyter-widgets/controls",
       "_model_module_version": "2.0.0",
       "_model_name": "HBoxModel",
       "_view_count": null,
       "_view_module": "@jupyter-widgets/controls",
       "_view_module_version": "2.0.0",
       "_view_name": "HBoxView",
       "box_style": "",
       "children": [
        "IPY_MODEL_79b61756329a4d5d881c7d13fc2a15e1",
        "IPY_MODEL_136ce4bab858429a87a5cdd861be65f0",
        "IPY_MODEL_52333f6bd4094f51ab59143c6d90773f"
       ],
       "layout": "IPY_MODEL_dd7d8cc4776343c495746549f90b070b",
       "tabbable": null,
       "tooltip": null
      }
     },
     "a6e6535bff214fba8d42ea5985a726f7": {
      "model_module": "@jupyter-widgets/base",
      "model_module_version": "2.0.0",
      "model_name": "LayoutModel",
      "state": {
       "_model_module": "@jupyter-widgets/base",
       "_model_module_version": "2.0.0",
       "_model_name": "LayoutModel",
       "_view_count": null,
       "_view_module": "@jupyter-widgets/base",
       "_view_module_version": "2.0.0",
       "_view_name": "LayoutView",
       "align_content": null,
       "align_items": null,
       "align_self": null,
       "border_bottom": null,
       "border_left": null,
       "border_right": null,
       "border_top": null,
       "bottom": null,
       "display": "inline-flex",
       "flex": null,
       "flex_flow": "row wrap",
       "grid_area": null,
       "grid_auto_columns": null,
       "grid_auto_flow": null,
       "grid_auto_rows": null,
       "grid_column": null,
       "grid_gap": null,
       "grid_row": null,
       "grid_template_areas": null,
       "grid_template_columns": null,
       "grid_template_rows": null,
       "height": null,
       "justify_content": null,
       "justify_items": null,
       "left": null,
       "margin": null,
       "max_height": null,
       "max_width": null,
       "min_height": null,
       "min_width": null,
       "object_fit": null,
       "object_position": null,
       "order": null,
       "overflow": null,
       "padding": null,
       "right": null,
       "top": null,
       "visibility": "hidden",
       "width": "100%"
      }
     },
     "a7d1a235886a4d679b659a3a58d883d2": {
      "model_module": "@jupyter-widgets/controls",
      "model_module_version": "2.0.0",
      "model_name": "FloatProgressModel",
      "state": {
       "_dom_classes": [],
       "_model_module": "@jupyter-widgets/controls",
       "_model_module_version": "2.0.0",
       "_model_name": "FloatProgressModel",
       "_view_count": null,
       "_view_module": "@jupyter-widgets/controls",
       "_view_module_version": "2.0.0",
       "_view_name": "ProgressView",
       "bar_style": "",
       "description": "",
       "description_allow_html": false,
       "layout": "IPY_MODEL_fac83dc62dc54f32a92bf9dc0f5f9a31",
       "max": 16.0,
       "min": 0.0,
       "orientation": "horizontal",
       "style": "IPY_MODEL_4a03b92a830b4e53b7d8063708ea9e65",
       "tabbable": null,
       "tooltip": null,
       "value": 16.0
      }
     },
     "a8619041b8564e3198515460bf5485bf": {
      "model_module": "@jupyter-widgets/controls",
      "model_module_version": "2.0.0",
      "model_name": "FloatProgressModel",
      "state": {
       "_dom_classes": [],
       "_model_module": "@jupyter-widgets/controls",
       "_model_module_version": "2.0.0",
       "_model_name": "FloatProgressModel",
       "_view_count": null,
       "_view_module": "@jupyter-widgets/controls",
       "_view_module_version": "2.0.0",
       "_view_name": "ProgressView",
       "bar_style": "",
       "description": "",
       "description_allow_html": false,
       "layout": "IPY_MODEL_512c3412fe344ed6a2ce19710f0a2314",
       "max": 16.0,
       "min": 0.0,
       "orientation": "horizontal",
       "style": "IPY_MODEL_23bc07f82ede42999ac68b87329e4932",
       "tabbable": null,
       "tooltip": null,
       "value": 16.0
      }
     },
     "a97e4b70d5324443b0df107f2ca0abd1": {
      "model_module": "@jupyter-widgets/base",
      "model_module_version": "2.0.0",
      "model_name": "LayoutModel",
      "state": {
       "_model_module": "@jupyter-widgets/base",
       "_model_module_version": "2.0.0",
       "_model_name": "LayoutModel",
       "_view_count": null,
       "_view_module": "@jupyter-widgets/base",
       "_view_module_version": "2.0.0",
       "_view_name": "LayoutView",
       "align_content": null,
       "align_items": null,
       "align_self": null,
       "border_bottom": null,
       "border_left": null,
       "border_right": null,
       "border_top": null,
       "bottom": null,
       "display": null,
       "flex": "2",
       "flex_flow": null,
       "grid_area": null,
       "grid_auto_columns": null,
       "grid_auto_flow": null,
       "grid_auto_rows": null,
       "grid_column": null,
       "grid_gap": null,
       "grid_row": null,
       "grid_template_areas": null,
       "grid_template_columns": null,
       "grid_template_rows": null,
       "height": null,
       "justify_content": null,
       "justify_items": null,
       "left": null,
       "margin": null,
       "max_height": null,
       "max_width": null,
       "min_height": null,
       "min_width": null,
       "object_fit": null,
       "object_position": null,
       "order": null,
       "overflow": null,
       "padding": null,
       "right": null,
       "top": null,
       "visibility": null,
       "width": null
      }
     },
     "ad4f9a62d95c49fda6eb9fa99d99a365": {
      "model_module": "@jupyter-widgets/base",
      "model_module_version": "2.0.0",
      "model_name": "LayoutModel",
      "state": {
       "_model_module": "@jupyter-widgets/base",
       "_model_module_version": "2.0.0",
       "_model_name": "LayoutModel",
       "_view_count": null,
       "_view_module": "@jupyter-widgets/base",
       "_view_module_version": "2.0.0",
       "_view_name": "LayoutView",
       "align_content": null,
       "align_items": null,
       "align_self": null,
       "border_bottom": null,
       "border_left": null,
       "border_right": null,
       "border_top": null,
       "bottom": null,
       "display": "inline-flex",
       "flex": null,
       "flex_flow": "row wrap",
       "grid_area": null,
       "grid_auto_columns": null,
       "grid_auto_flow": null,
       "grid_auto_rows": null,
       "grid_column": null,
       "grid_gap": null,
       "grid_row": null,
       "grid_template_areas": null,
       "grid_template_columns": null,
       "grid_template_rows": null,
       "height": null,
       "justify_content": null,
       "justify_items": null,
       "left": null,
       "margin": null,
       "max_height": null,
       "max_width": null,
       "min_height": null,
       "min_width": null,
       "object_fit": null,
       "object_position": null,
       "order": null,
       "overflow": null,
       "padding": null,
       "right": null,
       "top": null,
       "visibility": "hidden",
       "width": "100%"
      }
     },
     "adfdf7d06f5749dd9f2082db4c4fca5d": {
      "model_module": "@jupyter-widgets/controls",
      "model_module_version": "2.0.0",
      "model_name": "HTMLModel",
      "state": {
       "_dom_classes": [],
       "_model_module": "@jupyter-widgets/controls",
       "_model_module_version": "2.0.0",
       "_model_name": "HTMLModel",
       "_view_count": null,
       "_view_module": "@jupyter-widgets/controls",
       "_view_module_version": "2.0.0",
       "_view_name": "HTMLView",
       "description": "",
       "description_allow_html": false,
       "layout": "IPY_MODEL_44029504c0fe400b9a9b12e34da909c1",
       "placeholder": "​",
       "style": "IPY_MODEL_e6b0d4055aea4af08b2feec841e367d2",
       "tabbable": null,
       "tooltip": null,
       "value": "Validation DataLoader 0: 100%"
      }
     },
     "ae124bb0cb114ddd99c01092e84acf06": {
      "model_module": "@jupyter-widgets/base",
      "model_module_version": "2.0.0",
      "model_name": "LayoutModel",
      "state": {
       "_model_module": "@jupyter-widgets/base",
       "_model_module_version": "2.0.0",
       "_model_name": "LayoutModel",
       "_view_count": null,
       "_view_module": "@jupyter-widgets/base",
       "_view_module_version": "2.0.0",
       "_view_name": "LayoutView",
       "align_content": null,
       "align_items": null,
       "align_self": null,
       "border_bottom": null,
       "border_left": null,
       "border_right": null,
       "border_top": null,
       "bottom": null,
       "display": "inline-flex",
       "flex": null,
       "flex_flow": "row wrap",
       "grid_area": null,
       "grid_auto_columns": null,
       "grid_auto_flow": null,
       "grid_auto_rows": null,
       "grid_column": null,
       "grid_gap": null,
       "grid_row": null,
       "grid_template_areas": null,
       "grid_template_columns": null,
       "grid_template_rows": null,
       "height": null,
       "justify_content": null,
       "justify_items": null,
       "left": null,
       "margin": null,
       "max_height": null,
       "max_width": null,
       "min_height": null,
       "min_width": null,
       "object_fit": null,
       "object_position": null,
       "order": null,
       "overflow": null,
       "padding": null,
       "right": null,
       "top": null,
       "visibility": "hidden",
       "width": "100%"
      }
     },
     "afa0e58f76254984ac0bd1fc4da760a2": {
      "model_module": "@jupyter-widgets/controls",
      "model_module_version": "2.0.0",
      "model_name": "ProgressStyleModel",
      "state": {
       "_model_module": "@jupyter-widgets/controls",
       "_model_module_version": "2.0.0",
       "_model_name": "ProgressStyleModel",
       "_view_count": null,
       "_view_module": "@jupyter-widgets/base",
       "_view_module_version": "2.0.0",
       "_view_name": "StyleView",
       "bar_color": null,
       "description_width": ""
      }
     },
     "b1fa98a949874d46858db5df2e5ad32f": {
      "model_module": "@jupyter-widgets/controls",
      "model_module_version": "2.0.0",
      "model_name": "HTMLStyleModel",
      "state": {
       "_model_module": "@jupyter-widgets/controls",
       "_model_module_version": "2.0.0",
       "_model_name": "HTMLStyleModel",
       "_view_count": null,
       "_view_module": "@jupyter-widgets/base",
       "_view_module_version": "2.0.0",
       "_view_name": "StyleView",
       "background": null,
       "description_width": "",
       "font_size": null,
       "text_color": null
      }
     },
     "b22bba56bb444d0bb2d46b4066c16527": {
      "model_module": "@jupyter-widgets/controls",
      "model_module_version": "2.0.0",
      "model_name": "ProgressStyleModel",
      "state": {
       "_model_module": "@jupyter-widgets/controls",
       "_model_module_version": "2.0.0",
       "_model_name": "ProgressStyleModel",
       "_view_count": null,
       "_view_module": "@jupyter-widgets/base",
       "_view_module_version": "2.0.0",
       "_view_name": "StyleView",
       "bar_color": null,
       "description_width": ""
      }
     },
     "b5831a0c1c14402d8680fed4b4003e38": {
      "model_module": "@jupyter-widgets/base",
      "model_module_version": "2.0.0",
      "model_name": "LayoutModel",
      "state": {
       "_model_module": "@jupyter-widgets/base",
       "_model_module_version": "2.0.0",
       "_model_name": "LayoutModel",
       "_view_count": null,
       "_view_module": "@jupyter-widgets/base",
       "_view_module_version": "2.0.0",
       "_view_name": "LayoutView",
       "align_content": null,
       "align_items": null,
       "align_self": null,
       "border_bottom": null,
       "border_left": null,
       "border_right": null,
       "border_top": null,
       "bottom": null,
       "display": null,
       "flex": null,
       "flex_flow": null,
       "grid_area": null,
       "grid_auto_columns": null,
       "grid_auto_flow": null,
       "grid_auto_rows": null,
       "grid_column": null,
       "grid_gap": null,
       "grid_row": null,
       "grid_template_areas": null,
       "grid_template_columns": null,
       "grid_template_rows": null,
       "height": null,
       "justify_content": null,
       "justify_items": null,
       "left": null,
       "margin": null,
       "max_height": null,
       "max_width": null,
       "min_height": null,
       "min_width": null,
       "object_fit": null,
       "object_position": null,
       "order": null,
       "overflow": null,
       "padding": null,
       "right": null,
       "top": null,
       "visibility": null,
       "width": null
      }
     },
     "b7b3c8ce6f43423d977aa24136fb6063": {
      "model_module": "@jupyter-widgets/base",
      "model_module_version": "2.0.0",
      "model_name": "LayoutModel",
      "state": {
       "_model_module": "@jupyter-widgets/base",
       "_model_module_version": "2.0.0",
       "_model_name": "LayoutModel",
       "_view_count": null,
       "_view_module": "@jupyter-widgets/base",
       "_view_module_version": "2.0.0",
       "_view_name": "LayoutView",
       "align_content": null,
       "align_items": null,
       "align_self": null,
       "border_bottom": null,
       "border_left": null,
       "border_right": null,
       "border_top": null,
       "bottom": null,
       "display": null,
       "flex": null,
       "flex_flow": null,
       "grid_area": null,
       "grid_auto_columns": null,
       "grid_auto_flow": null,
       "grid_auto_rows": null,
       "grid_column": null,
       "grid_gap": null,
       "grid_row": null,
       "grid_template_areas": null,
       "grid_template_columns": null,
       "grid_template_rows": null,
       "height": null,
       "justify_content": null,
       "justify_items": null,
       "left": null,
       "margin": null,
       "max_height": null,
       "max_width": null,
       "min_height": null,
       "min_width": null,
       "object_fit": null,
       "object_position": null,
       "order": null,
       "overflow": null,
       "padding": null,
       "right": null,
       "top": null,
       "visibility": null,
       "width": null
      }
     },
     "b7de3882b165444d935300427f3e0bda": {
      "model_module": "@jupyter-widgets/base",
      "model_module_version": "2.0.0",
      "model_name": "LayoutModel",
      "state": {
       "_model_module": "@jupyter-widgets/base",
       "_model_module_version": "2.0.0",
       "_model_name": "LayoutModel",
       "_view_count": null,
       "_view_module": "@jupyter-widgets/base",
       "_view_module_version": "2.0.0",
       "_view_name": "LayoutView",
       "align_content": null,
       "align_items": null,
       "align_self": null,
       "border_bottom": null,
       "border_left": null,
       "border_right": null,
       "border_top": null,
       "bottom": null,
       "display": null,
       "flex": "2",
       "flex_flow": null,
       "grid_area": null,
       "grid_auto_columns": null,
       "grid_auto_flow": null,
       "grid_auto_rows": null,
       "grid_column": null,
       "grid_gap": null,
       "grid_row": null,
       "grid_template_areas": null,
       "grid_template_columns": null,
       "grid_template_rows": null,
       "height": null,
       "justify_content": null,
       "justify_items": null,
       "left": null,
       "margin": null,
       "max_height": null,
       "max_width": null,
       "min_height": null,
       "min_width": null,
       "object_fit": null,
       "object_position": null,
       "order": null,
       "overflow": null,
       "padding": null,
       "right": null,
       "top": null,
       "visibility": null,
       "width": null
      }
     },
     "b8e3be3d4c194aefb5268b07202d0dfe": {
      "model_module": "@jupyter-widgets/base",
      "model_module_version": "2.0.0",
      "model_name": "LayoutModel",
      "state": {
       "_model_module": "@jupyter-widgets/base",
       "_model_module_version": "2.0.0",
       "_model_name": "LayoutModel",
       "_view_count": null,
       "_view_module": "@jupyter-widgets/base",
       "_view_module_version": "2.0.0",
       "_view_name": "LayoutView",
       "align_content": null,
       "align_items": null,
       "align_self": null,
       "border_bottom": null,
       "border_left": null,
       "border_right": null,
       "border_top": null,
       "bottom": null,
       "display": null,
       "flex": "2",
       "flex_flow": null,
       "grid_area": null,
       "grid_auto_columns": null,
       "grid_auto_flow": null,
       "grid_auto_rows": null,
       "grid_column": null,
       "grid_gap": null,
       "grid_row": null,
       "grid_template_areas": null,
       "grid_template_columns": null,
       "grid_template_rows": null,
       "height": null,
       "justify_content": null,
       "justify_items": null,
       "left": null,
       "margin": null,
       "max_height": null,
       "max_width": null,
       "min_height": null,
       "min_width": null,
       "object_fit": null,
       "object_position": null,
       "order": null,
       "overflow": null,
       "padding": null,
       "right": null,
       "top": null,
       "visibility": null,
       "width": null
      }
     },
     "bdfb880c74fe40379eadee36177a2835": {
      "model_module": "@jupyter-widgets/controls",
      "model_module_version": "2.0.0",
      "model_name": "HTMLModel",
      "state": {
       "_dom_classes": [],
       "_model_module": "@jupyter-widgets/controls",
       "_model_module_version": "2.0.0",
       "_model_name": "HTMLModel",
       "_view_count": null,
       "_view_module": "@jupyter-widgets/controls",
       "_view_module_version": "2.0.0",
       "_view_name": "HTMLView",
       "description": "",
       "description_allow_html": false,
       "layout": "IPY_MODEL_a2ee920423e04b239fe16e395c3e4ac3",
       "placeholder": "​",
       "style": "IPY_MODEL_b1fa98a949874d46858db5df2e5ad32f",
       "tabbable": null,
       "tooltip": null,
       "value": "Validation DataLoader 0: 100%"
      }
     },
     "be66b30f3ed44d90bf9fc0c9239c6b20": {
      "model_module": "@jupyter-widgets/controls",
      "model_module_version": "2.0.0",
      "model_name": "HTMLStyleModel",
      "state": {
       "_model_module": "@jupyter-widgets/controls",
       "_model_module_version": "2.0.0",
       "_model_name": "HTMLStyleModel",
       "_view_count": null,
       "_view_module": "@jupyter-widgets/base",
       "_view_module_version": "2.0.0",
       "_view_name": "StyleView",
       "background": null,
       "description_width": "",
       "font_size": null,
       "text_color": null
      }
     },
     "c324c5fbd57a4e37af5f2b2f83ff7ee1": {
      "model_module": "@jupyter-widgets/controls",
      "model_module_version": "2.0.0",
      "model_name": "ProgressStyleModel",
      "state": {
       "_model_module": "@jupyter-widgets/controls",
       "_model_module_version": "2.0.0",
       "_model_name": "ProgressStyleModel",
       "_view_count": null,
       "_view_module": "@jupyter-widgets/base",
       "_view_module_version": "2.0.0",
       "_view_name": "StyleView",
       "bar_color": null,
       "description_width": ""
      }
     },
     "c40decc807e946688595633b028c7fb1": {
      "model_module": "@jupyter-widgets/base",
      "model_module_version": "2.0.0",
      "model_name": "LayoutModel",
      "state": {
       "_model_module": "@jupyter-widgets/base",
       "_model_module_version": "2.0.0",
       "_model_name": "LayoutModel",
       "_view_count": null,
       "_view_module": "@jupyter-widgets/base",
       "_view_module_version": "2.0.0",
       "_view_name": "LayoutView",
       "align_content": null,
       "align_items": null,
       "align_self": null,
       "border_bottom": null,
       "border_left": null,
       "border_right": null,
       "border_top": null,
       "bottom": null,
       "display": null,
       "flex": "2",
       "flex_flow": null,
       "grid_area": null,
       "grid_auto_columns": null,
       "grid_auto_flow": null,
       "grid_auto_rows": null,
       "grid_column": null,
       "grid_gap": null,
       "grid_row": null,
       "grid_template_areas": null,
       "grid_template_columns": null,
       "grid_template_rows": null,
       "height": null,
       "justify_content": null,
       "justify_items": null,
       "left": null,
       "margin": null,
       "max_height": null,
       "max_width": null,
       "min_height": null,
       "min_width": null,
       "object_fit": null,
       "object_position": null,
       "order": null,
       "overflow": null,
       "padding": null,
       "right": null,
       "top": null,
       "visibility": null,
       "width": null
      }
     },
     "c60e1621e23542b19757dfd4e7f6db5d": {
      "model_module": "@jupyter-widgets/controls",
      "model_module_version": "2.0.0",
      "model_name": "ProgressStyleModel",
      "state": {
       "_model_module": "@jupyter-widgets/controls",
       "_model_module_version": "2.0.0",
       "_model_name": "ProgressStyleModel",
       "_view_count": null,
       "_view_module": "@jupyter-widgets/base",
       "_view_module_version": "2.0.0",
       "_view_name": "StyleView",
       "bar_color": null,
       "description_width": ""
      }
     },
     "c6a89d4c74664bb4af15a53b025c2f1c": {
      "model_module": "@jupyter-widgets/controls",
      "model_module_version": "2.0.0",
      "model_name": "HTMLModel",
      "state": {
       "_dom_classes": [],
       "_model_module": "@jupyter-widgets/controls",
       "_model_module_version": "2.0.0",
       "_model_name": "HTMLModel",
       "_view_count": null,
       "_view_module": "@jupyter-widgets/controls",
       "_view_module_version": "2.0.0",
       "_view_name": "HTMLView",
       "description": "",
       "description_allow_html": false,
       "layout": "IPY_MODEL_12dfc11a51344186871d995b40172a13",
       "placeholder": "​",
       "style": "IPY_MODEL_0241e65aa753403aa6a6f907188563bd",
       "tabbable": null,
       "tooltip": null,
       "value": " 16/16 [00:02&lt;00:00,  6.64it/s]"
      }
     },
     "ca488434d8f3420eb59477da5acdc7cb": {
      "model_module": "@jupyter-widgets/base",
      "model_module_version": "2.0.0",
      "model_name": "LayoutModel",
      "state": {
       "_model_module": "@jupyter-widgets/base",
       "_model_module_version": "2.0.0",
       "_model_name": "LayoutModel",
       "_view_count": null,
       "_view_module": "@jupyter-widgets/base",
       "_view_module_version": "2.0.0",
       "_view_name": "LayoutView",
       "align_content": null,
       "align_items": null,
       "align_self": null,
       "border_bottom": null,
       "border_left": null,
       "border_right": null,
       "border_top": null,
       "bottom": null,
       "display": null,
       "flex": null,
       "flex_flow": null,
       "grid_area": null,
       "grid_auto_columns": null,
       "grid_auto_flow": null,
       "grid_auto_rows": null,
       "grid_column": null,
       "grid_gap": null,
       "grid_row": null,
       "grid_template_areas": null,
       "grid_template_columns": null,
       "grid_template_rows": null,
       "height": null,
       "justify_content": null,
       "justify_items": null,
       "left": null,
       "margin": null,
       "max_height": null,
       "max_width": null,
       "min_height": null,
       "min_width": null,
       "object_fit": null,
       "object_position": null,
       "order": null,
       "overflow": null,
       "padding": null,
       "right": null,
       "top": null,
       "visibility": null,
       "width": null
      }
     },
     "ca4f9a2ccdf142ada748bc333465893c": {
      "model_module": "@jupyter-widgets/controls",
      "model_module_version": "2.0.0",
      "model_name": "HTMLModel",
      "state": {
       "_dom_classes": [],
       "_model_module": "@jupyter-widgets/controls",
       "_model_module_version": "2.0.0",
       "_model_name": "HTMLModel",
       "_view_count": null,
       "_view_module": "@jupyter-widgets/controls",
       "_view_module_version": "2.0.0",
       "_view_name": "HTMLView",
       "description": "",
       "description_allow_html": false,
       "layout": "IPY_MODEL_57a4ab8261de42bb91de9743b96ef7e1",
       "placeholder": "​",
       "style": "IPY_MODEL_6254a1a3e5dc4859aae08cc415291cae",
       "tabbable": null,
       "tooltip": null,
       "value": "Validation DataLoader 0: 100%"
      }
     },
     "cb8a823b34d34d1db9bbb1326e4bbeb9": {
      "model_module": "@jupyter-widgets/controls",
      "model_module_version": "2.0.0",
      "model_name": "FloatProgressModel",
      "state": {
       "_dom_classes": [],
       "_model_module": "@jupyter-widgets/controls",
       "_model_module_version": "2.0.0",
       "_model_name": "FloatProgressModel",
       "_view_count": null,
       "_view_module": "@jupyter-widgets/controls",
       "_view_module_version": "2.0.0",
       "_view_name": "ProgressView",
       "bar_style": "",
       "description": "",
       "description_allow_html": false,
       "layout": "IPY_MODEL_5035fb49945b4481967c0973c1008566",
       "max": 16.0,
       "min": 0.0,
       "orientation": "horizontal",
       "style": "IPY_MODEL_a5f8473b4eb343edb2f33d34a33e0c7d",
       "tabbable": null,
       "tooltip": null,
       "value": 16.0
      }
     },
     "cbe78d0258a042be9bd2a9651164621b": {
      "model_module": "@jupyter-widgets/base",
      "model_module_version": "2.0.0",
      "model_name": "LayoutModel",
      "state": {
       "_model_module": "@jupyter-widgets/base",
       "_model_module_version": "2.0.0",
       "_model_name": "LayoutModel",
       "_view_count": null,
       "_view_module": "@jupyter-widgets/base",
       "_view_module_version": "2.0.0",
       "_view_name": "LayoutView",
       "align_content": null,
       "align_items": null,
       "align_self": null,
       "border_bottom": null,
       "border_left": null,
       "border_right": null,
       "border_top": null,
       "bottom": null,
       "display": null,
       "flex": null,
       "flex_flow": null,
       "grid_area": null,
       "grid_auto_columns": null,
       "grid_auto_flow": null,
       "grid_auto_rows": null,
       "grid_column": null,
       "grid_gap": null,
       "grid_row": null,
       "grid_template_areas": null,
       "grid_template_columns": null,
       "grid_template_rows": null,
       "height": null,
       "justify_content": null,
       "justify_items": null,
       "left": null,
       "margin": null,
       "max_height": null,
       "max_width": null,
       "min_height": null,
       "min_width": null,
       "object_fit": null,
       "object_position": null,
       "order": null,
       "overflow": null,
       "padding": null,
       "right": null,
       "top": null,
       "visibility": null,
       "width": null
      }
     },
     "d328d7390c4c4018b60d8ffc174667db": {
      "model_module": "@jupyter-widgets/controls",
      "model_module_version": "2.0.0",
      "model_name": "HBoxModel",
      "state": {
       "_dom_classes": [],
       "_model_module": "@jupyter-widgets/controls",
       "_model_module_version": "2.0.0",
       "_model_name": "HBoxModel",
       "_view_count": null,
       "_view_module": "@jupyter-widgets/controls",
       "_view_module_version": "2.0.0",
       "_view_name": "HBoxView",
       "box_style": "",
       "children": [
        "IPY_MODEL_f2f1f7ab4bf146c5b9ddff1463cb277c",
        "IPY_MODEL_9c85aed225bc4467802e75d6e46005bd",
        "IPY_MODEL_68afbf35889a485699bdc49697f0f5de"
       ],
       "layout": "IPY_MODEL_a6e6535bff214fba8d42ea5985a726f7",
       "tabbable": null,
       "tooltip": null
      }
     },
     "d622c96c2e684a9aa3dcc84919dd41aa": {
      "model_module": "@jupyter-widgets/controls",
      "model_module_version": "2.0.0",
      "model_name": "HTMLStyleModel",
      "state": {
       "_model_module": "@jupyter-widgets/controls",
       "_model_module_version": "2.0.0",
       "_model_name": "HTMLStyleModel",
       "_view_count": null,
       "_view_module": "@jupyter-widgets/base",
       "_view_module_version": "2.0.0",
       "_view_name": "StyleView",
       "background": null,
       "description_width": "",
       "font_size": null,
       "text_color": null
      }
     },
     "d81592ebcc6c4726ba50f593dfb33823": {
      "model_module": "@jupyter-widgets/controls",
      "model_module_version": "2.0.0",
      "model_name": "HTMLStyleModel",
      "state": {
       "_model_module": "@jupyter-widgets/controls",
       "_model_module_version": "2.0.0",
       "_model_name": "HTMLStyleModel",
       "_view_count": null,
       "_view_module": "@jupyter-widgets/base",
       "_view_module_version": "2.0.0",
       "_view_name": "StyleView",
       "background": null,
       "description_width": "",
       "font_size": null,
       "text_color": null
      }
     },
     "d9193a8bb9aa404e84e15671a51b6631": {
      "model_module": "@jupyter-widgets/controls",
      "model_module_version": "2.0.0",
      "model_name": "HTMLStyleModel",
      "state": {
       "_model_module": "@jupyter-widgets/controls",
       "_model_module_version": "2.0.0",
       "_model_name": "HTMLStyleModel",
       "_view_count": null,
       "_view_module": "@jupyter-widgets/base",
       "_view_module_version": "2.0.0",
       "_view_name": "StyleView",
       "background": null,
       "description_width": "",
       "font_size": null,
       "text_color": null
      }
     },
     "dd7d8cc4776343c495746549f90b070b": {
      "model_module": "@jupyter-widgets/base",
      "model_module_version": "2.0.0",
      "model_name": "LayoutModel",
      "state": {
       "_model_module": "@jupyter-widgets/base",
       "_model_module_version": "2.0.0",
       "_model_name": "LayoutModel",
       "_view_count": null,
       "_view_module": "@jupyter-widgets/base",
       "_view_module_version": "2.0.0",
       "_view_name": "LayoutView",
       "align_content": null,
       "align_items": null,
       "align_self": null,
       "border_bottom": null,
       "border_left": null,
       "border_right": null,
       "border_top": null,
       "bottom": null,
       "display": "inline-flex",
       "flex": null,
       "flex_flow": "row wrap",
       "grid_area": null,
       "grid_auto_columns": null,
       "grid_auto_flow": null,
       "grid_auto_rows": null,
       "grid_column": null,
       "grid_gap": null,
       "grid_row": null,
       "grid_template_areas": null,
       "grid_template_columns": null,
       "grid_template_rows": null,
       "height": null,
       "justify_content": null,
       "justify_items": null,
       "left": null,
       "margin": null,
       "max_height": null,
       "max_width": null,
       "min_height": null,
       "min_width": null,
       "object_fit": null,
       "object_position": null,
       "order": null,
       "overflow": null,
       "padding": null,
       "right": null,
       "top": null,
       "visibility": "hidden",
       "width": "100%"
      }
     },
     "e007a13c827c49ec9cbac098195759d1": {
      "model_module": "@jupyter-widgets/base",
      "model_module_version": "2.0.0",
      "model_name": "LayoutModel",
      "state": {
       "_model_module": "@jupyter-widgets/base",
       "_model_module_version": "2.0.0",
       "_model_name": "LayoutModel",
       "_view_count": null,
       "_view_module": "@jupyter-widgets/base",
       "_view_module_version": "2.0.0",
       "_view_name": "LayoutView",
       "align_content": null,
       "align_items": null,
       "align_self": null,
       "border_bottom": null,
       "border_left": null,
       "border_right": null,
       "border_top": null,
       "bottom": null,
       "display": null,
       "flex": null,
       "flex_flow": null,
       "grid_area": null,
       "grid_auto_columns": null,
       "grid_auto_flow": null,
       "grid_auto_rows": null,
       "grid_column": null,
       "grid_gap": null,
       "grid_row": null,
       "grid_template_areas": null,
       "grid_template_columns": null,
       "grid_template_rows": null,
       "height": null,
       "justify_content": null,
       "justify_items": null,
       "left": null,
       "margin": null,
       "max_height": null,
       "max_width": null,
       "min_height": null,
       "min_width": null,
       "object_fit": null,
       "object_position": null,
       "order": null,
       "overflow": null,
       "padding": null,
       "right": null,
       "top": null,
       "visibility": null,
       "width": null
      }
     },
     "e2ad5d733df6423a99b07b08095d27ca": {
      "model_module": "@jupyter-widgets/controls",
      "model_module_version": "2.0.0",
      "model_name": "HTMLModel",
      "state": {
       "_dom_classes": [],
       "_model_module": "@jupyter-widgets/controls",
       "_model_module_version": "2.0.0",
       "_model_name": "HTMLModel",
       "_view_count": null,
       "_view_module": "@jupyter-widgets/controls",
       "_view_module_version": "2.0.0",
       "_view_name": "HTMLView",
       "description": "",
       "description_allow_html": false,
       "layout": "IPY_MODEL_ca488434d8f3420eb59477da5acdc7cb",
       "placeholder": "​",
       "style": "IPY_MODEL_6240cb3f81624c0386008e1497817652",
       "tabbable": null,
       "tooltip": null,
       "value": " 16/16 [00:02&lt;00:00,  6.91it/s]"
      }
     },
     "e356b7ea29674e4ba99487f684c8e547": {
      "model_module": "@jupyter-widgets/controls",
      "model_module_version": "2.0.0",
      "model_name": "FloatProgressModel",
      "state": {
       "_dom_classes": [],
       "_model_module": "@jupyter-widgets/controls",
       "_model_module_version": "2.0.0",
       "_model_name": "FloatProgressModel",
       "_view_count": null,
       "_view_module": "@jupyter-widgets/controls",
       "_view_module_version": "2.0.0",
       "_view_name": "ProgressView",
       "bar_style": "",
       "description": "",
       "description_allow_html": false,
       "layout": "IPY_MODEL_84719bd4f67e4663985b37bbb4eb1587",
       "max": 16.0,
       "min": 0.0,
       "orientation": "horizontal",
       "style": "IPY_MODEL_c60e1621e23542b19757dfd4e7f6db5d",
       "tabbable": null,
       "tooltip": null,
       "value": 16.0
      }
     },
     "e443cabaa990498ab7538cc625fb5a0a": {
      "model_module": "@jupyter-widgets/controls",
      "model_module_version": "2.0.0",
      "model_name": "ProgressStyleModel",
      "state": {
       "_model_module": "@jupyter-widgets/controls",
       "_model_module_version": "2.0.0",
       "_model_name": "ProgressStyleModel",
       "_view_count": null,
       "_view_module": "@jupyter-widgets/base",
       "_view_module_version": "2.0.0",
       "_view_name": "StyleView",
       "bar_color": null,
       "description_width": ""
      }
     },
     "e6b0d4055aea4af08b2feec841e367d2": {
      "model_module": "@jupyter-widgets/controls",
      "model_module_version": "2.0.0",
      "model_name": "HTMLStyleModel",
      "state": {
       "_model_module": "@jupyter-widgets/controls",
       "_model_module_version": "2.0.0",
       "_model_name": "HTMLStyleModel",
       "_view_count": null,
       "_view_module": "@jupyter-widgets/base",
       "_view_module_version": "2.0.0",
       "_view_name": "StyleView",
       "background": null,
       "description_width": "",
       "font_size": null,
       "text_color": null
      }
     },
     "e6dce49751b84454a2be0d3c4ed7e859": {
      "model_module": "@jupyter-widgets/controls",
      "model_module_version": "2.0.0",
      "model_name": "HTMLStyleModel",
      "state": {
       "_model_module": "@jupyter-widgets/controls",
       "_model_module_version": "2.0.0",
       "_model_name": "HTMLStyleModel",
       "_view_count": null,
       "_view_module": "@jupyter-widgets/base",
       "_view_module_version": "2.0.0",
       "_view_name": "StyleView",
       "background": null,
       "description_width": "",
       "font_size": null,
       "text_color": null
      }
     },
     "e78281d6943b46259c11b731a8489eec": {
      "model_module": "@jupyter-widgets/base",
      "model_module_version": "2.0.0",
      "model_name": "LayoutModel",
      "state": {
       "_model_module": "@jupyter-widgets/base",
       "_model_module_version": "2.0.0",
       "_model_name": "LayoutModel",
       "_view_count": null,
       "_view_module": "@jupyter-widgets/base",
       "_view_module_version": "2.0.0",
       "_view_name": "LayoutView",
       "align_content": null,
       "align_items": null,
       "align_self": null,
       "border_bottom": null,
       "border_left": null,
       "border_right": null,
       "border_top": null,
       "bottom": null,
       "display": null,
       "flex": null,
       "flex_flow": null,
       "grid_area": null,
       "grid_auto_columns": null,
       "grid_auto_flow": null,
       "grid_auto_rows": null,
       "grid_column": null,
       "grid_gap": null,
       "grid_row": null,
       "grid_template_areas": null,
       "grid_template_columns": null,
       "grid_template_rows": null,
       "height": null,
       "justify_content": null,
       "justify_items": null,
       "left": null,
       "margin": null,
       "max_height": null,
       "max_width": null,
       "min_height": null,
       "min_width": null,
       "object_fit": null,
       "object_position": null,
       "order": null,
       "overflow": null,
       "padding": null,
       "right": null,
       "top": null,
       "visibility": null,
       "width": null
      }
     },
     "e95a592987394646bc52ee3730f88a2e": {
      "model_module": "@jupyter-widgets/controls",
      "model_module_version": "2.0.0",
      "model_name": "FloatProgressModel",
      "state": {
       "_dom_classes": [],
       "_model_module": "@jupyter-widgets/controls",
       "_model_module_version": "2.0.0",
       "_model_name": "FloatProgressModel",
       "_view_count": null,
       "_view_module": "@jupyter-widgets/controls",
       "_view_module_version": "2.0.0",
       "_view_name": "ProgressView",
       "bar_style": "",
       "description": "",
       "description_allow_html": false,
       "layout": "IPY_MODEL_a97e4b70d5324443b0df107f2ca0abd1",
       "max": 16.0,
       "min": 0.0,
       "orientation": "horizontal",
       "style": "IPY_MODEL_fd444aa686a14ddead48febf8d63fd59",
       "tabbable": null,
       "tooltip": null,
       "value": 16.0
      }
     },
     "eb5b4c6963eb4c27be93d1086debfe06": {
      "model_module": "@jupyter-widgets/base",
      "model_module_version": "2.0.0",
      "model_name": "LayoutModel",
      "state": {
       "_model_module": "@jupyter-widgets/base",
       "_model_module_version": "2.0.0",
       "_model_name": "LayoutModel",
       "_view_count": null,
       "_view_module": "@jupyter-widgets/base",
       "_view_module_version": "2.0.0",
       "_view_name": "LayoutView",
       "align_content": null,
       "align_items": null,
       "align_self": null,
       "border_bottom": null,
       "border_left": null,
       "border_right": null,
       "border_top": null,
       "bottom": null,
       "display": null,
       "flex": "2",
       "flex_flow": null,
       "grid_area": null,
       "grid_auto_columns": null,
       "grid_auto_flow": null,
       "grid_auto_rows": null,
       "grid_column": null,
       "grid_gap": null,
       "grid_row": null,
       "grid_template_areas": null,
       "grid_template_columns": null,
       "grid_template_rows": null,
       "height": null,
       "justify_content": null,
       "justify_items": null,
       "left": null,
       "margin": null,
       "max_height": null,
       "max_width": null,
       "min_height": null,
       "min_width": null,
       "object_fit": null,
       "object_position": null,
       "order": null,
       "overflow": null,
       "padding": null,
       "right": null,
       "top": null,
       "visibility": null,
       "width": null
      }
     },
     "ec137d9c28b64bc98980652d258a33f5": {
      "model_module": "@jupyter-widgets/base",
      "model_module_version": "2.0.0",
      "model_name": "LayoutModel",
      "state": {
       "_model_module": "@jupyter-widgets/base",
       "_model_module_version": "2.0.0",
       "_model_name": "LayoutModel",
       "_view_count": null,
       "_view_module": "@jupyter-widgets/base",
       "_view_module_version": "2.0.0",
       "_view_name": "LayoutView",
       "align_content": null,
       "align_items": null,
       "align_self": null,
       "border_bottom": null,
       "border_left": null,
       "border_right": null,
       "border_top": null,
       "bottom": null,
       "display": "inline-flex",
       "flex": null,
       "flex_flow": "row wrap",
       "grid_area": null,
       "grid_auto_columns": null,
       "grid_auto_flow": null,
       "grid_auto_rows": null,
       "grid_column": null,
       "grid_gap": null,
       "grid_row": null,
       "grid_template_areas": null,
       "grid_template_columns": null,
       "grid_template_rows": null,
       "height": null,
       "justify_content": null,
       "justify_items": null,
       "left": null,
       "margin": null,
       "max_height": null,
       "max_width": null,
       "min_height": null,
       "min_width": null,
       "object_fit": null,
       "object_position": null,
       "order": null,
       "overflow": null,
       "padding": null,
       "right": null,
       "top": null,
       "visibility": null,
       "width": "100%"
      }
     },
     "ec42657a4ed041b082fee208061df456": {
      "model_module": "@jupyter-widgets/controls",
      "model_module_version": "2.0.0",
      "model_name": "HTMLStyleModel",
      "state": {
       "_model_module": "@jupyter-widgets/controls",
       "_model_module_version": "2.0.0",
       "_model_name": "HTMLStyleModel",
       "_view_count": null,
       "_view_module": "@jupyter-widgets/base",
       "_view_module_version": "2.0.0",
       "_view_name": "StyleView",
       "background": null,
       "description_width": "",
       "font_size": null,
       "text_color": null
      }
     },
     "ec9bf9f8e20e4759a1c29a88ad088550": {
      "model_module": "@jupyter-widgets/base",
      "model_module_version": "2.0.0",
      "model_name": "LayoutModel",
      "state": {
       "_model_module": "@jupyter-widgets/base",
       "_model_module_version": "2.0.0",
       "_model_name": "LayoutModel",
       "_view_count": null,
       "_view_module": "@jupyter-widgets/base",
       "_view_module_version": "2.0.0",
       "_view_name": "LayoutView",
       "align_content": null,
       "align_items": null,
       "align_self": null,
       "border_bottom": null,
       "border_left": null,
       "border_right": null,
       "border_top": null,
       "bottom": null,
       "display": null,
       "flex": null,
       "flex_flow": null,
       "grid_area": null,
       "grid_auto_columns": null,
       "grid_auto_flow": null,
       "grid_auto_rows": null,
       "grid_column": null,
       "grid_gap": null,
       "grid_row": null,
       "grid_template_areas": null,
       "grid_template_columns": null,
       "grid_template_rows": null,
       "height": null,
       "justify_content": null,
       "justify_items": null,
       "left": null,
       "margin": null,
       "max_height": null,
       "max_width": null,
       "min_height": null,
       "min_width": null,
       "object_fit": null,
       "object_position": null,
       "order": null,
       "overflow": null,
       "padding": null,
       "right": null,
       "top": null,
       "visibility": null,
       "width": null
      }
     },
     "eddafe42ef3146debedb1a431f018e25": {
      "model_module": "@jupyter-widgets/controls",
      "model_module_version": "2.0.0",
      "model_name": "HBoxModel",
      "state": {
       "_dom_classes": [],
       "_model_module": "@jupyter-widgets/controls",
       "_model_module_version": "2.0.0",
       "_model_name": "HBoxModel",
       "_view_count": null,
       "_view_module": "@jupyter-widgets/controls",
       "_view_module_version": "2.0.0",
       "_view_name": "HBoxView",
       "box_style": "",
       "children": [
        "IPY_MODEL_8fcdb3b672f24928ad6fda9127da380c",
        "IPY_MODEL_96e8c2620faa471b9ab19a076b503291",
        "IPY_MODEL_67a78842b7aa4387bfa4cbb52d39aed9"
       ],
       "layout": "IPY_MODEL_8cab81419d8f4f529eb3ddf0334984e7",
       "tabbable": null,
       "tooltip": null
      }
     },
     "ef85f7235d5f4ab9adb66bc0576b404b": {
      "model_module": "@jupyter-widgets/controls",
      "model_module_version": "2.0.0",
      "model_name": "FloatProgressModel",
      "state": {
       "_dom_classes": [],
       "_model_module": "@jupyter-widgets/controls",
       "_model_module_version": "2.0.0",
       "_model_name": "FloatProgressModel",
       "_view_count": null,
       "_view_module": "@jupyter-widgets/controls",
       "_view_module_version": "2.0.0",
       "_view_name": "ProgressView",
       "bar_style": "",
       "description": "",
       "description_allow_html": false,
       "layout": "IPY_MODEL_6fa30a6c4ac8478e8d77f615b02c3771",
       "max": 16.0,
       "min": 0.0,
       "orientation": "horizontal",
       "style": "IPY_MODEL_35f381c70f044285aff61f11232ad9e0",
       "tabbable": null,
       "tooltip": null,
       "value": 16.0
      }
     },
     "f149766cf1d241e789a9cc6f03ee218c": {
      "model_module": "@jupyter-widgets/controls",
      "model_module_version": "2.0.0",
      "model_name": "HBoxModel",
      "state": {
       "_dom_classes": [],
       "_model_module": "@jupyter-widgets/controls",
       "_model_module_version": "2.0.0",
       "_model_name": "HBoxModel",
       "_view_count": null,
       "_view_module": "@jupyter-widgets/controls",
       "_view_module_version": "2.0.0",
       "_view_name": "HBoxView",
       "box_style": "",
       "children": [
        "IPY_MODEL_0d2e47eb7ea04caeaba232e391262592",
        "IPY_MODEL_cb8a823b34d34d1db9bbb1326e4bbeb9",
        "IPY_MODEL_a3cc7d8caf5247f6b30b4b35a6d9663e"
       ],
       "layout": "IPY_MODEL_ad4f9a62d95c49fda6eb9fa99d99a365",
       "tabbable": null,
       "tooltip": null
      }
     },
     "f1f2c172c3734ef7a0aa01156c72b519": {
      "model_module": "@jupyter-widgets/controls",
      "model_module_version": "2.0.0",
      "model_name": "HTMLModel",
      "state": {
       "_dom_classes": [],
       "_model_module": "@jupyter-widgets/controls",
       "_model_module_version": "2.0.0",
       "_model_name": "HTMLModel",
       "_view_count": null,
       "_view_module": "@jupyter-widgets/controls",
       "_view_module_version": "2.0.0",
       "_view_name": "HTMLView",
       "description": "",
       "description_allow_html": false,
       "layout": "IPY_MODEL_14645632354e4254b2915a3224fea778",
       "placeholder": "​",
       "style": "IPY_MODEL_be66b30f3ed44d90bf9fc0c9239c6b20",
       "tabbable": null,
       "tooltip": null,
       "value": "Validation DataLoader 0: 100%"
      }
     },
     "f2f1f7ab4bf146c5b9ddff1463cb277c": {
      "model_module": "@jupyter-widgets/controls",
      "model_module_version": "2.0.0",
      "model_name": "HTMLModel",
      "state": {
       "_dom_classes": [],
       "_model_module": "@jupyter-widgets/controls",
       "_model_module_version": "2.0.0",
       "_model_name": "HTMLModel",
       "_view_count": null,
       "_view_module": "@jupyter-widgets/controls",
       "_view_module_version": "2.0.0",
       "_view_name": "HTMLView",
       "description": "",
       "description_allow_html": false,
       "layout": "IPY_MODEL_80036a508c4a4dec936c8a8901f2fddc",
       "placeholder": "​",
       "style": "IPY_MODEL_d9193a8bb9aa404e84e15671a51b6631",
       "tabbable": null,
       "tooltip": null,
       "value": "Validation DataLoader 0: 100%"
      }
     },
     "f440c3dd561e438e927ce8b4b74f70e2": {
      "model_module": "@jupyter-widgets/controls",
      "model_module_version": "2.0.0",
      "model_name": "HBoxModel",
      "state": {
       "_dom_classes": [],
       "_model_module": "@jupyter-widgets/controls",
       "_model_module_version": "2.0.0",
       "_model_name": "HBoxModel",
       "_view_count": null,
       "_view_module": "@jupyter-widgets/controls",
       "_view_module_version": "2.0.0",
       "_view_name": "HBoxView",
       "box_style": "",
       "children": [
        "IPY_MODEL_29080a565890468fb3cf74a656eec68c",
        "IPY_MODEL_fbb157f5dba54e0b8a7ed8af6b545532",
        "IPY_MODEL_07dd499e174a4bbb86a931e69452d534"
       ],
       "layout": "IPY_MODEL_ec137d9c28b64bc98980652d258a33f5",
       "tabbable": null,
       "tooltip": null
      }
     },
     "f45f3b9b1bdc4fcd9bfa7871c942246e": {
      "model_module": "@jupyter-widgets/base",
      "model_module_version": "2.0.0",
      "model_name": "LayoutModel",
      "state": {
       "_model_module": "@jupyter-widgets/base",
       "_model_module_version": "2.0.0",
       "_model_name": "LayoutModel",
       "_view_count": null,
       "_view_module": "@jupyter-widgets/base",
       "_view_module_version": "2.0.0",
       "_view_name": "LayoutView",
       "align_content": null,
       "align_items": null,
       "align_self": null,
       "border_bottom": null,
       "border_left": null,
       "border_right": null,
       "border_top": null,
       "bottom": null,
       "display": null,
       "flex": null,
       "flex_flow": null,
       "grid_area": null,
       "grid_auto_columns": null,
       "grid_auto_flow": null,
       "grid_auto_rows": null,
       "grid_column": null,
       "grid_gap": null,
       "grid_row": null,
       "grid_template_areas": null,
       "grid_template_columns": null,
       "grid_template_rows": null,
       "height": null,
       "justify_content": null,
       "justify_items": null,
       "left": null,
       "margin": null,
       "max_height": null,
       "max_width": null,
       "min_height": null,
       "min_width": null,
       "object_fit": null,
       "object_position": null,
       "order": null,
       "overflow": null,
       "padding": null,
       "right": null,
       "top": null,
       "visibility": null,
       "width": null
      }
     },
     "f983143f252b4f60a0f8acdc5e8bec80": {
      "model_module": "@jupyter-widgets/controls",
      "model_module_version": "2.0.0",
      "model_name": "HTMLStyleModel",
      "state": {
       "_model_module": "@jupyter-widgets/controls",
       "_model_module_version": "2.0.0",
       "_model_name": "HTMLStyleModel",
       "_view_count": null,
       "_view_module": "@jupyter-widgets/base",
       "_view_module_version": "2.0.0",
       "_view_name": "StyleView",
       "background": null,
       "description_width": "",
       "font_size": null,
       "text_color": null
      }
     },
     "fac83dc62dc54f32a92bf9dc0f5f9a31": {
      "model_module": "@jupyter-widgets/base",
      "model_module_version": "2.0.0",
      "model_name": "LayoutModel",
      "state": {
       "_model_module": "@jupyter-widgets/base",
       "_model_module_version": "2.0.0",
       "_model_name": "LayoutModel",
       "_view_count": null,
       "_view_module": "@jupyter-widgets/base",
       "_view_module_version": "2.0.0",
       "_view_name": "LayoutView",
       "align_content": null,
       "align_items": null,
       "align_self": null,
       "border_bottom": null,
       "border_left": null,
       "border_right": null,
       "border_top": null,
       "bottom": null,
       "display": null,
       "flex": "2",
       "flex_flow": null,
       "grid_area": null,
       "grid_auto_columns": null,
       "grid_auto_flow": null,
       "grid_auto_rows": null,
       "grid_column": null,
       "grid_gap": null,
       "grid_row": null,
       "grid_template_areas": null,
       "grid_template_columns": null,
       "grid_template_rows": null,
       "height": null,
       "justify_content": null,
       "justify_items": null,
       "left": null,
       "margin": null,
       "max_height": null,
       "max_width": null,
       "min_height": null,
       "min_width": null,
       "object_fit": null,
       "object_position": null,
       "order": null,
       "overflow": null,
       "padding": null,
       "right": null,
       "top": null,
       "visibility": null,
       "width": null
      }
     },
     "fbac6829b0494e1a99614a9321a02be8": {
      "model_module": "@jupyter-widgets/base",
      "model_module_version": "2.0.0",
      "model_name": "LayoutModel",
      "state": {
       "_model_module": "@jupyter-widgets/base",
       "_model_module_version": "2.0.0",
       "_model_name": "LayoutModel",
       "_view_count": null,
       "_view_module": "@jupyter-widgets/base",
       "_view_module_version": "2.0.0",
       "_view_name": "LayoutView",
       "align_content": null,
       "align_items": null,
       "align_self": null,
       "border_bottom": null,
       "border_left": null,
       "border_right": null,
       "border_top": null,
       "bottom": null,
       "display": null,
       "flex": null,
       "flex_flow": null,
       "grid_area": null,
       "grid_auto_columns": null,
       "grid_auto_flow": null,
       "grid_auto_rows": null,
       "grid_column": null,
       "grid_gap": null,
       "grid_row": null,
       "grid_template_areas": null,
       "grid_template_columns": null,
       "grid_template_rows": null,
       "height": null,
       "justify_content": null,
       "justify_items": null,
       "left": null,
       "margin": null,
       "max_height": null,
       "max_width": null,
       "min_height": null,
       "min_width": null,
       "object_fit": null,
       "object_position": null,
       "order": null,
       "overflow": null,
       "padding": null,
       "right": null,
       "top": null,
       "visibility": null,
       "width": null
      }
     },
     "fbb157f5dba54e0b8a7ed8af6b545532": {
      "model_module": "@jupyter-widgets/controls",
      "model_module_version": "2.0.0",
      "model_name": "FloatProgressModel",
      "state": {
       "_dom_classes": [],
       "_model_module": "@jupyter-widgets/controls",
       "_model_module_version": "2.0.0",
       "_model_name": "FloatProgressModel",
       "_view_count": null,
       "_view_module": "@jupyter-widgets/controls",
       "_view_module_version": "2.0.0",
       "_view_name": "ProgressView",
       "bar_style": "success",
       "description": "",
       "description_allow_html": false,
       "layout": "IPY_MODEL_6087779d11b641e28cc901a46226ea34",
       "max": 138.0,
       "min": 0.0,
       "orientation": "horizontal",
       "style": "IPY_MODEL_b22bba56bb444d0bb2d46b4066c16527",
       "tabbable": null,
       "tooltip": null,
       "value": 138.0
      }
     },
     "fd444aa686a14ddead48febf8d63fd59": {
      "model_module": "@jupyter-widgets/controls",
      "model_module_version": "2.0.0",
      "model_name": "ProgressStyleModel",
      "state": {
       "_model_module": "@jupyter-widgets/controls",
       "_model_module_version": "2.0.0",
       "_model_name": "ProgressStyleModel",
       "_view_count": null,
       "_view_module": "@jupyter-widgets/base",
       "_view_module_version": "2.0.0",
       "_view_name": "StyleView",
       "bar_color": null,
       "description_width": ""
      }
     }
    },
    "version_major": 2,
    "version_minor": 0
   }
  }
 },
 "nbformat": 4,
 "nbformat_minor": 5
}
